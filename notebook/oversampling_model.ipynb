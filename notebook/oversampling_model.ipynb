{
 "cells": [
  {
   "cell_type": "code",
   "execution_count": 1,
   "metadata": {},
   "outputs": [],
   "source": [
    "# installing packages\n",
    "import sys\n",
    "sys.path.append(\"../../bankruptcy_prediction\")\n",
    "import pandas as pd\n",
    "import numpy as np\n",
    "import sys\n",
    "# for visualisation\n",
    "import plotly.io as pio\n",
    "pio.templates.default = \"plotly_dark\"\n",
    "import plotly.graph_objects as go\n",
    "from plotly.subplots import make_subplots\n",
    "import matplotlib.pyplot as plt\n",
    "\n",
    "\n",
    "# for modelling \n",
    "import lightgbm as lgb\n",
    "from catboost import CatBoostClassifier\n",
    "from sklearn.linear_model import LogisticRegression\n",
    "from scipy.stats import pointbiserialr\n",
    "from sklearn.linear_model import LogisticRegression\n",
    "from sklearn.preprocessing import OneHotEncoder\n",
    "\n",
    "import optuna\n",
    "import imblearn as imb\n",
    "from collections import Counter\n",
    "\n",
    "from sklearn.metrics import (PrecisionRecallDisplay, precision_score,\n",
    "recall_score,confusion_matrix,f1_score)\n",
    "from sklearn.model_selection import train_test_split\n",
    "import shap\n",
    "from utils import (get_shap_feat_importance,check_missing, \n",
    "plot_dist_bar, get_dist, read_xlsx, model_performance)\n"
   ]
  },
  {
   "cell_type": "code",
   "execution_count": 2,
   "metadata": {},
   "outputs": [
    {
     "name": "stdout",
     "output_type": "stream",
     "text": [
      "Original Data Shape (6811, 96)\n",
      "Shape after dropping (6761, 96)\n",
      "Shape of holdout (50, 96)\n",
      "Counter({0: 47, 1: 3})\n"
     ]
    }
   ],
   "source": [
    "training_data = pd.read_csv(\"../data/training_data.csv\")\n",
    "testing_data = pd.read_csv(\"../data/testing_data.csv\")\n",
    "target=\"bankruptcy\"\n",
    "data = pd.concat([training_data,testing_data],axis=0).reset_index(drop=True)\n",
    "print(\"Original Data Shape\",data.shape)\n",
    "\n",
    "data[\"company type\"] = data[\"company type\"].astype(\"category\")\n",
    "\n",
    "holdout=data.iloc[:50,:]\n",
    "data = data.iloc[50:,:] \n",
    "print(\"Shape after dropping\",data.shape)\n",
    "X,y = data.drop(target,axis=1),data[target]\n",
    "\n",
    "#Holdout\n",
    "print(\"Shape of holdout\",holdout.shape)\n",
    "print(Counter(holdout[target]))"
   ]
  },
  {
   "cell_type": "code",
   "execution_count": 3,
   "metadata": {},
   "outputs": [
    {
     "name": "stdout",
     "output_type": "stream",
     "text": [
      "Counter({0: 6545, 1: 216})\n"
     ]
    }
   ],
   "source": [
    "sampling_strategy=False\n",
    "if sampling_strategy:\n",
    "    # define oversampling strategy\n",
    "    # oversample = RandomOverSampler(sampling_strategy='minority')\n",
    "    oversample = imb.over_sampling.RandomOverSampler(sampling_strategy=0.06)\n",
    "    # fit and apply the transform\n",
    "    X_over, y_over = oversample.fit_resample(X, y)\n",
    "    print(Counter(y_over))\n",
    "else :\n",
    "    X_over = X.copy(deep=True)\n",
    "    y_over = y.copy(deep=True)\n",
    "    print(Counter(y_over))"
   ]
  },
  {
   "cell_type": "code",
   "execution_count": 4,
   "metadata": {},
   "outputs": [],
   "source": [
    "X_train,X_test,y_train,y_test = \\\n",
    "    train_test_split(X_over,y_over,test_size=0.3, stratify=y,random_state=42)"
   ]
  },
  {
   "cell_type": "code",
   "execution_count": 5,
   "metadata": {},
   "outputs": [
    {
     "name": "stdout",
     "output_type": "stream",
     "text": [
      "Counter({0: 4581, 1: 151})\n",
      "Counter({0: 1964, 1: 65})\n"
     ]
    }
   ],
   "source": [
    "# X_train,y_train = training_data.drop(\"bankruptcy\",axis = 1),training_data['bankruptcy']\n",
    "# X_test,y_test = testing_data.drop(\"bankruptcy\",axis = 1),testing_data['bankruptcy']\n",
    "print(Counter(y_train))\n",
    "print(Counter(y_test))"
   ]
  },
  {
   "cell_type": "markdown",
   "metadata": {},
   "source": [
    "### Benchmark Model"
   ]
  },
  {
   "cell_type": "code",
   "execution_count": 6,
   "metadata": {},
   "outputs": [
    {
     "name": "stdout",
     "output_type": "stream",
     "text": [
      "Precision_Score: 0.05893019038984588,                Recall Score: 0.4304635761589404,                f1_score: 0.10366826156299841,\n",
      "                confusion matrix: \n",
      "[[3543 1038]\n",
      " [  86   65]]\n",
      "                classification report: \n",
      "              precision    recall  f1-score   support\n",
      "\n",
      "           0       0.98      0.77      0.86      4581\n",
      "           1       0.06      0.43      0.10       151\n",
      "\n",
      "    accuracy                           0.76      4732\n",
      "   macro avg       0.52      0.60      0.48      4732\n",
      "weighted avg       0.95      0.76      0.84      4732\n",
      "\n",
      "Precision_Score: 0.05818965517241379,                Recall Score: 0.4153846153846154,                f1_score: 0.10207939508506615,\n",
      "                confusion matrix: \n",
      "[[1527  437]\n",
      " [  38   27]]\n",
      "                classification report: \n",
      "              precision    recall  f1-score   support\n",
      "\n",
      "           0       0.98      0.78      0.87      1964\n",
      "           1       0.06      0.42      0.10        65\n",
      "\n",
      "    accuracy                           0.77      2029\n",
      "   macro avg       0.52      0.60      0.48      2029\n",
      "weighted avg       0.95      0.77      0.84      2029\n",
      "\n"
     ]
    },
    {
     "name": "stderr",
     "output_type": "stream",
     "text": [
      "lbfgs failed to converge (status=1):\n",
      "STOP: TOTAL NO. of ITERATIONS REACHED LIMIT.\n",
      "\n",
      "Increase the number of iterations (max_iter) or scale the data as shown in:\n",
      "    https://scikit-learn.org/stable/modules/preprocessing.html\n",
      "Please also refer to the documentation for alternative solver options:\n",
      "    https://scikit-learn.org/stable/modules/linear_model.html#logistic-regression\n"
     ]
    },
    {
     "data": {
      "text/plain": [
       "<sklearn.metrics._plot.precision_recall_curve.PrecisionRecallDisplay at 0x12df37d60>"
      ]
     },
     "execution_count": 6,
     "metadata": {},
     "output_type": "execute_result"
    },
    {
     "data": {
      "image/png": "[encoded data removed]",
      "text/plain": [
       "<Figure size 432x288 with 1 Axes>"
      ]
     },
     "metadata": {
      "needs_background": "light"
     },
     "output_type": "display_data"
    },
    {
     "data": {
      "image/png": "[encoded data removed]",
      "text/plain": [
       "<Figure size 432x288 with 1 Axes>"
      ]
     },
     "metadata": {
      "needs_background": "light"
     },
     "output_type": "display_data"
    }
   ],
   "source": [
    "ohe = OneHotEncoder()\n",
    "cat_cols = [\"company type\"]\n",
    "X_train_ohe = ohe.fit_transform(X_train[cat_cols]).toarray()\n",
    "X_test_ohe = ohe.transform(X_test[cat_cols]).toarray()\n",
    "\n",
    "X_train_lr = X_train.drop(cat_cols,axis=1).copy(deep=True)\n",
    "X_test_lr = X_test.drop(cat_cols,axis=1).copy(deep=True)\n",
    "\n",
    "X_train_lr[ohe.categories_[0]] = X_train_ohe\n",
    "X_test_lr[ohe.categories_[0]] = X_test_ohe\n",
    "\n",
    "\n",
    "benchmark_mod = LogisticRegression(class_weight=\"balanced\")\n",
    "benchmark_mod.fit(X_train_lr,y_train)\n",
    "\n",
    "pred_train_lr = benchmark_mod.predict_proba(X_train_lr)\n",
    "pred_test_lr = benchmark_mod.predict_proba(X_test_lr)\n",
    "\n",
    "model_performance(y_pred=pred_train_lr,y_true=y_train,threshold=0.5,\n",
    "title=\"logreg:TRAIN\",model_type=\"logreg\")\n",
    "\n",
    "model_performance(y_pred=pred_test_lr,y_true=y_test,threshold=0.5,\n",
    "title=\"logreg:TEST\",model_type=\"logreg\")"
   ]
  },
  {
   "cell_type": "code",
   "execution_count": 7,
   "metadata": {},
   "outputs": [],
   "source": [
    "# bbc = imb.ensemble.BalancedRandomForestClassifier(class_weight={0: 4581, 1: 151}).fit(X_train_lr,y_train)\n",
    "# pred_train_bbc = bbc.predict_proba(X_train_lr)\n",
    "# pred_test_bbc = bbc.predict_proba(X_test_lr)\n",
    "\n",
    "# model_performance(y_pred=pred_train_bbc,y_true=y_train,threshold=0.5,\n",
    "# title=\"bbc:TRAIN\",model_type=\"bbc\")\n",
    "\n",
    "# model_performance(y_pred=pred_test_bbc,y_true=y_test,threshold=0.5,\n",
    "# title=\"bbc:TEST\",model_type=\"bbc\")\n"
   ]
  },
  {
   "cell_type": "code",
   "execution_count": 8,
   "metadata": {},
   "outputs": [],
   "source": [
    "\n",
    "def full_data(trial):\n",
    "\n",
    "    param = {\n",
    "        \"objective\": trial.suggest_categorical(\"objective\", [\"Logloss\"]),\n",
    "        \"colsample_bylevel\": trial.suggest_float(\"colsample_bylevel\", 0.01, 0.1),\n",
    "        \"learning_rate\": trial.suggest_float(\"learning_rate\", 0.01, 0.1),\n",
    "        \"depth\": trial.suggest_int(\"depth\", 4, 10),\n",
    "        #\"num_leaves\": trial.suggest_int(\"num_leaves\", 4, 20),\n",
    "        \"iterations\":trial.suggest_int(\"iterations\", 10,20),\n",
    "        \"l2_leaf_reg\":trial.suggest_int(\"l2_leaf_reg\", 2,10),\n",
    "        \"boosting_type\": trial.suggest_categorical(\"boosting_type\", [\"Ordered\"]),\n",
    "        \"bootstrap_type\": trial.suggest_categorical(\n",
    "            \"bootstrap_type\", [\"Bayesian\", \"Bernoulli\",\"MVS\"]\n",
    "        )\n",
    "    }\n",
    "\n",
    "    if param[\"objective\"] == \"LogLoss\":\n",
    "        param[\"scale_pos_weight\"]:y_train.value_counts()[0]/y_train.value_counts()[1]\n",
    "        # param[\"auto_class_weights\"]=\"Balanced\"\n",
    "\n",
    "    if param[\"bootstrap_type\"] == \"Bayesian\":\n",
    "        param[\"bagging_temperature\"] = trial.suggest_float(\"bagging_temperature\", 0, 10)\n",
    "    elif param[\"bootstrap_type\"] == \"Bernoulli\":\n",
    "        param[\"subsample\"] = trial.suggest_float(\"subsample\", 0.1, 1)\n",
    "\n",
    "    gbm = CatBoostClassifier(**param)\n",
    "\n",
    "    gbm.fit(X_train, y_train, eval_set=[(X_test, y_test)], verbose=0, \n",
    "    early_stopping_rounds=10,cat_features=[\"company type\"]\n",
    "    )\n",
    "\n",
    "    preds = gbm.predict(X_test)\n",
    "    pred_labels = np.rint(preds)\n",
    "    f_one_score = f1_score(y_test, pred_labels)\n",
    "    return f_one_score"
   ]
  },
  {
   "cell_type": "code",
   "execution_count": 9,
   "metadata": {},
   "outputs": [
    {
     "name": "stderr",
     "output_type": "stream",
     "text": [
      "\u001b[32m[I 2022-07-17 15:04:31,645]\u001b[0m A new study created in memory with name: no-name-52629e87-c449-4916-9e07-8b2ba2849f42\u001b[0m\n",
      "\u001b[32m[I 2022-07-17 15:04:33,057]\u001b[0m Trial 0 finished with value: 0.0 and parameters: {'objective': 'Logloss', 'colsample_bylevel': 0.08555695018249919, 'learning_rate': 0.011760363532645736, 'depth': 5, 'iterations': 14, 'l2_leaf_reg': 10, 'boosting_type': 'Ordered', 'bootstrap_type': 'MVS'}. Best is trial 0 with value: 0.0.\u001b[0m\n",
      "\u001b[32m[I 2022-07-17 15:04:34,198]\u001b[0m Trial 1 finished with value: 0.0 and parameters: {'objective': 'Logloss', 'colsample_bylevel': 0.049469257895757145, 'learning_rate': 0.05237642871260915, 'depth': 9, 'iterations': 19, 'l2_leaf_reg': 10, 'boosting_type': 'Ordered', 'bootstrap_type': 'Bayesian', 'bagging_temperature': 5.246143837470337}. Best is trial 0 with value: 0.0.\u001b[0m\n",
      "\u001b[32m[I 2022-07-17 15:04:34,388]\u001b[0m Trial 2 finished with value: 0.0 and parameters: {'objective': 'Logloss', 'colsample_bylevel': 0.07967381497143192, 'learning_rate': 0.03318636507543872, 'depth': 4, 'iterations': 10, 'l2_leaf_reg': 7, 'boosting_type': 'Ordered', 'bootstrap_type': 'MVS'}. Best is trial 0 with value: 0.0.\u001b[0m\n",
      "\u001b[32m[I 2022-07-17 15:04:35,557]\u001b[0m Trial 3 finished with value: 0.0 and parameters: {'objective': 'Logloss', 'colsample_bylevel': 0.0565076235833697, 'learning_rate': 0.08135382285770572, 'depth': 9, 'iterations': 11, 'l2_leaf_reg': 2, 'boosting_type': 'Ordered', 'bootstrap_type': 'Bayesian', 'bagging_temperature': 2.4507371655475763}. Best is trial 0 with value: 0.0.\u001b[0m\n",
      "\u001b[32m[I 2022-07-17 15:04:35,998]\u001b[0m Trial 4 finished with value: 0.0 and parameters: {'objective': 'Logloss', 'colsample_bylevel': 0.03704209968650942, 'learning_rate': 0.048502369280908036, 'depth': 9, 'iterations': 14, 'l2_leaf_reg': 5, 'boosting_type': 'Ordered', 'bootstrap_type': 'Bernoulli', 'subsample': 0.7051592316351445}. Best is trial 0 with value: 0.0.\u001b[0m\n",
      "\u001b[32m[I 2022-07-17 15:04:36,431]\u001b[0m Trial 5 finished with value: 0.0 and parameters: {'objective': 'Logloss', 'colsample_bylevel': 0.05077029363668733, 'learning_rate': 0.02930089854630795, 'depth': 6, 'iterations': 14, 'l2_leaf_reg': 8, 'boosting_type': 'Ordered', 'bootstrap_type': 'Bayesian', 'bagging_temperature': 6.996303529302148}. Best is trial 0 with value: 0.0.\u001b[0m\n",
      "\u001b[32m[I 2022-07-17 15:04:36,846]\u001b[0m Trial 6 finished with value: 0.0 and parameters: {'objective': 'Logloss', 'colsample_bylevel': 0.06315569354516962, 'learning_rate': 0.08703549018556016, 'depth': 7, 'iterations': 10, 'l2_leaf_reg': 10, 'boosting_type': 'Ordered', 'bootstrap_type': 'Bayesian', 'bagging_temperature': 8.208408555025299}. Best is trial 0 with value: 0.0.\u001b[0m\n",
      "\u001b[32m[I 2022-07-17 15:04:37,748]\u001b[0m Trial 7 finished with value: 0.0 and parameters: {'objective': 'Logloss', 'colsample_bylevel': 0.06522022695564109, 'learning_rate': 0.021587405070748876, 'depth': 9, 'iterations': 16, 'l2_leaf_reg': 8, 'boosting_type': 'Ordered', 'bootstrap_type': 'Bayesian', 'bagging_temperature': 7.869650405566885}. Best is trial 0 with value: 0.0.\u001b[0m\n",
      "\u001b[32m[I 2022-07-17 15:04:38,342]\u001b[0m Trial 8 finished with value: 0.030303030303030307 and parameters: {'objective': 'Logloss', 'colsample_bylevel': 0.04899286728797518, 'learning_rate': 0.06223002178653621, 'depth': 9, 'iterations': 13, 'l2_leaf_reg': 4, 'boosting_type': 'Ordered', 'bootstrap_type': 'Bayesian', 'bagging_temperature': 7.178840972117385}. Best is trial 8 with value: 0.030303030303030307.\u001b[0m\n",
      "\u001b[32m[I 2022-07-17 15:04:39,980]\u001b[0m Trial 9 finished with value: 0.0 and parameters: {'objective': 'Logloss', 'colsample_bylevel': 0.08151363802503883, 'learning_rate': 0.09877209478560296, 'depth': 10, 'iterations': 11, 'l2_leaf_reg': 3, 'boosting_type': 'Ordered', 'bootstrap_type': 'Bernoulli', 'subsample': 0.8879260579400149}. Best is trial 8 with value: 0.030303030303030307.\u001b[0m\n",
      "\u001b[32m[I 2022-07-17 15:04:40,185]\u001b[0m Trial 10 finished with value: 0.0 and parameters: {'objective': 'Logloss', 'colsample_bylevel': 0.01809340185090274, 'learning_rate': 0.0670770929001072, 'depth': 7, 'iterations': 17, 'l2_leaf_reg': 4, 'boosting_type': 'Ordered', 'bootstrap_type': 'Bernoulli', 'subsample': 0.11619008428465888}. Best is trial 8 with value: 0.030303030303030307.\u001b[0m\n",
      "\u001b[32m[I 2022-07-17 15:04:40,423]\u001b[0m Trial 11 finished with value: 0.0 and parameters: {'objective': 'Logloss', 'colsample_bylevel': 0.09371571841032163, 'learning_rate': 0.011103143434488991, 'depth': 4, 'iterations': 13, 'l2_leaf_reg': 6, 'boosting_type': 'Ordered', 'bootstrap_type': 'MVS'}. Best is trial 8 with value: 0.030303030303030307.\u001b[0m\n",
      "\u001b[32m[I 2022-07-17 15:04:40,624]\u001b[0m Trial 12 finished with value: 0.0 and parameters: {'objective': 'Logloss', 'colsample_bylevel': 0.028169141108889434, 'learning_rate': 0.06521365304198933, 'depth': 5, 'iterations': 13, 'l2_leaf_reg': 5, 'boosting_type': 'Ordered', 'bootstrap_type': 'MVS'}. Best is trial 8 with value: 0.030303030303030307.\u001b[0m\n",
      "\u001b[32m[I 2022-07-17 15:04:41,375]\u001b[0m Trial 13 finished with value: 0.0 and parameters: {'objective': 'Logloss', 'colsample_bylevel': 0.09612041461932978, 'learning_rate': 0.04016101148937821, 'depth': 6, 'iterations': 16, 'l2_leaf_reg': 2, 'boosting_type': 'Ordered', 'bootstrap_type': 'MVS'}. Best is trial 8 with value: 0.030303030303030307.\u001b[0m\n",
      "\u001b[32m[I 2022-07-17 15:04:41,903]\u001b[0m Trial 14 finished with value: 0.0 and parameters: {'objective': 'Logloss', 'colsample_bylevel': 0.07479847896956811, 'learning_rate': 0.06151486014807151, 'depth': 8, 'iterations': 12, 'l2_leaf_reg': 9, 'boosting_type': 'Ordered', 'bootstrap_type': 'MVS'}. Best is trial 8 with value: 0.030303030303030307.\u001b[0m\n",
      "\u001b[32m[I 2022-07-17 15:04:42,173]\u001b[0m Trial 15 finished with value: 0.0 and parameters: {'objective': 'Logloss', 'colsample_bylevel': 0.04071346156731445, 'learning_rate': 0.010134692341298795, 'depth': 5, 'iterations': 18, 'l2_leaf_reg': 4, 'boosting_type': 'Ordered', 'bootstrap_type': 'Bayesian', 'bagging_temperature': 1.517407020894451}. Best is trial 8 with value: 0.030303030303030307.\u001b[0m\n",
      "\u001b[32m[I 2022-07-17 15:04:44,164]\u001b[0m Trial 16 finished with value: 0.0 and parameters: {'objective': 'Logloss', 'colsample_bylevel': 0.06971361845889291, 'learning_rate': 0.08037389121097935, 'depth': 10, 'iterations': 15, 'l2_leaf_reg': 6, 'boosting_type': 'Ordered', 'bootstrap_type': 'MVS'}. Best is trial 8 with value: 0.030303030303030307.\u001b[0m\n",
      "\u001b[32m[I 2022-07-17 15:04:44,637]\u001b[0m Trial 17 finished with value: 0.0 and parameters: {'objective': 'Logloss', 'colsample_bylevel': 0.06952920458614893, 'learning_rate': 0.07001812894223863, 'depth': 8, 'iterations': 12, 'l2_leaf_reg': 8, 'boosting_type': 'Ordered', 'bootstrap_type': 'MVS'}. Best is trial 8 with value: 0.030303030303030307.\u001b[0m\n",
      "\u001b[32m[I 2022-07-17 15:04:45,047]\u001b[0m Trial 18 finished with value: 0.0 and parameters: {'objective': 'Logloss', 'colsample_bylevel': 0.04088550272091201, 'learning_rate': 0.044549864687675675, 'depth': 6, 'iterations': 19, 'l2_leaf_reg': 4, 'boosting_type': 'Ordered', 'bootstrap_type': 'Bayesian', 'bagging_temperature': 0.05605570520499281}. Best is trial 8 with value: 0.030303030303030307.\u001b[0m\n",
      "\u001b[32m[I 2022-07-17 15:04:45,577]\u001b[0m Trial 19 finished with value: 0.0 and parameters: {'objective': 'Logloss', 'colsample_bylevel': 0.09046199147118009, 'learning_rate': 0.022205305700322114, 'depth': 5, 'iterations': 15, 'l2_leaf_reg': 6, 'boosting_type': 'Ordered', 'bootstrap_type': 'Bernoulli', 'subsample': 0.3019060710133453}. Best is trial 8 with value: 0.030303030303030307.\u001b[0m\n",
      "\u001b[32m[I 2022-07-17 15:04:45,743]\u001b[0m Trial 20 finished with value: 0.0 and parameters: {'objective': 'Logloss', 'colsample_bylevel': 0.01535684461798132, 'learning_rate': 0.05643631384309295, 'depth': 8, 'iterations': 14, 'l2_leaf_reg': 3, 'boosting_type': 'Ordered', 'bootstrap_type': 'MVS'}. Best is trial 8 with value: 0.030303030303030307.\u001b[0m\n",
      "\u001b[32m[I 2022-07-17 15:04:46,166]\u001b[0m Trial 21 finished with value: 0.0 and parameters: {'objective': 'Logloss', 'colsample_bylevel': 0.039837696472599986, 'learning_rate': 0.04356351141178427, 'depth': 6, 'iterations': 19, 'l2_leaf_reg': 4, 'boosting_type': 'Ordered', 'bootstrap_type': 'Bayesian', 'bagging_temperature': 0.215455581943516}. Best is trial 8 with value: 0.030303030303030307.\u001b[0m\n",
      "\u001b[32m[I 2022-07-17 15:04:46,515]\u001b[0m Trial 22 finished with value: 0.0 and parameters: {'objective': 'Logloss', 'colsample_bylevel': 0.08616881252896678, 'learning_rate': 0.022813617459335654, 'depth': 5, 'iterations': 15, 'l2_leaf_reg': 7, 'boosting_type': 'Ordered', 'bootstrap_type': 'Bernoulli', 'subsample': 0.26363392844011957}. Best is trial 8 with value: 0.030303030303030307.\u001b[0m\n",
      "\u001b[32m[I 2022-07-17 15:04:46,666]\u001b[0m Trial 23 finished with value: 0.0 and parameters: {'objective': 'Logloss', 'colsample_bylevel': 0.010262622454261837, 'learning_rate': 0.05633992239689512, 'depth': 8, 'iterations': 13, 'l2_leaf_reg': 3, 'boosting_type': 'Ordered', 'bootstrap_type': 'MVS'}. Best is trial 8 with value: 0.030303030303030307.\u001b[0m\n",
      "\u001b[32m[I 2022-07-17 15:04:47,259]\u001b[0m Trial 24 finished with value: 0.0 and parameters: {'objective': 'Logloss', 'colsample_bylevel': 0.026890107602246506, 'learning_rate': 0.03819858529200452, 'depth': 6, 'iterations': 17, 'l2_leaf_reg': 5, 'boosting_type': 'Ordered', 'bootstrap_type': 'Bayesian', 'bagging_temperature': 4.635007387751267}. Best is trial 8 with value: 0.030303030303030307.\u001b[0m\n",
      "\u001b[32m[I 2022-07-17 15:04:47,812]\u001b[0m Trial 25 finished with value: 0.0 and parameters: {'objective': 'Logloss', 'colsample_bylevel': 0.08485850289706788, 'learning_rate': 0.019711517372281696, 'depth': 4, 'iterations': 16, 'l2_leaf_reg': 9, 'boosting_type': 'Ordered', 'bootstrap_type': 'Bernoulli', 'subsample': 0.41309437027685825}. Best is trial 8 with value: 0.030303030303030307.\u001b[0m\n",
      "\u001b[32m[I 2022-07-17 15:04:49,001]\u001b[0m Trial 26 finished with value: 0.0 and parameters: {'objective': 'Logloss', 'colsample_bylevel': 0.025888015323631546, 'learning_rate': 0.07431514157634664, 'depth': 8, 'iterations': 13, 'l2_leaf_reg': 3, 'boosting_type': 'Ordered', 'bootstrap_type': 'MVS'}. Best is trial 8 with value: 0.030303030303030307.\u001b[0m\n",
      "\u001b[32m[I 2022-07-17 15:04:49,384]\u001b[0m Trial 27 finished with value: 0.0 and parameters: {'objective': 'Logloss', 'colsample_bylevel': 0.0313440997511066, 'learning_rate': 0.035074459322481794, 'depth': 7, 'iterations': 17, 'l2_leaf_reg': 5, 'boosting_type': 'Ordered', 'bootstrap_type': 'Bayesian', 'bagging_temperature': 4.741948998607136}. Best is trial 8 with value: 0.030303030303030307.\u001b[0m\n",
      "\u001b[32m[I 2022-07-17 15:04:49,988]\u001b[0m Trial 28 finished with value: 0.0 and parameters: {'objective': 'Logloss', 'colsample_bylevel': 0.058546228912704446, 'learning_rate': 0.01838569324005443, 'depth': 4, 'iterations': 16, 'l2_leaf_reg': 9, 'boosting_type': 'Ordered', 'bootstrap_type': 'Bernoulli', 'subsample': 0.5382010174024124}. Best is trial 8 with value: 0.030303030303030307.\u001b[0m\n",
      "\u001b[32m[I 2022-07-17 15:04:52,292]\u001b[0m Trial 29 finished with value: 0.0 and parameters: {'objective': 'Logloss', 'colsample_bylevel': 0.046338643926120617, 'learning_rate': 0.07512126396774509, 'depth': 10, 'iterations': 12, 'l2_leaf_reg': 2, 'boosting_type': 'Ordered', 'bootstrap_type': 'MVS'}. Best is trial 8 with value: 0.030303030303030307.\u001b[0m\n",
      "\u001b[32m[I 2022-07-17 15:04:52,641]\u001b[0m Trial 30 finished with value: 0.0 and parameters: {'objective': 'Logloss', 'colsample_bylevel': 0.033692580051021014, 'learning_rate': 0.030557260421690078, 'depth': 7, 'iterations': 18, 'l2_leaf_reg': 10, 'boosting_type': 'Ordered', 'bootstrap_type': 'Bayesian', 'bagging_temperature': 9.631940661054779}. Best is trial 8 with value: 0.030303030303030307.\u001b[0m\n",
      "\u001b[32m[I 2022-07-17 15:04:52,943]\u001b[0m Trial 31 finished with value: 0.0 and parameters: {'objective': 'Logloss', 'colsample_bylevel': 0.0566150044463964, 'learning_rate': 0.016820410052906253, 'depth': 4, 'iterations': 20, 'l2_leaf_reg': 9, 'boosting_type': 'Ordered', 'bootstrap_type': 'Bayesian', 'bagging_temperature': 5.231177922562661}. Best is trial 8 with value: 0.030303030303030307.\u001b[0m\n",
      "\u001b[32m[I 2022-07-17 15:04:53,972]\u001b[0m Trial 32 finished with value: 0.0 and parameters: {'objective': 'Logloss', 'colsample_bylevel': 0.046859211396457344, 'learning_rate': 0.09103059493253368, 'depth': 10, 'iterations': 12, 'l2_leaf_reg': 2, 'boosting_type': 'Ordered', 'bootstrap_type': 'Bernoulli', 'subsample': 0.6339940996708474}. Best is trial 8 with value: 0.030303030303030307.\u001b[0m\n",
      "\u001b[32m[I 2022-07-17 15:04:55,116]\u001b[0m Trial 33 finished with value: 0.0 and parameters: {'objective': 'Logloss', 'colsample_bylevel': 0.048220711454704135, 'learning_rate': 0.029374230554593768, 'depth': 10, 'iterations': 11, 'l2_leaf_reg': 10, 'boosting_type': 'Ordered', 'bootstrap_type': 'MVS'}. Best is trial 8 with value: 0.030303030303030307.\u001b[0m\n",
      "\u001b[32m[I 2022-07-17 15:04:55,338]\u001b[0m Trial 34 finished with value: 0.0 and parameters: {'objective': 'Logloss', 'colsample_bylevel': 0.017754232363032883, 'learning_rate': 0.055302114101489025, 'depth': 9, 'iterations': 15, 'l2_leaf_reg': 4, 'boosting_type': 'Ordered', 'bootstrap_type': 'Bayesian', 'bagging_temperature': 2.6843101902122672}. Best is trial 8 with value: 0.030303030303030307.\u001b[0m\n",
      "\u001b[32m[I 2022-07-17 15:04:55,545]\u001b[0m Trial 35 finished with value: 0.0 and parameters: {'objective': 'Logloss', 'colsample_bylevel': 0.019328707758283187, 'learning_rate': 0.042898319722422515, 'depth': 6, 'iterations': 14, 'l2_leaf_reg': 7, 'boosting_type': 'Ordered', 'bootstrap_type': 'Bernoulli', 'subsample': 0.11892702584976561}. Best is trial 8 with value: 0.030303030303030307.\u001b[0m\n",
      "\u001b[32m[I 2022-07-17 15:04:56,984]\u001b[0m Trial 36 finished with value: 0.0 and parameters: {'objective': 'Logloss', 'colsample_bylevel': 0.09967212820169391, 'learning_rate': 0.05033111431916476, 'depth': 9, 'iterations': 14, 'l2_leaf_reg': 3, 'boosting_type': 'Ordered', 'bootstrap_type': 'Bayesian', 'bagging_temperature': 6.60482172622006}. Best is trial 8 with value: 0.030303030303030307.\u001b[0m\n",
      "\u001b[32m[I 2022-07-17 15:04:57,189]\u001b[0m Trial 37 finished with value: 0.0 and parameters: {'objective': 'Logloss', 'colsample_bylevel': 0.012770508686687655, 'learning_rate': 0.059530831674188614, 'depth': 8, 'iterations': 20, 'l2_leaf_reg': 7, 'boosting_type': 'Ordered', 'bootstrap_type': 'Bayesian', 'bagging_temperature': 0.21321383196107313}. Best is trial 8 with value: 0.030303030303030307.\u001b[0m\n",
      "\u001b[32m[I 2022-07-17 15:04:57,509]\u001b[0m Trial 38 finished with value: 0.0 and parameters: {'objective': 'Logloss', 'colsample_bylevel': 0.0868739838656706, 'learning_rate': 0.02649178291971132, 'depth': 5, 'iterations': 15, 'l2_leaf_reg': 7, 'boosting_type': 'Ordered', 'bootstrap_type': 'Bernoulli', 'subsample': 0.27826001046826276}. Best is trial 8 with value: 0.030303030303030307.\u001b[0m\n",
      "\u001b[32m[I 2022-07-17 15:04:57,924]\u001b[0m Trial 39 finished with value: 0.0 and parameters: {'objective': 'Logloss', 'colsample_bylevel': 0.07239176199770395, 'learning_rate': 0.05121318422967672, 'depth': 7, 'iterations': 13, 'l2_leaf_reg': 3, 'boosting_type': 'Ordered', 'bootstrap_type': 'MVS'}. Best is trial 8 with value: 0.030303030303030307.\u001b[0m\n",
      "\u001b[32m[I 2022-07-17 15:04:58,796]\u001b[0m Trial 40 finished with value: 0.0 and parameters: {'objective': 'Logloss', 'colsample_bylevel': 0.08013016014559957, 'learning_rate': 0.015569742482379972, 'depth': 9, 'iterations': 10, 'l2_leaf_reg': 8, 'boosting_type': 'Ordered', 'bootstrap_type': 'MVS'}. Best is trial 8 with value: 0.030303030303030307.\u001b[0m\n",
      "\u001b[32m[I 2022-07-17 15:04:58,987]\u001b[0m Trial 41 finished with value: 0.0 and parameters: {'objective': 'Logloss', 'colsample_bylevel': 0.02630831672926883, 'learning_rate': 0.038760844874595704, 'depth': 4, 'iterations': 14, 'l2_leaf_reg': 5, 'boosting_type': 'Ordered', 'bootstrap_type': 'Bayesian', 'bagging_temperature': 4.019685807557998}. Best is trial 8 with value: 0.030303030303030307.\u001b[0m\n",
      "\u001b[32m[I 2022-07-17 15:04:59,213]\u001b[0m Trial 42 finished with value: 0.0 and parameters: {'objective': 'Logloss', 'colsample_bylevel': 0.02228494574906269, 'learning_rate': 0.03464563724466205, 'depth': 5, 'iterations': 17, 'l2_leaf_reg': 10, 'boosting_type': 'Ordered', 'bootstrap_type': 'Bernoulli', 'subsample': 0.4734528392632694}. Best is trial 8 with value: 0.030303030303030307.\u001b[0m\n",
      "\u001b[32m[I 2022-07-17 15:04:59,416]\u001b[0m Trial 43 finished with value: 0.0 and parameters: {'objective': 'Logloss', 'colsample_bylevel': 0.026162567060546864, 'learning_rate': 0.07277722781870628, 'depth': 4, 'iterations': 16, 'l2_leaf_reg': 5, 'boosting_type': 'Ordered', 'bootstrap_type': 'Bayesian', 'bagging_temperature': 6.207371775814153}. Best is trial 8 with value: 0.030303030303030307.\u001b[0m\n",
      "\u001b[32m[I 2022-07-17 15:04:59,740]\u001b[0m Trial 44 finished with value: 0.0 and parameters: {'objective': 'Logloss', 'colsample_bylevel': 0.0519906081544443, 'learning_rate': 0.013817770828920752, 'depth': 5, 'iterations': 18, 'l2_leaf_reg': 9, 'boosting_type': 'Ordered', 'bootstrap_type': 'MVS'}. Best is trial 8 with value: 0.030303030303030307.\u001b[0m\n",
      "\u001b[32m[I 2022-07-17 15:05:00,002]\u001b[0m Trial 45 finished with value: 0.0 and parameters: {'objective': 'Logloss', 'colsample_bylevel': 0.03374994252288106, 'learning_rate': 0.07987175684276461, 'depth': 7, 'iterations': 13, 'l2_leaf_reg': 5, 'boosting_type': 'Ordered', 'bootstrap_type': 'MVS'}. Best is trial 8 with value: 0.030303030303030307.\u001b[0m\n",
      "\u001b[32m[I 2022-07-17 15:05:00,940]\u001b[0m Trial 46 finished with value: 0.030303030303030307 and parameters: {'objective': 'Logloss', 'colsample_bylevel': 0.062419566562218344, 'learning_rate': 0.08687225436007642, 'depth': 8, 'iterations': 16, 'l2_leaf_reg': 10, 'boosting_type': 'Ordered', 'bootstrap_type': 'Bayesian', 'bagging_temperature': 9.988096557487417}. Best is trial 8 with value: 0.030303030303030307.\u001b[0m\n",
      "\u001b[32m[I 2022-07-17 15:05:01,793]\u001b[0m Trial 47 finished with value: 0.0 and parameters: {'objective': 'Logloss', 'colsample_bylevel': 0.0610659209749273, 'learning_rate': 0.08734079480436424, 'depth': 8, 'iterations': 17, 'l2_leaf_reg': 4, 'boosting_type': 'Ordered', 'bootstrap_type': 'Bayesian', 'bagging_temperature': 9.959411005482593}. Best is trial 8 with value: 0.030303030303030307.\u001b[0m\n",
      "\u001b[32m[I 2022-07-17 15:05:03,659]\u001b[0m Trial 48 finished with value: 0.030303030303030307 and parameters: {'objective': 'Logloss', 'colsample_bylevel': 0.06020341417324877, 'learning_rate': 0.0641588653758052, 'depth': 9, 'iterations': 16, 'l2_leaf_reg': 10, 'boosting_type': 'Ordered', 'bootstrap_type': 'Bayesian', 'bagging_temperature': 8.511074891428729}. Best is trial 8 with value: 0.030303030303030307.\u001b[0m\n",
      "\u001b[32m[I 2022-07-17 15:05:05,305]\u001b[0m Trial 49 finished with value: 0.030303030303030307 and parameters: {'objective': 'Logloss', 'colsample_bylevel': 0.059415093844828126, 'learning_rate': 0.09731321054987989, 'depth': 9, 'iterations': 16, 'l2_leaf_reg': 10, 'boosting_type': 'Ordered', 'bootstrap_type': 'Bayesian', 'bagging_temperature': 8.84645411732328}. Best is trial 8 with value: 0.030303030303030307.\u001b[0m\n"
     ]
    }
   ],
   "source": [
    "study1 = optuna.create_study(direction=\"maximize\")\n",
    "study1.optimize(full_data, n_trials=50, timeout=600)"
   ]
  },
  {
   "cell_type": "code",
   "execution_count": 10,
   "metadata": {},
   "outputs": [
    {
     "name": "stdout",
     "output_type": "stream",
     "text": [
      "Number of finished trials: 50\n",
      "Best trial:\n",
      "  Value: 0.030303030303030307\n",
      "  Params: \n",
      "{'objective': 'Logloss', 'colsample_bylevel': 0.04899286728797518, 'learning_rate': 0.06223002178653621, 'depth': 9, 'iterations': 13, 'l2_leaf_reg': 4, 'boosting_type': 'Ordered', 'bootstrap_type': 'Bayesian', 'bagging_temperature': 7.178840972117385}\n"
     ]
    }
   ],
   "source": [
    "print(\"Number of finished trials: {}\".format(len(study1.trials)))\n",
    "\n",
    "print(\"Best trial:\")\n",
    "trial = study1.best_trial\n",
    "\n",
    "print(\"  Value: {}\".format(trial.value))\n",
    "\n",
    "best_params={}\n",
    "print(\"  Params: \")\n",
    "for key, value in trial.params.items():\n",
    "    best_params[key]=value\n",
    "print(best_params)"
   ]
  },
  {
   "cell_type": "code",
   "execution_count": 11,
   "metadata": {},
   "outputs": [],
   "source": [
    "extra_params = {\"cat_features\":[\"company type\"],\n",
    "    #scale_pos_weight is supported only for binary classification Logloss loss\n",
    "    #\"scale_pos_weight\":y_train.value_counts()[0]/y_train.value_counts()[1] \n",
    "    \"auto_class_weights\":\"Balanced\"\n",
    "    }\n",
    "best_params = {**best_params, **extra_params}\n"
   ]
  },
  {
   "cell_type": "code",
   "execution_count": 12,
   "metadata": {},
   "outputs": [
    {
     "name": "stdout",
     "output_type": "stream",
     "text": [
      "0:\tlearn: 0.6299716\ttotal: 64.3ms\tremaining: 772ms\n",
      "1:\tlearn: 0.5784085\ttotal: 116ms\tremaining: 639ms\n",
      "2:\tlearn: 0.5528959\ttotal: 183ms\tremaining: 611ms\n",
      "3:\tlearn: 0.5049429\ttotal: 251ms\tremaining: 565ms\n",
      "4:\tlearn: 0.4632216\ttotal: 285ms\tremaining: 456ms\n",
      "5:\tlearn: 0.4417101\ttotal: 338ms\tremaining: 395ms\n",
      "6:\tlearn: 0.4198302\ttotal: 385ms\tremaining: 330ms\n",
      "7:\tlearn: 0.4012349\ttotal: 429ms\tremaining: 268ms\n",
      "8:\tlearn: 0.3910187\ttotal: 520ms\tremaining: 231ms\n",
      "9:\tlearn: 0.3687295\ttotal: 576ms\tremaining: 173ms\n",
      "10:\tlearn: 0.3581090\ttotal: 655ms\tremaining: 119ms\n",
      "11:\tlearn: 0.3468649\ttotal: 702ms\tremaining: 58.5ms\n",
      "12:\tlearn: 0.3318601\ttotal: 758ms\tremaining: 0us\n"
     ]
    }
   ],
   "source": [
    "mod2 = CatBoostClassifier(**best_params)\n",
    "\n",
    "mod2.fit(X_train,y_train)\n",
    "\n",
    "# Get predicted probabilities for each class\n",
    "pred_train_cat = mod2.predict_proba(X_train)\n",
    "pred_test_cat = mod2.predict_proba(X_test)"
   ]
  },
  {
   "cell_type": "code",
   "execution_count": 13,
   "metadata": {},
   "outputs": [
    {
     "name": "stdout",
     "output_type": "stream",
     "text": [
      "Precision_Score: 0.29012345679012347,                Recall Score: 0.9337748344370861,                f1_score: 0.4427001569858713,\n",
      "                confusion matrix: \n",
      "[[4236  345]\n",
      " [  10  141]]\n",
      "                classification report: \n",
      "              precision    recall  f1-score   support\n",
      "\n",
      "           0       1.00      0.92      0.96      4581\n",
      "           1       0.29      0.93      0.44       151\n",
      "\n",
      "    accuracy                           0.92      4732\n",
      "   macro avg       0.64      0.93      0.70      4732\n",
      "weighted avg       0.98      0.92      0.94      4732\n",
      "\n",
      "Precision_Score: 0.25555555555555554,                Recall Score: 0.7076923076923077,                f1_score: 0.3755102040816326,\n",
      "                confusion matrix: \n",
      "[[1830  134]\n",
      " [  19   46]]\n",
      "                classification report: \n",
      "              precision    recall  f1-score   support\n",
      "\n",
      "           0       0.99      0.93      0.96      1964\n",
      "           1       0.26      0.71      0.38        65\n",
      "\n",
      "    accuracy                           0.92      2029\n",
      "   macro avg       0.62      0.82      0.67      2029\n",
      "weighted avg       0.97      0.92      0.94      2029\n",
      "\n"
     ]
    },
    {
     "data": {
      "text/plain": [
       "<sklearn.metrics._plot.precision_recall_curve.PrecisionRecallDisplay at 0x1325d7160>"
      ]
     },
     "execution_count": 13,
     "metadata": {},
     "output_type": "execute_result"
    },
    {
     "data": {
      "image/png": "[encoded data removed]",
      "text/plain": [
       "<Figure size 432x288 with 1 Axes>"
      ]
     },
     "metadata": {
      "needs_background": "light"
     },
     "output_type": "display_data"
    },
    {
     "data": {
      "image/png": "[encoded data removed]",
      "text/plain": [
       "<Figure size 432x288 with 1 Axes>"
      ]
     },
     "metadata": {
      "needs_background": "light"
     },
     "output_type": "display_data"
    }
   ],
   "source": [
    "model_performance(y_pred=pred_train_cat,y_true=y_train,threshold=0.5,\n",
    "title=\"catboost:TRAIN\",model_type=\"catboost\")\n",
    "\n",
    "model_performance(y_pred=pred_test_cat,y_true=y_test,threshold=0.5,\n",
    "title=\"catboost:TEST\",model_type=\"catboost\")\n"
   ]
  },
  {
   "cell_type": "code",
   "execution_count": null,
   "metadata": {},
   "outputs": [],
   "source": [
    "explainer2 = shap.TreeExplainer(mod2)\n",
    "shap_values2 = explainer2.shap_values(X_train)"
   ]
  },
  {
   "cell_type": "code",
   "execution_count": null,
   "metadata": {},
   "outputs": [],
   "source": [
    "top=60\n",
    "importance_mod2 = get_shap_feat_importance(shap_values2,X_train)\n",
    "importance_topk = importance_mod2[importance_mod2[\"shap_importance\"]>0][:top]\n",
    "best_feat = importance_topk.features.values"
   ]
  },
  {
   "cell_type": "code",
   "execution_count": null,
   "metadata": {},
   "outputs": [],
   "source": [
    "fig = go.Figure([go.Bar(x=importance_topk.features, y=importance_topk.shap_importance)])\n",
    "fig.update_layout(width=1200, height=500,xaxis_tickangle=-90, title=\"topk SHAP Importance\")\n"
   ]
  },
  {
   "cell_type": "code",
   "execution_count": null,
   "metadata": {},
   "outputs": [],
   "source": [
    "if X_train[best_feat].select_dtypes(exclude=np.number).shape[1]>0:\n",
    "    print(f\"categorical feature detected\")\n",
    "else: \n",
    "    print(f\"NO categorical feature detected\")"
   ]
  },
  {
   "cell_type": "code",
   "execution_count": null,
   "metadata": {},
   "outputs": [],
   "source": [
    "\n",
    "def obj_best_feat(trial):\n",
    "\n",
    "    param = {\n",
    "        \"objective\": trial.suggest_categorical(\"objective\", [\"Logloss\"]),\n",
    "        \"colsample_bylevel\": trial.suggest_float(\"colsample_bylevel\", 0.01, 0.1),\n",
    "        \"learning_rate\": trial.suggest_float(\"learning_rate\", 0.01, 0.1),\n",
    "        \"depth\": trial.suggest_int(\"depth\", 4, 10),\n",
    "        #\"num_leaves\": trial.suggest_int(\"num_leaves\", 4, 20),\n",
    "        \"iterations\":trial.suggest_int(\"iterations\", 10,20),\n",
    "        \"l2_leaf_reg\":trial.suggest_int(\"l2_leaf_reg\", 2,10),\n",
    "        \"boosting_type\": trial.suggest_categorical(\"boosting_type\", [\"Ordered\"]),\n",
    "        \"bootstrap_type\": trial.suggest_categorical(\n",
    "            \"bootstrap_type\", [\"Bayesian\", \"Bernoulli\",\"MVS\"]\n",
    "        )\n",
    "    }\n",
    "\n",
    "    # if param[\"objective\"] == \"LogLoss\":\n",
    "    #     #\"scale_pos_weight\":y_train.value_counts()[0]/y_train.value_counts()[1],\n",
    "    #     param[\"auto_class_weights\"]=\"Balanced\"\n",
    "\n",
    "    if param[\"bootstrap_type\"] == \"Bayesian\":\n",
    "        param[\"bagging_temperature\"] = trial.suggest_float(\"bagging_temperature\", 0, 10)\n",
    "    elif param[\"bootstrap_type\"] == \"Bernoulli\":\n",
    "        param[\"subsample\"] = trial.suggest_float(\"subsample\", 0.1, 1)\n",
    "\n",
    "    gbm = CatBoostClassifier(**param)\n",
    "\n",
    "    gbm.fit(X_train[best_feat], y_train, eval_set=[(X_test[best_feat], y_test)], verbose=0, \n",
    "    early_stopping_rounds=10#,cat_features=[\"company type\"]\n",
    "    )\n",
    "\n",
    "    preds = gbm.predict(X_test[best_feat])\n",
    "    pred_labels = np.rint(preds)\n",
    "    f_one_score = f1_score(y_test, pred_labels)\n",
    "    return f_one_score"
   ]
  },
  {
   "cell_type": "code",
   "execution_count": null,
   "metadata": {},
   "outputs": [],
   "source": [
    "study2 = optuna.create_study(direction=\"maximize\")\n",
    "study2.optimize(obj_best_feat, n_trials=50, timeout=600)"
   ]
  },
  {
   "cell_type": "code",
   "execution_count": null,
   "metadata": {},
   "outputs": [],
   "source": [
    "print(\"Number of finished trials: {}\".format(len(study2.trials)))\n",
    "\n",
    "print(\"Best trial:\")\n",
    "trial2 = study2.best_trial\n",
    "\n",
    "print(\"  Value: {}\".format(trial2.value))\n",
    "\n",
    "best_params2={}\n",
    "print(\"  Params: \")\n",
    "for key, value in trial2.params.items():\n",
    "    best_params2[key]=value\n",
    "print(best_params2)"
   ]
  },
  {
   "cell_type": "code",
   "execution_count": null,
   "metadata": {},
   "outputs": [],
   "source": [
    "extra_params = {\n",
    "    #\"cat_features\":[\"company type\"],\n",
    "    #scale_pos_weight is supported only for binary classification Logloss loss\n",
    "    #\"scale_pos_weight\":y_train.value_counts()[0]/y_train.value_counts()[1] \n",
    "    #\"auto_class_weights\":\"Balanced\"\n",
    "    }\n",
    "\n",
    "best_params2 = {**best_params2, **extra_params}"
   ]
  },
  {
   "cell_type": "code",
   "execution_count": null,
   "metadata": {},
   "outputs": [],
   "source": [
    "mod3 = CatBoostClassifier(**best_params2)\n",
    "\n",
    "mod3.fit(X_train[best_feat],y_train)\n",
    "\n",
    "# Get predicted probabilities for each class\n",
    "pred_train_cat3 = mod3.predict_proba(X_train[best_feat])\n",
    "pred_test_cat3 = mod3.predict_proba(X_test[best_feat])"
   ]
  },
  {
   "cell_type": "code",
   "execution_count": null,
   "metadata": {},
   "outputs": [],
   "source": [
    "model_performance(y_pred=pred_train_cat3,y_true=y_train,threshold=0.5,\n",
    "title=\"catboost:TRAIN_BEST_FEAT\",model_type=\"catboost\")\n",
    "\n",
    "model_performance(y_pred=pred_test_cat3,y_true=y_test,threshold=0.5,\n",
    "title=\"catboost:TEST_BEST_FEAT\",model_type=\"catboost\")\n"
   ]
  },
  {
   "cell_type": "code",
   "execution_count": null,
   "metadata": {},
   "outputs": [],
   "source": [
    "holdout_df = holdout.drop(target,axis = 1)[best_feat]\n",
    "pred_holdout_cat = mod3.predict_proba(holdout_df)\n",
    "model_performance(y_pred=pred_holdout_cat,y_true=holdout[target],threshold=0.5,\n",
    "title=\"catboost:HOLDOUT\",model_type=\"catboost\")\n"
   ]
  },
  {
   "cell_type": "code",
   "execution_count": null,
   "metadata": {},
   "outputs": [],
   "source": []
  }
 ],
 "metadata": {
  "kernelspec": {
   "display_name": "Python 3.8.13 ('.venv': poetry)",
   "language": "python",
   "name": "python3"
  },
  "language_info": {
   "codemirror_mode": {
    "name": "ipython",
    "version": 3
   },
   "file_extension": ".py",
   "mimetype": "text/x-python",
   "name": "python",
   "nbconvert_exporter": "python",
   "pygments_lexer": "ipython3",
   "version": "3.8.13"
  },
  "orig_nbformat": 4,
  "vscode": {
   "interpreter": {
    "hash": "05847f6b86325b7c07c4893522e3792f000a04dad028bba3837ffd16cde0f48c"
   }
  }
 },
 "nbformat": 4,
 "nbformat_minor": 2
}
