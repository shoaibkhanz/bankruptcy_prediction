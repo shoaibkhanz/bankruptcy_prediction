{
 "cells": [
  {
   "cell_type": "code",
   "execution_count": 1,
   "metadata": {},
   "outputs": [],
   "source": [
    "# installing packages\n",
    "import sys\n",
    "sys.path.append(\"../../bankruptcy_prediction\")\n",
    "import pandas as pd\n",
    "import numpy as np\n",
    "import sys\n",
    "# for visualisation\n",
    "import plotly.io as pio\n",
    "pio.templates.default = \"plotly_dark\"\n",
    "import plotly.graph_objects as go\n",
    "from plotly.subplots import make_subplots\n",
    "import matplotlib.pyplot as plt\n",
    "\n",
    "\n",
    "# for modelling \n",
    "import lightgbm as lgb\n",
    "from catboost import CatBoostClassifier\n",
    "from sklearn.linear_model import LogisticRegression\n",
    "from scipy.stats import pointbiserialr\n",
    "from sklearn.linear_model import LogisticRegression\n",
    "from sklearn.preprocessing import OneHotEncoder\n",
    "\n",
    "import optuna\n",
    "import imblearn as imb\n",
    "from collections import Counter\n",
    "\n",
    "from sklearn.metrics import (PrecisionRecallDisplay, precision_score,\n",
    "recall_score,confusion_matrix,f1_score)\n",
    "from sklearn.model_selection import train_test_split\n",
    "import shap\n",
    "from utils import (get_shap_feat_importance,check_missing, \n",
    "plot_dist_bar, get_dist, read_xlsx, model_performance)\n"
   ]
  },
  {
   "cell_type": "code",
   "execution_count": 12,
   "metadata": {},
   "outputs": [
    {
     "name": "stdout",
     "output_type": "stream",
     "text": [
      "Original Data Shape (6811, 96)\n",
      "Shape after dropping (6761, 96)\n",
      "Shape of holdout (50, 96)\n",
      "Counter({0: 47, 1: 3})\n"
     ]
    }
   ],
   "source": [
    "training_data = pd.read_csv(\"../data/training_data.csv\")\n",
    "testing_data = pd.read_csv(\"../data/testing_data.csv\")\n",
    "target=\"bankruptcy\"\n",
    "data = pd.concat([training_data,testing_data],axis=0).reset_index(drop=True)\n",
    "print(\"Original Data Shape\",data.shape)\n",
    "\n",
    "data[\"company type\"] = data[\"company type\"].astype(\"category\")\n",
    "\n",
    "holdout=data.iloc[:50,:]\n",
    "data = data.iloc[50:,:] \n",
    "print(\"Shape after dropping\",data.shape)\n",
    "X,y = data.drop(target,axis=1),data[target]\n",
    "\n",
    "#Holdout\n",
    "print(\"Shape of holdout\",holdout.shape)\n",
    "print(Counter(holdout[target]))"
   ]
  },
  {
   "cell_type": "code",
   "execution_count": 13,
   "metadata": {},
   "outputs": [
    {
     "name": "stdout",
     "output_type": "stream",
     "text": [
      "Counter({0: 6545, 1: 216})\n"
     ]
    }
   ],
   "source": [
    "sampling_strategy=False\n",
    "if sampling_strategy:\n",
    "    # define oversampling strategy\n",
    "    # oversample = RandomOverSampler(sampling_strategy='minority')\n",
    "    oversample = imb.over_sampling.RandomOverSampler(sampling_strategy=0.06)\n",
    "    # fit and apply the transform\n",
    "    X_over, y_over = oversample.fit_resample(X, y)\n",
    "    print(Counter(y_over))\n",
    "else :\n",
    "    X_over = X.copy(deep=True)\n",
    "    y_over = y.copy(deep=True)\n",
    "    print(Counter(y_over))"
   ]
  },
  {
   "cell_type": "code",
   "execution_count": 4,
   "metadata": {},
   "outputs": [],
   "source": [
    "X_train,X_test,y_train,y_test = \\\n",
    "    train_test_split(X_over,y_over,test_size=0.3, stratify=y,random_state=42)"
   ]
  },
  {
   "cell_type": "code",
   "execution_count": 5,
   "metadata": {},
   "outputs": [
    {
     "name": "stdout",
     "output_type": "stream",
     "text": [
      "Counter({0: 4581, 1: 151})\n",
      "Counter({0: 1964, 1: 65})\n"
     ]
    }
   ],
   "source": [
    "# X_train,y_train = training_data.drop(\"bankruptcy\",axis = 1),training_data['bankruptcy']\n",
    "# X_test,y_test = testing_data.drop(\"bankruptcy\",axis = 1),testing_data['bankruptcy']\n",
    "print(Counter(y_train))\n",
    "print(Counter(y_test))"
   ]
  },
  {
   "cell_type": "markdown",
   "metadata": {},
   "source": [
    "### Benchmark Model"
   ]
  },
  {
   "cell_type": "code",
   "execution_count": 6,
   "metadata": {},
   "outputs": [
    {
     "name": "stdout",
     "output_type": "stream",
     "text": [
      "Precision_Score: 0.05893019038984588,                Recall Score: 0.4304635761589404,                f1_score: 0.10366826156299841,\n",
      "                confusion matrix: \n",
      "[[3543 1038]\n",
      " [  86   65]]\n",
      "                classification report: \n",
      "              precision    recall  f1-score   support\n",
      "\n",
      "           0       0.98      0.77      0.86      4581\n",
      "           1       0.06      0.43      0.10       151\n",
      "\n",
      "    accuracy                           0.76      4732\n",
      "   macro avg       0.52      0.60      0.48      4732\n",
      "weighted avg       0.95      0.76      0.84      4732\n",
      "\n",
      "Precision_Score: 0.05818965517241379,                Recall Score: 0.4153846153846154,                f1_score: 0.10207939508506615,\n",
      "                confusion matrix: \n",
      "[[1527  437]\n",
      " [  38   27]]\n",
      "                classification report: \n",
      "              precision    recall  f1-score   support\n",
      "\n",
      "           0       0.98      0.78      0.87      1964\n",
      "           1       0.06      0.42      0.10        65\n",
      "\n",
      "    accuracy                           0.77      2029\n",
      "   macro avg       0.52      0.60      0.48      2029\n",
      "weighted avg       0.95      0.77      0.84      2029\n",
      "\n"
     ]
    },
    {
     "name": "stderr",
     "output_type": "stream",
     "text": [
      "lbfgs failed to converge (status=1):\n",
      "STOP: TOTAL NO. of ITERATIONS REACHED LIMIT.\n",
      "\n",
      "Increase the number of iterations (max_iter) or scale the data as shown in:\n",
      "    https://scikit-learn.org/stable/modules/preprocessing.html\n",
      "Please also refer to the documentation for alternative solver options:\n",
      "    https://scikit-learn.org/stable/modules/linear_model.html#logistic-regression\n"
     ]
    },
    {
     "data": {
      "text/plain": [
       "<sklearn.metrics._plot.precision_recall_curve.PrecisionRecallDisplay at 0x11e682580>"
      ]
     },
     "execution_count": 6,
     "metadata": {},
     "output_type": "execute_result"
    },
    {
     "data": {
      "image/png": "[encoded data removed]",
      "text/plain": [
       "<Figure size 432x288 with 1 Axes>"
      ]
     },
     "metadata": {
      "needs_background": "light"
     },
     "output_type": "display_data"
    },
    {
     "data": {
      "image/png": "[encoded data removed]",
      "text/plain": [
       "<Figure size 432x288 with 1 Axes>"
      ]
     },
     "metadata": {
      "needs_background": "light"
     },
     "output_type": "display_data"
    }
   ],
   "source": [
    "ohe = OneHotEncoder()\n",
    "cat_cols = [\"company type\"]\n",
    "X_train_ohe = ohe.fit_transform(X_train[cat_cols]).toarray()\n",
    "X_test_ohe = ohe.transform(X_test[cat_cols]).toarray()\n",
    "\n",
    "X_train_lr = X_train.drop(cat_cols,axis=1).copy(deep=True)\n",
    "X_test_lr = X_test.drop(cat_cols,axis=1).copy(deep=True)\n",
    "\n",
    "X_train_lr[ohe.categories_[0]] = X_train_ohe\n",
    "X_test_lr[ohe.categories_[0]] = X_test_ohe\n",
    "\n",
    "\n",
    "benchmark_mod = LogisticRegression(class_weight=\"balanced\")\n",
    "benchmark_mod.fit(X_train_lr,y_train)\n",
    "\n",
    "pred_train_lr = benchmark_mod.predict_proba(X_train_lr)\n",
    "pred_test_lr = benchmark_mod.predict_proba(X_test_lr)\n",
    "\n",
    "model_performance(y_pred=pred_train_lr,y_true=y_train,threshold=0.5,\n",
    "title=\"logreg:TRAIN\",model_type=\"logreg\")\n",
    "\n",
    "model_performance(y_pred=pred_test_lr,y_true=y_test,threshold=0.5,\n",
    "title=\"logreg:TEST\",model_type=\"logreg\")"
   ]
  },
  {
   "cell_type": "code",
   "execution_count": 13,
   "metadata": {},
   "outputs": [],
   "source": [
    "# bbc = imb.ensemble.BalancedRandomForestClassifier(class_weight={0: 4581, 1: 151}).fit(X_train_lr,y_train)\n",
    "# pred_train_bbc = bbc.predict_proba(X_train_lr)\n",
    "# pred_test_bbc = bbc.predict_proba(X_test_lr)\n",
    "\n",
    "# model_performance(y_pred=pred_train_bbc,y_true=y_train,threshold=0.5,\n",
    "# title=\"bbc:TRAIN\",model_type=\"bbc\")\n",
    "\n",
    "# model_performance(y_pred=pred_test_bbc,y_true=y_test,threshold=0.5,\n",
    "# title=\"bbc:TEST\",model_type=\"bbc\")\n"
   ]
  },
  {
   "cell_type": "code",
   "execution_count": null,
   "metadata": {},
   "outputs": [],
   "source": [
    "\n",
    "def full_data(trial):\n",
    "\n",
    "    param = {\n",
    "        \"objective\": trial.suggest_categorical(\"objective\", [\"Logloss\"]),\n",
    "        \"colsample_bylevel\": trial.suggest_float(\"colsample_bylevel\", 0.01, 0.1),\n",
    "        \"learning_rate\": trial.suggest_float(\"learning_rate\", 0.01, 0.1),\n",
    "        \"depth\": trial.suggest_int(\"depth\", 4, 10),\n",
    "        #\"num_leaves\": trial.suggest_int(\"num_leaves\", 4, 20),\n",
    "        \"iterations\":trial.suggest_int(\"iterations\", 10,20),\n",
    "        \"l2_leaf_reg\":trial.suggest_int(\"l2_leaf_reg\", 2,10),\n",
    "        \"boosting_type\": trial.suggest_categorical(\"boosting_type\", [\"Ordered\"]),\n",
    "        \"bootstrap_type\": trial.suggest_categorical(\n",
    "            \"bootstrap_type\", [\"Bayesian\", \"Bernoulli\",\"MVS\"]\n",
    "        )\n",
    "    }\n",
    "\n",
    "    if param[\"objective\"] == \"LogLoss\":\n",
    "        \"scale_pos_weight\":y_train.value_counts()[0]/y_train.value_counts()[1],\n",
    "        # param[\"auto_class_weights\"]=\"Balanced\"\n",
    "\n",
    "    if param[\"bootstrap_type\"] == \"Bayesian\":\n",
    "        param[\"bagging_temperature\"] = trial.suggest_float(\"bagging_temperature\", 0, 10)\n",
    "    elif param[\"bootstrap_type\"] == \"Bernoulli\":\n",
    "        param[\"subsample\"] = trial.suggest_float(\"subsample\", 0.1, 1)\n",
    "\n",
    "    gbm = CatBoostClassifier(**param)\n",
    "\n",
    "    gbm.fit(X_train, y_train, eval_set=[(X_test, y_test)], verbose=0, \n",
    "    early_stopping_rounds=10,cat_features=[\"company type\"]\n",
    "    )\n",
    "\n",
    "    preds = gbm.predict(X_test)\n",
    "    pred_labels = np.rint(preds)\n",
    "    f_one_score = f1_score(y_test, pred_labels)\n",
    "    return f_one_score"
   ]
  },
  {
   "cell_type": "code",
   "execution_count": null,
   "metadata": {},
   "outputs": [],
   "source": [
    "study1 = optuna.create_study(direction=\"maximize\")\n",
    "study1.optimize(full_data, n_trials=50, timeout=600)"
   ]
  },
  {
   "cell_type": "code",
   "execution_count": null,
   "metadata": {},
   "outputs": [],
   "source": [
    "print(\"Number of finished trials: {}\".format(len(study1.trials)))\n",
    "\n",
    "print(\"Best trial:\")\n",
    "trial = study1.best_trial\n",
    "\n",
    "print(\"  Value: {}\".format(trial.value))\n",
    "\n",
    "best_params={}\n",
    "print(\"  Params: \")\n",
    "for key, value in trial.params.items():\n",
    "    best_params[key]=value\n",
    "print(best_params)"
   ]
  },
  {
   "cell_type": "code",
   "execution_count": null,
   "metadata": {},
   "outputs": [],
   "source": [
    "extra_params = {\"cat_features\":[\"company type\"],\n",
    "    #scale_pos_weight is supported only for binary classification Logloss loss\n",
    "    #\"scale_pos_weight\":y_train.value_counts()[0]/y_train.value_counts()[1] \n",
    "    \"auto_class_weights\":\"Balanced\"\n",
    "    }\n",
    "best_params = {**best_params, **extra_params}\n"
   ]
  },
  {
   "cell_type": "code",
   "execution_count": null,
   "metadata": {},
   "outputs": [],
   "source": [
    "mod2 = CatBoostClassifier(**best_params)\n",
    "\n",
    "mod2.fit(X_train,y_train)\n",
    "\n",
    "# Get predicted probabilities for each class\n",
    "pred_train_cat = mod2.predict_proba(X_train)\n",
    "pred_test_cat = mod2.predict_proba(X_test)"
   ]
  },
  {
   "cell_type": "code",
   "execution_count": null,
   "metadata": {},
   "outputs": [],
   "source": [
    "model_performance(y_pred=pred_train_cat,y_true=y_train,threshold=0.5,\n",
    "title=\"catboost:TRAIN\",model_type=\"catboost\")\n",
    "\n",
    "model_performance(y_pred=pred_test_cat,y_true=y_test,threshold=0.5,\n",
    "title=\"catboost:TEST\",model_type=\"catboost\")\n"
   ]
  },
  {
   "cell_type": "code",
   "execution_count": null,
   "metadata": {},
   "outputs": [],
   "source": [
    "explainer2 = shap.TreeExplainer(mod2)\n",
    "shap_values2 = explainer2.shap_values(X_train)"
   ]
  },
  {
   "cell_type": "code",
   "execution_count": null,
   "metadata": {},
   "outputs": [],
   "source": [
    "top=60\n",
    "importance_mod2 = get_shap_feat_importance(shap_values2,X_train)\n",
    "importance_topk = importance_mod2[importance_mod2[\"shap_importance\"]>0][:top]\n",
    "best_feat = importance_topk.features.values"
   ]
  },
  {
   "cell_type": "code",
   "execution_count": null,
   "metadata": {},
   "outputs": [],
   "source": [
    "fig = go.Figure([go.Bar(x=importance_topk.features, y=importance_topk.shap_importance)])\n",
    "fig.update_layout(width=1200, height=500,xaxis_tickangle=-90, title=\"topk SHAP Importance\")\n"
   ]
  },
  {
   "cell_type": "code",
   "execution_count": null,
   "metadata": {},
   "outputs": [],
   "source": [
    "if X_train[best_feat].select_dtypes(exclude=np.number).shape[1]>0:\n",
    "    print(f\"categorical feature detected\")\n",
    "else: \n",
    "    print(f\"NO categorical feature detected\")"
   ]
  },
  {
   "cell_type": "code",
   "execution_count": null,
   "metadata": {},
   "outputs": [],
   "source": [
    "\n",
    "def obj_best_feat(trial):\n",
    "\n",
    "    param = {\n",
    "        \"objective\": trial.suggest_categorical(\"objective\", [\"Logloss\"]),\n",
    "        \"colsample_bylevel\": trial.suggest_float(\"colsample_bylevel\", 0.01, 0.1),\n",
    "        \"learning_rate\": trial.suggest_float(\"learning_rate\", 0.01, 0.1),\n",
    "        \"depth\": trial.suggest_int(\"depth\", 4, 10),\n",
    "        #\"num_leaves\": trial.suggest_int(\"num_leaves\", 4, 20),\n",
    "        \"iterations\":trial.suggest_int(\"iterations\", 10,20),\n",
    "        \"l2_leaf_reg\":trial.suggest_int(\"l2_leaf_reg\", 2,10),\n",
    "        \"boosting_type\": trial.suggest_categorical(\"boosting_type\", [\"Ordered\"]),\n",
    "        \"bootstrap_type\": trial.suggest_categorical(\n",
    "            \"bootstrap_type\", [\"Bayesian\", \"Bernoulli\",\"MVS\"]\n",
    "        )\n",
    "    }\n",
    "\n",
    "    # if param[\"objective\"] == \"LogLoss\":\n",
    "    #     #\"scale_pos_weight\":y_train.value_counts()[0]/y_train.value_counts()[1],\n",
    "    #     param[\"auto_class_weights\"]=\"Balanced\"\n",
    "\n",
    "    if param[\"bootstrap_type\"] == \"Bayesian\":\n",
    "        param[\"bagging_temperature\"] = trial.suggest_float(\"bagging_temperature\", 0, 10)\n",
    "    elif param[\"bootstrap_type\"] == \"Bernoulli\":\n",
    "        param[\"subsample\"] = trial.suggest_float(\"subsample\", 0.1, 1)\n",
    "\n",
    "    gbm = CatBoostClassifier(**param)\n",
    "\n",
    "    gbm.fit(X_train[best_feat], y_train, eval_set=[(X_test[best_feat], y_test)], verbose=0, \n",
    "    early_stopping_rounds=10#,cat_features=[\"company type\"]\n",
    "    )\n",
    "\n",
    "    preds = gbm.predict(X_test[best_feat])\n",
    "    pred_labels = np.rint(preds)\n",
    "    f_one_score = f1_score(y_test, pred_labels)\n",
    "    return f_one_score"
   ]
  },
  {
   "cell_type": "code",
   "execution_count": null,
   "metadata": {},
   "outputs": [],
   "source": [
    "study2 = optuna.create_study(direction=\"maximize\")\n",
    "study2.optimize(obj_best_feat, n_trials=50, timeout=600)"
   ]
  },
  {
   "cell_type": "code",
   "execution_count": null,
   "metadata": {},
   "outputs": [],
   "source": [
    "print(\"Number of finished trials: {}\".format(len(study2.trials)))\n",
    "\n",
    "print(\"Best trial:\")\n",
    "trial2 = study2.best_trial\n",
    "\n",
    "print(\"  Value: {}\".format(trial2.value))\n",
    "\n",
    "best_params2={}\n",
    "print(\"  Params: \")\n",
    "for key, value in trial2.params.items():\n",
    "    best_params2[key]=value\n",
    "print(best_params2)"
   ]
  },
  {
   "cell_type": "code",
   "execution_count": null,
   "metadata": {},
   "outputs": [],
   "source": [
    "extra_params = {\n",
    "    #\"cat_features\":[\"company type\"],\n",
    "    #scale_pos_weight is supported only for binary classification Logloss loss\n",
    "    #\"scale_pos_weight\":y_train.value_counts()[0]/y_train.value_counts()[1] \n",
    "    #\"auto_class_weights\":\"Balanced\"\n",
    "    }\n",
    "\n",
    "best_params2 = {**best_params2, **extra_params}"
   ]
  },
  {
   "cell_type": "code",
   "execution_count": null,
   "metadata": {},
   "outputs": [],
   "source": [
    "mod3 = CatBoostClassifier(**best_params2)\n",
    "\n",
    "mod3.fit(X_train[best_feat],y_train)\n",
    "\n",
    "# Get predicted probabilities for each class\n",
    "pred_train_cat3 = mod3.predict_proba(X_train[best_feat])\n",
    "pred_test_cat3 = mod3.predict_proba(X_test[best_feat])"
   ]
  },
  {
   "cell_type": "code",
   "execution_count": null,
   "metadata": {},
   "outputs": [],
   "source": [
    "model_performance(y_pred=pred_train_cat3,y_true=y_train,threshold=0.5,\n",
    "title=\"catboost:TRAIN_BEST_FEAT\",model_type=\"catboost\")\n",
    "\n",
    "model_performance(y_pred=pred_test_cat3,y_true=y_test,threshold=0.5,\n",
    "title=\"catboost:TEST_BEST_FEAT\",model_type=\"catboost\")\n"
   ]
  },
  {
   "cell_type": "code",
   "execution_count": null,
   "metadata": {},
   "outputs": [],
   "source": [
    "holdout_df = holdout.drop(target,axis = 1)[best_feat]\n",
    "pred_holdout_cat = mod3.predict_proba(holdout_df)\n",
    "model_performance(y_pred=pred_holdout_cat,y_true=holdout[target],threshold=0.5,\n",
    "title=\"catboost:HOLDOUT\",model_type=\"catboost\")\n"
   ]
  },
  {
   "cell_type": "code",
   "execution_count": null,
   "metadata": {},
   "outputs": [],
   "source": []
  }
 ],
 "metadata": {
  "kernelspec": {
   "display_name": "Python 3.8.13 ('.venv': poetry)",
   "language": "python",
   "name": "python3"
  },
  "language_info": {
   "codemirror_mode": {
    "name": "ipython",
    "version": 3
   },
   "file_extension": ".py",
   "mimetype": "text/x-python",
   "name": "python",
   "nbconvert_exporter": "python",
   "pygments_lexer": "ipython3",
   "version": "3.8.13"
  },
  "orig_nbformat": 4,
  "vscode": {
   "interpreter": {
    "hash": "05847f6b86325b7c07c4893522e3792f000a04dad028bba3837ffd16cde0f48c"
   }
  }
 },
 "nbformat": 4,
 "nbformat_minor": 2
}
