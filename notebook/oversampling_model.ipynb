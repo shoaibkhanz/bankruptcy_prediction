{
 "cells": [
  {
   "cell_type": "code",
   "execution_count": 1,
   "metadata": {},
   "outputs": [],
   "source": [
    "# installing packages\n",
    "import sys\n",
    "sys.path.append(\"../../bankruptcy_prediction\")\n",
    "import pandas as pd\n",
    "import numpy as np\n",
    "import sys\n",
    "# for visualisation\n",
    "import plotly.io as pio\n",
    "pio.templates.default = \"plotly_dark\"\n",
    "import plotly.graph_objects as go\n",
    "from plotly.subplots import make_subplots\n",
    "import matplotlib.pyplot as plt\n",
    "\n",
    "\n",
    "# for modelling \n",
    "import lightgbm as lgb\n",
    "from catboost import CatBoostClassifier\n",
    "from sklearn.linear_model import LogisticRegression\n",
    "from scipy.stats import pointbiserialr\n",
    "from sklearn.linear_model import LogisticRegression\n",
    "from sklearn.preprocessing import OneHotEncoder\n",
    "\n",
    "import optuna\n",
    "import imblearn as imb\n",
    "from collections import Counter\n",
    "\n",
    "from sklearn.metrics import (PrecisionRecallDisplay, precision_score,\n",
    "recall_score,confusion_matrix,f1_score)\n",
    "from sklearn.model_selection import train_test_split\n",
    "import shap\n",
    "from utils import (get_shap_feat_importance,check_missing, \n",
    "plot_dist_bar, get_dist, read_xlsx, model_performance)\n"
   ]
  },
  {
   "cell_type": "code",
   "execution_count": 27,
   "metadata": {},
   "outputs": [
    {
     "name": "stdout",
     "output_type": "stream",
     "text": [
      "Original Data Shape (6811, 96)\n",
      "Shape after dropping (6761, 96)\n",
      "Shape of holdout (50, 96)\n",
      "Counter({0: 47, 1: 3})\n"
     ]
    }
   ],
   "source": [
    "training_data = pd.read_csv(\"../data/training_data.csv\")\n",
    "testing_data = pd.read_csv(\"../data/testing_data.csv\")\n",
    "target=\"bankruptcy\"\n",
    "data = pd.concat([training_data,testing_data],axis=0).reset_index(drop=True)\n",
    "print(\"Original Data Shape\",data.shape)\n",
    "\n",
    "data[\"company type\"] = data[\"company type\"].astype(\"category\")\n",
    "\n",
    "holdout=data.iloc[:50,:]\n",
    "data = data.iloc[50:,:] \n",
    "print(\"Shape after dropping\",data.shape)\n",
    "X,y = data.drop(target,axis=1),data[target]\n",
    "\n",
    "#Holdout\n",
    "print(\"Shape of holdout\",holdout.shape)\n",
    "print(Counter(holdout[target]))"
   ]
  },
  {
   "cell_type": "code",
   "execution_count": 3,
   "metadata": {},
   "outputs": [
    {
     "name": "stdout",
     "output_type": "stream",
     "text": [
      "Counter({0: 6564, 1: 656})\n"
     ]
    }
   ],
   "source": [
    "# define oversampling strategy\n",
    "# oversample = RandomOverSampler(sampling_strategy='minority')\n",
    "oversample = imb.over_sampling.RandomOverSampler(sampling_strategy=0.10)\n",
    "# fit and apply the transform\n",
    "X_over, y_over = oversample.fit_resample(X, y)\n",
    "print(Counter(y_over))\n"
   ]
  },
  {
   "cell_type": "code",
   "execution_count": 4,
   "metadata": {},
   "outputs": [],
   "source": [
    "X_train,X_test,y_train,y_test = \\\n",
    "    train_test_split(X_over,y_over,test_size=0.3, stratify=y_over,random_state=42)"
   ]
  },
  {
   "cell_type": "code",
   "execution_count": 5,
   "metadata": {},
   "outputs": [
    {
     "name": "stdout",
     "output_type": "stream",
     "text": [
      "Counter({0: 4595, 1: 459})\n",
      "Counter({0: 1969, 1: 197})\n"
     ]
    }
   ],
   "source": [
    "# X_train,y_train = training_data.drop(\"bankruptcy\",axis = 1),training_data['bankruptcy']\n",
    "# X_test,y_test = testing_data.drop(\"bankruptcy\",axis = 1),testing_data['bankruptcy']\n",
    "print(Counter(y_train))\n",
    "print(Counter(y_test))"
   ]
  },
  {
   "cell_type": "markdown",
   "metadata": {},
   "source": [
    "### Benchmark Model"
   ]
  },
  {
   "cell_type": "code",
   "execution_count": 6,
   "metadata": {},
   "outputs": [
    {
     "name": "stdout",
     "output_type": "stream",
     "text": [
      "Precision_Score: 0.1530880420499343,                Recall Score: 0.5076252723311547,                f1_score: 0.23523472993437655,\n",
      "                confusion matrix: \n",
      "[[3306 1289]\n",
      " [ 226  233]]\n",
      "                classification report: \n",
      "              precision    recall  f1-score   support\n",
      "\n",
      "           0       0.94      0.72      0.81      4595\n",
      "           1       0.15      0.51      0.24       459\n",
      "\n",
      "    accuracy                           0.70      5054\n",
      "   macro avg       0.54      0.61      0.52      5054\n",
      "weighted avg       0.86      0.70      0.76      5054\n",
      "\n",
      "Precision_Score: 0.14754098360655737,                Recall Score: 0.45685279187817257,                f1_score: 0.22304832713754644,\n",
      "                confusion matrix: \n",
      "[[1449  520]\n",
      " [ 107   90]]\n",
      "                classification report: \n",
      "              precision    recall  f1-score   support\n",
      "\n",
      "           0       0.93      0.74      0.82      1969\n",
      "           1       0.15      0.46      0.22       197\n",
      "\n",
      "    accuracy                           0.71      2166\n",
      "   macro avg       0.54      0.60      0.52      2166\n",
      "weighted avg       0.86      0.71      0.77      2166\n",
      "\n"
     ]
    },
    {
     "data": {
      "text/plain": [
       "<sklearn.metrics._plot.precision_recall_curve.PrecisionRecallDisplay at 0x1276731f0>"
      ]
     },
     "execution_count": 6,
     "metadata": {},
     "output_type": "execute_result"
    },
    {
     "data": {
      "image/png": "[encoded data removed]",
      "text/plain": [
       "<Figure size 432x288 with 1 Axes>"
      ]
     },
     "metadata": {
      "needs_background": "light"
     },
     "output_type": "display_data"
    },
    {
     "data": {
      "image/png": "[encoded data removed]",
      "text/plain": [
       "<Figure size 432x288 with 1 Axes>"
      ]
     },
     "metadata": {
      "needs_background": "light"
     },
     "output_type": "display_data"
    }
   ],
   "source": [
    "ohe = OneHotEncoder()\n",
    "cat_cols = [\"company type\"]\n",
    "X_train_ohe = ohe.fit_transform(X_train[cat_cols]).toarray()\n",
    "X_test_ohe = ohe.transform(X_test[cat_cols]).toarray()\n",
    "\n",
    "X_train_lr = X_train.drop(cat_cols,axis=1).copy(deep=True)\n",
    "X_test_lr = X_test.drop(cat_cols,axis=1).copy(deep=True)\n",
    "\n",
    "X_train_lr[ohe.categories_[0]] = X_train_ohe\n",
    "X_test_lr[ohe.categories_[0]] = X_test_ohe\n",
    "\n",
    "\n",
    "benchmark_mod = LogisticRegression(class_weight=\"balanced\")\n",
    "benchmark_mod.fit(X_train_lr,y_train)\n",
    "\n",
    "pred_train_lr = benchmark_mod.predict_proba(X_train_lr)\n",
    "pred_test_lr = benchmark_mod.predict_proba(X_test_lr)\n",
    "\n",
    "model_performance(y_pred=pred_train_lr,y_true=y_train,threshold=0.5,\n",
    "title=\"logreg:TRAIN\",model_type=\"logreg\")\n",
    "\n",
    "model_performance(y_pred=pred_test_lr,y_true=y_test,threshold=0.5,\n",
    "title=\"logreg:TEST\",model_type=\"logreg\")"
   ]
  },
  {
   "cell_type": "code",
   "execution_count": 7,
   "metadata": {},
   "outputs": [],
   "source": [
    "\n",
    "def full_data(trial):\n",
    "\n",
    "    param = {\n",
    "        \"objective\": trial.suggest_categorical(\"objective\", [\"Logloss\"]),\n",
    "        \"colsample_bylevel\": trial.suggest_float(\"colsample_bylevel\", 0.01, 0.1),\n",
    "        \"learning_rate\": trial.suggest_float(\"learning_rate\", 0.01, 0.1),\n",
    "        \"depth\": trial.suggest_int(\"depth\", 4, 10),\n",
    "        #\"num_leaves\": trial.suggest_int(\"num_leaves\", 4, 20),\n",
    "        \"iterations\":trial.suggest_int(\"iterations\", 10,20),\n",
    "        \"l2_leaf_reg\":trial.suggest_int(\"l2_leaf_reg\", 2,10),\n",
    "        \"boosting_type\": trial.suggest_categorical(\"boosting_type\", [\"Ordered\"]),\n",
    "        \"bootstrap_type\": trial.suggest_categorical(\n",
    "            \"bootstrap_type\", [\"Bayesian\", \"Bernoulli\",\"MVS\"]\n",
    "        )\n",
    "    }\n",
    "\n",
    "    if param[\"objective\"] == \"LogLoss\":\n",
    "        #\"scale_pos_weight\":y_train.value_counts()[0]/y_train.value_counts()[1],\n",
    "        param[\"auto_class_weights\"]=\"Balanced\"\n",
    "\n",
    "    if param[\"bootstrap_type\"] == \"Bayesian\":\n",
    "        param[\"bagging_temperature\"] = trial.suggest_float(\"bagging_temperature\", 0, 10)\n",
    "    elif param[\"bootstrap_type\"] == \"Bernoulli\":\n",
    "        param[\"subsample\"] = trial.suggest_float(\"subsample\", 0.1, 1)\n",
    "\n",
    "    gbm = CatBoostClassifier(**param)\n",
    "\n",
    "    gbm.fit(X_train, y_train, eval_set=[(X_test, y_test)], verbose=0, \n",
    "    early_stopping_rounds=10,cat_features=[\"company type\"]\n",
    "    )\n",
    "\n",
    "    preds = gbm.predict(X_test)\n",
    "    pred_labels = np.rint(preds)\n",
    "    f_one_score = f1_score(y_test, pred_labels)\n",
    "    return f_one_score"
   ]
  },
  {
   "cell_type": "code",
   "execution_count": 8,
   "metadata": {},
   "outputs": [
    {
     "name": "stderr",
     "output_type": "stream",
     "text": [
      "\u001b[32m[I 2022-07-17 13:19:34,164]\u001b[0m A new study created in memory with name: no-name-7b19c78e-d618-42f4-8a98-ab4129f6adac\u001b[0m\n",
      "\u001b[32m[I 2022-07-17 13:19:34,632]\u001b[0m Trial 0 finished with value: 0.5306122448979591 and parameters: {'objective': 'Logloss', 'colsample_bylevel': 0.030054580590987492, 'learning_rate': 0.09352087597075914, 'depth': 6, 'iterations': 18, 'l2_leaf_reg': 2, 'boosting_type': 'Ordered', 'bootstrap_type': 'Bayesian', 'bagging_temperature': 8.95779790157702}. Best is trial 0 with value: 0.5306122448979591.\u001b[0m\n",
      "\u001b[32m[I 2022-07-17 13:19:35,198]\u001b[0m Trial 1 finished with value: 0.5418060200668896 and parameters: {'objective': 'Logloss', 'colsample_bylevel': 0.06042252286890145, 'learning_rate': 0.05511482116590314, 'depth': 8, 'iterations': 19, 'l2_leaf_reg': 2, 'boosting_type': 'Ordered', 'bootstrap_type': 'Bernoulli', 'subsample': 0.2864403730070527}. Best is trial 1 with value: 0.5418060200668896.\u001b[0m\n",
      "\u001b[32m[I 2022-07-17 13:19:36,170]\u001b[0m Trial 2 finished with value: 0.42857142857142855 and parameters: {'objective': 'Logloss', 'colsample_bylevel': 0.09251702669529235, 'learning_rate': 0.030167661571246694, 'depth': 9, 'iterations': 14, 'l2_leaf_reg': 5, 'boosting_type': 'Ordered', 'bootstrap_type': 'Bayesian', 'bagging_temperature': 9.857988356321835}. Best is trial 1 with value: 0.5418060200668896.\u001b[0m\n",
      "\u001b[32m[I 2022-07-17 13:19:36,584]\u001b[0m Trial 3 finished with value: 0.5136986301369864 and parameters: {'objective': 'Logloss', 'colsample_bylevel': 0.0638701288726096, 'learning_rate': 0.09050460946936754, 'depth': 5, 'iterations': 20, 'l2_leaf_reg': 10, 'boosting_type': 'Ordered', 'bootstrap_type': 'Bayesian', 'bagging_temperature': 5.354534896233889}. Best is trial 1 with value: 0.5418060200668896.\u001b[0m\n",
      "\u001b[32m[I 2022-07-17 13:19:36,785]\u001b[0m Trial 4 finished with value: 0.2532751091703056 and parameters: {'objective': 'Logloss', 'colsample_bylevel': 0.02080927035002919, 'learning_rate': 0.02148463280196644, 'depth': 8, 'iterations': 14, 'l2_leaf_reg': 10, 'boosting_type': 'Ordered', 'bootstrap_type': 'Bayesian', 'bagging_temperature': 3.9409685192474884}. Best is trial 1 with value: 0.5418060200668896.\u001b[0m\n",
      "\u001b[32m[I 2022-07-17 13:19:38,384]\u001b[0m Trial 5 finished with value: 0.5442622950819672 and parameters: {'objective': 'Logloss', 'colsample_bylevel': 0.0830116233439697, 'learning_rate': 0.01345349219142181, 'depth': 10, 'iterations': 14, 'l2_leaf_reg': 7, 'boosting_type': 'Ordered', 'bootstrap_type': 'Bernoulli', 'subsample': 0.3051403384841581}. Best is trial 5 with value: 0.5442622950819672.\u001b[0m\n",
      "\u001b[32m[I 2022-07-17 13:19:38,580]\u001b[0m Trial 6 finished with value: 0.37735849056603776 and parameters: {'objective': 'Logloss', 'colsample_bylevel': 0.07791688425896316, 'learning_rate': 0.024066422717516578, 'depth': 4, 'iterations': 16, 'l2_leaf_reg': 10, 'boosting_type': 'Ordered', 'bootstrap_type': 'Bayesian', 'bagging_temperature': 2.7697466859572506}. Best is trial 5 with value: 0.5442622950819672.\u001b[0m\n",
      "\u001b[32m[I 2022-07-17 13:19:38,826]\u001b[0m Trial 7 finished with value: 0.517799352750809 and parameters: {'objective': 'Logloss', 'colsample_bylevel': 0.09076720505665588, 'learning_rate': 0.032936231295411296, 'depth': 4, 'iterations': 20, 'l2_leaf_reg': 8, 'boosting_type': 'Ordered', 'bootstrap_type': 'MVS'}. Best is trial 5 with value: 0.5442622950819672.\u001b[0m\n",
      "\u001b[32m[I 2022-07-17 13:19:39,342]\u001b[0m Trial 8 finished with value: 0.625 and parameters: {'objective': 'Logloss', 'colsample_bylevel': 0.06701124707723306, 'learning_rate': 0.07440824891121119, 'depth': 8, 'iterations': 18, 'l2_leaf_reg': 2, 'boosting_type': 'Ordered', 'bootstrap_type': 'Bernoulli', 'subsample': 0.5934517994532396}. Best is trial 8 with value: 0.625.\u001b[0m\n",
      "\u001b[32m[I 2022-07-17 13:19:39,599]\u001b[0m Trial 9 finished with value: 0.3779527559055118 and parameters: {'objective': 'Logloss', 'colsample_bylevel': 0.03179674722220752, 'learning_rate': 0.02372188204399133, 'depth': 9, 'iterations': 11, 'l2_leaf_reg': 4, 'boosting_type': 'Ordered', 'bootstrap_type': 'Bernoulli', 'subsample': 0.2650410197393927}. Best is trial 8 with value: 0.625.\u001b[0m\n",
      "\u001b[32m[I 2022-07-17 13:19:39,880]\u001b[0m Trial 10 finished with value: 0.6089743589743589 and parameters: {'objective': 'Logloss', 'colsample_bylevel': 0.04643262426903663, 'learning_rate': 0.07004430106740722, 'depth': 7, 'iterations': 17, 'l2_leaf_reg': 4, 'boosting_type': 'Ordered', 'bootstrap_type': 'MVS'}. Best is trial 8 with value: 0.625.\u001b[0m\n",
      "\u001b[32m[I 2022-07-17 13:19:40,133]\u001b[0m Trial 11 finished with value: 0.577639751552795 and parameters: {'objective': 'Logloss', 'colsample_bylevel': 0.04535946910177817, 'learning_rate': 0.06897649855382497, 'depth': 7, 'iterations': 17, 'l2_leaf_reg': 4, 'boosting_type': 'Ordered', 'bootstrap_type': 'MVS'}. Best is trial 8 with value: 0.625.\u001b[0m\n",
      "\u001b[32m[I 2022-07-17 13:19:40,438]\u001b[0m Trial 12 finished with value: 0.6306306306306306 and parameters: {'objective': 'Logloss', 'colsample_bylevel': 0.051258448724209614, 'learning_rate': 0.07542563577249886, 'depth': 7, 'iterations': 17, 'l2_leaf_reg': 3, 'boosting_type': 'Ordered', 'bootstrap_type': 'MVS'}. Best is trial 12 with value: 0.6306306306306306.\u001b[0m\n",
      "\u001b[32m[I 2022-07-17 13:19:40,819]\u001b[0m Trial 13 finished with value: 0.5875 and parameters: {'objective': 'Logloss', 'colsample_bylevel': 0.07122648234436695, 'learning_rate': 0.07660263415594237, 'depth': 6, 'iterations': 16, 'l2_leaf_reg': 2, 'boosting_type': 'Ordered', 'bootstrap_type': 'Bernoulli', 'subsample': 0.8902032352613714}. Best is trial 12 with value: 0.6306306306306306.\u001b[0m\n",
      "\u001b[32m[I 2022-07-17 13:19:41,365]\u001b[0m Trial 14 finished with value: 0.5893416927899685 and parameters: {'objective': 'Logloss', 'colsample_bylevel': 0.04636125768711712, 'learning_rate': 0.05917268693405828, 'depth': 8, 'iterations': 11, 'l2_leaf_reg': 3, 'boosting_type': 'Ordered', 'bootstrap_type': 'MVS'}. Best is trial 12 with value: 0.6306306306306306.\u001b[0m\n",
      "\u001b[32m[I 2022-07-17 13:19:41,555]\u001b[0m Trial 15 finished with value: 0.0 and parameters: {'objective': 'Logloss', 'colsample_bylevel': 0.010963506817060514, 'learning_rate': 0.07937823639139313, 'depth': 6, 'iterations': 18, 'l2_leaf_reg': 5, 'boosting_type': 'Ordered', 'bootstrap_type': 'Bernoulli', 'subsample': 0.7132367837607351}. Best is trial 12 with value: 0.6306306306306306.\u001b[0m\n",
      "\u001b[32m[I 2022-07-17 13:19:42,829]\u001b[0m Trial 16 finished with value: 0.6764705882352942 and parameters: {'objective': 'Logloss', 'colsample_bylevel': 0.0559011263432143, 'learning_rate': 0.044308632176478596, 'depth': 10, 'iterations': 15, 'l2_leaf_reg': 3, 'boosting_type': 'Ordered', 'bootstrap_type': 'MVS'}. Best is trial 16 with value: 0.6764705882352942.\u001b[0m\n",
      "\u001b[32m[I 2022-07-17 13:19:43,880]\u001b[0m Trial 17 finished with value: 0.5612903225806452 and parameters: {'objective': 'Logloss', 'colsample_bylevel': 0.053634909088566135, 'learning_rate': 0.04498816156678166, 'depth': 10, 'iterations': 13, 'l2_leaf_reg': 6, 'boosting_type': 'Ordered', 'bootstrap_type': 'MVS'}. Best is trial 16 with value: 0.6764705882352942.\u001b[0m\n",
      "\u001b[32m[I 2022-07-17 13:19:44,450]\u001b[0m Trial 18 finished with value: 0.61875 and parameters: {'objective': 'Logloss', 'colsample_bylevel': 0.05406624299233902, 'learning_rate': 0.04228380889886788, 'depth': 9, 'iterations': 12, 'l2_leaf_reg': 3, 'boosting_type': 'Ordered', 'bootstrap_type': 'MVS'}. Best is trial 16 with value: 0.6764705882352942.\u001b[0m\n",
      "\u001b[32m[I 2022-07-17 13:19:44,643]\u001b[0m Trial 19 finished with value: 0.38636363636363635 and parameters: {'objective': 'Logloss', 'colsample_bylevel': 0.03240883332695271, 'learning_rate': 0.04471868752723298, 'depth': 5, 'iterations': 15, 'l2_leaf_reg': 6, 'boosting_type': 'Ordered', 'bootstrap_type': 'MVS'}. Best is trial 16 with value: 0.6764705882352942.\u001b[0m\n",
      "\u001b[32m[I 2022-07-17 13:19:45,605]\u001b[0m Trial 20 finished with value: 0.6822157434402333 and parameters: {'objective': 'Logloss', 'colsample_bylevel': 0.041321225434313165, 'learning_rate': 0.06225170139527289, 'depth': 10, 'iterations': 16, 'l2_leaf_reg': 3, 'boosting_type': 'Ordered', 'bootstrap_type': 'MVS'}. Best is trial 20 with value: 0.6822157434402333.\u001b[0m\n",
      "\u001b[32m[I 2022-07-17 13:19:46,464]\u001b[0m Trial 21 finished with value: 0.6335403726708075 and parameters: {'objective': 'Logloss', 'colsample_bylevel': 0.03553276048068661, 'learning_rate': 0.06195474081170907, 'depth': 10, 'iterations': 16, 'l2_leaf_reg': 3, 'boosting_type': 'Ordered', 'bootstrap_type': 'MVS'}. Best is trial 20 with value: 0.6822157434402333.\u001b[0m\n",
      "\u001b[32m[I 2022-07-17 13:19:47,385]\u001b[0m Trial 22 finished with value: 0.6822157434402333 and parameters: {'objective': 'Logloss', 'colsample_bylevel': 0.04015007698688056, 'learning_rate': 0.0609822670330561, 'depth': 10, 'iterations': 15, 'l2_leaf_reg': 5, 'boosting_type': 'Ordered', 'bootstrap_type': 'MVS'}. Best is trial 20 with value: 0.6822157434402333.\u001b[0m\n",
      "\u001b[32m[I 2022-07-17 13:19:48,378]\u001b[0m Trial 23 finished with value: 0.6606060606060605 and parameters: {'objective': 'Logloss', 'colsample_bylevel': 0.039556994341902144, 'learning_rate': 0.05084728986136455, 'depth': 10, 'iterations': 15, 'l2_leaf_reg': 5, 'boosting_type': 'Ordered', 'bootstrap_type': 'MVS'}. Best is trial 20 with value: 0.6822157434402333.\u001b[0m\n",
      "\u001b[32m[I 2022-07-17 13:19:48,648]\u001b[0m Trial 24 finished with value: 0.49097472924187724 and parameters: {'objective': 'Logloss', 'colsample_bylevel': 0.024430971410607846, 'learning_rate': 0.06357800860998528, 'depth': 9, 'iterations': 13, 'l2_leaf_reg': 4, 'boosting_type': 'Ordered', 'bootstrap_type': 'MVS'}. Best is trial 20 with value: 0.6822157434402333.\u001b[0m\n",
      "\u001b[32m[I 2022-07-17 13:19:49,538]\u001b[0m Trial 25 finished with value: 0.6363636363636364 and parameters: {'objective': 'Logloss', 'colsample_bylevel': 0.04100338857414399, 'learning_rate': 0.05192523008306478, 'depth': 10, 'iterations': 15, 'l2_leaf_reg': 8, 'boosting_type': 'Ordered', 'bootstrap_type': 'MVS'}. Best is trial 20 with value: 0.6822157434402333.\u001b[0m\n",
      "\u001b[32m[I 2022-07-17 13:19:49,681]\u001b[0m Trial 26 finished with value: 0.0 and parameters: {'objective': 'Logloss', 'colsample_bylevel': 0.014748048226120608, 'learning_rate': 0.036244334683681725, 'depth': 9, 'iterations': 13, 'l2_leaf_reg': 5, 'boosting_type': 'Ordered', 'bootstrap_type': 'MVS'}. Best is trial 20 with value: 0.6822157434402333.\u001b[0m\n",
      "\u001b[32m[I 2022-07-17 13:19:51,088]\u001b[0m Trial 27 finished with value: 0.7283236994219653 and parameters: {'objective': 'Logloss', 'colsample_bylevel': 0.05948992043943144, 'learning_rate': 0.08384025936435908, 'depth': 10, 'iterations': 16, 'l2_leaf_reg': 3, 'boosting_type': 'Ordered', 'bootstrap_type': 'MVS'}. Best is trial 27 with value: 0.7283236994219653.\u001b[0m\n",
      "\u001b[32m[I 2022-07-17 13:19:51,972]\u001b[0m Trial 28 finished with value: 0.6488095238095237 and parameters: {'objective': 'Logloss', 'colsample_bylevel': 0.07300829480118096, 'learning_rate': 0.08596361539826068, 'depth': 9, 'iterations': 16, 'l2_leaf_reg': 7, 'boosting_type': 'Ordered', 'bootstrap_type': 'MVS'}. Best is trial 27 with value: 0.7283236994219653.\u001b[0m\n",
      "\u001b[32m[I 2022-07-17 13:19:52,329]\u001b[0m Trial 29 finished with value: 0.5741935483870968 and parameters: {'objective': 'Logloss', 'colsample_bylevel': 0.024805149486288116, 'learning_rate': 0.0972017419780748, 'depth': 10, 'iterations': 10, 'l2_leaf_reg': 6, 'boosting_type': 'Ordered', 'bootstrap_type': 'MVS'}. Best is trial 27 with value: 0.7283236994219653.\u001b[0m\n",
      "\u001b[32m[I 2022-07-17 13:19:53,084]\u001b[0m Trial 30 finished with value: 0.6504559270516718 and parameters: {'objective': 'Logloss', 'colsample_bylevel': 0.05888779459327626, 'learning_rate': 0.08333678781206656, 'depth': 9, 'iterations': 17, 'l2_leaf_reg': 2, 'boosting_type': 'Ordered', 'bootstrap_type': 'MVS'}. Best is trial 27 with value: 0.7283236994219653.\u001b[0m\n",
      "\u001b[32m[I 2022-07-17 13:19:54,020]\u001b[0m Trial 31 finished with value: 0.6666666666666667 and parameters: {'objective': 'Logloss', 'colsample_bylevel': 0.04051206777146645, 'learning_rate': 0.0653307888424128, 'depth': 10, 'iterations': 15, 'l2_leaf_reg': 3, 'boosting_type': 'Ordered', 'bootstrap_type': 'MVS'}. Best is trial 27 with value: 0.7283236994219653.\u001b[0m\n",
      "\u001b[32m[I 2022-07-17 13:19:55,224]\u001b[0m Trial 32 finished with value: 0.6902654867256637 and parameters: {'objective': 'Logloss', 'colsample_bylevel': 0.062485656500057864, 'learning_rate': 0.05336566596084594, 'depth': 10, 'iterations': 14, 'l2_leaf_reg': 2, 'boosting_type': 'Ordered', 'bootstrap_type': 'MVS'}. Best is trial 27 with value: 0.7283236994219653.\u001b[0m\n",
      "\u001b[32m[I 2022-07-17 13:19:56,504]\u001b[0m Trial 33 finished with value: 0.6606060606060605 and parameters: {'objective': 'Logloss', 'colsample_bylevel': 0.0620522230461673, 'learning_rate': 0.05615821749400973, 'depth': 10, 'iterations': 14, 'l2_leaf_reg': 2, 'boosting_type': 'Ordered', 'bootstrap_type': 'MVS'}. Best is trial 27 with value: 0.7283236994219653.\u001b[0m\n",
      "\u001b[32m[I 2022-07-17 13:19:57,176]\u001b[0m Trial 34 finished with value: 0.6130030959752322 and parameters: {'objective': 'Logloss', 'colsample_bylevel': 0.048344095026303685, 'learning_rate': 0.05204598235697341, 'depth': 9, 'iterations': 19, 'l2_leaf_reg': 4, 'boosting_type': 'Ordered', 'bootstrap_type': 'Bayesian', 'bagging_temperature': 0.7611936990134822}. Best is trial 27 with value: 0.7283236994219653.\u001b[0m\n",
      "\u001b[32m[I 2022-07-17 13:19:57,586]\u001b[0m Trial 35 finished with value: 0.6547619047619047 and parameters: {'objective': 'Logloss', 'colsample_bylevel': 0.06341859553798514, 'learning_rate': 0.09176271589566516, 'depth': 8, 'iterations': 14, 'l2_leaf_reg': 2, 'boosting_type': 'Ordered', 'bootstrap_type': 'MVS'}. Best is trial 27 with value: 0.7283236994219653.\u001b[0m\n",
      "\u001b[32m[I 2022-07-17 13:19:59,076]\u001b[0m Trial 36 finished with value: 0.6582278481012659 and parameters: {'objective': 'Logloss', 'colsample_bylevel': 0.0687946554384636, 'learning_rate': 0.09991479610772246, 'depth': 10, 'iterations': 16, 'l2_leaf_reg': 3, 'boosting_type': 'Ordered', 'bootstrap_type': 'Bayesian', 'bagging_temperature': 6.398276548770273}. Best is trial 27 with value: 0.7283236994219653.\u001b[0m\n",
      "\u001b[32m[I 2022-07-17 13:19:59,876]\u001b[0m Trial 37 finished with value: 0.6139817629179332 and parameters: {'objective': 'Logloss', 'colsample_bylevel': 0.07752691686717589, 'learning_rate': 0.058565011008390795, 'depth': 9, 'iterations': 14, 'l2_leaf_reg': 2, 'boosting_type': 'Ordered', 'bootstrap_type': 'MVS'}. Best is trial 27 with value: 0.7283236994219653.\u001b[0m\n",
      "\u001b[32m[I 2022-07-17 13:20:01,300]\u001b[0m Trial 38 finished with value: 0.6666666666666667 and parameters: {'objective': 'Logloss', 'colsample_bylevel': 0.05746535536171301, 'learning_rate': 0.06863785498516, 'depth': 10, 'iterations': 18, 'l2_leaf_reg': 5, 'boosting_type': 'Ordered', 'bootstrap_type': 'Bayesian', 'bagging_temperature': 0.19824235719536798}. Best is trial 27 with value: 0.7283236994219653.\u001b[0m\n",
      "\u001b[32m[I 2022-07-17 13:20:02,001]\u001b[0m Trial 39 finished with value: 0.6974063400576368 and parameters: {'objective': 'Logloss', 'colsample_bylevel': 0.09668022727415251, 'learning_rate': 0.08557580602538274, 'depth': 8, 'iterations': 19, 'l2_leaf_reg': 4, 'boosting_type': 'Ordered', 'bootstrap_type': 'MVS'}. Best is trial 27 with value: 0.7283236994219653.\u001b[0m\n",
      "\u001b[32m[I 2022-07-17 13:20:02,722]\u001b[0m Trial 40 finished with value: 0.6149068322981367 and parameters: {'objective': 'Logloss', 'colsample_bylevel': 0.096147318501697, 'learning_rate': 0.08711369940571675, 'depth': 8, 'iterations': 20, 'l2_leaf_reg': 4, 'boosting_type': 'Ordered', 'bootstrap_type': 'Bernoulli', 'subsample': 0.10927703628230712}. Best is trial 27 with value: 0.7283236994219653.\u001b[0m\n",
      "\u001b[32m[I 2022-07-17 13:20:03,827]\u001b[0m Trial 41 finished with value: 0.6876790830945559 and parameters: {'objective': 'Logloss', 'colsample_bylevel': 0.0856335262076411, 'learning_rate': 0.08108202546453601, 'depth': 9, 'iterations': 18, 'l2_leaf_reg': 4, 'boosting_type': 'Ordered', 'bootstrap_type': 'MVS'}. Best is trial 27 with value: 0.7283236994219653.\u001b[0m\n",
      "\u001b[32m[I 2022-07-17 13:20:05,079]\u001b[0m Trial 42 finished with value: 0.6666666666666667 and parameters: {'objective': 'Logloss', 'colsample_bylevel': 0.0888078210369704, 'learning_rate': 0.08149815569946245, 'depth': 9, 'iterations': 19, 'l2_leaf_reg': 5, 'boosting_type': 'Ordered', 'bootstrap_type': 'MVS'}. Best is trial 27 with value: 0.7283236994219653.\u001b[0m\n",
      "\u001b[32m[I 2022-07-17 13:20:05,891]\u001b[0m Trial 43 finished with value: 0.6686390532544378 and parameters: {'objective': 'Logloss', 'colsample_bylevel': 0.0985553015879002, 'learning_rate': 0.08808337769909216, 'depth': 8, 'iterations': 19, 'l2_leaf_reg': 4, 'boosting_type': 'Ordered', 'bootstrap_type': 'MVS'}. Best is trial 27 with value: 0.7283236994219653.\u001b[0m\n",
      "\u001b[32m[I 2022-07-17 13:20:06,608]\u001b[0m Trial 44 finished with value: 0.6283987915407855 and parameters: {'objective': 'Logloss', 'colsample_bylevel': 0.0833878496120467, 'learning_rate': 0.07163229794810373, 'depth': 8, 'iterations': 18, 'l2_leaf_reg': 3, 'boosting_type': 'Ordered', 'bootstrap_type': 'MVS'}. Best is trial 27 with value: 0.7283236994219653.\u001b[0m\n",
      "\u001b[32m[I 2022-07-17 13:20:07,832]\u001b[0m Trial 45 finished with value: 0.7308781869688384 and parameters: {'objective': 'Logloss', 'colsample_bylevel': 0.08697306481838464, 'learning_rate': 0.09439556641379884, 'depth': 9, 'iterations': 20, 'l2_leaf_reg': 4, 'boosting_type': 'Ordered', 'bootstrap_type': 'MVS'}. Best is trial 45 with value: 0.7308781869688384.\u001b[0m\n",
      "\u001b[32m[I 2022-07-17 13:20:08,537]\u001b[0m Trial 46 finished with value: 0.6058631921824105 and parameters: {'objective': 'Logloss', 'colsample_bylevel': 0.08678281913490135, 'learning_rate': 0.09448268234901114, 'depth': 8, 'iterations': 20, 'l2_leaf_reg': 4, 'boosting_type': 'Ordered', 'bootstrap_type': 'Bayesian', 'bagging_temperature': 7.399943311641412}. Best is trial 45 with value: 0.7308781869688384.\u001b[0m\n",
      "\u001b[32m[I 2022-07-17 13:20:08,997]\u001b[0m Trial 47 finished with value: 0.6686217008797654 and parameters: {'objective': 'Logloss', 'colsample_bylevel': 0.09417012353993409, 'learning_rate': 0.09298336406478784, 'depth': 7, 'iterations': 20, 'l2_leaf_reg': 2, 'boosting_type': 'Ordered', 'bootstrap_type': 'MVS'}. Best is trial 45 with value: 0.7308781869688384.\u001b[0m\n",
      "\u001b[32m[I 2022-07-17 13:20:10,095]\u001b[0m Trial 48 finished with value: 0.6200607902735562 and parameters: {'objective': 'Logloss', 'colsample_bylevel': 0.07711576346330357, 'learning_rate': 0.07844976378915738, 'depth': 9, 'iterations': 19, 'l2_leaf_reg': 9, 'boosting_type': 'Ordered', 'bootstrap_type': 'Bernoulli', 'subsample': 0.9804231767198472}. Best is trial 45 with value: 0.7308781869688384.\u001b[0m\n",
      "\u001b[32m[I 2022-07-17 13:20:11,097]\u001b[0m Trial 49 finished with value: 0.672514619883041 and parameters: {'objective': 'Logloss', 'colsample_bylevel': 0.08267003200678903, 'learning_rate': 0.08380977679584217, 'depth': 9, 'iterations': 17, 'l2_leaf_reg': 4, 'boosting_type': 'Ordered', 'bootstrap_type': 'MVS'}. Best is trial 45 with value: 0.7308781869688384.\u001b[0m\n"
     ]
    }
   ],
   "source": [
    "study1 = optuna.create_study(direction=\"maximize\")\n",
    "study1.optimize(full_data, n_trials=50, timeout=600)"
   ]
  },
  {
   "cell_type": "code",
   "execution_count": 9,
   "metadata": {},
   "outputs": [
    {
     "name": "stdout",
     "output_type": "stream",
     "text": [
      "Number of finished trials: 50\n",
      "Best trial:\n",
      "  Value: 0.7308781869688384\n",
      "  Params: \n",
      "{'objective': 'Logloss', 'colsample_bylevel': 0.08697306481838464, 'learning_rate': 0.09439556641379884, 'depth': 9, 'iterations': 20, 'l2_leaf_reg': 4, 'boosting_type': 'Ordered', 'bootstrap_type': 'MVS'}\n"
     ]
    }
   ],
   "source": [
    "print(\"Number of finished trials: {}\".format(len(study1.trials)))\n",
    "\n",
    "print(\"Best trial:\")\n",
    "trial = study1.best_trial\n",
    "\n",
    "print(\"  Value: {}\".format(trial.value))\n",
    "\n",
    "best_params={}\n",
    "print(\"  Params: \")\n",
    "for key, value in trial.params.items():\n",
    "    best_params[key]=value\n",
    "print(best_params)"
   ]
  },
  {
   "cell_type": "code",
   "execution_count": 10,
   "metadata": {},
   "outputs": [],
   "source": [
    "extra_params = {\"cat_features\":[\"company type\"],\n",
    "    #scale_pos_weight is supported only for binary classification Logloss loss\n",
    "    #\"scale_pos_weight\":y_train.value_counts()[0]/y_train.value_counts()[1] \n",
    "    \"auto_class_weights\":\"Balanced\"\n",
    "    }\n",
    "best_params = {**best_params, **extra_params}\n"
   ]
  },
  {
   "cell_type": "code",
   "execution_count": 11,
   "metadata": {},
   "outputs": [
    {
     "name": "stdout",
     "output_type": "stream",
     "text": [
      "0:\tlearn: 0.5831286\ttotal: 82.6ms\tremaining: 1.57s\n",
      "1:\tlearn: 0.5011689\ttotal: 309ms\tremaining: 2.78s\n",
      "2:\tlearn: 0.4534243\ttotal: 381ms\tremaining: 2.16s\n",
      "3:\tlearn: 0.4115399\ttotal: 560ms\tremaining: 2.24s\n",
      "4:\tlearn: 0.3688104\ttotal: 655ms\tremaining: 1.97s\n",
      "5:\tlearn: 0.3318236\ttotal: 750ms\tremaining: 1.75s\n",
      "6:\tlearn: 0.3059266\ttotal: 892ms\tremaining: 1.66s\n",
      "7:\tlearn: 0.2820109\ttotal: 974ms\tremaining: 1.46s\n",
      "8:\tlearn: 0.2590121\ttotal: 1.09s\tremaining: 1.33s\n",
      "9:\tlearn: 0.2450711\ttotal: 1.15s\tremaining: 1.15s\n",
      "10:\tlearn: 0.2273419\ttotal: 1.21s\tremaining: 993ms\n",
      "11:\tlearn: 0.2145131\ttotal: 1.36s\tremaining: 906ms\n",
      "12:\tlearn: 0.2056347\ttotal: 1.44s\tremaining: 776ms\n",
      "13:\tlearn: 0.1987893\ttotal: 1.5s\tremaining: 641ms\n",
      "14:\tlearn: 0.1894601\ttotal: 1.57s\tremaining: 523ms\n",
      "15:\tlearn: 0.1819630\ttotal: 1.71s\tremaining: 427ms\n",
      "16:\tlearn: 0.1703076\ttotal: 1.81s\tremaining: 320ms\n",
      "17:\tlearn: 0.1655452\ttotal: 1.91s\tremaining: 212ms\n",
      "18:\tlearn: 0.1595379\ttotal: 1.96s\tremaining: 103ms\n",
      "19:\tlearn: 0.1560231\ttotal: 2.04s\tremaining: 0us\n"
     ]
    }
   ],
   "source": [
    "mod2 = CatBoostClassifier(**best_params)\n",
    "\n",
    "mod2.fit(X_train,y_train)\n",
    "\n",
    "# Get predicted probabilities for each class\n",
    "pred_train_cat = mod2.predict_proba(X_train)\n",
    "pred_test_cat = mod2.predict_proba(X_test)"
   ]
  },
  {
   "cell_type": "code",
   "execution_count": 12,
   "metadata": {},
   "outputs": [
    {
     "name": "stdout",
     "output_type": "stream",
     "text": [
      "Precision_Score: 0.5945241199478487,                Recall Score: 0.9934640522875817,                f1_score: 0.7438825448613375,\n",
      "                confusion matrix: \n",
      "[[4284  311]\n",
      " [   3  456]]\n",
      "                classification report: \n",
      "              precision    recall  f1-score   support\n",
      "\n",
      "           0       1.00      0.93      0.96      4595\n",
      "           1       0.59      0.99      0.74       459\n",
      "\n",
      "    accuracy                           0.94      5054\n",
      "   macro avg       0.80      0.96      0.85      5054\n",
      "weighted avg       0.96      0.94      0.94      5054\n",
      "\n",
      "Precision_Score: 0.5692771084337349,                Recall Score: 0.9593908629441624,                f1_score: 0.7145557655954632,\n",
      "                confusion matrix: \n",
      "[[1826  143]\n",
      " [   8  189]]\n",
      "                classification report: \n",
      "              precision    recall  f1-score   support\n",
      "\n",
      "           0       1.00      0.93      0.96      1969\n",
      "           1       0.57      0.96      0.71       197\n",
      "\n",
      "    accuracy                           0.93      2166\n",
      "   macro avg       0.78      0.94      0.84      2166\n",
      "weighted avg       0.96      0.93      0.94      2166\n",
      "\n"
     ]
    },
    {
     "data": {
      "text/plain": [
       "<sklearn.metrics._plot.precision_recall_curve.PrecisionRecallDisplay at 0x12bb92280>"
      ]
     },
     "execution_count": 12,
     "metadata": {},
     "output_type": "execute_result"
    },
    {
     "data": {
      "image/png": "[encoded data removed]",
      "text/plain": [
       "<Figure size 432x288 with 1 Axes>"
      ]
     },
     "metadata": {
      "needs_background": "light"
     },
     "output_type": "display_data"
    },
    {
     "data": {
      "image/png": "[encoded data removed]",
      "text/plain": [
       "<Figure size 432x288 with 1 Axes>"
      ]
     },
     "metadata": {
      "needs_background": "light"
     },
     "output_type": "display_data"
    }
   ],
   "source": [
    "model_performance(y_pred=pred_train_cat,y_true=y_train,threshold=0.5,\n",
    "title=\"catboost:TRAIN\",model_type=\"catboost\")\n",
    "\n",
    "model_performance(y_pred=pred_test_cat,y_true=y_test,threshold=0.5,\n",
    "title=\"catboost:TEST\",model_type=\"catboost\")\n"
   ]
  },
  {
   "cell_type": "code",
   "execution_count": 13,
   "metadata": {},
   "outputs": [],
   "source": [
    "explainer2 = shap.TreeExplainer(mod2)\n",
    "shap_values2 = explainer2.shap_values(X_train)"
   ]
  },
  {
   "cell_type": "code",
   "execution_count": 14,
   "metadata": {},
   "outputs": [],
   "source": [
    "top=60\n",
    "importance_mod2 = get_shap_feat_importance(shap_values2,X_train)\n",
    "importance_topk = importance_mod2[importance_mod2[\"shap_importance\"]>0][:top]\n",
    "best_feat = importance_topk.features.values"
   ]
  },
  {
   "cell_type": "code",
   "execution_count": 15,
   "metadata": {},
   "outputs": [
    {
     "data": {
      "application/vnd.plotly.v1+json": {
       "config": {
        "plotlyServerURL": "https://plot.ly"
       },
       "data": [
        {
         "type": "bar",
         "x": [
          "interest-bearing debt interest rate",
          "equity to liability",
          "quick ratio",
          "net worth/assets",
          "non-industry income and expenditure/revenue",
          "continuous interest rate (after tax)",
          "long-term liability to current assets",
          "total debt/total net worth",
          "operating profit per share (yuan ¬•)",
          "roa(b) before interest and depreciation after tax",
          "net value per share (c)",
          "persistent eps in the last four seasons",
          "roa(a) before interest and % after tax",
          "total income/total expense",
          "inventory/working capital",
          "tax rate (a)",
          "net profit before tax/paid-in capital",
          "allocation rate per person",
          "accounts receivable turnover",
          "current liability to assets",
          "borrowing dependency",
          "current ratio",
          "working capital to total assets",
          "retained earnings to total assets",
          "roa(c) before interest and depreciation before interest",
          "average collection days",
          "net value per share (b)",
          "degree of financial leverage (dfl)",
          "equity to long-term liability",
          "interest expense ratio",
          "net income to total assets",
          "quick assets/current liability",
          "liability to equity",
          "regular net profit growth rate",
          "gross profit to sales",
          "operating gross margin",
          "pre-tax net interest rate",
          "per share net profit before tax (yuan ¬•)",
          "continuous net profit growth rate",
          "operating funds to liability",
          "working capitcal turnover rate",
          "cash flow to equity",
          "interest coverage ratio (interest expense to ebit)",
          "long-term fund suitability ratio (a)",
          "cash flow to total assets",
          "cash/total assets",
          "cash/current liability",
          "debt ratio %",
          "current liability to current assets",
          "inventory and accounts receivable/net value",
          "total asset growth rate",
          "working capital/equity",
          "revenue per share (yuan ¬•)",
          "after-tax net profit growth rate",
          "no-credit interval",
          "cfo to assets",
          "quick assets/total assets",
          "quick asset turnover rate",
          "current asset turnover rate",
          "total expense/assets"
         ],
         "y": [
          0.25038079515144074,
          0.2439857585859101,
          0.18170424151640074,
          0.1790570101585564,
          0.159050941157033,
          0.15631732646309324,
          0.12609879003098318,
          0.12368443249829383,
          0.11522633645298584,
          0.11331861004875397,
          0.11209576778700611,
          0.11202629938292907,
          0.11087105672350694,
          0.09048885080874566,
          0.08924035394691031,
          0.08501922289721439,
          0.07886994237997516,
          0.07867611307580834,
          0.07684060372557236,
          0.07496462705536149,
          0.06815282543319315,
          0.06350215015784794,
          0.05781643065986798,
          0.05730511230453179,
          0.05697230883132,
          0.05518112728761739,
          0.05287297443353804,
          0.052651905181669414,
          0.0510712434012888,
          0.05016619191700858,
          0.047713382480059664,
          0.046768488319469746,
          0.0467563951285949,
          0.044437769506008216,
          0.04120674382712779,
          0.04088945415577531,
          0.039079680654901534,
          0.03793263445028488,
          0.03770840012572375,
          0.037442718654729854,
          0.037271190843564984,
          0.0354082676061008,
          0.034295602923484776,
          0.033487787333063124,
          0.03152074452903137,
          0.02961636440633101,
          0.028845968972759616,
          0.02821718101558765,
          0.027589332229206523,
          0.02733620077679715,
          0.02623474291196778,
          0.02535009333054173,
          0.024957995057858277,
          0.02488359295392833,
          0.022094543484959633,
          0.02167374232928054,
          0.021670806121969886,
          0.021497257332513595,
          0.021451620152660687,
          0.019900236118237963
         ]
        }
       ],
       "layout": {
        "height": 500,
        "template": {
         "data": {
          "bar": [
           {
            "error_x": {
             "color": "#f2f5fa"
            },
            "error_y": {
             "color": "#f2f5fa"
            },
            "marker": {
             "line": {
              "color": "rgb(17,17,17)",
              "width": 0.5
             },
             "pattern": {
              "fillmode": "overlay",
              "size": 10,
              "solidity": 0.2
             }
            },
            "type": "bar"
           }
          ],
          "barpolar": [
           {
            "marker": {
             "line": {
              "color": "rgb(17,17,17)",
              "width": 0.5
             },
             "pattern": {
              "fillmode": "overlay",
              "size": 10,
              "solidity": 0.2
             }
            },
            "type": "barpolar"
           }
          ],
          "carpet": [
           {
            "aaxis": {
             "endlinecolor": "#A2B1C6",
             "gridcolor": "#506784",
             "linecolor": "#506784",
             "minorgridcolor": "#506784",
             "startlinecolor": "#A2B1C6"
            },
            "baxis": {
             "endlinecolor": "#A2B1C6",
             "gridcolor": "#506784",
             "linecolor": "#506784",
             "minorgridcolor": "#506784",
             "startlinecolor": "#A2B1C6"
            },
            "type": "carpet"
           }
          ],
          "choropleth": [
           {
            "colorbar": {
             "outlinewidth": 0,
             "ticks": ""
            },
            "type": "choropleth"
           }
          ],
          "contour": [
           {
            "colorbar": {
             "outlinewidth": 0,
             "ticks": ""
            },
            "colorscale": [
             [
              0,
              "#0d0887"
             ],
             [
              0.1111111111111111,
              "#46039f"
             ],
             [
              0.2222222222222222,
              "#7201a8"
             ],
             [
              0.3333333333333333,
              "#9c179e"
             ],
             [
              0.4444444444444444,
              "#bd3786"
             ],
             [
              0.5555555555555556,
              "#d8576b"
             ],
             [
              0.6666666666666666,
              "#ed7953"
             ],
             [
              0.7777777777777778,
              "#fb9f3a"
             ],
             [
              0.8888888888888888,
              "#fdca26"
             ],
             [
              1,
              "#f0f921"
             ]
            ],
            "type": "contour"
           }
          ],
          "contourcarpet": [
           {
            "colorbar": {
             "outlinewidth": 0,
             "ticks": ""
            },
            "type": "contourcarpet"
           }
          ],
          "heatmap": [
           {
            "colorbar": {
             "outlinewidth": 0,
             "ticks": ""
            },
            "colorscale": [
             [
              0,
              "#0d0887"
             ],
             [
              0.1111111111111111,
              "#46039f"
             ],
             [
              0.2222222222222222,
              "#7201a8"
             ],
             [
              0.3333333333333333,
              "#9c179e"
             ],
             [
              0.4444444444444444,
              "#bd3786"
             ],
             [
              0.5555555555555556,
              "#d8576b"
             ],
             [
              0.6666666666666666,
              "#ed7953"
             ],
             [
              0.7777777777777778,
              "#fb9f3a"
             ],
             [
              0.8888888888888888,
              "#fdca26"
             ],
             [
              1,
              "#f0f921"
             ]
            ],
            "type": "heatmap"
           }
          ],
          "heatmapgl": [
           {
            "colorbar": {
             "outlinewidth": 0,
             "ticks": ""
            },
            "colorscale": [
             [
              0,
              "#0d0887"
             ],
             [
              0.1111111111111111,
              "#46039f"
             ],
             [
              0.2222222222222222,
              "#7201a8"
             ],
             [
              0.3333333333333333,
              "#9c179e"
             ],
             [
              0.4444444444444444,
              "#bd3786"
             ],
             [
              0.5555555555555556,
              "#d8576b"
             ],
             [
              0.6666666666666666,
              "#ed7953"
             ],
             [
              0.7777777777777778,
              "#fb9f3a"
             ],
             [
              0.8888888888888888,
              "#fdca26"
             ],
             [
              1,
              "#f0f921"
             ]
            ],
            "type": "heatmapgl"
           }
          ],
          "histogram": [
           {
            "marker": {
             "pattern": {
              "fillmode": "overlay",
              "size": 10,
              "solidity": 0.2
             }
            },
            "type": "histogram"
           }
          ],
          "histogram2d": [
           {
            "colorbar": {
             "outlinewidth": 0,
             "ticks": ""
            },
            "colorscale": [
             [
              0,
              "#0d0887"
             ],
             [
              0.1111111111111111,
              "#46039f"
             ],
             [
              0.2222222222222222,
              "#7201a8"
             ],
             [
              0.3333333333333333,
              "#9c179e"
             ],
             [
              0.4444444444444444,
              "#bd3786"
             ],
             [
              0.5555555555555556,
              "#d8576b"
             ],
             [
              0.6666666666666666,
              "#ed7953"
             ],
             [
              0.7777777777777778,
              "#fb9f3a"
             ],
             [
              0.8888888888888888,
              "#fdca26"
             ],
             [
              1,
              "#f0f921"
             ]
            ],
            "type": "histogram2d"
           }
          ],
          "histogram2dcontour": [
           {
            "colorbar": {
             "outlinewidth": 0,
             "ticks": ""
            },
            "colorscale": [
             [
              0,
              "#0d0887"
             ],
             [
              0.1111111111111111,
              "#46039f"
             ],
             [
              0.2222222222222222,
              "#7201a8"
             ],
             [
              0.3333333333333333,
              "#9c179e"
             ],
             [
              0.4444444444444444,
              "#bd3786"
             ],
             [
              0.5555555555555556,
              "#d8576b"
             ],
             [
              0.6666666666666666,
              "#ed7953"
             ],
             [
              0.7777777777777778,
              "#fb9f3a"
             ],
             [
              0.8888888888888888,
              "#fdca26"
             ],
             [
              1,
              "#f0f921"
             ]
            ],
            "type": "histogram2dcontour"
           }
          ],
          "mesh3d": [
           {
            "colorbar": {
             "outlinewidth": 0,
             "ticks": ""
            },
            "type": "mesh3d"
           }
          ],
          "parcoords": [
           {
            "line": {
             "colorbar": {
              "outlinewidth": 0,
              "ticks": ""
             }
            },
            "type": "parcoords"
           }
          ],
          "pie": [
           {
            "automargin": true,
            "type": "pie"
           }
          ],
          "scatter": [
           {
            "marker": {
             "line": {
              "color": "#283442"
             }
            },
            "type": "scatter"
           }
          ],
          "scatter3d": [
           {
            "line": {
             "colorbar": {
              "outlinewidth": 0,
              "ticks": ""
             }
            },
            "marker": {
             "colorbar": {
              "outlinewidth": 0,
              "ticks": ""
             }
            },
            "type": "scatter3d"
           }
          ],
          "scattercarpet": [
           {
            "marker": {
             "colorbar": {
              "outlinewidth": 0,
              "ticks": ""
             }
            },
            "type": "scattercarpet"
           }
          ],
          "scattergeo": [
           {
            "marker": {
             "colorbar": {
              "outlinewidth": 0,
              "ticks": ""
             }
            },
            "type": "scattergeo"
           }
          ],
          "scattergl": [
           {
            "marker": {
             "line": {
              "color": "#283442"
             }
            },
            "type": "scattergl"
           }
          ],
          "scattermapbox": [
           {
            "marker": {
             "colorbar": {
              "outlinewidth": 0,
              "ticks": ""
             }
            },
            "type": "scattermapbox"
           }
          ],
          "scatterpolar": [
           {
            "marker": {
             "colorbar": {
              "outlinewidth": 0,
              "ticks": ""
             }
            },
            "type": "scatterpolar"
           }
          ],
          "scatterpolargl": [
           {
            "marker": {
             "colorbar": {
              "outlinewidth": 0,
              "ticks": ""
             }
            },
            "type": "scatterpolargl"
           }
          ],
          "scatterternary": [
           {
            "marker": {
             "colorbar": {
              "outlinewidth": 0,
              "ticks": ""
             }
            },
            "type": "scatterternary"
           }
          ],
          "surface": [
           {
            "colorbar": {
             "outlinewidth": 0,
             "ticks": ""
            },
            "colorscale": [
             [
              0,
              "#0d0887"
             ],
             [
              0.1111111111111111,
              "#46039f"
             ],
             [
              0.2222222222222222,
              "#7201a8"
             ],
             [
              0.3333333333333333,
              "#9c179e"
             ],
             [
              0.4444444444444444,
              "#bd3786"
             ],
             [
              0.5555555555555556,
              "#d8576b"
             ],
             [
              0.6666666666666666,
              "#ed7953"
             ],
             [
              0.7777777777777778,
              "#fb9f3a"
             ],
             [
              0.8888888888888888,
              "#fdca26"
             ],
             [
              1,
              "#f0f921"
             ]
            ],
            "type": "surface"
           }
          ],
          "table": [
           {
            "cells": {
             "fill": {
              "color": "#506784"
             },
             "line": {
              "color": "rgb(17,17,17)"
             }
            },
            "header": {
             "fill": {
              "color": "#2a3f5f"
             },
             "line": {
              "color": "rgb(17,17,17)"
             }
            },
            "type": "table"
           }
          ]
         },
         "layout": {
          "annotationdefaults": {
           "arrowcolor": "#f2f5fa",
           "arrowhead": 0,
           "arrowwidth": 1
          },
          "autotypenumbers": "strict",
          "coloraxis": {
           "colorbar": {
            "outlinewidth": 0,
            "ticks": ""
           }
          },
          "colorscale": {
           "diverging": [
            [
             0,
             "#8e0152"
            ],
            [
             0.1,
             "#c51b7d"
            ],
            [
             0.2,
             "#de77ae"
            ],
            [
             0.3,
             "#f1b6da"
            ],
            [
             0.4,
             "#fde0ef"
            ],
            [
             0.5,
             "#f7f7f7"
            ],
            [
             0.6,
             "#e6f5d0"
            ],
            [
             0.7,
             "#b8e186"
            ],
            [
             0.8,
             "#7fbc41"
            ],
            [
             0.9,
             "#4d9221"
            ],
            [
             1,
             "#276419"
            ]
           ],
           "sequential": [
            [
             0,
             "#0d0887"
            ],
            [
             0.1111111111111111,
             "#46039f"
            ],
            [
             0.2222222222222222,
             "#7201a8"
            ],
            [
             0.3333333333333333,
             "#9c179e"
            ],
            [
             0.4444444444444444,
             "#bd3786"
            ],
            [
             0.5555555555555556,
             "#d8576b"
            ],
            [
             0.6666666666666666,
             "#ed7953"
            ],
            [
             0.7777777777777778,
             "#fb9f3a"
            ],
            [
             0.8888888888888888,
             "#fdca26"
            ],
            [
             1,
             "#f0f921"
            ]
           ],
           "sequentialminus": [
            [
             0,
             "#0d0887"
            ],
            [
             0.1111111111111111,
             "#46039f"
            ],
            [
             0.2222222222222222,
             "#7201a8"
            ],
            [
             0.3333333333333333,
             "#9c179e"
            ],
            [
             0.4444444444444444,
             "#bd3786"
            ],
            [
             0.5555555555555556,
             "#d8576b"
            ],
            [
             0.6666666666666666,
             "#ed7953"
            ],
            [
             0.7777777777777778,
             "#fb9f3a"
            ],
            [
             0.8888888888888888,
             "#fdca26"
            ],
            [
             1,
             "#f0f921"
            ]
           ]
          },
          "colorway": [
           "#636efa",
           "#EF553B",
           "#00cc96",
           "#ab63fa",
           "#FFA15A",
           "#19d3f3",
           "#FF6692",
           "#B6E880",
           "#FF97FF",
           "#FECB52"
          ],
          "font": {
           "color": "#f2f5fa"
          },
          "geo": {
           "bgcolor": "rgb(17,17,17)",
           "lakecolor": "rgb(17,17,17)",
           "landcolor": "rgb(17,17,17)",
           "showlakes": true,
           "showland": true,
           "subunitcolor": "#506784"
          },
          "hoverlabel": {
           "align": "left"
          },
          "hovermode": "closest",
          "mapbox": {
           "style": "dark"
          },
          "paper_bgcolor": "rgb(17,17,17)",
          "plot_bgcolor": "rgb(17,17,17)",
          "polar": {
           "angularaxis": {
            "gridcolor": "#506784",
            "linecolor": "#506784",
            "ticks": ""
           },
           "bgcolor": "rgb(17,17,17)",
           "radialaxis": {
            "gridcolor": "#506784",
            "linecolor": "#506784",
            "ticks": ""
           }
          },
          "scene": {
           "xaxis": {
            "backgroundcolor": "rgb(17,17,17)",
            "gridcolor": "#506784",
            "gridwidth": 2,
            "linecolor": "#506784",
            "showbackground": true,
            "ticks": "",
            "zerolinecolor": "#C8D4E3"
           },
           "yaxis": {
            "backgroundcolor": "rgb(17,17,17)",
            "gridcolor": "#506784",
            "gridwidth": 2,
            "linecolor": "#506784",
            "showbackground": true,
            "ticks": "",
            "zerolinecolor": "#C8D4E3"
           },
           "zaxis": {
            "backgroundcolor": "rgb(17,17,17)",
            "gridcolor": "#506784",
            "gridwidth": 2,
            "linecolor": "#506784",
            "showbackground": true,
            "ticks": "",
            "zerolinecolor": "#C8D4E3"
           }
          },
          "shapedefaults": {
           "line": {
            "color": "#f2f5fa"
           }
          },
          "sliderdefaults": {
           "bgcolor": "#C8D4E3",
           "bordercolor": "rgb(17,17,17)",
           "borderwidth": 1,
           "tickwidth": 0
          },
          "ternary": {
           "aaxis": {
            "gridcolor": "#506784",
            "linecolor": "#506784",
            "ticks": ""
           },
           "baxis": {
            "gridcolor": "#506784",
            "linecolor": "#506784",
            "ticks": ""
           },
           "bgcolor": "rgb(17,17,17)",
           "caxis": {
            "gridcolor": "#506784",
            "linecolor": "#506784",
            "ticks": ""
           }
          },
          "title": {
           "x": 0.05
          },
          "updatemenudefaults": {
           "bgcolor": "#506784",
           "borderwidth": 0
          },
          "xaxis": {
           "automargin": true,
           "gridcolor": "#283442",
           "linecolor": "#506784",
           "ticks": "",
           "title": {
            "standoff": 15
           },
           "zerolinecolor": "#283442",
           "zerolinewidth": 2
          },
          "yaxis": {
           "automargin": true,
           "gridcolor": "#283442",
           "linecolor": "#506784",
           "ticks": "",
           "title": {
            "standoff": 15
           },
           "zerolinecolor": "#283442",
           "zerolinewidth": 2
          }
         }
        },
        "title": {
         "text": "topk SHAP Importance"
        },
        "width": 1200,
        "xaxis": {
         "tickangle": -90
        }
       }
      }
     },
     "metadata": {},
     "output_type": "display_data"
    }
   ],
   "source": [
    "fig = go.Figure([go.Bar(x=importance_topk.features, y=importance_topk.shap_importance)])\n",
    "fig.update_layout(width=1200, height=500,xaxis_tickangle=-90, title=\"topk SHAP Importance\")\n"
   ]
  },
  {
   "cell_type": "code",
   "execution_count": 16,
   "metadata": {},
   "outputs": [
    {
     "name": "stdout",
     "output_type": "stream",
     "text": [
      "NO categorical feature detected\n"
     ]
    }
   ],
   "source": [
    "if X_train[best_feat].select_dtypes(exclude=np.number).shape[1]>0:\n",
    "    print(f\"categorical feature detected\")\n",
    "else: \n",
    "    print(f\"NO categorical feature detected\")"
   ]
  },
  {
   "cell_type": "code",
   "execution_count": 17,
   "metadata": {},
   "outputs": [],
   "source": [
    "\n",
    "def obj_best_feat(trial):\n",
    "\n",
    "    param = {\n",
    "        \"objective\": trial.suggest_categorical(\"objective\", [\"Logloss\"]),\n",
    "        \"colsample_bylevel\": trial.suggest_float(\"colsample_bylevel\", 0.01, 0.1),\n",
    "        \"learning_rate\": trial.suggest_float(\"learning_rate\", 0.01, 0.1),\n",
    "        \"depth\": trial.suggest_int(\"depth\", 4, 10),\n",
    "        #\"num_leaves\": trial.suggest_int(\"num_leaves\", 4, 20),\n",
    "        \"iterations\":trial.suggest_int(\"iterations\", 10,20),\n",
    "        \"l2_leaf_reg\":trial.suggest_int(\"l2_leaf_reg\", 2,10),\n",
    "        \"boosting_type\": trial.suggest_categorical(\"boosting_type\", [\"Ordered\"]),\n",
    "        \"bootstrap_type\": trial.suggest_categorical(\n",
    "            \"bootstrap_type\", [\"Bayesian\", \"Bernoulli\",\"MVS\"]\n",
    "        )\n",
    "    }\n",
    "\n",
    "    # if param[\"objective\"] == \"LogLoss\":\n",
    "    #     #\"scale_pos_weight\":y_train.value_counts()[0]/y_train.value_counts()[1],\n",
    "    #     param[\"auto_class_weights\"]=\"Balanced\"\n",
    "\n",
    "    if param[\"bootstrap_type\"] == \"Bayesian\":\n",
    "        param[\"bagging_temperature\"] = trial.suggest_float(\"bagging_temperature\", 0, 10)\n",
    "    elif param[\"bootstrap_type\"] == \"Bernoulli\":\n",
    "        param[\"subsample\"] = trial.suggest_float(\"subsample\", 0.1, 1)\n",
    "\n",
    "    gbm = CatBoostClassifier(**param)\n",
    "\n",
    "    gbm.fit(X_train[best_feat], y_train, eval_set=[(X_test[best_feat], y_test)], verbose=0, \n",
    "    early_stopping_rounds=10#,cat_features=[\"company type\"]\n",
    "    )\n",
    "\n",
    "    preds = gbm.predict(X_test[best_feat])\n",
    "    pred_labels = np.rint(preds)\n",
    "    f_one_score = f1_score(y_test, pred_labels)\n",
    "    return f_one_score"
   ]
  },
  {
   "cell_type": "code",
   "execution_count": 18,
   "metadata": {},
   "outputs": [
    {
     "name": "stderr",
     "output_type": "stream",
     "text": [
      "\u001b[32m[I 2022-07-17 13:20:16,476]\u001b[0m A new study created in memory with name: no-name-3a0b04bb-72d1-4672-985c-c08f82b5bfb6\u001b[0m\n",
      "\u001b[32m[I 2022-07-17 13:20:16,620]\u001b[0m Trial 0 finished with value: 0.0 and parameters: {'objective': 'Logloss', 'colsample_bylevel': 0.010342215674159664, 'learning_rate': 0.05067936391669443, 'depth': 7, 'iterations': 15, 'l2_leaf_reg': 2, 'boosting_type': 'Ordered', 'bootstrap_type': 'Bayesian', 'bagging_temperature': 2.2987442888684573}. Best is trial 0 with value: 0.0.\u001b[0m\n",
      "\u001b[32m[I 2022-07-17 13:20:16,830]\u001b[0m Trial 1 finished with value: 0.0 and parameters: {'objective': 'Logloss', 'colsample_bylevel': 0.011673919633035183, 'learning_rate': 0.05932287371139472, 'depth': 8, 'iterations': 20, 'l2_leaf_reg': 5, 'boosting_type': 'Ordered', 'bootstrap_type': 'Bayesian', 'bagging_temperature': 2.552438754355183}. Best is trial 0 with value: 0.0.\u001b[0m\n",
      "\u001b[32m[I 2022-07-17 13:20:17,013]\u001b[0m Trial 2 finished with value: 0.30769230769230765 and parameters: {'objective': 'Logloss', 'colsample_bylevel': 0.07216545284094432, 'learning_rate': 0.05741420523545551, 'depth': 5, 'iterations': 10, 'l2_leaf_reg': 6, 'boosting_type': 'Ordered', 'bootstrap_type': 'Bernoulli', 'subsample': 0.7168837548874798}. Best is trial 2 with value: 0.30769230769230765.\u001b[0m\n",
      "\u001b[32m[I 2022-07-17 13:20:17,293]\u001b[0m Trial 3 finished with value: 0.532871972318339 and parameters: {'objective': 'Logloss', 'colsample_bylevel': 0.08332783377061061, 'learning_rate': 0.056581947654988134, 'depth': 8, 'iterations': 12, 'l2_leaf_reg': 2, 'boosting_type': 'Ordered', 'bootstrap_type': 'Bayesian', 'bagging_temperature': 6.970198265781762}. Best is trial 3 with value: 0.532871972318339.\u001b[0m\n",
      "\u001b[32m[I 2022-07-17 13:20:17,451]\u001b[0m Trial 4 finished with value: 0.17431192660550457 and parameters: {'objective': 'Logloss', 'colsample_bylevel': 0.028565450451936085, 'learning_rate': 0.030546414366594797, 'depth': 8, 'iterations': 19, 'l2_leaf_reg': 2, 'boosting_type': 'Ordered', 'bootstrap_type': 'Bayesian', 'bagging_temperature': 1.7914943940418904}. Best is trial 3 with value: 0.532871972318339.\u001b[0m\n",
      "\u001b[32m[I 2022-07-17 13:20:17,664]\u001b[0m Trial 5 finished with value: 0.4075471698113207 and parameters: {'objective': 'Logloss', 'colsample_bylevel': 0.06130147492197547, 'learning_rate': 0.03854615474628143, 'depth': 4, 'iterations': 10, 'l2_leaf_reg': 8, 'boosting_type': 'Ordered', 'bootstrap_type': 'MVS'}. Best is trial 3 with value: 0.532871972318339.\u001b[0m\n",
      "\u001b[32m[I 2022-07-17 13:20:18,013]\u001b[0m Trial 6 finished with value: 0.5182724252491694 and parameters: {'objective': 'Logloss', 'colsample_bylevel': 0.08499118784838539, 'learning_rate': 0.03304542697783561, 'depth': 7, 'iterations': 20, 'l2_leaf_reg': 10, 'boosting_type': 'Ordered', 'bootstrap_type': 'Bernoulli', 'subsample': 0.8775635885905864}. Best is trial 3 with value: 0.532871972318339.\u001b[0m\n",
      "\u001b[32m[I 2022-07-17 13:20:18,298]\u001b[0m Trial 7 finished with value: 0.5359477124183007 and parameters: {'objective': 'Logloss', 'colsample_bylevel': 0.03571500374814873, 'learning_rate': 0.0930242580688313, 'depth': 9, 'iterations': 20, 'l2_leaf_reg': 2, 'boosting_type': 'Ordered', 'bootstrap_type': 'Bayesian', 'bagging_temperature': 1.8154645808826941}. Best is trial 7 with value: 0.5359477124183007.\u001b[0m\n",
      "\u001b[32m[I 2022-07-17 13:20:18,657]\u001b[0m Trial 8 finished with value: 0.5647840531561462 and parameters: {'objective': 'Logloss', 'colsample_bylevel': 0.047240325007056536, 'learning_rate': 0.07121915189064094, 'depth': 9, 'iterations': 13, 'l2_leaf_reg': 6, 'boosting_type': 'Ordered', 'bootstrap_type': 'Bayesian', 'bagging_temperature': 3.9303116774174827}. Best is trial 8 with value: 0.5647840531561462.\u001b[0m\n",
      "\u001b[32m[I 2022-07-17 13:20:18,767]\u001b[0m Trial 9 finished with value: 0.0 and parameters: {'objective': 'Logloss', 'colsample_bylevel': 0.013494451721449075, 'learning_rate': 0.07022713983544832, 'depth': 9, 'iterations': 13, 'l2_leaf_reg': 8, 'boosting_type': 'Ordered', 'bootstrap_type': 'MVS'}. Best is trial 8 with value: 0.5647840531561462.\u001b[0m\n",
      "\u001b[32m[I 2022-07-17 13:20:20,699]\u001b[0m Trial 10 finished with value: 0.4912280701754386 and parameters: {'objective': 'Logloss', 'colsample_bylevel': 0.09996372260896379, 'learning_rate': 0.014036411223518376, 'depth': 10, 'iterations': 17, 'l2_leaf_reg': 4, 'boosting_type': 'Ordered', 'bootstrap_type': 'Bernoulli', 'subsample': 0.14800750999070816}. Best is trial 8 with value: 0.5647840531561462.\u001b[0m\n",
      "\u001b[32m[I 2022-07-17 13:20:21,068]\u001b[0m Trial 11 finished with value: 0.5576923076923077 and parameters: {'objective': 'Logloss', 'colsample_bylevel': 0.042170788319466544, 'learning_rate': 0.09703920660675693, 'depth': 10, 'iterations': 15, 'l2_leaf_reg': 4, 'boosting_type': 'Ordered', 'bootstrap_type': 'Bayesian', 'bagging_temperature': 5.590907858561259}. Best is trial 8 with value: 0.5647840531561462.\u001b[0m\n",
      "\u001b[32m[I 2022-07-17 13:20:21,553]\u001b[0m Trial 12 finished with value: 0.572347266881029 and parameters: {'objective': 'Logloss', 'colsample_bylevel': 0.04548678845335658, 'learning_rate': 0.09748482400160707, 'depth': 10, 'iterations': 15, 'l2_leaf_reg': 4, 'boosting_type': 'Ordered', 'bootstrap_type': 'Bayesian', 'bagging_temperature': 5.867240378212259}. Best is trial 12 with value: 0.572347266881029.\u001b[0m\n",
      "\u001b[32m[I 2022-07-17 13:20:22,028]\u001b[0m Trial 13 finished with value: 0.38910505836575876 and parameters: {'objective': 'Logloss', 'colsample_bylevel': 0.05094727710977232, 'learning_rate': 0.07725932867015887, 'depth': 10, 'iterations': 13, 'l2_leaf_reg': 7, 'boosting_type': 'Ordered', 'bootstrap_type': 'Bayesian', 'bagging_temperature': 9.7520276986987}. Best is trial 12 with value: 0.572347266881029.\u001b[0m\n",
      "\u001b[32m[I 2022-07-17 13:20:22,519]\u001b[0m Trial 14 finished with value: 0.6607669616519174 and parameters: {'objective': 'Logloss', 'colsample_bylevel': 0.05728975074044102, 'learning_rate': 0.08278268102682308, 'depth': 9, 'iterations': 17, 'l2_leaf_reg': 4, 'boosting_type': 'Ordered', 'bootstrap_type': 'MVS'}. Best is trial 14 with value: 0.6607669616519174.\u001b[0m\n",
      "\u001b[32m[I 2022-07-17 13:20:22,786]\u001b[0m Trial 15 finished with value: 0.5686900958466453 and parameters: {'objective': 'Logloss', 'colsample_bylevel': 0.061973194661929354, 'learning_rate': 0.08533914664965556, 'depth': 6, 'iterations': 17, 'l2_leaf_reg': 4, 'boosting_type': 'Ordered', 'bootstrap_type': 'MVS'}. Best is trial 14 with value: 0.6607669616519174.\u001b[0m\n",
      "\u001b[32m[I 2022-07-17 13:20:22,978]\u001b[0m Trial 16 finished with value: 0.3565891472868217 and parameters: {'objective': 'Logloss', 'colsample_bylevel': 0.02936312058082299, 'learning_rate': 0.09914623587152659, 'depth': 9, 'iterations': 17, 'l2_leaf_reg': 4, 'boosting_type': 'Ordered', 'bootstrap_type': 'MVS'}. Best is trial 14 with value: 0.6607669616519174.\u001b[0m\n",
      "\u001b[32m[I 2022-07-17 13:20:23,740]\u001b[0m Trial 17 finished with value: 0.6105919003115265 and parameters: {'objective': 'Logloss', 'colsample_bylevel': 0.06285728449628614, 'learning_rate': 0.08564823557108223, 'depth': 10, 'iterations': 16, 'l2_leaf_reg': 3, 'boosting_type': 'Ordered', 'bootstrap_type': 'MVS'}. Best is trial 14 with value: 0.6607669616519174.\u001b[0m\n",
      "\u001b[32m[I 2022-07-17 13:20:24,316]\u001b[0m Trial 18 finished with value: 0.653061224489796 and parameters: {'objective': 'Logloss', 'colsample_bylevel': 0.06955201183816978, 'learning_rate': 0.08370184611411029, 'depth': 8, 'iterations': 18, 'l2_leaf_reg': 3, 'boosting_type': 'Ordered', 'bootstrap_type': 'MVS'}. Best is trial 14 with value: 0.6607669616519174.\u001b[0m\n",
      "\u001b[32m[I 2022-07-17 13:20:24,640]\u001b[0m Trial 19 finished with value: 0.5907692307692307 and parameters: {'objective': 'Logloss', 'colsample_bylevel': 0.07342688819360434, 'learning_rate': 0.08128574927295999, 'depth': 6, 'iterations': 18, 'l2_leaf_reg': 5, 'boosting_type': 'Ordered', 'bootstrap_type': 'MVS'}. Best is trial 14 with value: 0.6607669616519174.\u001b[0m\n",
      "\u001b[32m[I 2022-07-17 13:20:25,044]\u001b[0m Trial 20 finished with value: 0.6049382716049383 and parameters: {'objective': 'Logloss', 'colsample_bylevel': 0.07435652490260414, 'learning_rate': 0.06923265835108389, 'depth': 8, 'iterations': 18, 'l2_leaf_reg': 3, 'boosting_type': 'Ordered', 'bootstrap_type': 'MVS'}. Best is trial 14 with value: 0.6607669616519174.\u001b[0m\n",
      "\u001b[32m[I 2022-07-17 13:20:26,158]\u001b[0m Trial 21 finished with value: 0.6979472140762464 and parameters: {'objective': 'Logloss', 'colsample_bylevel': 0.05995038848149804, 'learning_rate': 0.08672376128392792, 'depth': 9, 'iterations': 16, 'l2_leaf_reg': 3, 'boosting_type': 'Ordered', 'bootstrap_type': 'MVS'}. Best is trial 21 with value: 0.6979472140762464.\u001b[0m\n",
      "\u001b[32m[I 2022-07-17 13:20:27,063]\u001b[0m Trial 22 finished with value: 0.63125 and parameters: {'objective': 'Logloss', 'colsample_bylevel': 0.05496994325331722, 'learning_rate': 0.08988711868910516, 'depth': 9, 'iterations': 16, 'l2_leaf_reg': 3, 'boosting_type': 'Ordered', 'bootstrap_type': 'MVS'}. Best is trial 21 with value: 0.6979472140762464.\u001b[0m\n",
      "\u001b[32m[I 2022-07-17 13:20:28,013]\u001b[0m Trial 23 finished with value: 0.6449704142011833 and parameters: {'objective': 'Logloss', 'colsample_bylevel': 0.06591153475012188, 'learning_rate': 0.07631805782553425, 'depth': 8, 'iterations': 18, 'l2_leaf_reg': 5, 'boosting_type': 'Ordered', 'bootstrap_type': 'MVS'}. Best is trial 21 with value: 0.6979472140762464.\u001b[0m\n",
      "\u001b[32m[I 2022-07-17 13:20:28,636]\u001b[0m Trial 24 finished with value: 0.5777777777777778 and parameters: {'objective': 'Logloss', 'colsample_bylevel': 0.05534769954628005, 'learning_rate': 0.06630888041114114, 'depth': 7, 'iterations': 16, 'l2_leaf_reg': 3, 'boosting_type': 'Ordered', 'bootstrap_type': 'MVS'}. Best is trial 21 with value: 0.6979472140762464.\u001b[0m\n",
      "\u001b[32m[I 2022-07-17 13:20:29,609]\u001b[0m Trial 25 finished with value: 0.7188405797101449 and parameters: {'objective': 'Logloss', 'colsample_bylevel': 0.08273051529956442, 'learning_rate': 0.08698932274609525, 'depth': 9, 'iterations': 19, 'l2_leaf_reg': 3, 'boosting_type': 'Ordered', 'bootstrap_type': 'MVS'}. Best is trial 25 with value: 0.7188405797101449.\u001b[0m\n",
      "\u001b[32m[I 2022-07-17 13:20:30,831]\u001b[0m Trial 26 finished with value: 0.6607142857142857 and parameters: {'objective': 'Logloss', 'colsample_bylevel': 0.08558264535796711, 'learning_rate': 0.08899744797953667, 'depth': 9, 'iterations': 19, 'l2_leaf_reg': 5, 'boosting_type': 'Ordered', 'bootstrap_type': 'MVS'}. Best is trial 25 with value: 0.7188405797101449.\u001b[0m\n",
      "\u001b[32m[I 2022-07-17 13:20:31,693]\u001b[0m Trial 27 finished with value: 0.6392961876832844 and parameters: {'objective': 'Logloss', 'colsample_bylevel': 0.0987707614212106, 'learning_rate': 0.06492382065140273, 'depth': 9, 'iterations': 19, 'l2_leaf_reg': 3, 'boosting_type': 'Ordered', 'bootstrap_type': 'MVS'}. Best is trial 25 with value: 0.7188405797101449.\u001b[0m\n",
      "\u001b[32m[I 2022-07-17 13:20:31,949]\u001b[0m Trial 28 finished with value: 0.4913494809688582 and parameters: {'objective': 'Logloss', 'colsample_bylevel': 0.08950098039787857, 'learning_rate': 0.04897292815184584, 'depth': 7, 'iterations': 14, 'l2_leaf_reg': 10, 'boosting_type': 'Ordered', 'bootstrap_type': 'Bernoulli', 'subsample': 0.33899287303742365}. Best is trial 25 with value: 0.7188405797101449.\u001b[0m\n",
      "\u001b[32m[I 2022-07-17 13:20:33,256]\u001b[0m Trial 29 finished with value: 0.689655172413793 and parameters: {'objective': 'Logloss', 'colsample_bylevel': 0.0771165189626268, 'learning_rate': 0.0775739330500488, 'depth': 10, 'iterations': 17, 'l2_leaf_reg': 2, 'boosting_type': 'Ordered', 'bootstrap_type': 'MVS'}. Best is trial 25 with value: 0.7188405797101449.\u001b[0m\n",
      "\u001b[32m[I 2022-07-17 13:20:34,345]\u001b[0m Trial 30 finished with value: 0.6976744186046512 and parameters: {'objective': 'Logloss', 'colsample_bylevel': 0.0820770813230687, 'learning_rate': 0.07711457321477277, 'depth': 10, 'iterations': 16, 'l2_leaf_reg': 2, 'boosting_type': 'Ordered', 'bootstrap_type': 'MVS'}. Best is trial 25 with value: 0.7188405797101449.\u001b[0m\n",
      "\u001b[32m[I 2022-07-17 13:20:35,757]\u001b[0m Trial 31 finished with value: 0.6863905325443788 and parameters: {'objective': 'Logloss', 'colsample_bylevel': 0.07823692561916709, 'learning_rate': 0.07595388670670453, 'depth': 10, 'iterations': 16, 'l2_leaf_reg': 2, 'boosting_type': 'Ordered', 'bootstrap_type': 'MVS'}. Best is trial 25 with value: 0.7188405797101449.\u001b[0m\n",
      "\u001b[32m[I 2022-07-17 13:20:37,304]\u001b[0m Trial 32 finished with value: 0.695906432748538 and parameters: {'objective': 'Logloss', 'colsample_bylevel': 0.09441609346327468, 'learning_rate': 0.04929995859389849, 'depth': 10, 'iterations': 14, 'l2_leaf_reg': 2, 'boosting_type': 'Ordered', 'bootstrap_type': 'MVS'}. Best is trial 25 with value: 0.7188405797101449.\u001b[0m\n",
      "\u001b[32m[I 2022-07-17 13:20:39,063]\u001b[0m Trial 33 finished with value: 0.6706231454005935 and parameters: {'objective': 'Logloss', 'colsample_bylevel': 0.09231066350727916, 'learning_rate': 0.04925191941953437, 'depth': 10, 'iterations': 14, 'l2_leaf_reg': 2, 'boosting_type': 'Ordered', 'bootstrap_type': 'MVS'}. Best is trial 25 with value: 0.7188405797101449.\u001b[0m\n",
      "\u001b[32m[I 2022-07-17 13:20:40,191]\u001b[0m Trial 34 finished with value: 0.672566371681416 and parameters: {'objective': 'Logloss', 'colsample_bylevel': 0.09532777950270761, 'learning_rate': 0.06369774603025004, 'depth': 10, 'iterations': 14, 'l2_leaf_reg': 2, 'boosting_type': 'Ordered', 'bootstrap_type': 'MVS'}. Best is trial 25 with value: 0.7188405797101449.\u001b[0m\n",
      "\u001b[32m[I 2022-07-17 13:20:40,747]\u001b[0m Trial 35 finished with value: 0.611111111111111 and parameters: {'objective': 'Logloss', 'colsample_bylevel': 0.08027765830663601, 'learning_rate': 0.045284148396937396, 'depth': 9, 'iterations': 15, 'l2_leaf_reg': 3, 'boosting_type': 'Ordered', 'bootstrap_type': 'Bernoulli', 'subsample': 0.5272933811990154}. Best is trial 25 with value: 0.7188405797101449.\u001b[0m\n",
      "\u001b[32m[I 2022-07-17 13:20:41,253]\u001b[0m Trial 36 finished with value: 0.6322188449848024 and parameters: {'objective': 'Logloss', 'colsample_bylevel': 0.08899800160247169, 'learning_rate': 0.05512222708918263, 'depth': 8, 'iterations': 11, 'l2_leaf_reg': 2, 'boosting_type': 'Ordered', 'bootstrap_type': 'MVS'}. Best is trial 25 with value: 0.7188405797101449.\u001b[0m\n",
      "\u001b[32m[I 2022-07-17 13:20:41,418]\u001b[0m Trial 37 finished with value: 0.4128113879003559 and parameters: {'objective': 'Logloss', 'colsample_bylevel': 0.08188411717903935, 'learning_rate': 0.06054765964342783, 'depth': 4, 'iterations': 12, 'l2_leaf_reg': 6, 'boosting_type': 'Ordered', 'bootstrap_type': 'MVS'}. Best is trial 25 with value: 0.7188405797101449.\u001b[0m\n",
      "\u001b[32m[I 2022-07-17 13:20:41,728]\u001b[0m Trial 38 finished with value: 0.5825242718446602 and parameters: {'objective': 'Logloss', 'colsample_bylevel': 0.07000674631535224, 'learning_rate': 0.04404527216035299, 'depth': 8, 'iterations': 14, 'l2_leaf_reg': 2, 'boosting_type': 'Ordered', 'bootstrap_type': 'MVS'}. Best is trial 25 with value: 0.7188405797101449.\u001b[0m\n",
      "\u001b[32m[I 2022-07-17 13:20:42,010]\u001b[0m Trial 39 finished with value: 0.5161290322580644 and parameters: {'objective': 'Logloss', 'colsample_bylevel': 0.09414234489785886, 'learning_rate': 0.020923710305993853, 'depth': 6, 'iterations': 12, 'l2_leaf_reg': 3, 'boosting_type': 'Ordered', 'bootstrap_type': 'Bernoulli', 'subsample': 0.9774588654871371}. Best is trial 25 with value: 0.7188405797101449.\u001b[0m\n",
      "\u001b[32m[I 2022-07-17 13:20:42,529]\u001b[0m Trial 40 finished with value: 0.5146579804560261 and parameters: {'objective': 'Logloss', 'colsample_bylevel': 0.08689913276265193, 'learning_rate': 0.07293429374662878, 'depth': 5, 'iterations': 19, 'l2_leaf_reg': 2, 'boosting_type': 'Ordered', 'bootstrap_type': 'MVS'}. Best is trial 25 with value: 0.7188405797101449.\u001b[0m\n",
      "\u001b[32m[I 2022-07-17 13:20:44,607]\u001b[0m Trial 41 finished with value: 0.6971428571428572 and parameters: {'objective': 'Logloss', 'colsample_bylevel': 0.07641769790920595, 'learning_rate': 0.09361261524404445, 'depth': 10, 'iterations': 16, 'l2_leaf_reg': 2, 'boosting_type': 'Ordered', 'bootstrap_type': 'MVS'}. Best is trial 25 with value: 0.7188405797101449.\u001b[0m\n",
      "\u001b[32m[I 2022-07-17 13:20:46,928]\u001b[0m Trial 42 finished with value: 0.6786786786786787 and parameters: {'objective': 'Logloss', 'colsample_bylevel': 0.08283277322547773, 'learning_rate': 0.09238726769285978, 'depth': 10, 'iterations': 15, 'l2_leaf_reg': 2, 'boosting_type': 'Ordered', 'bootstrap_type': 'MVS'}. Best is trial 25 with value: 0.7188405797101449.\u001b[0m\n",
      "\u001b[32m[I 2022-07-17 13:20:48,066]\u001b[0m Trial 43 finished with value: 0.6468842729970327 and parameters: {'objective': 'Logloss', 'colsample_bylevel': 0.07854367825409295, 'learning_rate': 0.0938897963958361, 'depth': 9, 'iterations': 16, 'l2_leaf_reg': 9, 'boosting_type': 'Ordered', 'bootstrap_type': 'MVS'}. Best is trial 25 with value: 0.7188405797101449.\u001b[0m\n",
      "\u001b[32m[I 2022-07-17 13:20:49,272]\u001b[0m Trial 44 finished with value: 0.6411764705882353 and parameters: {'objective': 'Logloss', 'colsample_bylevel': 0.06831685520199217, 'learning_rate': 0.036575081261683365, 'depth': 10, 'iterations': 20, 'l2_leaf_reg': 3, 'boosting_type': 'Ordered', 'bootstrap_type': 'MVS'}. Best is trial 25 with value: 0.7188405797101449.\u001b[0m\n",
      "\u001b[32m[I 2022-07-17 13:20:50,373]\u001b[0m Trial 45 finished with value: 0.7058823529411765 and parameters: {'objective': 'Logloss', 'colsample_bylevel': 0.09143465216330629, 'learning_rate': 0.08899633471808129, 'depth': 10, 'iterations': 13, 'l2_leaf_reg': 2, 'boosting_type': 'Ordered', 'bootstrap_type': 'MVS'}. Best is trial 25 with value: 0.7188405797101449.\u001b[0m\n",
      "\u001b[32m[I 2022-07-17 13:20:50,800]\u001b[0m Trial 46 finished with value: 0.45985401459854014 and parameters: {'objective': 'Logloss', 'colsample_bylevel': 0.07595509042329958, 'learning_rate': 0.08883595367591915, 'depth': 9, 'iterations': 11, 'l2_leaf_reg': 3, 'boosting_type': 'Ordered', 'bootstrap_type': 'Bayesian', 'bagging_temperature': 9.994394890629687}. Best is trial 25 with value: 0.7188405797101449.\u001b[0m\n",
      "\u001b[32m[I 2022-07-17 13:20:51,428]\u001b[0m Trial 47 finished with value: 0.6512968299711815 and parameters: {'objective': 'Logloss', 'colsample_bylevel': 0.09127358343811694, 'learning_rate': 0.09440558350032315, 'depth': 9, 'iterations': 15, 'l2_leaf_reg': 4, 'boosting_type': 'Ordered', 'bootstrap_type': 'Bernoulli', 'subsample': 0.5039560205920699}. Best is trial 25 with value: 0.7188405797101449.\u001b[0m\n",
      "\u001b[32m[I 2022-07-17 13:20:52,470]\u001b[0m Trial 48 finished with value: 0.6646525679758308 and parameters: {'objective': 'Logloss', 'colsample_bylevel': 0.08588074792215364, 'learning_rate': 0.09964177592966605, 'depth': 10, 'iterations': 13, 'l2_leaf_reg': 7, 'boosting_type': 'Ordered', 'bootstrap_type': 'MVS'}. Best is trial 25 with value: 0.7188405797101449.\u001b[0m\n",
      "\u001b[32m[I 2022-07-17 13:20:52,634]\u001b[0m Trial 49 finished with value: 0.07766990291262135 and parameters: {'objective': 'Logloss', 'colsample_bylevel': 0.01939947115340141, 'learning_rate': 0.08837347447309009, 'depth': 10, 'iterations': 16, 'l2_leaf_reg': 2, 'boosting_type': 'Ordered', 'bootstrap_type': 'Bayesian', 'bagging_temperature': 0.004031951477409201}. Best is trial 25 with value: 0.7188405797101449.\u001b[0m\n"
     ]
    }
   ],
   "source": [
    "study2 = optuna.create_study(direction=\"maximize\")\n",
    "study2.optimize(obj_best_feat, n_trials=50, timeout=600)"
   ]
  },
  {
   "cell_type": "code",
   "execution_count": 19,
   "metadata": {},
   "outputs": [
    {
     "name": "stdout",
     "output_type": "stream",
     "text": [
      "Number of finished trials: 50\n",
      "Best trial:\n",
      "  Value: 0.7188405797101449\n",
      "  Params: \n",
      "{'objective': 'Logloss', 'colsample_bylevel': 0.08273051529956442, 'learning_rate': 0.08698932274609525, 'depth': 9, 'iterations': 19, 'l2_leaf_reg': 3, 'boosting_type': 'Ordered', 'bootstrap_type': 'MVS'}\n"
     ]
    }
   ],
   "source": [
    "print(\"Number of finished trials: {}\".format(len(study2.trials)))\n",
    "\n",
    "print(\"Best trial:\")\n",
    "trial2 = study2.best_trial\n",
    "\n",
    "print(\"  Value: {}\".format(trial2.value))\n",
    "\n",
    "best_params2={}\n",
    "print(\"  Params: \")\n",
    "for key, value in trial2.params.items():\n",
    "    best_params2[key]=value\n",
    "print(best_params2)"
   ]
  },
  {
   "cell_type": "code",
   "execution_count": 20,
   "metadata": {},
   "outputs": [],
   "source": [
    "extra_params = {\n",
    "    #\"cat_features\":[\"company type\"],\n",
    "    #scale_pos_weight is supported only for binary classification Logloss loss\n",
    "    #\"scale_pos_weight\":y_train.value_counts()[0]/y_train.value_counts()[1] \n",
    "    #\"auto_class_weights\":\"Balanced\"\n",
    "    }\n",
    "\n",
    "best_params2 = {**best_params2, **extra_params}"
   ]
  },
  {
   "cell_type": "code",
   "execution_count": 21,
   "metadata": {},
   "outputs": [
    {
     "name": "stdout",
     "output_type": "stream",
     "text": [
      "0:\tlearn: 0.5475267\ttotal: 56.8ms\tremaining: 1.02s\n",
      "1:\tlearn: 0.4323812\ttotal: 95.9ms\tremaining: 815ms\n",
      "2:\tlearn: 0.3567725\ttotal: 129ms\tremaining: 690ms\n",
      "3:\tlearn: 0.3074185\ttotal: 133ms\tremaining: 497ms\n",
      "4:\tlearn: 0.2667475\ttotal: 180ms\tremaining: 505ms\n",
      "5:\tlearn: 0.2345443\ttotal: 228ms\tremaining: 495ms\n",
      "6:\tlearn: 0.2099096\ttotal: 269ms\tremaining: 461ms\n",
      "7:\tlearn: 0.1909203\ttotal: 312ms\tremaining: 429ms\n",
      "8:\tlearn: 0.1798175\ttotal: 353ms\tremaining: 392ms\n",
      "9:\tlearn: 0.1661472\ttotal: 371ms\tremaining: 334ms\n",
      "10:\tlearn: 0.1549004\ttotal: 400ms\tremaining: 291ms\n",
      "11:\tlearn: 0.1444886\ttotal: 428ms\tremaining: 250ms\n",
      "12:\tlearn: 0.1353838\ttotal: 468ms\tremaining: 216ms\n",
      "13:\tlearn: 0.1301142\ttotal: 516ms\tremaining: 184ms\n",
      "14:\tlearn: 0.1254040\ttotal: 561ms\tremaining: 150ms\n",
      "15:\tlearn: 0.1196801\ttotal: 600ms\tremaining: 112ms\n",
      "16:\tlearn: 0.1141770\ttotal: 636ms\tremaining: 74.9ms\n",
      "17:\tlearn: 0.1109095\ttotal: 686ms\tremaining: 38.1ms\n",
      "18:\tlearn: 0.1071412\ttotal: 736ms\tremaining: 0us\n"
     ]
    }
   ],
   "source": [
    "mod3 = CatBoostClassifier(**best_params2)\n",
    "\n",
    "mod3.fit(X_train[best_feat],y_train)\n",
    "\n",
    "# Get predicted probabilities for each class\n",
    "pred_train_cat3 = mod3.predict_proba(X_train[best_feat])\n",
    "pred_test_cat3 = mod3.predict_proba(X_test[best_feat])"
   ]
  },
  {
   "cell_type": "code",
   "execution_count": 22,
   "metadata": {},
   "outputs": [
    {
     "name": "stdout",
     "output_type": "stream",
     "text": [
      "Precision_Score: 0.9246376811594202,                Recall Score: 0.6949891067538126,                f1_score: 0.7935323383084577,\n",
      "                confusion matrix: \n",
      "[[4569   26]\n",
      " [ 140  319]]\n",
      "                classification report: \n",
      "              precision    recall  f1-score   support\n",
      "\n",
      "           0       0.97      0.99      0.98      4595\n",
      "           1       0.92      0.69      0.79       459\n",
      "\n",
      "    accuracy                           0.97      5054\n",
      "   macro avg       0.95      0.84      0.89      5054\n",
      "weighted avg       0.97      0.97      0.97      5054\n",
      "\n",
      "Precision_Score: 0.8378378378378378,                Recall Score: 0.6294416243654822,                f1_score: 0.7188405797101449,\n",
      "                confusion matrix: \n",
      "[[1945   24]\n",
      " [  73  124]]\n",
      "                classification report: \n",
      "              precision    recall  f1-score   support\n",
      "\n",
      "           0       0.96      0.99      0.98      1969\n",
      "           1       0.84      0.63      0.72       197\n",
      "\n",
      "    accuracy                           0.96      2166\n",
      "   macro avg       0.90      0.81      0.85      2166\n",
      "weighted avg       0.95      0.96      0.95      2166\n",
      "\n"
     ]
    },
    {
     "data": {
      "text/plain": [
       "<sklearn.metrics._plot.precision_recall_curve.PrecisionRecallDisplay at 0x12bcc1f10>"
      ]
     },
     "execution_count": 22,
     "metadata": {},
     "output_type": "execute_result"
    },
    {
     "data": {
      "image/png": "[encoded data removed]",
      "text/plain": [
       "<Figure size 432x288 with 1 Axes>"
      ]
     },
     "metadata": {
      "needs_background": "light"
     },
     "output_type": "display_data"
    },
    {
     "data": {
      "image/png": "[encoded data removed]",
      "text/plain": [
       "<Figure size 432x288 with 1 Axes>"
      ]
     },
     "metadata": {
      "needs_background": "light"
     },
     "output_type": "display_data"
    }
   ],
   "source": [
    "model_performance(y_pred=pred_train_cat3,y_true=y_train,threshold=0.5,\n",
    "title=\"catboost:TRAIN_BEST_FEAT\",model_type=\"catboost\")\n",
    "\n",
    "model_performance(y_pred=pred_test_cat3,y_true=y_test,threshold=0.5,\n",
    "title=\"catboost:TEST_BEST_FEAT\",model_type=\"catboost\")\n"
   ]
  },
  {
   "cell_type": "code",
   "execution_count": 28,
   "metadata": {},
   "outputs": [
    {
     "name": "stdout",
     "output_type": "stream",
     "text": [
      "Precision_Score: 0.0,                Recall Score: 0.0,                f1_score: 0.0,\n",
      "                confusion matrix: \n",
      "[[47  0]\n",
      " [ 3  0]]\n",
      "                classification report: \n",
      "              precision    recall  f1-score   support\n",
      "\n",
      "           0       0.94      1.00      0.97        47\n",
      "           1       0.00      0.00      0.00         3\n",
      "\n",
      "    accuracy                           0.94        50\n",
      "   macro avg       0.47      0.50      0.48        50\n",
      "weighted avg       0.88      0.94      0.91        50\n",
      "\n"
     ]
    },
    {
     "name": "stderr",
     "output_type": "stream",
     "text": [
      "/Users/convergeml/engineering/casestudy/bankruptcy_prediction/.venv/lib/python3.8/site-packages/sklearn/metrics/_classification.py:1327: UndefinedMetricWarning:\n",
      "\n",
      "Precision is ill-defined and being set to 0.0 due to no predicted samples. Use `zero_division` parameter to control this behavior.\n",
      "\n",
      "/Users/convergeml/engineering/casestudy/bankruptcy_prediction/.venv/lib/python3.8/site-packages/sklearn/metrics/_classification.py:1327: UndefinedMetricWarning:\n",
      "\n",
      "Precision and F-score are ill-defined and being set to 0.0 in labels with no predicted samples. Use `zero_division` parameter to control this behavior.\n",
      "\n",
      "/Users/convergeml/engineering/casestudy/bankruptcy_prediction/.venv/lib/python3.8/site-packages/sklearn/metrics/_classification.py:1327: UndefinedMetricWarning:\n",
      "\n",
      "Precision and F-score are ill-defined and being set to 0.0 in labels with no predicted samples. Use `zero_division` parameter to control this behavior.\n",
      "\n",
      "/Users/convergeml/engineering/casestudy/bankruptcy_prediction/.venv/lib/python3.8/site-packages/sklearn/metrics/_classification.py:1327: UndefinedMetricWarning:\n",
      "\n",
      "Precision and F-score are ill-defined and being set to 0.0 in labels with no predicted samples. Use `zero_division` parameter to control this behavior.\n",
      "\n"
     ]
    },
    {
     "data": {
      "text/plain": [
       "<sklearn.metrics._plot.precision_recall_curve.PrecisionRecallDisplay at 0x12f5ae040>"
      ]
     },
     "execution_count": 28,
     "metadata": {},
     "output_type": "execute_result"
    },
    {
     "data": {
      "image/png": "[encoded data removed]",
      "text/plain": [
       "<Figure size 432x288 with 1 Axes>"
      ]
     },
     "metadata": {
      "needs_background": "light"
     },
     "output_type": "display_data"
    }
   ],
   "source": [
    "holdout_df = holdout.drop(target,axis = 1)[best_feat]\n",
    "pred_holdout_cat = mod3.predict_proba(holdout_df)\n",
    "model_performance(y_pred=pred_holdout_cat,y_true=holdout[target],threshold=0.5,\n",
    "title=\"catboost:HOLDOUT\",model_type=\"catboost\")\n"
   ]
  },
  {
   "cell_type": "code",
   "execution_count": null,
   "metadata": {},
   "outputs": [],
   "source": []
  }
 ],
 "metadata": {
  "kernelspec": {
   "display_name": "Python 3.8.13 ('.venv': poetry)",
   "language": "python",
   "name": "python3"
  },
  "language_info": {
   "codemirror_mode": {
    "name": "ipython",
    "version": 3
   },
   "file_extension": ".py",
   "mimetype": "text/x-python",
   "name": "python",
   "nbconvert_exporter": "python",
   "pygments_lexer": "ipython3",
   "version": "3.8.13"
  },
  "orig_nbformat": 4,
  "vscode": {
   "interpreter": {
    "hash": "05847f6b86325b7c07c4893522e3792f000a04dad028bba3837ffd16cde0f48c"
   }
  }
 },
 "nbformat": 4,
 "nbformat_minor": 2
}
