{
 "cells": [
  {
   "cell_type": "markdown",
   "metadata": {},
   "source": [
    "## Case Study (Predict Bankruptcy)"
   ]
  },
  {
   "cell_type": "code",
   "execution_count": 139,
   "metadata": {},
   "outputs": [],
   "source": [
    "# installing packages\n",
    "\n",
    "import pandas as pd\n",
    "import numpy as np\n",
    "import sys\n",
    "# for visualisation\n",
    "import plotly.io as pio\n",
    "pio.templates.default = \"plotly_dark\"\n",
    "import plotly.graph_objects as go\n",
    "from plotly.subplots import make_subplots\n",
    "import missingno as msn\n",
    "import matplotlib.pyplot as plt\n",
    "\n",
    "# type annotations\n",
    "from typing import Tuple, Optional\n",
    "\n",
    "# for modelling \n",
    "import lightgbm as lgb\n",
    "from scipy.stats import pointbiserialr\n",
    "\n",
    "from sklearn.metrics import PrecisionRecallDisplay, precision_score,recall_score,confusion_matrix\n",
    "import shap"
   ]
  },
  {
   "cell_type": "code",
   "execution_count": 2,
   "metadata": {},
   "outputs": [],
   "source": [
    "# setting display constraints\n",
    "pd.options.display.max_columns = 100\n",
    "pd.options.display.max_rows = 100\n",
    "pd.options.display.max_colwidth = 100"
   ]
  },
  {
   "cell_type": "code",
   "execution_count": 3,
   "metadata": {},
   "outputs": [],
   "source": [
    "def read_xlsx(path: str, sheet_name: str) -> pd.DataFrame:\n",
    "    \"\"\"\n",
    "    This function read the XLSX files given a sheetname \n",
    "    \"\"\"\n",
    "    try:\n",
    "        data = pd.read_excel(open(path,\"rb\"), sheet_name=sheet_name)\n",
    "    except FileNotFoundError:\n",
    "        print(\"file not found\")\n",
    "    return data\n"
   ]
  },
  {
   "cell_type": "code",
   "execution_count": 4,
   "metadata": {},
   "outputs": [],
   "source": [
    "path = \"../data/business_bankruptcy_prediction.xlsx\"\n",
    "data_sheet = \"data\"\n",
    "target=\"Bankruptcy\"\n",
    "\n",
    "data = read_xlsx(path=path, sheet_name=data_sheet)\n",
    "data.columns = data.columns.str.strip() "
   ]
  },
  {
   "cell_type": "code",
   "execution_count": 5,
   "metadata": {},
   "outputs": [
    {
     "name": "stdout",
     "output_type": "stream",
     "text": [
      "<class 'pandas.core.frame.DataFrame'>\n",
      "RangeIndex: 6819 entries, 0 to 6818\n",
      "Data columns (total 97 columns):\n",
      " #   Column                                                   Non-Null Count  Dtype  \n",
      "---  ------                                                   --------------  -----  \n",
      " 0   ROA(C) before interest and depreciation before interest  6819 non-null   float64\n",
      " 1   ROA(A) before interest and % after tax                   6819 non-null   float64\n",
      " 2   ROA(B) before interest and depreciation after tax        6818 non-null   float64\n",
      " 3   Operating Gross Margin                                   6819 non-null   float64\n",
      " 4   Realized Sales Gross Margin                              6818 non-null   object \n",
      " 5   Operating Profit Rate                                    6819 non-null   float64\n",
      " 6   Pre-tax net Interest Rate                                6819 non-null   float64\n",
      " 7   After-tax net Interest Rate                              6819 non-null   float64\n",
      " 8   Non-industry income and expenditure/revenue              6819 non-null   float64\n",
      " 9   Continuous interest rate (after tax)                     6819 non-null   float64\n",
      " 10  Operating Expense Rate                                   6819 non-null   float64\n",
      " 11  Research and development expense rate                    6819 non-null   float64\n",
      " 12  Cash flow rate                                           6819 non-null   float64\n",
      " 13  Interest-bearing debt interest rate                      6819 non-null   float64\n",
      " 14  Tax rate (A)                                             6819 non-null   float64\n",
      " 15  Net Value Per Share (B)                                  6819 non-null   float64\n",
      " 16  Net Value Per Share (A)                                  6819 non-null   float64\n",
      " 17  Net Value Per Share (C)                                  6818 non-null   float64\n",
      " 18  Persistent EPS in the Last Four Seasons                  6819 non-null   float64\n",
      " 19  Cash Flow Per Share                                      6819 non-null   float64\n",
      " 20  Revenue Per Share (Yuan ¬•)                              6819 non-null   float64\n",
      " 21  Operating Profit Per Share (Yuan ¬•)                     6819 non-null   float64\n",
      " 22  Per Share Net profit before tax (Yuan ¬•)                6818 non-null   float64\n",
      " 23  Realized Sales Gross Profit Growth Rate                  6819 non-null   float64\n",
      " 24  Operating Profit Growth Rate                             6819 non-null   float64\n",
      " 25  After-tax Net Profit Growth Rate                         6819 non-null   float64\n",
      " 26  Regular Net Profit Growth Rate                           6818 non-null   float64\n",
      " 27  Continuous Net Profit Growth Rate                        6819 non-null   float64\n",
      " 28  Total Asset Growth Rate                                  6819 non-null   float64\n",
      " 29  Net Value Growth Rate                                    6818 non-null   float64\n",
      " 30  Total Asset Return Growth Rate Ratio                     6819 non-null   float64\n",
      " 31  Cash Reinvestment %                                      6819 non-null   float64\n",
      " 32  Current Ratio                                            6819 non-null   float64\n",
      " 33  Quick Ratio                                              6819 non-null   float64\n",
      " 34  Interest Expense Ratio                                   6819 non-null   float64\n",
      " 35  Total debt/Total net worth                               6819 non-null   float64\n",
      " 36  Debt ratio %                                             6819 non-null   float64\n",
      " 37  Net worth/Assets                                         6819 non-null   float64\n",
      " 38  Long-term fund suitability ratio (A)                     6819 non-null   float64\n",
      " 39  Borrowing dependency                                     6819 non-null   float64\n",
      " 40  Contingent liabilities/Net worth                         6819 non-null   float64\n",
      " 41  Operating profit/Paid-in capital                         6819 non-null   float64\n",
      " 42  Net profit before tax/Paid-in capital                    6819 non-null   float64\n",
      " 43  Inventory and accounts receivable/Net value              6818 non-null   float64\n",
      " 44  Total Asset Turnover                                     6819 non-null   float64\n",
      " 45  Accounts Receivable Turnover                             6819 non-null   float64\n",
      " 46  Average Collection Days                                  6819 non-null   float64\n",
      " 47  Inventory Turnover Rate (times)                          6819 non-null   float64\n",
      " 48  Fixed Assets Turnover Frequency                          6819 non-null   float64\n",
      " 49  Net Worth Turnover Rate (times)                          6819 non-null   float64\n",
      " 50  Revenue per person                                       6819 non-null   float64\n",
      " 51  Operating profit per person                              6819 non-null   float64\n",
      " 52  Allocation rate per person                               6819 non-null   object \n",
      " 53  Working Capital to Total Assets                          6819 non-null   float64\n",
      " 54  Quick Assets/Total Assets                                6819 non-null   float64\n",
      " 55  Current Assets/Total Assets                              6819 non-null   float64\n",
      " 56  Cash/Total Assets                                        6819 non-null   float64\n",
      " 57  Quick Assets/Current Liability                           6819 non-null   float64\n",
      " 58  Cash/Current Liability                                   6819 non-null   float64\n",
      " 59  Current Liability to Assets                              6819 non-null   float64\n",
      " 60  Operating Funds to Liability                             6819 non-null   float64\n",
      " 61  Inventory/Working Capital                                6818 non-null   float64\n",
      " 62  Inventory/Current Liability                              6819 non-null   float64\n",
      " 63  Current Liabilities/Liability                            6819 non-null   float64\n",
      " 64  Working Capital/Equity                                   6819 non-null   float64\n",
      " 65  Current Liabilities/Equity                               6819 non-null   float64\n",
      " 66  Long-term Liability to Current Assets                    6819 non-null   float64\n",
      " 67  Retained Earnings to Total Assets                        6819 non-null   float64\n",
      " 68  Total income/Total expense                               6819 non-null   float64\n",
      " 69  Total expense/Assets                                     6819 non-null   float64\n",
      " 70  Current Asset Turnover Rate                              6819 non-null   float64\n",
      " 71  Quick Asset Turnover Rate                                6819 non-null   float64\n",
      " 72  Working capitcal Turnover Rate                           6819 non-null   float64\n",
      " 73  Cash Turnover Rate                                       6819 non-null   float64\n",
      " 74  Cash Flow to Sales                                       6819 non-null   float64\n",
      " 75  Fixed Assets to Assets                                   6819 non-null   float64\n",
      " 76  Current Liability to Liability                           6819 non-null   float64\n",
      " 77  Current Liability to Equity                              6819 non-null   float64\n",
      " 78  Equity to Long-term Liability                            6819 non-null   float64\n",
      " 79  Cash Flow to Total Assets                                6819 non-null   float64\n",
      " 80  Cash Flow to Liability                                   6819 non-null   float64\n",
      " 81  CFO to Assets                                            6819 non-null   float64\n",
      " 82  Cash Flow to Equity                                      6819 non-null   float64\n",
      " 83  Current Liability to Current Assets                      6819 non-null   float64\n",
      " 84  Liability-Assets Flag                                    6819 non-null   int64  \n",
      " 85  Net Income to Total Assets                               6819 non-null   float64\n",
      " 86  Total assets to GNP price                                6819 non-null   float64\n",
      " 87  No-credit Interval                                       6819 non-null   float64\n",
      " 88  Gross Profit to Sales                                    6819 non-null   float64\n",
      " 89  Net Income to Stockholder's Equity                       6819 non-null   float64\n",
      " 90  Liability to Equity                                      6819 non-null   float64\n",
      " 91  Degree of Financial Leverage (DFL)                       6819 non-null   float64\n",
      " 92  Interest Coverage Ratio (Interest expense to EBIT)       6819 non-null   float64\n",
      " 93  Net Income Flag                                          6819 non-null   int64  \n",
      " 94  Equity to Liability                                      6819 non-null   float64\n",
      " 95  Company type                                             6819 non-null   object \n",
      " 96  Bankruptcy                                               6819 non-null   int64  \n",
      "dtypes: float64(91), int64(3), object(3)\n",
      "memory usage: 5.0+ MB\n"
     ]
    }
   ],
   "source": [
    "data.info()"
   ]
  },
  {
   "cell_type": "code",
   "execution_count": 6,
   "metadata": {},
   "outputs": [],
   "source": [
    "\n",
    "def check_missing(data: pd.DataFrame, plot:bool=False)-> str:\n",
    "     \"\"\"\n",
    "     The function checks if the data has missing features and displays them\n",
    "     \"\"\"\n",
    "     \n",
    "     if plot:\n",
    "          msn.matrix(data, figsize=(45,8),sparkline=False)\n",
    "     missing_total = data.isna().sum().sum()\n",
    "     print(f\"There are in total {missing_total} missing values in the data.\")\n",
    "     if missing_total !=0:\n",
    "          print(f\"Following are the list of columns with their corresponding missing number of values.\\\n",
    "          \\n{data.isna().sum()[data.isna().sum()>0]}\")\n",
    "\n",
    "\n",
    "def plot_dist_bar(data1: pd.Series, data2: pd.Series, title:str, \n",
    "index1:Optional[list]=None, index2:Optional[list]=None,custom_index:bool=False) -> go.Figure:\n",
    "    \"\"\"\n",
    "    Uses plotly to plot bar charts with a simplified interface\n",
    "    \"\"\"\n",
    "    fig=make_subplots(1,2)\n",
    "    \n",
    "    if custom_index:\n",
    "        fig.append_trace(go.Bar(x=index1, y=data1.values,\n",
    "        name=\"values\"), row=1, col=1)\n",
    "\n",
    "        fig.append_trace(go.Bar(x=index2, \n",
    "                    y=np.round(data2.values,2)*100,\n",
    "                    name=\"%\"),\n",
    "                    row=1, col=2)\n",
    "   \n",
    "    else:\n",
    "        fig.append_trace(go.Bar(x=data1.index, y=data1.values,\n",
    "        name=\"values\"), row=1, col=1)\n",
    "\n",
    "        fig.append_trace(go.Bar(x=data2.index, \n",
    "                    y=np.round(data2.values,2)*100,\n",
    "                    name=\"%\"),\n",
    "                    row=1, col=2)\n",
    "\n",
    "    fig.update_layout(title=title,width=1000, height=500,\n",
    "    yaxis_title=\"frequency\",yaxis2_title=\"%\",\n",
    "    xaxis_tickangle=-90,xaxis2_tickangle=-90)\n",
    "    \n",
    "    fig.show()\n",
    "\n",
    "def get_dist(data:pd.DataFrame, col:str)-> Tuple[pd.DataFrame, pd.DataFrame]:\n",
    "    perc = data[col].value_counts(normalize=True)\n",
    "    num = data[col].value_counts()\n",
    "    return (num, perc)"
   ]
  },
  {
   "cell_type": "code",
   "execution_count": 7,
   "metadata": {},
   "outputs": [
    {
     "name": "stdout",
     "output_type": "stream",
     "text": [
      "There are in total 8 missing values in the data.\n",
      "Following are the list of columns with their corresponding missing number of values.          \n",
      "ROA(B) before interest and depreciation after tax    1\n",
      "Realized Sales Gross Margin                          1\n",
      "Net Value Per Share (C)                              1\n",
      "Per Share Net profit before tax (Yuan ¬•)            1\n",
      "Regular Net Profit Growth Rate                       1\n",
      "Net Value Growth Rate                                1\n",
      "Inventory and accounts receivable/Net value          1\n",
      "Inventory/Working Capital                            1\n",
      "dtype: int64\n"
     ]
    }
   ],
   "source": [
    "check_missing(data=data)"
   ]
  },
  {
   "cell_type": "code",
   "execution_count": 8,
   "metadata": {},
   "outputs": [
    {
     "name": "stdout",
     "output_type": "stream",
     "text": [
      "There are in total 0 missing values in the data.\n"
     ]
    }
   ],
   "source": [
    "data_nomsn = data.dropna(axis=0)\n",
    "check_missing(data=data_nomsn)"
   ]
  },
  {
   "cell_type": "markdown",
   "metadata": {},
   "source": [
    "In the below data we observe that the is a class imbalance, this suggests that during modelling we need to manage the imbalance. "
   ]
  },
  {
   "cell_type": "code",
   "execution_count": 9,
   "metadata": {},
   "outputs": [
    {
     "data": {
      "application/vnd.plotly.v1+json": {
       "config": {
        "plotlyServerURL": "https://plot.ly"
       },
       "data": [
        {
         "name": "values",
         "type": "bar",
         "x": [
          "Thrive",
          "Bankruptcy"
         ],
         "xaxis": "x",
         "y": [
          6592,
          219
         ],
         "yaxis": "y"
        },
        {
         "name": "%",
         "type": "bar",
         "x": [
          "Thrive",
          "Bankruptcy"
         ],
         "xaxis": "x2",
         "y": [
          97,
          3
         ],
         "yaxis": "y2"
        }
       ],
       "layout": {
        "height": 500,
        "template": {
         "data": {
          "bar": [
           {
            "error_x": {
             "color": "#f2f5fa"
            },
            "error_y": {
             "color": "#f2f5fa"
            },
            "marker": {
             "line": {
              "color": "rgb(17,17,17)",
              "width": 0.5
             },
             "pattern": {
              "fillmode": "overlay",
              "size": 10,
              "solidity": 0.2
             }
            },
            "type": "bar"
           }
          ],
          "barpolar": [
           {
            "marker": {
             "line": {
              "color": "rgb(17,17,17)",
              "width": 0.5
             },
             "pattern": {
              "fillmode": "overlay",
              "size": 10,
              "solidity": 0.2
             }
            },
            "type": "barpolar"
           }
          ],
          "carpet": [
           {
            "aaxis": {
             "endlinecolor": "#A2B1C6",
             "gridcolor": "#506784",
             "linecolor": "#506784",
             "minorgridcolor": "#506784",
             "startlinecolor": "#A2B1C6"
            },
            "baxis": {
             "endlinecolor": "#A2B1C6",
             "gridcolor": "#506784",
             "linecolor": "#506784",
             "minorgridcolor": "#506784",
             "startlinecolor": "#A2B1C6"
            },
            "type": "carpet"
           }
          ],
          "choropleth": [
           {
            "colorbar": {
             "outlinewidth": 0,
             "ticks": ""
            },
            "type": "choropleth"
           }
          ],
          "contour": [
           {
            "colorbar": {
             "outlinewidth": 0,
             "ticks": ""
            },
            "colorscale": [
             [
              0,
              "#0d0887"
             ],
             [
              0.1111111111111111,
              "#46039f"
             ],
             [
              0.2222222222222222,
              "#7201a8"
             ],
             [
              0.3333333333333333,
              "#9c179e"
             ],
             [
              0.4444444444444444,
              "#bd3786"
             ],
             [
              0.5555555555555556,
              "#d8576b"
             ],
             [
              0.6666666666666666,
              "#ed7953"
             ],
             [
              0.7777777777777778,
              "#fb9f3a"
             ],
             [
              0.8888888888888888,
              "#fdca26"
             ],
             [
              1,
              "#f0f921"
             ]
            ],
            "type": "contour"
           }
          ],
          "contourcarpet": [
           {
            "colorbar": {
             "outlinewidth": 0,
             "ticks": ""
            },
            "type": "contourcarpet"
           }
          ],
          "heatmap": [
           {
            "colorbar": {
             "outlinewidth": 0,
             "ticks": ""
            },
            "colorscale": [
             [
              0,
              "#0d0887"
             ],
             [
              0.1111111111111111,
              "#46039f"
             ],
             [
              0.2222222222222222,
              "#7201a8"
             ],
             [
              0.3333333333333333,
              "#9c179e"
             ],
             [
              0.4444444444444444,
              "#bd3786"
             ],
             [
              0.5555555555555556,
              "#d8576b"
             ],
             [
              0.6666666666666666,
              "#ed7953"
             ],
             [
              0.7777777777777778,
              "#fb9f3a"
             ],
             [
              0.8888888888888888,
              "#fdca26"
             ],
             [
              1,
              "#f0f921"
             ]
            ],
            "type": "heatmap"
           }
          ],
          "heatmapgl": [
           {
            "colorbar": {
             "outlinewidth": 0,
             "ticks": ""
            },
            "colorscale": [
             [
              0,
              "#0d0887"
             ],
             [
              0.1111111111111111,
              "#46039f"
             ],
             [
              0.2222222222222222,
              "#7201a8"
             ],
             [
              0.3333333333333333,
              "#9c179e"
             ],
             [
              0.4444444444444444,
              "#bd3786"
             ],
             [
              0.5555555555555556,
              "#d8576b"
             ],
             [
              0.6666666666666666,
              "#ed7953"
             ],
             [
              0.7777777777777778,
              "#fb9f3a"
             ],
             [
              0.8888888888888888,
              "#fdca26"
             ],
             [
              1,
              "#f0f921"
             ]
            ],
            "type": "heatmapgl"
           }
          ],
          "histogram": [
           {
            "marker": {
             "pattern": {
              "fillmode": "overlay",
              "size": 10,
              "solidity": 0.2
             }
            },
            "type": "histogram"
           }
          ],
          "histogram2d": [
           {
            "colorbar": {
             "outlinewidth": 0,
             "ticks": ""
            },
            "colorscale": [
             [
              0,
              "#0d0887"
             ],
             [
              0.1111111111111111,
              "#46039f"
             ],
             [
              0.2222222222222222,
              "#7201a8"
             ],
             [
              0.3333333333333333,
              "#9c179e"
             ],
             [
              0.4444444444444444,
              "#bd3786"
             ],
             [
              0.5555555555555556,
              "#d8576b"
             ],
             [
              0.6666666666666666,
              "#ed7953"
             ],
             [
              0.7777777777777778,
              "#fb9f3a"
             ],
             [
              0.8888888888888888,
              "#fdca26"
             ],
             [
              1,
              "#f0f921"
             ]
            ],
            "type": "histogram2d"
           }
          ],
          "histogram2dcontour": [
           {
            "colorbar": {
             "outlinewidth": 0,
             "ticks": ""
            },
            "colorscale": [
             [
              0,
              "#0d0887"
             ],
             [
              0.1111111111111111,
              "#46039f"
             ],
             [
              0.2222222222222222,
              "#7201a8"
             ],
             [
              0.3333333333333333,
              "#9c179e"
             ],
             [
              0.4444444444444444,
              "#bd3786"
             ],
             [
              0.5555555555555556,
              "#d8576b"
             ],
             [
              0.6666666666666666,
              "#ed7953"
             ],
             [
              0.7777777777777778,
              "#fb9f3a"
             ],
             [
              0.8888888888888888,
              "#fdca26"
             ],
             [
              1,
              "#f0f921"
             ]
            ],
            "type": "histogram2dcontour"
           }
          ],
          "mesh3d": [
           {
            "colorbar": {
             "outlinewidth": 0,
             "ticks": ""
            },
            "type": "mesh3d"
           }
          ],
          "parcoords": [
           {
            "line": {
             "colorbar": {
              "outlinewidth": 0,
              "ticks": ""
             }
            },
            "type": "parcoords"
           }
          ],
          "pie": [
           {
            "automargin": true,
            "type": "pie"
           }
          ],
          "scatter": [
           {
            "marker": {
             "line": {
              "color": "#283442"
             }
            },
            "type": "scatter"
           }
          ],
          "scatter3d": [
           {
            "line": {
             "colorbar": {
              "outlinewidth": 0,
              "ticks": ""
             }
            },
            "marker": {
             "colorbar": {
              "outlinewidth": 0,
              "ticks": ""
             }
            },
            "type": "scatter3d"
           }
          ],
          "scattercarpet": [
           {
            "marker": {
             "colorbar": {
              "outlinewidth": 0,
              "ticks": ""
             }
            },
            "type": "scattercarpet"
           }
          ],
          "scattergeo": [
           {
            "marker": {
             "colorbar": {
              "outlinewidth": 0,
              "ticks": ""
             }
            },
            "type": "scattergeo"
           }
          ],
          "scattergl": [
           {
            "marker": {
             "line": {
              "color": "#283442"
             }
            },
            "type": "scattergl"
           }
          ],
          "scattermapbox": [
           {
            "marker": {
             "colorbar": {
              "outlinewidth": 0,
              "ticks": ""
             }
            },
            "type": "scattermapbox"
           }
          ],
          "scatterpolar": [
           {
            "marker": {
             "colorbar": {
              "outlinewidth": 0,
              "ticks": ""
             }
            },
            "type": "scatterpolar"
           }
          ],
          "scatterpolargl": [
           {
            "marker": {
             "colorbar": {
              "outlinewidth": 0,
              "ticks": ""
             }
            },
            "type": "scatterpolargl"
           }
          ],
          "scatterternary": [
           {
            "marker": {
             "colorbar": {
              "outlinewidth": 0,
              "ticks": ""
             }
            },
            "type": "scatterternary"
           }
          ],
          "surface": [
           {
            "colorbar": {
             "outlinewidth": 0,
             "ticks": ""
            },
            "colorscale": [
             [
              0,
              "#0d0887"
             ],
             [
              0.1111111111111111,
              "#46039f"
             ],
             [
              0.2222222222222222,
              "#7201a8"
             ],
             [
              0.3333333333333333,
              "#9c179e"
             ],
             [
              0.4444444444444444,
              "#bd3786"
             ],
             [
              0.5555555555555556,
              "#d8576b"
             ],
             [
              0.6666666666666666,
              "#ed7953"
             ],
             [
              0.7777777777777778,
              "#fb9f3a"
             ],
             [
              0.8888888888888888,
              "#fdca26"
             ],
             [
              1,
              "#f0f921"
             ]
            ],
            "type": "surface"
           }
          ],
          "table": [
           {
            "cells": {
             "fill": {
              "color": "#506784"
             },
             "line": {
              "color": "rgb(17,17,17)"
             }
            },
            "header": {
             "fill": {
              "color": "#2a3f5f"
             },
             "line": {
              "color": "rgb(17,17,17)"
             }
            },
            "type": "table"
           }
          ]
         },
         "layout": {
          "annotationdefaults": {
           "arrowcolor": "#f2f5fa",
           "arrowhead": 0,
           "arrowwidth": 1
          },
          "autotypenumbers": "strict",
          "coloraxis": {
           "colorbar": {
            "outlinewidth": 0,
            "ticks": ""
           }
          },
          "colorscale": {
           "diverging": [
            [
             0,
             "#8e0152"
            ],
            [
             0.1,
             "#c51b7d"
            ],
            [
             0.2,
             "#de77ae"
            ],
            [
             0.3,
             "#f1b6da"
            ],
            [
             0.4,
             "#fde0ef"
            ],
            [
             0.5,
             "#f7f7f7"
            ],
            [
             0.6,
             "#e6f5d0"
            ],
            [
             0.7,
             "#b8e186"
            ],
            [
             0.8,
             "#7fbc41"
            ],
            [
             0.9,
             "#4d9221"
            ],
            [
             1,
             "#276419"
            ]
           ],
           "sequential": [
            [
             0,
             "#0d0887"
            ],
            [
             0.1111111111111111,
             "#46039f"
            ],
            [
             0.2222222222222222,
             "#7201a8"
            ],
            [
             0.3333333333333333,
             "#9c179e"
            ],
            [
             0.4444444444444444,
             "#bd3786"
            ],
            [
             0.5555555555555556,
             "#d8576b"
            ],
            [
             0.6666666666666666,
             "#ed7953"
            ],
            [
             0.7777777777777778,
             "#fb9f3a"
            ],
            [
             0.8888888888888888,
             "#fdca26"
            ],
            [
             1,
             "#f0f921"
            ]
           ],
           "sequentialminus": [
            [
             0,
             "#0d0887"
            ],
            [
             0.1111111111111111,
             "#46039f"
            ],
            [
             0.2222222222222222,
             "#7201a8"
            ],
            [
             0.3333333333333333,
             "#9c179e"
            ],
            [
             0.4444444444444444,
             "#bd3786"
            ],
            [
             0.5555555555555556,
             "#d8576b"
            ],
            [
             0.6666666666666666,
             "#ed7953"
            ],
            [
             0.7777777777777778,
             "#fb9f3a"
            ],
            [
             0.8888888888888888,
             "#fdca26"
            ],
            [
             1,
             "#f0f921"
            ]
           ]
          },
          "colorway": [
           "#636efa",
           "#EF553B",
           "#00cc96",
           "#ab63fa",
           "#FFA15A",
           "#19d3f3",
           "#FF6692",
           "#B6E880",
           "#FF97FF",
           "#FECB52"
          ],
          "font": {
           "color": "#f2f5fa"
          },
          "geo": {
           "bgcolor": "rgb(17,17,17)",
           "lakecolor": "rgb(17,17,17)",
           "landcolor": "rgb(17,17,17)",
           "showlakes": true,
           "showland": true,
           "subunitcolor": "#506784"
          },
          "hoverlabel": {
           "align": "left"
          },
          "hovermode": "closest",
          "mapbox": {
           "style": "dark"
          },
          "paper_bgcolor": "rgb(17,17,17)",
          "plot_bgcolor": "rgb(17,17,17)",
          "polar": {
           "angularaxis": {
            "gridcolor": "#506784",
            "linecolor": "#506784",
            "ticks": ""
           },
           "bgcolor": "rgb(17,17,17)",
           "radialaxis": {
            "gridcolor": "#506784",
            "linecolor": "#506784",
            "ticks": ""
           }
          },
          "scene": {
           "xaxis": {
            "backgroundcolor": "rgb(17,17,17)",
            "gridcolor": "#506784",
            "gridwidth": 2,
            "linecolor": "#506784",
            "showbackground": true,
            "ticks": "",
            "zerolinecolor": "#C8D4E3"
           },
           "yaxis": {
            "backgroundcolor": "rgb(17,17,17)",
            "gridcolor": "#506784",
            "gridwidth": 2,
            "linecolor": "#506784",
            "showbackground": true,
            "ticks": "",
            "zerolinecolor": "#C8D4E3"
           },
           "zaxis": {
            "backgroundcolor": "rgb(17,17,17)",
            "gridcolor": "#506784",
            "gridwidth": 2,
            "linecolor": "#506784",
            "showbackground": true,
            "ticks": "",
            "zerolinecolor": "#C8D4E3"
           }
          },
          "shapedefaults": {
           "line": {
            "color": "#f2f5fa"
           }
          },
          "sliderdefaults": {
           "bgcolor": "#C8D4E3",
           "bordercolor": "rgb(17,17,17)",
           "borderwidth": 1,
           "tickwidth": 0
          },
          "ternary": {
           "aaxis": {
            "gridcolor": "#506784",
            "linecolor": "#506784",
            "ticks": ""
           },
           "baxis": {
            "gridcolor": "#506784",
            "linecolor": "#506784",
            "ticks": ""
           },
           "bgcolor": "rgb(17,17,17)",
           "caxis": {
            "gridcolor": "#506784",
            "linecolor": "#506784",
            "ticks": ""
           }
          },
          "title": {
           "x": 0.05
          },
          "updatemenudefaults": {
           "bgcolor": "#506784",
           "borderwidth": 0
          },
          "xaxis": {
           "automargin": true,
           "gridcolor": "#283442",
           "linecolor": "#506784",
           "ticks": "",
           "title": {
            "standoff": 15
           },
           "zerolinecolor": "#283442",
           "zerolinewidth": 2
          },
          "yaxis": {
           "automargin": true,
           "gridcolor": "#283442",
           "linecolor": "#506784",
           "ticks": "",
           "title": {
            "standoff": 15
           },
           "zerolinecolor": "#283442",
           "zerolinewidth": 2
          }
         }
        },
        "title": {
         "text": "Data Distribution"
        },
        "width": 1000,
        "xaxis": {
         "anchor": "y",
         "domain": [
          0,
          0.45
         ],
         "tickangle": -90
        },
        "xaxis2": {
         "anchor": "y2",
         "domain": [
          0.55,
          1
         ],
         "tickangle": -90
        },
        "yaxis": {
         "anchor": "x",
         "domain": [
          0,
          1
         ],
         "title": {
          "text": "frequency"
         }
        },
        "yaxis2": {
         "anchor": "x2",
         "domain": [
          0,
          1
         ],
         "title": {
          "text": "%"
         }
        }
       }
      }
     },
     "metadata": {},
     "output_type": "display_data"
    }
   ],
   "source": [
    "target_dist_num, target_dist_perc = get_dist(data=data_nomsn,col=target)\n",
    "target_index = [\"Thrive\",\"Bankruptcy\"]\n",
    "plot_dist_bar(target_dist_num,target_dist_perc,title=\"Data Distribution\", custom_index=True, \n",
    "index1=target_index,index2=target_index)"
   ]
  },
  {
   "cell_type": "code",
   "execution_count": 10,
   "metadata": {},
   "outputs": [
    {
     "data": {
      "application/vnd.plotly.v1+json": {
       "config": {
        "plotlyServerURL": "https://plot.ly"
       },
       "data": [
        {
         "name": "values",
         "type": "bar",
         "x": [
          "Partnership",
          "Limited Company",
          "LLP"
         ],
         "xaxis": "x",
         "y": [
          3372,
          2757,
          682
         ],
         "yaxis": "y"
        },
        {
         "name": "%",
         "type": "bar",
         "x": [
          "Partnership",
          "Limited Company",
          "LLP"
         ],
         "xaxis": "x2",
         "y": [
          50,
          40,
          10
         ],
         "yaxis": "y2"
        }
       ],
       "layout": {
        "height": 500,
        "template": {
         "data": {
          "bar": [
           {
            "error_x": {
             "color": "#f2f5fa"
            },
            "error_y": {
             "color": "#f2f5fa"
            },
            "marker": {
             "line": {
              "color": "rgb(17,17,17)",
              "width": 0.5
             },
             "pattern": {
              "fillmode": "overlay",
              "size": 10,
              "solidity": 0.2
             }
            },
            "type": "bar"
           }
          ],
          "barpolar": [
           {
            "marker": {
             "line": {
              "color": "rgb(17,17,17)",
              "width": 0.5
             },
             "pattern": {
              "fillmode": "overlay",
              "size": 10,
              "solidity": 0.2
             }
            },
            "type": "barpolar"
           }
          ],
          "carpet": [
           {
            "aaxis": {
             "endlinecolor": "#A2B1C6",
             "gridcolor": "#506784",
             "linecolor": "#506784",
             "minorgridcolor": "#506784",
             "startlinecolor": "#A2B1C6"
            },
            "baxis": {
             "endlinecolor": "#A2B1C6",
             "gridcolor": "#506784",
             "linecolor": "#506784",
             "minorgridcolor": "#506784",
             "startlinecolor": "#A2B1C6"
            },
            "type": "carpet"
           }
          ],
          "choropleth": [
           {
            "colorbar": {
             "outlinewidth": 0,
             "ticks": ""
            },
            "type": "choropleth"
           }
          ],
          "contour": [
           {
            "colorbar": {
             "outlinewidth": 0,
             "ticks": ""
            },
            "colorscale": [
             [
              0,
              "#0d0887"
             ],
             [
              0.1111111111111111,
              "#46039f"
             ],
             [
              0.2222222222222222,
              "#7201a8"
             ],
             [
              0.3333333333333333,
              "#9c179e"
             ],
             [
              0.4444444444444444,
              "#bd3786"
             ],
             [
              0.5555555555555556,
              "#d8576b"
             ],
             [
              0.6666666666666666,
              "#ed7953"
             ],
             [
              0.7777777777777778,
              "#fb9f3a"
             ],
             [
              0.8888888888888888,
              "#fdca26"
             ],
             [
              1,
              "#f0f921"
             ]
            ],
            "type": "contour"
           }
          ],
          "contourcarpet": [
           {
            "colorbar": {
             "outlinewidth": 0,
             "ticks": ""
            },
            "type": "contourcarpet"
           }
          ],
          "heatmap": [
           {
            "colorbar": {
             "outlinewidth": 0,
             "ticks": ""
            },
            "colorscale": [
             [
              0,
              "#0d0887"
             ],
             [
              0.1111111111111111,
              "#46039f"
             ],
             [
              0.2222222222222222,
              "#7201a8"
             ],
             [
              0.3333333333333333,
              "#9c179e"
             ],
             [
              0.4444444444444444,
              "#bd3786"
             ],
             [
              0.5555555555555556,
              "#d8576b"
             ],
             [
              0.6666666666666666,
              "#ed7953"
             ],
             [
              0.7777777777777778,
              "#fb9f3a"
             ],
             [
              0.8888888888888888,
              "#fdca26"
             ],
             [
              1,
              "#f0f921"
             ]
            ],
            "type": "heatmap"
           }
          ],
          "heatmapgl": [
           {
            "colorbar": {
             "outlinewidth": 0,
             "ticks": ""
            },
            "colorscale": [
             [
              0,
              "#0d0887"
             ],
             [
              0.1111111111111111,
              "#46039f"
             ],
             [
              0.2222222222222222,
              "#7201a8"
             ],
             [
              0.3333333333333333,
              "#9c179e"
             ],
             [
              0.4444444444444444,
              "#bd3786"
             ],
             [
              0.5555555555555556,
              "#d8576b"
             ],
             [
              0.6666666666666666,
              "#ed7953"
             ],
             [
              0.7777777777777778,
              "#fb9f3a"
             ],
             [
              0.8888888888888888,
              "#fdca26"
             ],
             [
              1,
              "#f0f921"
             ]
            ],
            "type": "heatmapgl"
           }
          ],
          "histogram": [
           {
            "marker": {
             "pattern": {
              "fillmode": "overlay",
              "size": 10,
              "solidity": 0.2
             }
            },
            "type": "histogram"
           }
          ],
          "histogram2d": [
           {
            "colorbar": {
             "outlinewidth": 0,
             "ticks": ""
            },
            "colorscale": [
             [
              0,
              "#0d0887"
             ],
             [
              0.1111111111111111,
              "#46039f"
             ],
             [
              0.2222222222222222,
              "#7201a8"
             ],
             [
              0.3333333333333333,
              "#9c179e"
             ],
             [
              0.4444444444444444,
              "#bd3786"
             ],
             [
              0.5555555555555556,
              "#d8576b"
             ],
             [
              0.6666666666666666,
              "#ed7953"
             ],
             [
              0.7777777777777778,
              "#fb9f3a"
             ],
             [
              0.8888888888888888,
              "#fdca26"
             ],
             [
              1,
              "#f0f921"
             ]
            ],
            "type": "histogram2d"
           }
          ],
          "histogram2dcontour": [
           {
            "colorbar": {
             "outlinewidth": 0,
             "ticks": ""
            },
            "colorscale": [
             [
              0,
              "#0d0887"
             ],
             [
              0.1111111111111111,
              "#46039f"
             ],
             [
              0.2222222222222222,
              "#7201a8"
             ],
             [
              0.3333333333333333,
              "#9c179e"
             ],
             [
              0.4444444444444444,
              "#bd3786"
             ],
             [
              0.5555555555555556,
              "#d8576b"
             ],
             [
              0.6666666666666666,
              "#ed7953"
             ],
             [
              0.7777777777777778,
              "#fb9f3a"
             ],
             [
              0.8888888888888888,
              "#fdca26"
             ],
             [
              1,
              "#f0f921"
             ]
            ],
            "type": "histogram2dcontour"
           }
          ],
          "mesh3d": [
           {
            "colorbar": {
             "outlinewidth": 0,
             "ticks": ""
            },
            "type": "mesh3d"
           }
          ],
          "parcoords": [
           {
            "line": {
             "colorbar": {
              "outlinewidth": 0,
              "ticks": ""
             }
            },
            "type": "parcoords"
           }
          ],
          "pie": [
           {
            "automargin": true,
            "type": "pie"
           }
          ],
          "scatter": [
           {
            "marker": {
             "line": {
              "color": "#283442"
             }
            },
            "type": "scatter"
           }
          ],
          "scatter3d": [
           {
            "line": {
             "colorbar": {
              "outlinewidth": 0,
              "ticks": ""
             }
            },
            "marker": {
             "colorbar": {
              "outlinewidth": 0,
              "ticks": ""
             }
            },
            "type": "scatter3d"
           }
          ],
          "scattercarpet": [
           {
            "marker": {
             "colorbar": {
              "outlinewidth": 0,
              "ticks": ""
             }
            },
            "type": "scattercarpet"
           }
          ],
          "scattergeo": [
           {
            "marker": {
             "colorbar": {
              "outlinewidth": 0,
              "ticks": ""
             }
            },
            "type": "scattergeo"
           }
          ],
          "scattergl": [
           {
            "marker": {
             "line": {
              "color": "#283442"
             }
            },
            "type": "scattergl"
           }
          ],
          "scattermapbox": [
           {
            "marker": {
             "colorbar": {
              "outlinewidth": 0,
              "ticks": ""
             }
            },
            "type": "scattermapbox"
           }
          ],
          "scatterpolar": [
           {
            "marker": {
             "colorbar": {
              "outlinewidth": 0,
              "ticks": ""
             }
            },
            "type": "scatterpolar"
           }
          ],
          "scatterpolargl": [
           {
            "marker": {
             "colorbar": {
              "outlinewidth": 0,
              "ticks": ""
             }
            },
            "type": "scatterpolargl"
           }
          ],
          "scatterternary": [
           {
            "marker": {
             "colorbar": {
              "outlinewidth": 0,
              "ticks": ""
             }
            },
            "type": "scatterternary"
           }
          ],
          "surface": [
           {
            "colorbar": {
             "outlinewidth": 0,
             "ticks": ""
            },
            "colorscale": [
             [
              0,
              "#0d0887"
             ],
             [
              0.1111111111111111,
              "#46039f"
             ],
             [
              0.2222222222222222,
              "#7201a8"
             ],
             [
              0.3333333333333333,
              "#9c179e"
             ],
             [
              0.4444444444444444,
              "#bd3786"
             ],
             [
              0.5555555555555556,
              "#d8576b"
             ],
             [
              0.6666666666666666,
              "#ed7953"
             ],
             [
              0.7777777777777778,
              "#fb9f3a"
             ],
             [
              0.8888888888888888,
              "#fdca26"
             ],
             [
              1,
              "#f0f921"
             ]
            ],
            "type": "surface"
           }
          ],
          "table": [
           {
            "cells": {
             "fill": {
              "color": "#506784"
             },
             "line": {
              "color": "rgb(17,17,17)"
             }
            },
            "header": {
             "fill": {
              "color": "#2a3f5f"
             },
             "line": {
              "color": "rgb(17,17,17)"
             }
            },
            "type": "table"
           }
          ]
         },
         "layout": {
          "annotationdefaults": {
           "arrowcolor": "#f2f5fa",
           "arrowhead": 0,
           "arrowwidth": 1
          },
          "autotypenumbers": "strict",
          "coloraxis": {
           "colorbar": {
            "outlinewidth": 0,
            "ticks": ""
           }
          },
          "colorscale": {
           "diverging": [
            [
             0,
             "#8e0152"
            ],
            [
             0.1,
             "#c51b7d"
            ],
            [
             0.2,
             "#de77ae"
            ],
            [
             0.3,
             "#f1b6da"
            ],
            [
             0.4,
             "#fde0ef"
            ],
            [
             0.5,
             "#f7f7f7"
            ],
            [
             0.6,
             "#e6f5d0"
            ],
            [
             0.7,
             "#b8e186"
            ],
            [
             0.8,
             "#7fbc41"
            ],
            [
             0.9,
             "#4d9221"
            ],
            [
             1,
             "#276419"
            ]
           ],
           "sequential": [
            [
             0,
             "#0d0887"
            ],
            [
             0.1111111111111111,
             "#46039f"
            ],
            [
             0.2222222222222222,
             "#7201a8"
            ],
            [
             0.3333333333333333,
             "#9c179e"
            ],
            [
             0.4444444444444444,
             "#bd3786"
            ],
            [
             0.5555555555555556,
             "#d8576b"
            ],
            [
             0.6666666666666666,
             "#ed7953"
            ],
            [
             0.7777777777777778,
             "#fb9f3a"
            ],
            [
             0.8888888888888888,
             "#fdca26"
            ],
            [
             1,
             "#f0f921"
            ]
           ],
           "sequentialminus": [
            [
             0,
             "#0d0887"
            ],
            [
             0.1111111111111111,
             "#46039f"
            ],
            [
             0.2222222222222222,
             "#7201a8"
            ],
            [
             0.3333333333333333,
             "#9c179e"
            ],
            [
             0.4444444444444444,
             "#bd3786"
            ],
            [
             0.5555555555555556,
             "#d8576b"
            ],
            [
             0.6666666666666666,
             "#ed7953"
            ],
            [
             0.7777777777777778,
             "#fb9f3a"
            ],
            [
             0.8888888888888888,
             "#fdca26"
            ],
            [
             1,
             "#f0f921"
            ]
           ]
          },
          "colorway": [
           "#636efa",
           "#EF553B",
           "#00cc96",
           "#ab63fa",
           "#FFA15A",
           "#19d3f3",
           "#FF6692",
           "#B6E880",
           "#FF97FF",
           "#FECB52"
          ],
          "font": {
           "color": "#f2f5fa"
          },
          "geo": {
           "bgcolor": "rgb(17,17,17)",
           "lakecolor": "rgb(17,17,17)",
           "landcolor": "rgb(17,17,17)",
           "showlakes": true,
           "showland": true,
           "subunitcolor": "#506784"
          },
          "hoverlabel": {
           "align": "left"
          },
          "hovermode": "closest",
          "mapbox": {
           "style": "dark"
          },
          "paper_bgcolor": "rgb(17,17,17)",
          "plot_bgcolor": "rgb(17,17,17)",
          "polar": {
           "angularaxis": {
            "gridcolor": "#506784",
            "linecolor": "#506784",
            "ticks": ""
           },
           "bgcolor": "rgb(17,17,17)",
           "radialaxis": {
            "gridcolor": "#506784",
            "linecolor": "#506784",
            "ticks": ""
           }
          },
          "scene": {
           "xaxis": {
            "backgroundcolor": "rgb(17,17,17)",
            "gridcolor": "#506784",
            "gridwidth": 2,
            "linecolor": "#506784",
            "showbackground": true,
            "ticks": "",
            "zerolinecolor": "#C8D4E3"
           },
           "yaxis": {
            "backgroundcolor": "rgb(17,17,17)",
            "gridcolor": "#506784",
            "gridwidth": 2,
            "linecolor": "#506784",
            "showbackground": true,
            "ticks": "",
            "zerolinecolor": "#C8D4E3"
           },
           "zaxis": {
            "backgroundcolor": "rgb(17,17,17)",
            "gridcolor": "#506784",
            "gridwidth": 2,
            "linecolor": "#506784",
            "showbackground": true,
            "ticks": "",
            "zerolinecolor": "#C8D4E3"
           }
          },
          "shapedefaults": {
           "line": {
            "color": "#f2f5fa"
           }
          },
          "sliderdefaults": {
           "bgcolor": "#C8D4E3",
           "bordercolor": "rgb(17,17,17)",
           "borderwidth": 1,
           "tickwidth": 0
          },
          "ternary": {
           "aaxis": {
            "gridcolor": "#506784",
            "linecolor": "#506784",
            "ticks": ""
           },
           "baxis": {
            "gridcolor": "#506784",
            "linecolor": "#506784",
            "ticks": ""
           },
           "bgcolor": "rgb(17,17,17)",
           "caxis": {
            "gridcolor": "#506784",
            "linecolor": "#506784",
            "ticks": ""
           }
          },
          "title": {
           "x": 0.05
          },
          "updatemenudefaults": {
           "bgcolor": "#506784",
           "borderwidth": 0
          },
          "xaxis": {
           "automargin": true,
           "gridcolor": "#283442",
           "linecolor": "#506784",
           "ticks": "",
           "title": {
            "standoff": 15
           },
           "zerolinecolor": "#283442",
           "zerolinewidth": 2
          },
          "yaxis": {
           "automargin": true,
           "gridcolor": "#283442",
           "linecolor": "#506784",
           "ticks": "",
           "title": {
            "standoff": 15
           },
           "zerolinecolor": "#283442",
           "zerolinewidth": 2
          }
         }
        },
        "title": {
         "text": "Data Distribution"
        },
        "width": 1000,
        "xaxis": {
         "anchor": "y",
         "domain": [
          0,
          0.45
         ],
         "tickangle": -90
        },
        "xaxis2": {
         "anchor": "y2",
         "domain": [
          0.55,
          1
         ],
         "tickangle": -90
        },
        "yaxis": {
         "anchor": "x",
         "domain": [
          0,
          1
         ],
         "title": {
          "text": "frequency"
         }
        },
        "yaxis2": {
         "anchor": "x2",
         "domain": [
          0,
          1
         ],
         "title": {
          "text": "%"
         }
        }
       }
      }
     },
     "metadata": {},
     "output_type": "display_data"
    }
   ],
   "source": [
    "company_dist_num, company_dist_perc = get_dist(data=data_nomsn,col=\"Company type\")\n",
    "plot_dist_bar(company_dist_num,company_dist_perc,title=\"Data Distribution\")"
   ]
  },
  {
   "cell_type": "code",
   "execution_count": 11,
   "metadata": {},
   "outputs": [],
   "source": [
    "grp1=[\"Company type\",\"Bankruptcy\"]\n",
    "\n",
    "data_agg = (\n",
    "    data_nomsn.groupby(grp1)\n",
    "    .agg({\"Bankruptcy\":\"count\"})\n",
    "    )\n",
    "data_agg[\"Bankruptcy %\"] = (data_agg\n",
    ".groupby(level=0)\n",
    ".apply(lambda x:round(x / float(x.sum()),2)))\n",
    "\n",
    "data_agg = data_agg.rename(columns={\"Bankruptcy\": \"values\", \"Bankruptcy %\":\"perc%\"}).reset_index()\n",
    "data_agg[\"index\"] = data_agg[\"Company type\"].astype(str)+\"_\"+data_agg[\"Bankruptcy\"].astype(str)\n",
    "\n",
    "data_agg.set_index(\"index\", inplace = True)\n",
    "data_agg = data_agg.drop(grp1, axis=1)"
   ]
  },
  {
   "cell_type": "code",
   "execution_count": 12,
   "metadata": {},
   "outputs": [
    {
     "data": {
      "application/vnd.plotly.v1+json": {
       "config": {
        "plotlyServerURL": "https://plot.ly"
       },
       "data": [
        {
         "name": "values",
         "type": "bar",
         "x": [
          "LLP_0",
          "LLP_1",
          "Limited Company_0",
          "Limited Company_1",
          "Partnership_0",
          "Partnership_1"
         ],
         "xaxis": "x",
         "y": [
          665,
          17,
          2672,
          85,
          3255,
          117
         ],
         "yaxis": "y"
        },
        {
         "name": "%",
         "type": "bar",
         "x": [
          "LLP_0",
          "LLP_1",
          "Limited Company_0",
          "Limited Company_1",
          "Partnership_0",
          "Partnership_1"
         ],
         "xaxis": "x2",
         "y": [
          98,
          2,
          97,
          3,
          97,
          3
         ],
         "yaxis": "y2"
        }
       ],
       "layout": {
        "height": 500,
        "template": {
         "data": {
          "bar": [
           {
            "error_x": {
             "color": "#f2f5fa"
            },
            "error_y": {
             "color": "#f2f5fa"
            },
            "marker": {
             "line": {
              "color": "rgb(17,17,17)",
              "width": 0.5
             },
             "pattern": {
              "fillmode": "overlay",
              "size": 10,
              "solidity": 0.2
             }
            },
            "type": "bar"
           }
          ],
          "barpolar": [
           {
            "marker": {
             "line": {
              "color": "rgb(17,17,17)",
              "width": 0.5
             },
             "pattern": {
              "fillmode": "overlay",
              "size": 10,
              "solidity": 0.2
             }
            },
            "type": "barpolar"
           }
          ],
          "carpet": [
           {
            "aaxis": {
             "endlinecolor": "#A2B1C6",
             "gridcolor": "#506784",
             "linecolor": "#506784",
             "minorgridcolor": "#506784",
             "startlinecolor": "#A2B1C6"
            },
            "baxis": {
             "endlinecolor": "#A2B1C6",
             "gridcolor": "#506784",
             "linecolor": "#506784",
             "minorgridcolor": "#506784",
             "startlinecolor": "#A2B1C6"
            },
            "type": "carpet"
           }
          ],
          "choropleth": [
           {
            "colorbar": {
             "outlinewidth": 0,
             "ticks": ""
            },
            "type": "choropleth"
           }
          ],
          "contour": [
           {
            "colorbar": {
             "outlinewidth": 0,
             "ticks": ""
            },
            "colorscale": [
             [
              0,
              "#0d0887"
             ],
             [
              0.1111111111111111,
              "#46039f"
             ],
             [
              0.2222222222222222,
              "#7201a8"
             ],
             [
              0.3333333333333333,
              "#9c179e"
             ],
             [
              0.4444444444444444,
              "#bd3786"
             ],
             [
              0.5555555555555556,
              "#d8576b"
             ],
             [
              0.6666666666666666,
              "#ed7953"
             ],
             [
              0.7777777777777778,
              "#fb9f3a"
             ],
             [
              0.8888888888888888,
              "#fdca26"
             ],
             [
              1,
              "#f0f921"
             ]
            ],
            "type": "contour"
           }
          ],
          "contourcarpet": [
           {
            "colorbar": {
             "outlinewidth": 0,
             "ticks": ""
            },
            "type": "contourcarpet"
           }
          ],
          "heatmap": [
           {
            "colorbar": {
             "outlinewidth": 0,
             "ticks": ""
            },
            "colorscale": [
             [
              0,
              "#0d0887"
             ],
             [
              0.1111111111111111,
              "#46039f"
             ],
             [
              0.2222222222222222,
              "#7201a8"
             ],
             [
              0.3333333333333333,
              "#9c179e"
             ],
             [
              0.4444444444444444,
              "#bd3786"
             ],
             [
              0.5555555555555556,
              "#d8576b"
             ],
             [
              0.6666666666666666,
              "#ed7953"
             ],
             [
              0.7777777777777778,
              "#fb9f3a"
             ],
             [
              0.8888888888888888,
              "#fdca26"
             ],
             [
              1,
              "#f0f921"
             ]
            ],
            "type": "heatmap"
           }
          ],
          "heatmapgl": [
           {
            "colorbar": {
             "outlinewidth": 0,
             "ticks": ""
            },
            "colorscale": [
             [
              0,
              "#0d0887"
             ],
             [
              0.1111111111111111,
              "#46039f"
             ],
             [
              0.2222222222222222,
              "#7201a8"
             ],
             [
              0.3333333333333333,
              "#9c179e"
             ],
             [
              0.4444444444444444,
              "#bd3786"
             ],
             [
              0.5555555555555556,
              "#d8576b"
             ],
             [
              0.6666666666666666,
              "#ed7953"
             ],
             [
              0.7777777777777778,
              "#fb9f3a"
             ],
             [
              0.8888888888888888,
              "#fdca26"
             ],
             [
              1,
              "#f0f921"
             ]
            ],
            "type": "heatmapgl"
           }
          ],
          "histogram": [
           {
            "marker": {
             "pattern": {
              "fillmode": "overlay",
              "size": 10,
              "solidity": 0.2
             }
            },
            "type": "histogram"
           }
          ],
          "histogram2d": [
           {
            "colorbar": {
             "outlinewidth": 0,
             "ticks": ""
            },
            "colorscale": [
             [
              0,
              "#0d0887"
             ],
             [
              0.1111111111111111,
              "#46039f"
             ],
             [
              0.2222222222222222,
              "#7201a8"
             ],
             [
              0.3333333333333333,
              "#9c179e"
             ],
             [
              0.4444444444444444,
              "#bd3786"
             ],
             [
              0.5555555555555556,
              "#d8576b"
             ],
             [
              0.6666666666666666,
              "#ed7953"
             ],
             [
              0.7777777777777778,
              "#fb9f3a"
             ],
             [
              0.8888888888888888,
              "#fdca26"
             ],
             [
              1,
              "#f0f921"
             ]
            ],
            "type": "histogram2d"
           }
          ],
          "histogram2dcontour": [
           {
            "colorbar": {
             "outlinewidth": 0,
             "ticks": ""
            },
            "colorscale": [
             [
              0,
              "#0d0887"
             ],
             [
              0.1111111111111111,
              "#46039f"
             ],
             [
              0.2222222222222222,
              "#7201a8"
             ],
             [
              0.3333333333333333,
              "#9c179e"
             ],
             [
              0.4444444444444444,
              "#bd3786"
             ],
             [
              0.5555555555555556,
              "#d8576b"
             ],
             [
              0.6666666666666666,
              "#ed7953"
             ],
             [
              0.7777777777777778,
              "#fb9f3a"
             ],
             [
              0.8888888888888888,
              "#fdca26"
             ],
             [
              1,
              "#f0f921"
             ]
            ],
            "type": "histogram2dcontour"
           }
          ],
          "mesh3d": [
           {
            "colorbar": {
             "outlinewidth": 0,
             "ticks": ""
            },
            "type": "mesh3d"
           }
          ],
          "parcoords": [
           {
            "line": {
             "colorbar": {
              "outlinewidth": 0,
              "ticks": ""
             }
            },
            "type": "parcoords"
           }
          ],
          "pie": [
           {
            "automargin": true,
            "type": "pie"
           }
          ],
          "scatter": [
           {
            "marker": {
             "line": {
              "color": "#283442"
             }
            },
            "type": "scatter"
           }
          ],
          "scatter3d": [
           {
            "line": {
             "colorbar": {
              "outlinewidth": 0,
              "ticks": ""
             }
            },
            "marker": {
             "colorbar": {
              "outlinewidth": 0,
              "ticks": ""
             }
            },
            "type": "scatter3d"
           }
          ],
          "scattercarpet": [
           {
            "marker": {
             "colorbar": {
              "outlinewidth": 0,
              "ticks": ""
             }
            },
            "type": "scattercarpet"
           }
          ],
          "scattergeo": [
           {
            "marker": {
             "colorbar": {
              "outlinewidth": 0,
              "ticks": ""
             }
            },
            "type": "scattergeo"
           }
          ],
          "scattergl": [
           {
            "marker": {
             "line": {
              "color": "#283442"
             }
            },
            "type": "scattergl"
           }
          ],
          "scattermapbox": [
           {
            "marker": {
             "colorbar": {
              "outlinewidth": 0,
              "ticks": ""
             }
            },
            "type": "scattermapbox"
           }
          ],
          "scatterpolar": [
           {
            "marker": {
             "colorbar": {
              "outlinewidth": 0,
              "ticks": ""
             }
            },
            "type": "scatterpolar"
           }
          ],
          "scatterpolargl": [
           {
            "marker": {
             "colorbar": {
              "outlinewidth": 0,
              "ticks": ""
             }
            },
            "type": "scatterpolargl"
           }
          ],
          "scatterternary": [
           {
            "marker": {
             "colorbar": {
              "outlinewidth": 0,
              "ticks": ""
             }
            },
            "type": "scatterternary"
           }
          ],
          "surface": [
           {
            "colorbar": {
             "outlinewidth": 0,
             "ticks": ""
            },
            "colorscale": [
             [
              0,
              "#0d0887"
             ],
             [
              0.1111111111111111,
              "#46039f"
             ],
             [
              0.2222222222222222,
              "#7201a8"
             ],
             [
              0.3333333333333333,
              "#9c179e"
             ],
             [
              0.4444444444444444,
              "#bd3786"
             ],
             [
              0.5555555555555556,
              "#d8576b"
             ],
             [
              0.6666666666666666,
              "#ed7953"
             ],
             [
              0.7777777777777778,
              "#fb9f3a"
             ],
             [
              0.8888888888888888,
              "#fdca26"
             ],
             [
              1,
              "#f0f921"
             ]
            ],
            "type": "surface"
           }
          ],
          "table": [
           {
            "cells": {
             "fill": {
              "color": "#506784"
             },
             "line": {
              "color": "rgb(17,17,17)"
             }
            },
            "header": {
             "fill": {
              "color": "#2a3f5f"
             },
             "line": {
              "color": "rgb(17,17,17)"
             }
            },
            "type": "table"
           }
          ]
         },
         "layout": {
          "annotationdefaults": {
           "arrowcolor": "#f2f5fa",
           "arrowhead": 0,
           "arrowwidth": 1
          },
          "autotypenumbers": "strict",
          "coloraxis": {
           "colorbar": {
            "outlinewidth": 0,
            "ticks": ""
           }
          },
          "colorscale": {
           "diverging": [
            [
             0,
             "#8e0152"
            ],
            [
             0.1,
             "#c51b7d"
            ],
            [
             0.2,
             "#de77ae"
            ],
            [
             0.3,
             "#f1b6da"
            ],
            [
             0.4,
             "#fde0ef"
            ],
            [
             0.5,
             "#f7f7f7"
            ],
            [
             0.6,
             "#e6f5d0"
            ],
            [
             0.7,
             "#b8e186"
            ],
            [
             0.8,
             "#7fbc41"
            ],
            [
             0.9,
             "#4d9221"
            ],
            [
             1,
             "#276419"
            ]
           ],
           "sequential": [
            [
             0,
             "#0d0887"
            ],
            [
             0.1111111111111111,
             "#46039f"
            ],
            [
             0.2222222222222222,
             "#7201a8"
            ],
            [
             0.3333333333333333,
             "#9c179e"
            ],
            [
             0.4444444444444444,
             "#bd3786"
            ],
            [
             0.5555555555555556,
             "#d8576b"
            ],
            [
             0.6666666666666666,
             "#ed7953"
            ],
            [
             0.7777777777777778,
             "#fb9f3a"
            ],
            [
             0.8888888888888888,
             "#fdca26"
            ],
            [
             1,
             "#f0f921"
            ]
           ],
           "sequentialminus": [
            [
             0,
             "#0d0887"
            ],
            [
             0.1111111111111111,
             "#46039f"
            ],
            [
             0.2222222222222222,
             "#7201a8"
            ],
            [
             0.3333333333333333,
             "#9c179e"
            ],
            [
             0.4444444444444444,
             "#bd3786"
            ],
            [
             0.5555555555555556,
             "#d8576b"
            ],
            [
             0.6666666666666666,
             "#ed7953"
            ],
            [
             0.7777777777777778,
             "#fb9f3a"
            ],
            [
             0.8888888888888888,
             "#fdca26"
            ],
            [
             1,
             "#f0f921"
            ]
           ]
          },
          "colorway": [
           "#636efa",
           "#EF553B",
           "#00cc96",
           "#ab63fa",
           "#FFA15A",
           "#19d3f3",
           "#FF6692",
           "#B6E880",
           "#FF97FF",
           "#FECB52"
          ],
          "font": {
           "color": "#f2f5fa"
          },
          "geo": {
           "bgcolor": "rgb(17,17,17)",
           "lakecolor": "rgb(17,17,17)",
           "landcolor": "rgb(17,17,17)",
           "showlakes": true,
           "showland": true,
           "subunitcolor": "#506784"
          },
          "hoverlabel": {
           "align": "left"
          },
          "hovermode": "closest",
          "mapbox": {
           "style": "dark"
          },
          "paper_bgcolor": "rgb(17,17,17)",
          "plot_bgcolor": "rgb(17,17,17)",
          "polar": {
           "angularaxis": {
            "gridcolor": "#506784",
            "linecolor": "#506784",
            "ticks": ""
           },
           "bgcolor": "rgb(17,17,17)",
           "radialaxis": {
            "gridcolor": "#506784",
            "linecolor": "#506784",
            "ticks": ""
           }
          },
          "scene": {
           "xaxis": {
            "backgroundcolor": "rgb(17,17,17)",
            "gridcolor": "#506784",
            "gridwidth": 2,
            "linecolor": "#506784",
            "showbackground": true,
            "ticks": "",
            "zerolinecolor": "#C8D4E3"
           },
           "yaxis": {
            "backgroundcolor": "rgb(17,17,17)",
            "gridcolor": "#506784",
            "gridwidth": 2,
            "linecolor": "#506784",
            "showbackground": true,
            "ticks": "",
            "zerolinecolor": "#C8D4E3"
           },
           "zaxis": {
            "backgroundcolor": "rgb(17,17,17)",
            "gridcolor": "#506784",
            "gridwidth": 2,
            "linecolor": "#506784",
            "showbackground": true,
            "ticks": "",
            "zerolinecolor": "#C8D4E3"
           }
          },
          "shapedefaults": {
           "line": {
            "color": "#f2f5fa"
           }
          },
          "sliderdefaults": {
           "bgcolor": "#C8D4E3",
           "bordercolor": "rgb(17,17,17)",
           "borderwidth": 1,
           "tickwidth": 0
          },
          "ternary": {
           "aaxis": {
            "gridcolor": "#506784",
            "linecolor": "#506784",
            "ticks": ""
           },
           "baxis": {
            "gridcolor": "#506784",
            "linecolor": "#506784",
            "ticks": ""
           },
           "bgcolor": "rgb(17,17,17)",
           "caxis": {
            "gridcolor": "#506784",
            "linecolor": "#506784",
            "ticks": ""
           }
          },
          "title": {
           "x": 0.05
          },
          "updatemenudefaults": {
           "bgcolor": "#506784",
           "borderwidth": 0
          },
          "xaxis": {
           "automargin": true,
           "gridcolor": "#283442",
           "linecolor": "#506784",
           "ticks": "",
           "title": {
            "standoff": 15
           },
           "zerolinecolor": "#283442",
           "zerolinewidth": 2
          },
          "yaxis": {
           "automargin": true,
           "gridcolor": "#283442",
           "linecolor": "#506784",
           "ticks": "",
           "title": {
            "standoff": 15
           },
           "zerolinecolor": "#283442",
           "zerolinewidth": 2
          }
         }
        },
        "title": {
         "text": "Bankruptcy"
        },
        "width": 1000,
        "xaxis": {
         "anchor": "y",
         "domain": [
          0,
          0.45
         ],
         "tickangle": -90
        },
        "xaxis2": {
         "anchor": "y2",
         "domain": [
          0.55,
          1
         ],
         "tickangle": -90
        },
        "yaxis": {
         "anchor": "x",
         "domain": [
          0,
          1
         ],
         "title": {
          "text": "frequency"
         }
        },
        "yaxis2": {
         "anchor": "x2",
         "domain": [
          0,
          1
         ],
         "title": {
          "text": "%"
         }
        }
       }
      }
     },
     "metadata": {},
     "output_type": "display_data"
    }
   ],
   "source": [
    "comp_type_index = list(data_agg.index.values)\n",
    "plot_dist_bar(data_agg[\"values\"],data_agg[\"perc%\"], title=\"Bankruptcy\")"
   ]
  },
  {
   "cell_type": "code",
   "execution_count": 13,
   "metadata": {},
   "outputs": [
    {
     "name": "stdout",
     "output_type": "stream",
     "text": [
      "The feature/features {'Net Income Flag'} has/have no variance and are nearly constant and it has been dropped\n"
     ]
    }
   ],
   "source": [
    "data_variance  = data_nomsn.loc[:,data_nomsn.apply(pd.Series.nunique) != 1]\n",
    "print(f\"The feature/features {set(data_nomsn.columns).difference(set(data_variance.columns))} \\\n",
    "has/have no variance and are nearly constant and it has been dropped\")"
   ]
  },
  {
   "cell_type": "code",
   "execution_count": 14,
   "metadata": {},
   "outputs": [
    {
     "name": "stdout",
     "output_type": "stream",
     "text": [
      "  Realized Sales Gross Margin Allocation rate per person     Company type\n",
      "0                    0.601457                   0.037135      Partnership\n",
      "1                    0.610235                   0.012335      Partnership\n",
      "2                    0.601364                   0.141016      Partnership\n",
      "3                    0.583541                    0.02132      Partnership\n",
      "4                    0.598783                   0.023988  Limited Company\n"
     ]
    }
   ],
   "source": [
    "# fixing datatype issue, numerical assigned as categorical\n",
    "print(data_variance.select_dtypes(include=\"object\").head())\n",
    "potential_conversion_col = [\"Realized Sales Gross Margin\", \"Allocation rate per person\"]"
   ]
  },
  {
   "cell_type": "code",
   "execution_count": 15,
   "metadata": {},
   "outputs": [
    {
     "name": "stderr",
     "output_type": "stream",
     "text": [
      "/var/folders/2z/yr5vgc5x38s4kz3c_crxr4q00000gn/T/ipykernel_4497/3722411541.py:2: SettingWithCopyWarning:\n",
      "\n",
      "\n",
      "A value is trying to be set on a copy of a slice from a DataFrame.\n",
      "Try using .loc[row_indexer,col_indexer] = value instead\n",
      "\n",
      "See the caveats in the documentation: https://pandas.pydata.org/pandas-docs/stable/user_guide/indexing.html#returning-a-view-versus-a-copy\n",
      "\n"
     ]
    }
   ],
   "source": [
    "for c in potential_conversion_col:\n",
    "    data_variance.loc[:,c] = (data_variance.loc[:,c]\n",
    "    .replace(to_replace='(\\d*\\.?\\d*)',value=0, regex=True)\n",
    "    .astype(float))"
   ]
  },
  {
   "cell_type": "code",
   "execution_count": 16,
   "metadata": {},
   "outputs": [
    {
     "name": "stderr",
     "output_type": "stream",
     "text": [
      "/var/folders/2z/yr5vgc5x38s4kz3c_crxr4q00000gn/T/ipykernel_4497/4070426772.py:4: SettingWithCopyWarning:\n",
      "\n",
      "\n",
      "A value is trying to be set on a copy of a slice from a DataFrame.\n",
      "Try using .loc[row_indexer,col_indexer] = value instead\n",
      "\n",
      "See the caveats in the documentation: https://pandas.pydata.org/pandas-docs/stable/user_guide/indexing.html#returning-a-view-versus-a-copy\n",
      "\n"
     ]
    }
   ],
   "source": [
    "# convert categoricals to float\n",
    "cat_cols = list(data_variance.dtypes[data_variance.dtypes==\"object\"].index)\n",
    "for c in cat_cols:\n",
    "    data_variance.loc[:,c] = data_variance.loc[:,c].astype(\"category\")\n"
   ]
  },
  {
   "cell_type": "code",
   "execution_count": 17,
   "metadata": {},
   "outputs": [],
   "source": [
    "data_num = data_variance.select_dtypes(exclude=\"category\")\n",
    "data_cat = data_variance.select_dtypes(include=\"category\")"
   ]
  },
  {
   "cell_type": "markdown",
   "metadata": {},
   "source": [
    "### Point Biseral Correlation"
   ]
  },
  {
   "cell_type": "code",
   "execution_count": 18,
   "metadata": {},
   "outputs": [],
   "source": [
    "pointbiserial_dict = {}\n",
    "for c in data_num.columns:\n",
    "    pointbiserial_dict[c+\"_\"+target] = pointbiserialr(data_num[c].values, data_num[target].values)[0]\n",
    "    "
   ]
  },
  {
   "cell_type": "code",
   "execution_count": 19,
   "metadata": {},
   "outputs": [
    {
     "data": {
      "application/vnd.plotly.v1+json": {
       "config": {
        "plotlyServerURL": "https://plot.ly"
       },
       "data": [
        {
         "type": "bar",
         "x": [
          "Net Income to Total Assets_Bankruptcy",
          "ROA(A) before interest and % after tax_Bankruptcy",
          "ROA(B) before interest and depreciation after tax_Bankruptcy",
          "ROA(C) before interest and depreciation before interest_Bankruptcy",
          "Net worth/Assets_Bankruptcy",
          "Persistent EPS in the Last Four Seasons_Bankruptcy",
          "Retained Earnings to Total Assets_Bankruptcy",
          "Net profit before tax/Paid-in capital_Bankruptcy",
          "Per Share Net profit before tax (Yuan ¬•)_Bankruptcy",
          "Working Capital to Total Assets_Bankruptcy",
          "Net Income to Stockholder's Equity_Bankruptcy",
          "Net Value Per Share (A)_Bankruptcy",
          "Net Value Per Share (B)_Bankruptcy",
          "Net Value Per Share (C)_Bankruptcy",
          "Working Capital/Equity_Bankruptcy",
          "Operating Profit Per Share (Yuan ¬•)_Bankruptcy",
          "Operating profit/Paid-in capital_Bankruptcy",
          "CFO to Assets_Bankruptcy",
          "Tax rate (A)_Bankruptcy",
          "Cash/Total Assets_Bankruptcy",
          "Gross Profit to Sales_Bankruptcy",
          "Operating Gross Margin_Bankruptcy",
          "Operating profit per person_Bankruptcy",
          "Realized Sales Gross Margin_Bankruptcy",
          "Quick Assets/Total Assets_Bankruptcy",
          "Equity to Liability_Bankruptcy",
          "Cash Flow Per Share_Bankruptcy",
          "Operating Funds to Liability_Bankruptcy",
          "Cash flow rate_Bankruptcy",
          "Cash Flow to Total Assets_Bankruptcy",
          "Total Asset Turnover_Bankruptcy",
          "Cash Flow to Equity_Bankruptcy",
          "Cash Reinvestment %_Bankruptcy",
          "Total Asset Growth Rate_Bankruptcy",
          "Current Assets/Total Assets_Bankruptcy",
          "Cash Flow to Liability_Bankruptcy",
          "After-tax Net Profit Growth Rate_Bankruptcy",
          "Regular Net Profit Growth Rate_Bankruptcy",
          "Research and development expense rate_Bankruptcy",
          "Interest-bearing debt interest rate_Bankruptcy",
          "Current Liabilities/Liability_Bankruptcy",
          "Current Liability to Liability_Bankruptcy",
          "Cash Turnover Rate_Bankruptcy",
          "Total Asset Return Growth Rate Ratio_Bankruptcy",
          "Non-industry income and expenditure/revenue_Bankruptcy",
          "Operating Profit Growth Rate_Bankruptcy",
          "Continuous Net Profit Growth Rate_Bankruptcy",
          "After-tax net Interest Rate_Bankruptcy",
          "Pre-tax net Interest Rate_Bankruptcy",
          "Continuous interest rate (after tax)_Bankruptcy",
          "Total income/Total expense_Bankruptcy",
          "Average Collection Days_Bankruptcy",
          "Operating Expense Rate_Bankruptcy",
          "Interest Coverage Ratio (Interest expense to EBIT)_Bankruptcy",
          "No-credit Interval_Bankruptcy",
          "Accounts Receivable Turnover_Bankruptcy",
          "Revenue Per Share (Yuan ¬•)_Bankruptcy",
          "Quick Assets/Current Liability_Bankruptcy",
          "Working capitcal Turnover Rate_Bankruptcy",
          "Inventory Turnover Rate (times)_Bankruptcy",
          "Interest Expense Ratio_Bankruptcy",
          "Current Ratio_Bankruptcy",
          "Inventory/Working Capital_Bankruptcy",
          "Realized Sales Gross Profit Growth Rate_Bankruptcy",
          "Operating Profit Rate_Bankruptcy",
          "Cash Flow to Sales_Bankruptcy",
          "Long-term Liability to Current Assets_Bankruptcy",
          "Inventory/Current Liability_Bankruptcy",
          "Allocation rate per person_Bankruptcy",
          "Degree of Financial Leverage (DFL)_Bankruptcy",
          "Total debt/Total net worth_Bankruptcy",
          "Current Asset Turnover Rate_Bankruptcy",
          "Long-term fund suitability ratio (A)_Bankruptcy",
          "Net Worth Turnover Rate (times)_Bankruptcy",
          "Quick Asset Turnover Rate_Bankruptcy",
          "Quick Ratio_Bankruptcy",
          "Total assets to GNP price_Bankruptcy",
          "Revenue per person_Bankruptcy",
          "Net Value Growth Rate_Bankruptcy",
          "Fixed Assets to Assets_Bankruptcy",
          "Contingent liabilities/Net worth_Bankruptcy",
          "Fixed Assets Turnover Frequency_Bankruptcy",
          "Inventory and accounts receivable/Net value_Bankruptcy",
          "Cash/Current Liability_Bankruptcy",
          "Equity to Long-term Liability_Bankruptcy",
          "Liability-Assets Flag_Bankruptcy",
          "Total expense/Assets_Bankruptcy",
          "Current Liability to Equity_Bankruptcy",
          "Current Liabilities/Equity_Bankruptcy",
          "Liability to Equity_Bankruptcy",
          "Current Liability to Current Assets_Bankruptcy",
          "Borrowing dependency_Bankruptcy",
          "Current Liability to Assets_Bankruptcy",
          "Debt ratio %_Bankruptcy",
          "Bankruptcy_Bankruptcy"
         ],
         "y": [
          -0.31564245668164265,
          -0.28309051546595626,
          -0.2731308050852253,
          -0.2609100611272451,
          -0.24971144543582954,
          -0.21936496084617207,
          -0.21806112774391298,
          -0.2076764940835084,
          -0.2012403402254306,
          -0.19232951104788118,
          -0.18120645102880029,
          -0.16537744443590222,
          -0.16530422280588802,
          -0.16468638459904403,
          -0.14701833789494756,
          -0.1418392948999025,
          -0.14089766198329734,
          -0.11521387222473582,
          -0.10931049829032276,
          -0.09985114004340706,
          -0.09968721500224531,
          -0.0996864921504156,
          -0.0927613611945121,
          -0.08996987917143194,
          -0.08571981360283243,
          -0.08281934515596506,
          -0.07740326313376983,
          -0.07696477465565062,
          -0.0722398189202224,
          -0.07053321383970343,
          -0.06742683045214756,
          -0.05863736891175366,
          -0.05128035093900799,
          -0.04467848127879986,
          -0.04401821952968755,
          -0.04317777218328946,
          -0.03785683221120809,
          -0.036891262027248,
          -0.02377673193322774,
          -0.02302055406903357,
          -0.020308945333628148,
          -0.020308945333628148,
          -0.017715100873056663,
          -0.01685198815419467,
          -0.01660717644636808,
          -0.015196014923982093,
          -0.00941685326079223,
          -0.008873409302606158,
          -0.00852906277944802,
          -0.008405856016676542,
          -0.007121784002753985,
          -0.006546442346862077,
          -0.0054925138392923145,
          -0.005208240057128537,
          -0.005131684894667682,
          -0.004736046942757366,
          -0.004686598987165424,
          -0.0038183481105641065,
          -0.002888357847056644,
          -0.0026455818319993376,
          -0.0024486607758600343,
          -0.0022087161695835576,
          -0.0018572593484365038,
          -0.00043667320176200706,
          -0.00023419493147337715,
          0.00047712003208414387,
          0.00083878479255996,
          0.0008831688174800877,
          0.0028587107667615674,
          0.010606414756326822,
          0.012357180957242102,
          0.01258410299551862,
          0.01704313737860598,
          0.021413946238861486,
          0.02450816419679554,
          0.0251351906977181,
          0.035212881616994096,
          0.03981733912919731,
          0.0654832078612653,
          0.06648336409078134,
          0.07051864065700657,
          0.0713004366148337,
          0.07562151841095763,
          0.07813963302174018,
          0.13900607004334375,
          0.13954245061020082,
          0.13972549840149123,
          0.1539548621660691,
          0.1539548621660691,
          0.1668402189894439,
          0.17059165075072683,
          0.17645354339972424,
          0.1945084499054984,
          0.24971144543582954,
          0.9999999999999937
         ]
        }
       ],
       "layout": {
        "height": 800,
        "template": {
         "data": {
          "bar": [
           {
            "error_x": {
             "color": "#f2f5fa"
            },
            "error_y": {
             "color": "#f2f5fa"
            },
            "marker": {
             "line": {
              "color": "rgb(17,17,17)",
              "width": 0.5
             },
             "pattern": {
              "fillmode": "overlay",
              "size": 10,
              "solidity": 0.2
             }
            },
            "type": "bar"
           }
          ],
          "barpolar": [
           {
            "marker": {
             "line": {
              "color": "rgb(17,17,17)",
              "width": 0.5
             },
             "pattern": {
              "fillmode": "overlay",
              "size": 10,
              "solidity": 0.2
             }
            },
            "type": "barpolar"
           }
          ],
          "carpet": [
           {
            "aaxis": {
             "endlinecolor": "#A2B1C6",
             "gridcolor": "#506784",
             "linecolor": "#506784",
             "minorgridcolor": "#506784",
             "startlinecolor": "#A2B1C6"
            },
            "baxis": {
             "endlinecolor": "#A2B1C6",
             "gridcolor": "#506784",
             "linecolor": "#506784",
             "minorgridcolor": "#506784",
             "startlinecolor": "#A2B1C6"
            },
            "type": "carpet"
           }
          ],
          "choropleth": [
           {
            "colorbar": {
             "outlinewidth": 0,
             "ticks": ""
            },
            "type": "choropleth"
           }
          ],
          "contour": [
           {
            "colorbar": {
             "outlinewidth": 0,
             "ticks": ""
            },
            "colorscale": [
             [
              0,
              "#0d0887"
             ],
             [
              0.1111111111111111,
              "#46039f"
             ],
             [
              0.2222222222222222,
              "#7201a8"
             ],
             [
              0.3333333333333333,
              "#9c179e"
             ],
             [
              0.4444444444444444,
              "#bd3786"
             ],
             [
              0.5555555555555556,
              "#d8576b"
             ],
             [
              0.6666666666666666,
              "#ed7953"
             ],
             [
              0.7777777777777778,
              "#fb9f3a"
             ],
             [
              0.8888888888888888,
              "#fdca26"
             ],
             [
              1,
              "#f0f921"
             ]
            ],
            "type": "contour"
           }
          ],
          "contourcarpet": [
           {
            "colorbar": {
             "outlinewidth": 0,
             "ticks": ""
            },
            "type": "contourcarpet"
           }
          ],
          "heatmap": [
           {
            "colorbar": {
             "outlinewidth": 0,
             "ticks": ""
            },
            "colorscale": [
             [
              0,
              "#0d0887"
             ],
             [
              0.1111111111111111,
              "#46039f"
             ],
             [
              0.2222222222222222,
              "#7201a8"
             ],
             [
              0.3333333333333333,
              "#9c179e"
             ],
             [
              0.4444444444444444,
              "#bd3786"
             ],
             [
              0.5555555555555556,
              "#d8576b"
             ],
             [
              0.6666666666666666,
              "#ed7953"
             ],
             [
              0.7777777777777778,
              "#fb9f3a"
             ],
             [
              0.8888888888888888,
              "#fdca26"
             ],
             [
              1,
              "#f0f921"
             ]
            ],
            "type": "heatmap"
           }
          ],
          "heatmapgl": [
           {
            "colorbar": {
             "outlinewidth": 0,
             "ticks": ""
            },
            "colorscale": [
             [
              0,
              "#0d0887"
             ],
             [
              0.1111111111111111,
              "#46039f"
             ],
             [
              0.2222222222222222,
              "#7201a8"
             ],
             [
              0.3333333333333333,
              "#9c179e"
             ],
             [
              0.4444444444444444,
              "#bd3786"
             ],
             [
              0.5555555555555556,
              "#d8576b"
             ],
             [
              0.6666666666666666,
              "#ed7953"
             ],
             [
              0.7777777777777778,
              "#fb9f3a"
             ],
             [
              0.8888888888888888,
              "#fdca26"
             ],
             [
              1,
              "#f0f921"
             ]
            ],
            "type": "heatmapgl"
           }
          ],
          "histogram": [
           {
            "marker": {
             "pattern": {
              "fillmode": "overlay",
              "size": 10,
              "solidity": 0.2
             }
            },
            "type": "histogram"
           }
          ],
          "histogram2d": [
           {
            "colorbar": {
             "outlinewidth": 0,
             "ticks": ""
            },
            "colorscale": [
             [
              0,
              "#0d0887"
             ],
             [
              0.1111111111111111,
              "#46039f"
             ],
             [
              0.2222222222222222,
              "#7201a8"
             ],
             [
              0.3333333333333333,
              "#9c179e"
             ],
             [
              0.4444444444444444,
              "#bd3786"
             ],
             [
              0.5555555555555556,
              "#d8576b"
             ],
             [
              0.6666666666666666,
              "#ed7953"
             ],
             [
              0.7777777777777778,
              "#fb9f3a"
             ],
             [
              0.8888888888888888,
              "#fdca26"
             ],
             [
              1,
              "#f0f921"
             ]
            ],
            "type": "histogram2d"
           }
          ],
          "histogram2dcontour": [
           {
            "colorbar": {
             "outlinewidth": 0,
             "ticks": ""
            },
            "colorscale": [
             [
              0,
              "#0d0887"
             ],
             [
              0.1111111111111111,
              "#46039f"
             ],
             [
              0.2222222222222222,
              "#7201a8"
             ],
             [
              0.3333333333333333,
              "#9c179e"
             ],
             [
              0.4444444444444444,
              "#bd3786"
             ],
             [
              0.5555555555555556,
              "#d8576b"
             ],
             [
              0.6666666666666666,
              "#ed7953"
             ],
             [
              0.7777777777777778,
              "#fb9f3a"
             ],
             [
              0.8888888888888888,
              "#fdca26"
             ],
             [
              1,
              "#f0f921"
             ]
            ],
            "type": "histogram2dcontour"
           }
          ],
          "mesh3d": [
           {
            "colorbar": {
             "outlinewidth": 0,
             "ticks": ""
            },
            "type": "mesh3d"
           }
          ],
          "parcoords": [
           {
            "line": {
             "colorbar": {
              "outlinewidth": 0,
              "ticks": ""
             }
            },
            "type": "parcoords"
           }
          ],
          "pie": [
           {
            "automargin": true,
            "type": "pie"
           }
          ],
          "scatter": [
           {
            "marker": {
             "line": {
              "color": "#283442"
             }
            },
            "type": "scatter"
           }
          ],
          "scatter3d": [
           {
            "line": {
             "colorbar": {
              "outlinewidth": 0,
              "ticks": ""
             }
            },
            "marker": {
             "colorbar": {
              "outlinewidth": 0,
              "ticks": ""
             }
            },
            "type": "scatter3d"
           }
          ],
          "scattercarpet": [
           {
            "marker": {
             "colorbar": {
              "outlinewidth": 0,
              "ticks": ""
             }
            },
            "type": "scattercarpet"
           }
          ],
          "scattergeo": [
           {
            "marker": {
             "colorbar": {
              "outlinewidth": 0,
              "ticks": ""
             }
            },
            "type": "scattergeo"
           }
          ],
          "scattergl": [
           {
            "marker": {
             "line": {
              "color": "#283442"
             }
            },
            "type": "scattergl"
           }
          ],
          "scattermapbox": [
           {
            "marker": {
             "colorbar": {
              "outlinewidth": 0,
              "ticks": ""
             }
            },
            "type": "scattermapbox"
           }
          ],
          "scatterpolar": [
           {
            "marker": {
             "colorbar": {
              "outlinewidth": 0,
              "ticks": ""
             }
            },
            "type": "scatterpolar"
           }
          ],
          "scatterpolargl": [
           {
            "marker": {
             "colorbar": {
              "outlinewidth": 0,
              "ticks": ""
             }
            },
            "type": "scatterpolargl"
           }
          ],
          "scatterternary": [
           {
            "marker": {
             "colorbar": {
              "outlinewidth": 0,
              "ticks": ""
             }
            },
            "type": "scatterternary"
           }
          ],
          "surface": [
           {
            "colorbar": {
             "outlinewidth": 0,
             "ticks": ""
            },
            "colorscale": [
             [
              0,
              "#0d0887"
             ],
             [
              0.1111111111111111,
              "#46039f"
             ],
             [
              0.2222222222222222,
              "#7201a8"
             ],
             [
              0.3333333333333333,
              "#9c179e"
             ],
             [
              0.4444444444444444,
              "#bd3786"
             ],
             [
              0.5555555555555556,
              "#d8576b"
             ],
             [
              0.6666666666666666,
              "#ed7953"
             ],
             [
              0.7777777777777778,
              "#fb9f3a"
             ],
             [
              0.8888888888888888,
              "#fdca26"
             ],
             [
              1,
              "#f0f921"
             ]
            ],
            "type": "surface"
           }
          ],
          "table": [
           {
            "cells": {
             "fill": {
              "color": "#506784"
             },
             "line": {
              "color": "rgb(17,17,17)"
             }
            },
            "header": {
             "fill": {
              "color": "#2a3f5f"
             },
             "line": {
              "color": "rgb(17,17,17)"
             }
            },
            "type": "table"
           }
          ]
         },
         "layout": {
          "annotationdefaults": {
           "arrowcolor": "#f2f5fa",
           "arrowhead": 0,
           "arrowwidth": 1
          },
          "autotypenumbers": "strict",
          "coloraxis": {
           "colorbar": {
            "outlinewidth": 0,
            "ticks": ""
           }
          },
          "colorscale": {
           "diverging": [
            [
             0,
             "#8e0152"
            ],
            [
             0.1,
             "#c51b7d"
            ],
            [
             0.2,
             "#de77ae"
            ],
            [
             0.3,
             "#f1b6da"
            ],
            [
             0.4,
             "#fde0ef"
            ],
            [
             0.5,
             "#f7f7f7"
            ],
            [
             0.6,
             "#e6f5d0"
            ],
            [
             0.7,
             "#b8e186"
            ],
            [
             0.8,
             "#7fbc41"
            ],
            [
             0.9,
             "#4d9221"
            ],
            [
             1,
             "#276419"
            ]
           ],
           "sequential": [
            [
             0,
             "#0d0887"
            ],
            [
             0.1111111111111111,
             "#46039f"
            ],
            [
             0.2222222222222222,
             "#7201a8"
            ],
            [
             0.3333333333333333,
             "#9c179e"
            ],
            [
             0.4444444444444444,
             "#bd3786"
            ],
            [
             0.5555555555555556,
             "#d8576b"
            ],
            [
             0.6666666666666666,
             "#ed7953"
            ],
            [
             0.7777777777777778,
             "#fb9f3a"
            ],
            [
             0.8888888888888888,
             "#fdca26"
            ],
            [
             1,
             "#f0f921"
            ]
           ],
           "sequentialminus": [
            [
             0,
             "#0d0887"
            ],
            [
             0.1111111111111111,
             "#46039f"
            ],
            [
             0.2222222222222222,
             "#7201a8"
            ],
            [
             0.3333333333333333,
             "#9c179e"
            ],
            [
             0.4444444444444444,
             "#bd3786"
            ],
            [
             0.5555555555555556,
             "#d8576b"
            ],
            [
             0.6666666666666666,
             "#ed7953"
            ],
            [
             0.7777777777777778,
             "#fb9f3a"
            ],
            [
             0.8888888888888888,
             "#fdca26"
            ],
            [
             1,
             "#f0f921"
            ]
           ]
          },
          "colorway": [
           "#636efa",
           "#EF553B",
           "#00cc96",
           "#ab63fa",
           "#FFA15A",
           "#19d3f3",
           "#FF6692",
           "#B6E880",
           "#FF97FF",
           "#FECB52"
          ],
          "font": {
           "color": "#f2f5fa"
          },
          "geo": {
           "bgcolor": "rgb(17,17,17)",
           "lakecolor": "rgb(17,17,17)",
           "landcolor": "rgb(17,17,17)",
           "showlakes": true,
           "showland": true,
           "subunitcolor": "#506784"
          },
          "hoverlabel": {
           "align": "left"
          },
          "hovermode": "closest",
          "mapbox": {
           "style": "dark"
          },
          "paper_bgcolor": "rgb(17,17,17)",
          "plot_bgcolor": "rgb(17,17,17)",
          "polar": {
           "angularaxis": {
            "gridcolor": "#506784",
            "linecolor": "#506784",
            "ticks": ""
           },
           "bgcolor": "rgb(17,17,17)",
           "radialaxis": {
            "gridcolor": "#506784",
            "linecolor": "#506784",
            "ticks": ""
           }
          },
          "scene": {
           "xaxis": {
            "backgroundcolor": "rgb(17,17,17)",
            "gridcolor": "#506784",
            "gridwidth": 2,
            "linecolor": "#506784",
            "showbackground": true,
            "ticks": "",
            "zerolinecolor": "#C8D4E3"
           },
           "yaxis": {
            "backgroundcolor": "rgb(17,17,17)",
            "gridcolor": "#506784",
            "gridwidth": 2,
            "linecolor": "#506784",
            "showbackground": true,
            "ticks": "",
            "zerolinecolor": "#C8D4E3"
           },
           "zaxis": {
            "backgroundcolor": "rgb(17,17,17)",
            "gridcolor": "#506784",
            "gridwidth": 2,
            "linecolor": "#506784",
            "showbackground": true,
            "ticks": "",
            "zerolinecolor": "#C8D4E3"
           }
          },
          "shapedefaults": {
           "line": {
            "color": "#f2f5fa"
           }
          },
          "sliderdefaults": {
           "bgcolor": "#C8D4E3",
           "bordercolor": "rgb(17,17,17)",
           "borderwidth": 1,
           "tickwidth": 0
          },
          "ternary": {
           "aaxis": {
            "gridcolor": "#506784",
            "linecolor": "#506784",
            "ticks": ""
           },
           "baxis": {
            "gridcolor": "#506784",
            "linecolor": "#506784",
            "ticks": ""
           },
           "bgcolor": "rgb(17,17,17)",
           "caxis": {
            "gridcolor": "#506784",
            "linecolor": "#506784",
            "ticks": ""
           }
          },
          "title": {
           "x": 0.05
          },
          "updatemenudefaults": {
           "bgcolor": "#506784",
           "borderwidth": 0
          },
          "xaxis": {
           "automargin": true,
           "gridcolor": "#283442",
           "linecolor": "#506784",
           "ticks": "",
           "title": {
            "standoff": 15
           },
           "zerolinecolor": "#283442",
           "zerolinewidth": 2
          },
          "yaxis": {
           "automargin": true,
           "gridcolor": "#283442",
           "linecolor": "#506784",
           "ticks": "",
           "title": {
            "standoff": 15
           },
           "zerolinecolor": "#283442",
           "zerolinewidth": 2
          }
         }
        },
        "title": {
         "text": "Point Biseral Correlation"
        },
        "width": 1200,
        "xaxis": {
         "tickangle": -90
        }
       }
      }
     },
     "metadata": {},
     "output_type": "display_data"
    }
   ],
   "source": [
    "pb_corr = pd.Series(pointbiserial_dict).to_frame(name=\"correlation\").sort_values(by=\"correlation\")\n",
    "\n",
    "fig = go.Figure([go.Bar(x=pb_corr.index, y=pb_corr.values.flatten())])\n",
    "fig.update_layout(width=1200, height=800,xaxis_tickangle=-90, title=\"Point Biseral Correlation\")\n"
   ]
  },
  {
   "cell_type": "code",
   "execution_count": 20,
   "metadata": {},
   "outputs": [
    {
     "data": {
      "application/vnd.plotly.v1+json": {
       "config": {
        "plotlyServerURL": "https://plot.ly"
       },
       "data": [
        {
         "type": "heatmap",
         "x": [
          "ROA(C) before interest and depreciation before interest",
          "ROA(A) before interest and % after tax",
          "ROA(B) before interest and depreciation after tax",
          "Operating Gross Margin",
          "Realized Sales Gross Margin",
          "Operating Profit Rate",
          "Pre-tax net Interest Rate",
          "After-tax net Interest Rate",
          "Non-industry income and expenditure/revenue",
          "Continuous interest rate (after tax)",
          "Operating Expense Rate",
          "Research and development expense rate",
          "Cash flow rate",
          "Interest-bearing debt interest rate",
          "Tax rate (A)",
          "Net Value Per Share (B)",
          "Net Value Per Share (A)",
          "Net Value Per Share (C)",
          "Persistent EPS in the Last Four Seasons",
          "Cash Flow Per Share",
          "Revenue Per Share (Yuan ¬•)",
          "Operating Profit Per Share (Yuan ¬•)",
          "Per Share Net profit before tax (Yuan ¬•)",
          "Realized Sales Gross Profit Growth Rate",
          "Operating Profit Growth Rate",
          "After-tax Net Profit Growth Rate",
          "Regular Net Profit Growth Rate",
          "Continuous Net Profit Growth Rate",
          "Total Asset Growth Rate",
          "Net Value Growth Rate",
          "Total Asset Return Growth Rate Ratio",
          "Cash Reinvestment %",
          "Current Ratio",
          "Quick Ratio",
          "Interest Expense Ratio",
          "Total debt/Total net worth",
          "Debt ratio %",
          "Net worth/Assets",
          "Long-term fund suitability ratio (A)",
          "Borrowing dependency",
          "Contingent liabilities/Net worth",
          "Operating profit/Paid-in capital",
          "Net profit before tax/Paid-in capital",
          "Inventory and accounts receivable/Net value",
          "Total Asset Turnover",
          "Accounts Receivable Turnover",
          "Average Collection Days",
          "Inventory Turnover Rate (times)",
          "Fixed Assets Turnover Frequency",
          "Net Worth Turnover Rate (times)",
          "Revenue per person",
          "Operating profit per person",
          "Allocation rate per person",
          "Working Capital to Total Assets",
          "Quick Assets/Total Assets",
          "Current Assets/Total Assets",
          "Cash/Total Assets",
          "Quick Assets/Current Liability",
          "Cash/Current Liability",
          "Current Liability to Assets",
          "Operating Funds to Liability",
          "Inventory/Working Capital",
          "Inventory/Current Liability",
          "Current Liabilities/Liability",
          "Working Capital/Equity",
          "Current Liabilities/Equity",
          "Long-term Liability to Current Assets",
          "Retained Earnings to Total Assets",
          "Total income/Total expense",
          "Total expense/Assets",
          "Current Asset Turnover Rate",
          "Quick Asset Turnover Rate",
          "Working capitcal Turnover Rate",
          "Cash Turnover Rate",
          "Cash Flow to Sales",
          "Fixed Assets to Assets",
          "Current Liability to Liability",
          "Current Liability to Equity",
          "Equity to Long-term Liability",
          "Cash Flow to Total Assets",
          "Cash Flow to Liability",
          "CFO to Assets",
          "Cash Flow to Equity",
          "Current Liability to Current Assets",
          "Liability-Assets Flag",
          "Net Income to Total Assets",
          "Total assets to GNP price",
          "No-credit Interval",
          "Gross Profit to Sales",
          "Net Income to Stockholder's Equity",
          "Liability to Equity",
          "Degree of Financial Leverage (DFL)",
          "Interest Coverage Ratio (Interest expense to EBIT)",
          "Equity to Liability"
         ],
         "y": [
          "ROA(C) before interest and depreciation before interest",
          "ROA(A) before interest and % after tax",
          "ROA(B) before interest and depreciation after tax",
          "Operating Gross Margin",
          "Realized Sales Gross Margin",
          "Operating Profit Rate",
          "Pre-tax net Interest Rate",
          "After-tax net Interest Rate",
          "Non-industry income and expenditure/revenue",
          "Continuous interest rate (after tax)",
          "Operating Expense Rate",
          "Research and development expense rate",
          "Cash flow rate",
          "Interest-bearing debt interest rate",
          "Tax rate (A)",
          "Net Value Per Share (B)",
          "Net Value Per Share (A)",
          "Net Value Per Share (C)",
          "Persistent EPS in the Last Four Seasons",
          "Cash Flow Per Share",
          "Revenue Per Share (Yuan ¬•)",
          "Operating Profit Per Share (Yuan ¬•)",
          "Per Share Net profit before tax (Yuan ¬•)",
          "Realized Sales Gross Profit Growth Rate",
          "Operating Profit Growth Rate",
          "After-tax Net Profit Growth Rate",
          "Regular Net Profit Growth Rate",
          "Continuous Net Profit Growth Rate",
          "Total Asset Growth Rate",
          "Net Value Growth Rate",
          "Total Asset Return Growth Rate Ratio",
          "Cash Reinvestment %",
          "Current Ratio",
          "Quick Ratio",
          "Interest Expense Ratio",
          "Total debt/Total net worth",
          "Debt ratio %",
          "Net worth/Assets",
          "Long-term fund suitability ratio (A)",
          "Borrowing dependency",
          "Contingent liabilities/Net worth",
          "Operating profit/Paid-in capital",
          "Net profit before tax/Paid-in capital",
          "Inventory and accounts receivable/Net value",
          "Total Asset Turnover",
          "Accounts Receivable Turnover",
          "Average Collection Days",
          "Inventory Turnover Rate (times)",
          "Fixed Assets Turnover Frequency",
          "Net Worth Turnover Rate (times)",
          "Revenue per person",
          "Operating profit per person",
          "Allocation rate per person",
          "Working Capital to Total Assets",
          "Quick Assets/Total Assets",
          "Current Assets/Total Assets",
          "Cash/Total Assets",
          "Quick Assets/Current Liability",
          "Cash/Current Liability",
          "Current Liability to Assets",
          "Operating Funds to Liability",
          "Inventory/Working Capital",
          "Inventory/Current Liability",
          "Current Liabilities/Liability",
          "Working Capital/Equity",
          "Current Liabilities/Equity",
          "Long-term Liability to Current Assets",
          "Retained Earnings to Total Assets",
          "Total income/Total expense",
          "Total expense/Assets",
          "Current Asset Turnover Rate",
          "Quick Asset Turnover Rate",
          "Working capitcal Turnover Rate",
          "Cash Turnover Rate",
          "Cash Flow to Sales",
          "Fixed Assets to Assets",
          "Current Liability to Liability",
          "Current Liability to Equity",
          "Equity to Long-term Liability",
          "Cash Flow to Total Assets",
          "Cash Flow to Liability",
          "CFO to Assets",
          "Cash Flow to Equity",
          "Current Liability to Current Assets",
          "Liability-Assets Flag",
          "Net Income to Total Assets",
          "Total assets to GNP price",
          "No-credit Interval",
          "Gross Profit to Sales",
          "Net Income to Stockholder's Equity",
          "Liability to Equity",
          "Degree of Financial Leverage (DFL)",
          "Interest Coverage Ratio (Interest expense to EBIT)",
          "Equity to Liability"
         ],
         "z": [
          [
           null,
           null,
           null,
           null,
           null,
           null,
           null,
           null,
           null,
           null,
           null,
           null,
           null,
           null,
           null,
           null,
           null,
           null,
           null,
           null,
           null,
           null,
           null,
           null,
           null,
           null,
           null,
           null,
           null,
           null,
           null,
           null,
           null,
           null,
           null,
           null,
           null,
           null,
           null,
           null,
           null,
           null,
           null,
           null,
           null,
           null,
           null,
           null,
           null,
           null,
           null,
           null,
           null,
           null,
           null,
           null,
           null,
           null,
           null,
           null,
           null,
           null,
           null,
           null,
           null,
           null,
           null,
           null,
           null,
           null,
           null,
           null,
           null,
           null,
           null,
           null,
           null,
           null,
           null,
           null,
           null,
           null,
           null,
           null,
           null,
           null,
           null,
           null,
           null,
           null,
           null,
           null,
           null,
           null
          ],
          [
           0.9400856218819112,
           null,
           null,
           null,
           null,
           null,
           null,
           null,
           null,
           null,
           null,
           null,
           null,
           null,
           null,
           null,
           null,
           null,
           null,
           null,
           null,
           null,
           null,
           null,
           null,
           null,
           null,
           null,
           null,
           null,
           null,
           null,
           null,
           null,
           null,
           null,
           null,
           null,
           null,
           null,
           null,
           null,
           null,
           null,
           null,
           null,
           null,
           null,
           null,
           null,
           null,
           null,
           null,
           null,
           null,
           null,
           null,
           null,
           null,
           null,
           null,
           null,
           null,
           null,
           null,
           null,
           null,
           null,
           null,
           null,
           null,
           null,
           null,
           null,
           null,
           null,
           null,
           null,
           null,
           null,
           null,
           null,
           null,
           null,
           null,
           null,
           null,
           null,
           null,
           null,
           null,
           null,
           null,
           null
          ],
          [
           0.9868435447704506,
           0.9557068617387128,
           null,
           null,
           null,
           null,
           null,
           null,
           null,
           null,
           null,
           null,
           null,
           null,
           null,
           null,
           null,
           null,
           null,
           null,
           null,
           null,
           null,
           null,
           null,
           null,
           null,
           null,
           null,
           null,
           null,
           null,
           null,
           null,
           null,
           null,
           null,
           null,
           null,
           null,
           null,
           null,
           null,
           null,
           null,
           null,
           null,
           null,
           null,
           null,
           null,
           null,
           null,
           null,
           null,
           null,
           null,
           null,
           null,
           null,
           null,
           null,
           null,
           null,
           null,
           null,
           null,
           null,
           null,
           null,
           null,
           null,
           null,
           null,
           null,
           null,
           null,
           null,
           null,
           null,
           null,
           null,
           null,
           null,
           null,
           null,
           null,
           null,
           null,
           null,
           null,
           null,
           null,
           null
          ],
          [
           0.3345769754629376,
           0.32681684567655633,
           0.333601445174849,
           null,
           null,
           null,
           null,
           null,
           null,
           null,
           null,
           null,
           null,
           null,
           null,
           null,
           null,
           null,
           null,
           null,
           null,
           null,
           null,
           null,
           null,
           null,
           null,
           null,
           null,
           null,
           null,
           null,
           null,
           null,
           null,
           null,
           null,
           null,
           null,
           null,
           null,
           null,
           null,
           null,
           null,
           null,
           null,
           null,
           null,
           null,
           null,
           null,
           null,
           null,
           null,
           null,
           null,
           null,
           null,
           null,
           null,
           null,
           null,
           null,
           null,
           null,
           null,
           null,
           null,
           null,
           null,
           null,
           null,
           null,
           null,
           null,
           null,
           null,
           null,
           null,
           null,
           null,
           null,
           null,
           null,
           null,
           null,
           null,
           null,
           null,
           null,
           null,
           null,
           null
          ],
          [
           0.30269165357342054,
           0.29535080498551464,
           0.30201593537907206,
           0.9162234962975302,
           null,
           null,
           null,
           null,
           null,
           null,
           null,
           null,
           null,
           null,
           null,
           null,
           null,
           null,
           null,
           null,
           null,
           null,
           null,
           null,
           null,
           null,
           null,
           null,
           null,
           null,
           null,
           null,
           null,
           null,
           null,
           null,
           null,
           null,
           null,
           null,
           null,
           null,
           null,
           null,
           null,
           null,
           null,
           null,
           null,
           null,
           null,
           null,
           null,
           null,
           null,
           null,
           null,
           null,
           null,
           null,
           null,
           null,
           null,
           null,
           null,
           null,
           null,
           null,
           null,
           null,
           null,
           null,
           null,
           null,
           null,
           null,
           null,
           null,
           null,
           null,
           null,
           null,
           null,
           null,
           null,
           null,
           null,
           null,
           null,
           null,
           null,
           null,
           null,
           null
          ],
          [
           0.03574183667650187,
           0.03207013436464368,
           0.03523119687755917,
           0.00574803122639585,
           0.005014468126634517,
           null,
           null,
           null,
           null,
           null,
           null,
           null,
           null,
           null,
           null,
           null,
           null,
           null,
           null,
           null,
           null,
           null,
           null,
           null,
           null,
           null,
           null,
           null,
           null,
           null,
           null,
           null,
           null,
           null,
           null,
           null,
           null,
           null,
           null,
           null,
           null,
           null,
           null,
           null,
           null,
           null,
           null,
           null,
           null,
           null,
           null,
           null,
           null,
           null,
           null,
           null,
           null,
           null,
           null,
           null,
           null,
           null,
           null,
           null,
           null,
           null,
           null,
           null,
           null,
           null,
           null,
           null,
           null,
           null,
           null,
           null,
           null,
           null,
           null,
           null,
           null,
           null,
           null,
           null,
           null,
           null,
           null,
           null,
           null,
           null,
           null,
           null,
           null,
           null
          ],
          [
           0.053430704276241324,
           0.0535302601669949,
           0.05373874559879379,
           0.032497891405059376,
           0.02941920931759227,
           0.9164478587561053,
           null,
           null,
           null,
           null,
           null,
           null,
           null,
           null,
           null,
           null,
           null,
           null,
           null,
           null,
           null,
           null,
           null,
           null,
           null,
           null,
           null,
           null,
           null,
           null,
           null,
           null,
           null,
           null,
           null,
           null,
           null,
           null,
           null,
           null,
           null,
           null,
           null,
           null,
           null,
           null,
           null,
           null,
           null,
           null,
           null,
           null,
           null,
           null,
           null,
           null,
           null,
           null,
           null,
           null,
           null,
           null,
           null,
           null,
           null,
           null,
           null,
           null,
           null,
           null,
           null,
           null,
           null,
           null,
           null,
           null,
           null,
           null,
           null,
           null,
           null,
           null,
           null,
           null,
           null,
           null,
           null,
           null,
           null,
           null,
           null,
           null,
           null,
           null
          ],
          [
           0.049233072094739934,
           0.04948667786919656,
           0.04996559201978508,
           0.02718027979692904,
           0.02449691539461708,
           0.8621907393962946,
           0.9863790208121399,
           null,
           null,
           null,
           null,
           null,
           null,
           null,
           null,
           null,
           null,
           null,
           null,
           null,
           null,
           null,
           null,
           null,
           null,
           null,
           null,
           null,
           null,
           null,
           null,
           null,
           null,
           null,
           null,
           null,
           null,
           null,
           null,
           null,
           null,
           null,
           null,
           null,
           null,
           null,
           null,
           null,
           null,
           null,
           null,
           null,
           null,
           null,
           null,
           null,
           null,
           null,
           null,
           null,
           null,
           null,
           null,
           null,
           null,
           null,
           null,
           null,
           null,
           null,
           null,
           null,
           null,
           null,
           null,
           null,
           null,
           null,
           null,
           null,
           null,
           null,
           null,
           null,
           null,
           null,
           null,
           null,
           null,
           null,
           null,
           null,
           null,
           null
          ],
          [
           0.02048164902629281,
           0.029632967930814203,
           0.022346893129453534,
           0.05144040685179697,
           0.047028115997907946,
           -0.5920060322086594,
           -0.22004503493915167,
           -0.11521127204012205,
           null,
           null,
           null,
           null,
           null,
           null,
           null,
           null,
           null,
           null,
           null,
           null,
           null,
           null,
           null,
           null,
           null,
           null,
           null,
           null,
           null,
           null,
           null,
           null,
           null,
           null,
           null,
           null,
           null,
           null,
           null,
           null,
           null,
           null,
           null,
           null,
           null,
           null,
           null,
           null,
           null,
           null,
           null,
           null,
           null,
           null,
           null,
           null,
           null,
           null,
           null,
           null,
           null,
           null,
           null,
           null,
           null,
           null,
           null,
           null,
           null,
           null,
           null,
           null,
           null,
           null,
           null,
           null,
           null,
           null,
           null,
           null,
           null,
           null,
           null,
           null,
           null,
           null,
           null,
           null,
           null,
           null,
           null,
           null,
           null,
           null
          ],
          [
           0.05133667314210123,
           0.04991843326795521,
           0.05227117480497898,
           0.02943343442534572,
           0.02661987390679368,
           0.9155438978303228,
           0.9936165199681187,
           0.9844523319865139,
           -0.23069803838244246,
           null,
           null,
           null,
           null,
           null,
           null,
           null,
           null,
           null,
           null,
           null,
           null,
           null,
           null,
           null,
           null,
           null,
           null,
           null,
           null,
           null,
           null,
           null,
           null,
           null,
           null,
           null,
           null,
           null,
           null,
           null,
           null,
           null,
           null,
           null,
           null,
           null,
           null,
           null,
           null,
           null,
           null,
           null,
           null,
           null,
           null,
           null,
           null,
           null,
           null,
           null,
           null,
           null,
           null,
           null,
           null,
           null,
           null,
           null,
           null,
           null,
           null,
           null,
           null,
           null,
           null,
           null,
           null,
           null,
           null,
           null,
           null,
           null,
           null,
           null,
           null,
           null,
           null,
           null,
           null,
           null,
           null,
           null,
           null,
           null
          ],
          [
           0.06683683379021783,
           0.07564196874559662,
           0.06554072699663277,
           -0.2061558207567446,
           -0.18611915886994218,
           0.013246403909314183,
           0.014243916922000993,
           0.013978186665417456,
           -0.003603711149138144,
           0.013163838919726632,
           null,
           null,
           null,
           null,
           null,
           null,
           null,
           null,
           null,
           null,
           null,
           null,
           null,
           null,
           null,
           null,
           null,
           null,
           null,
           null,
           null,
           null,
           null,
           null,
           null,
           null,
           null,
           null,
           null,
           null,
           null,
           null,
           null,
           null,
           null,
           null,
           null,
           null,
           null,
           null,
           null,
           null,
           null,
           null,
           null,
           null,
           null,
           null,
           null,
           null,
           null,
           null,
           null,
           null,
           null,
           null,
           null,
           null,
           null,
           null,
           null,
           null,
           null,
           null,
           null,
           null,
           null,
           null,
           null,
           null,
           null,
           null,
           null,
           null,
           null,
           null,
           null,
           null,
           null,
           null,
           null,
           null,
           null,
           null
          ],
          [
           0.10653866422085748,
           0.08446322818400877,
           0.10223800900416893,
           -0.017124809257135505,
           -0.015629491567913593,
           0.01640405152305246,
           0.016853774913852277,
           0.016539243267378143,
           -0.006045078007375377,
           0.015744716401196082,
           -0.05988961361397128,
           null,
           null,
           null,
           null,
           null,
           null,
           null,
           null,
           null,
           null,
           null,
           null,
           null,
           null,
           null,
           null,
           null,
           null,
           null,
           null,
           null,
           null,
           null,
           null,
           null,
           null,
           null,
           null,
           null,
           null,
           null,
           null,
           null,
           null,
           null,
           null,
           null,
           null,
           null,
           null,
           null,
           null,
           null,
           null,
           null,
           null,
           null,
           null,
           null,
           null,
           null,
           null,
           null,
           null,
           null,
           null,
           null,
           null,
           null,
           null,
           null,
           null,
           null,
           null,
           null,
           null,
           null,
           null,
           null,
           null,
           null,
           null,
           null,
           null,
           null,
           null,
           null,
           null,
           null,
           null,
           null,
           null,
           null
          ],
          [
           0.3234278409009774,
           0.2883869721876566,
           0.3230041821549973,
           0.3411431448601285,
           0.3138764523177404,
           0.023054128765832897,
           0.02495074936670206,
           0.022814151369797465,
           -0.005948646967416963,
           0.027730540989049108,
           -0.020216106582084503,
           0.030906573529055386,
           null,
           null,
           null,
           null,
           null,
           null,
           null,
           null,
           null,
           null,
           null,
           null,
           null,
           null,
           null,
           null,
           null,
           null,
           null,
           null,
           null,
           null,
           null,
           null,
           null,
           null,
           null,
           null,
           null,
           null,
           null,
           null,
           null,
           null,
           null,
           null,
           null,
           null,
           null,
           null,
           null,
           null,
           null,
           null,
           null,
           null,
           null,
           null,
           null,
           null,
           null,
           null,
           null,
           null,
           null,
           null,
           null,
           null,
           null,
           null,
           null,
           null,
           null,
           null,
           null,
           null,
           null,
           null,
           null,
           null,
           null,
           null,
           null,
           null,
           null,
           null,
           null,
           null,
           null,
           null,
           null,
           null
          ],
          [
           0.0488158273131609,
           0.05030450241703994,
           0.04577091055219712,
           0.01715424556679335,
           0.01639395769763863,
           0.0027866968638144626,
           0.0040324062457286845,
           0.0038262428461779035,
           0.0013282632894932639,
           0.003654840707167502,
           -0.005936077206135525,
           0.0005655805056323438,
           0.011961137530123192,
           null,
           null,
           null,
           null,
           null,
           null,
           null,
           null,
           null,
           null,
           null,
           null,
           null,
           null,
           null,
           null,
           null,
           null,
           null,
           null,
           null,
           null,
           null,
           null,
           null,
           null,
           null,
           null,
           null,
           null,
           null,
           null,
           null,
           null,
           null,
           null,
           null,
           null,
           null,
           null,
           null,
           null,
           null,
           null,
           null,
           null,
           null,
           null,
           null,
           null,
           null,
           null,
           null,
           null,
           null,
           null,
           null,
           null,
           null,
           null,
           null,
           null,
           null,
           null,
           null,
           null,
           null,
           null,
           null,
           null,
           null,
           null,
           null,
           null,
           null,
           null,
           null,
           null,
           null,
           null,
           null
          ],
          [
           0.2506172017520116,
           0.22570100918782401,
           0.1971444848385555,
           0.06797604401403397,
           0.05927984764289482,
           0.019942537753942224,
           0.023004895693185284,
           0.021166428217816585,
           -0.0022822567772375285,
           0.02040701273828479,
           0.060319598992824644,
           -0.018930416648902965,
           0.04974660860213754,
           0.010098794671778478,
           null,
           null,
           null,
           null,
           null,
           null,
           null,
           null,
           null,
           null,
           null,
           null,
           null,
           null,
           null,
           null,
           null,
           null,
           null,
           null,
           null,
           null,
           null,
           null,
           null,
           null,
           null,
           null,
           null,
           null,
           null,
           null,
           null,
           null,
           null,
           null,
           null,
           null,
           null,
           null,
           null,
           null,
           null,
           null,
           null,
           null,
           null,
           null,
           null,
           null,
           null,
           null,
           null,
           null,
           null,
           null,
           null,
           null,
           null,
           null,
           null,
           null,
           null,
           null,
           null,
           null,
           null,
           null,
           null,
           null,
           null,
           null,
           null,
           null,
           null,
           null,
           null,
           null,
           null,
           null
          ],
          [
           0.50537430486802,
           0.531645525527504,
           0.5018452903484396,
           0.1445283463316721,
           0.1321053677335406,
           0.019274542748677143,
           0.03304701684907975,
           0.031383372272099225,
           0.019571453600621798,
           0.030849945466951988,
           0.09073401503672865,
           0.08860039744065003,
           0.15837084124304127,
           0.05024204746793125,
           0.12981415054707462,
           null,
           null,
           null,
           null,
           null,
           null,
           null,
           null,
           null,
           null,
           null,
           null,
           null,
           null,
           null,
           null,
           null,
           null,
           null,
           null,
           null,
           null,
           null,
           null,
           null,
           null,
           null,
           null,
           null,
           null,
           null,
           null,
           null,
           null,
           null,
           null,
           null,
           null,
           null,
           null,
           null,
           null,
           null,
           null,
           null,
           null,
           null,
           null,
           null,
           null,
           null,
           null,
           null,
           null,
           null,
           null,
           null,
           null,
           null,
           null,
           null,
           null,
           null,
           null,
           null,
           null,
           null,
           null,
           null,
           null,
           null,
           null,
           null,
           null,
           null,
           null,
           null,
           null,
           null
          ],
          [
           0.5051815803047767,
           0.531614842063857,
           0.5017727769073943,
           0.14489205015251266,
           0.1324355676343012,
           0.01923600711356698,
           0.03302807424572033,
           0.03136078297608546,
           0.019627241884038936,
           0.030845637556176187,
           0.09147042864319334,
           0.08729036786613856,
           0.15841652134805284,
           0.05023943881386958,
           0.13040878053770286,
           0.9993423274829828,
           null,
           null,
           null,
           null,
           null,
           null,
           null,
           null,
           null,
           null,
           null,
           null,
           null,
           null,
           null,
           null,
           null,
           null,
           null,
           null,
           null,
           null,
           null,
           null,
           null,
           null,
           null,
           null,
           null,
           null,
           null,
           null,
           null,
           null,
           null,
           null,
           null,
           null,
           null,
           null,
           null,
           null,
           null,
           null,
           null,
           null,
           null,
           null,
           null,
           null,
           null,
           null,
           null,
           null,
           null,
           null,
           null,
           null,
           null,
           null,
           null,
           null,
           null,
           null,
           null,
           null,
           null,
           null,
           null,
           null,
           null,
           null,
           null,
           null,
           null,
           null,
           null,
           null
          ],
          [
           0.5050446675397053,
           0.5316325711446518,
           0.5016703479799777,
           0.1448886088976596,
           0.13243778106844759,
           0.019256801127062344,
           0.03304714238916985,
           0.03138006382206651,
           0.019614954882107825,
           0.030849848344736117,
           0.09142473917680162,
           0.08687500030534658,
           0.15814028707922825,
           0.050057070244211625,
           0.1305437117449443,
           0.9991824398003348,
           0.9998407680781641,
           null,
           null,
           null,
           null,
           null,
           null,
           null,
           null,
           null,
           null,
           null,
           null,
           null,
           null,
           null,
           null,
           null,
           null,
           null,
           null,
           null,
           null,
           null,
           null,
           null,
           null,
           null,
           null,
           null,
           null,
           null,
           null,
           null,
           null,
           null,
           null,
           null,
           null,
           null,
           null,
           null,
           null,
           null,
           null,
           null,
           null,
           null,
           null,
           null,
           null,
           null,
           null,
           null,
           null,
           null,
           null,
           null,
           null,
           null,
           null,
           null,
           null,
           null,
           null,
           null,
           null,
           null,
           null,
           null,
           null,
           null,
           null,
           null,
           null,
           null,
           null,
           null
          ],
          [
           0.7748832888577437,
           0.7647100479758924,
           0.7644629295116305,
           0.25653433712849644,
           0.23108441893680473,
           0.020432934425717957,
           0.03373275064371387,
           0.03077523052580985,
           0.018128674420974343,
           0.03205496679831025,
           0.08104018616166493,
           0.0763969780395996,
           0.19760543429480382,
           0.05942672437135145,
           0.16922883038230374,
           0.7554779754574054,
           0.755310041512825,
           0.755112869446707,
           null,
           null,
           null,
           null,
           null,
           null,
           null,
           null,
           null,
           null,
           null,
           null,
           null,
           null,
           null,
           null,
           null,
           null,
           null,
           null,
           null,
           null,
           null,
           null,
           null,
           null,
           null,
           null,
           null,
           null,
           null,
           null,
           null,
           null,
           null,
           null,
           null,
           null,
           null,
           null,
           null,
           null,
           null,
           null,
           null,
           null,
           null,
           null,
           null,
           null,
           null,
           null,
           null,
           null,
           null,
           null,
           null,
           null,
           null,
           null,
           null,
           null,
           null,
           null,
           null,
           null,
           null,
           null,
           null,
           null,
           null,
           null,
           null,
           null,
           null,
           null
          ],
          [
           0.379794000919344,
           0.32618428193971777,
           0.3661796094328779,
           0.16311548862881453,
           0.14857174535351628,
           0.014246283628607536,
           0.017616928002534324,
           0.016140267797068314,
           0.000752011055078724,
           0.01634154904419039,
           0.007195397081162711,
           0.05216264837687804,
           0.35379605975224776,
           0.015273283256495553,
           0.06819392133500153,
           0.3468688234674616,
           0.3464759185850508,
           0.34619952780114555,
           0.4557792165065144,
           null,
           null,
           null,
           null,
           null,
           null,
           null,
           null,
           null,
           null,
           null,
           null,
           null,
           null,
           null,
           null,
           null,
           null,
           null,
           null,
           null,
           null,
           null,
           null,
           null,
           null,
           null,
           null,
           null,
           null,
           null,
           null,
           null,
           null,
           null,
           null,
           null,
           null,
           null,
           null,
           null,
           null,
           null,
           null,
           null,
           null,
           null,
           null,
           null,
           null,
           null,
           null,
           null,
           null,
           null,
           null,
           null,
           null,
           null,
           null,
           null,
           null,
           null,
           null,
           null,
           null,
           null,
           null,
           null,
           null,
           null,
           null,
           null,
           null,
           null
          ],
          [
           -0.015952307237121204,
           -0.01184788221085024,
           -0.014379194294744494,
           0.1170658109120328,
           0.10759976479713593,
           -0.04445953614009756,
           0.0049314031851814735,
           0.0055948150657949116,
           0.11831511772237095,
           0.05160725148154671,
           -0.01583798829046127,
           -0.019312119331893383,
           0.2016941225459869,
           -0.003908607688186729,
           -0.021323842233462037,
           -0.008257981371993088,
           -0.008216779634840009,
           -0.008244346793390717,
           -0.009709558943769375,
           -0.0069875594594675326,
           null,
           null,
           null,
           null,
           null,
           null,
           null,
           null,
           null,
           null,
           null,
           null,
           null,
           null,
           null,
           null,
           null,
           null,
           null,
           null,
           null,
           null,
           null,
           null,
           null,
           null,
           null,
           null,
           null,
           null,
           null,
           null,
           null,
           null,
           null,
           null,
           null,
           null,
           null,
           null,
           null,
           null,
           null,
           null,
           null,
           null,
           null,
           null,
           null,
           null,
           null,
           null,
           null,
           null,
           null,
           null,
           null,
           null,
           null,
           null,
           null,
           null,
           null,
           null,
           null,
           null,
           null,
           null,
           null,
           null,
           null,
           null,
           null,
           null
          ],
          [
           0.6871591315502805,
           0.6542259129614939,
           0.6597954965363184,
           0.2678004805727965,
           0.24149146266561605,
           0.02240458071150184,
           0.02631669686559937,
           0.024140516603518014,
           -0.001614260974515575,
           0.024516746108347073,
           0.0719311900226465,
           0.06863470089811356,
           0.19185566001246626,
           0.018301563869236696,
           0.19738376621223694,
           0.6075438909366461,
           0.6068748463562786,
           0.606806860883439,
           0.8767841324921954,
           0.4606729989340131,
           -0.014834313735858667,
           null,
           null,
           null,
           null,
           null,
           null,
           null,
           null,
           null,
           null,
           null,
           null,
           null,
           null,
           null,
           null,
           null,
           null,
           null,
           null,
           null,
           null,
           null,
           null,
           null,
           null,
           null,
           null,
           null,
           null,
           null,
           null,
           null,
           null,
           null,
           null,
           null,
           null,
           null,
           null,
           null,
           null,
           null,
           null,
           null,
           null,
           null,
           null,
           null,
           null,
           null,
           null,
           null,
           null,
           null,
           null,
           null,
           null,
           null,
           null,
           null,
           null,
           null,
           null,
           null,
           null,
           null,
           null,
           null,
           null,
           null,
           null,
           null
          ],
          [
           0.7504581296519627,
           0.7524942588701661,
           0.7228222246429029,
           0.24762104049105096,
           0.22313778398539844,
           0.020229860747749802,
           0.03405020690533922,
           0.030626623242805247,
           0.019263118655315194,
           0.03048972017856792,
           0.08151245464176454,
           0.06599797850577364,
           0.17690214093142942,
           0.0613614777720931,
           0.20867769377466422,
           0.7262307483892777,
           0.7258592854023147,
           0.7257217978463971,
           0.9555764505405929,
           0.4392176745502003,
           -0.011679579234020274,
           0.8617953360848748,
           null,
           null,
           null,
           null,
           null,
           null,
           null,
           null,
           null,
           null,
           null,
           null,
           null,
           null,
           null,
           null,
           null,
           null,
           null,
           null,
           null,
           null,
           null,
           null,
           null,
           null,
           null,
           null,
           null,
           null,
           null,
           null,
           null,
           null,
           null,
           null,
           null,
           null,
           null,
           null,
           null,
           null,
           null,
           null,
           null,
           null,
           null,
           null,
           null,
           null,
           null,
           null,
           null,
           null,
           null,
           null,
           null,
           null,
           null,
           null,
           null,
           null,
           null,
           null,
           null,
           null,
           null,
           null,
           null,
           null,
           null,
           null
          ],
          [
           0.0005734885828487498,
           0.00326088794801159,
           0.0021242191925722894,
           0.014166984129333215,
           0.013085983333295945,
           0.0008315666261152241,
           0.0012462267506839037,
           0.001226210766674368,
           0.00048280207737224143,
           0.0012075827982221223,
           -0.008166712272447188,
           -0.011167787153650828,
           -0.01707553967611514,
           -0.003303876230124829,
           0.0015052429831823968,
           -0.013771008822618289,
           -0.01371705813785085,
           -0.013735077600083006,
           -0.0021983921520046376,
           -0.10469996135860198,
           0.00019124834432378518,
           -0.002539270952348195,
           -0.0005128140201904787,
           null,
           null,
           null,
           null,
           null,
           null,
           null,
           null,
           null,
           null,
           null,
           null,
           null,
           null,
           null,
           null,
           null,
           null,
           null,
           null,
           null,
           null,
           null,
           null,
           null,
           null,
           null,
           null,
           null,
           null,
           null,
           null,
           null,
           null,
           null,
           null,
           null,
           null,
           null,
           null,
           null,
           null,
           null,
           null,
           null,
           null,
           null,
           null,
           null,
           null,
           null,
           null,
           null,
           null,
           null,
           null,
           null,
           null,
           null,
           null,
           null,
           null,
           null,
           null,
           null,
           null,
           null,
           null,
           null,
           null,
           null
          ],
          [
           0.036510196226863516,
           0.04220962334920444,
           0.036144104618961836,
           0.022868214818420395,
           0.02079815435289048,
           0.00495228440891493,
           0.0039087367470225474,
           0.002962070325365992,
           -0.004200161204957867,
           0.002642903858803967,
           0.013374598486742356,
           0.012177966992499477,
           0.0037300191880886356,
           0.001782670186328232,
           0.01878449983127595,
           0.01604914402072448,
           0.01601329591092762,
           0.016021283151057556,
           0.025085534851607322,
           -0.0054838634098002765,
           -0.00042682671491390536,
           0.02793992038565175,
           0.029780438655785113,
           0.002192184321258311,
           null,
           null,
           null,
           null,
           null,
           null,
           null,
           null,
           null,
           null,
           null,
           null,
           null,
           null,
           null,
           null,
           null,
           null,
           null,
           null,
           null,
           null,
           null,
           null,
           null,
           null,
           null,
           null,
           null,
           null,
           null,
           null,
           null,
           null,
           null,
           null,
           null,
           null,
           null,
           null,
           null,
           null,
           null,
           null,
           null,
           null,
           null,
           null,
           null,
           null,
           null,
           null,
           null,
           null,
           null,
           null,
           null,
           null,
           null,
           null,
           null,
           null,
           null,
           null,
           null,
           null,
           null,
           null,
           null,
           null
          ],
          [
           0.1151237793676727,
           0.12543435763430183,
           0.11717659504007921,
           0.054652313112236145,
           0.04966264013821693,
           0.011327889147937632,
           0.035149869748011785,
           0.031222274744981515,
           0.04317886162787072,
           0.01658398908575213,
           0.007167940106799617,
           0.019975808935276486,
           0.01907796074392225,
           0.010108470524335786,
           0.04764230755521513,
           0.05684663280190113,
           0.05670836204436841,
           0.05670986117392529,
           0.08610906558986331,
           0.0014149324482630064,
           -0.05829343226786177,
           0.06751468954656147,
           0.09024519947208237,
           0.006470380572761808,
           0.6393944783327443,
           null,
           null,
           null,
           null,
           null,
           null,
           null,
           null,
           null,
           null,
           null,
           null,
           null,
           null,
           null,
           null,
           null,
           null,
           null,
           null,
           null,
           null,
           null,
           null,
           null,
           null,
           null,
           null,
           null,
           null,
           null,
           null,
           null,
           null,
           null,
           null,
           null,
           null,
           null,
           null,
           null,
           null,
           null,
           null,
           null,
           null,
           null,
           null,
           null,
           null,
           null,
           null,
           null,
           null,
           null,
           null,
           null,
           null,
           null,
           null,
           null,
           null,
           null,
           null,
           null,
           null,
           null,
           null,
           null
          ],
          [
           0.11508035227743536,
           0.12592224189874515,
           0.11708783687488442,
           0.05344314919281461,
           0.048554356838253834,
           0.011226258273443078,
           0.03491390996074406,
           0.030963486900907444,
           0.042951365807815244,
           0.016414467399103325,
           0.009505367301036795,
           0.020720472697865554,
           0.018306882264814753,
           0.010023890441823967,
           0.04772163802983715,
           0.056545571056483473,
           0.05640410565666597,
           0.0564056452445268,
           0.08611220834825863,
           0.0004911181216459997,
           -0.05807041666196735,
           0.06719431148963524,
           0.09039007274711179,
           0.0064445527891789705,
           0.63679288978843,
           0.9961861898945271,
           null,
           null,
           null,
           null,
           null,
           null,
           null,
           null,
           null,
           null,
           null,
           null,
           null,
           null,
           null,
           null,
           null,
           null,
           null,
           null,
           null,
           null,
           null,
           null,
           null,
           null,
           null,
           null,
           null,
           null,
           null,
           null,
           null,
           null,
           null,
           null,
           null,
           null,
           null,
           null,
           null,
           null,
           null,
           null,
           null,
           null,
           null,
           null,
           null,
           null,
           null,
           null,
           null,
           null,
           null,
           null,
           null,
           null,
           null,
           null,
           null,
           null,
           null,
           null,
           null,
           null,
           null,
           null
          ],
          [
           0.025239139406275334,
           0.024893821507705347,
           0.02442035283150612,
           0.009122298814008167,
           0.00836108847745727,
           0.0013181865413377436,
           0.003012846883293237,
           0.0025654433477993645,
           0.002854792229562944,
           0.001842315046490816,
           -0.006649930644221346,
           0.007842954190171073,
           0.0039020053413819753,
           0.0004983918969860807,
           0.01686285517671002,
           0.043876021851619575,
           0.04377791575254995,
           0.04376158304052088,
           0.023710518782511906,
           -0.000376719650402228,
           -0.0035028562556289247,
           0.012130303066675055,
           0.024450226746589587,
           0.0007464850537958324,
           0.10082135636390024,
           0.11305141945312483,
           0.11290373914716854,
           null,
           null,
           null,
           null,
           null,
           null,
           null,
           null,
           null,
           null,
           null,
           null,
           null,
           null,
           null,
           null,
           null,
           null,
           null,
           null,
           null,
           null,
           null,
           null,
           null,
           null,
           null,
           null,
           null,
           null,
           null,
           null,
           null,
           null,
           null,
           null,
           null,
           null,
           null,
           null,
           null,
           null,
           null,
           null,
           null,
           null,
           null,
           null,
           null,
           null,
           null,
           null,
           null,
           null,
           null,
           null,
           null,
           null,
           null,
           null,
           null,
           null,
           null,
           null,
           null,
           null,
           null
          ],
          [
           0.019679210819415097,
           0.027015091352112473,
           0.02212486186494945,
           0.01626469209493546,
           0.014130524582783677,
           0.03447645948674293,
           0.03764375688812341,
           0.03707652393116352,
           -0.008229582961059231,
           0.03497213313358617,
           0.013897517422598307,
           0.023148152907193915,
           0.055545139939288835,
           -0.018719459445381132,
           0.06814042111522936,
           -0.0189247176600074,
           -0.01870597143633456,
           -0.0183921923310216,
           -0.03677428282379454,
           0.05462165472384887,
           -0.010674905031451186,
           -0.04128700760735232,
           -0.05530868242913593,
           -0.03512739339400901,
           0.015555143260547449,
           0.0080381087582993,
           0.008909681299623561,
           0.010176232432959094,
           null,
           null,
           null,
           null,
           null,
           null,
           null,
           null,
           null,
           null,
           null,
           null,
           null,
           null,
           null,
           null,
           null,
           null,
           null,
           null,
           null,
           null,
           null,
           null,
           null,
           null,
           null,
           null,
           null,
           null,
           null,
           null,
           null,
           null,
           null,
           null,
           null,
           null,
           null,
           null,
           null,
           null,
           null,
           null,
           null,
           null,
           null,
           null,
           null,
           null,
           null,
           null,
           null,
           null,
           null,
           null,
           null,
           null,
           null,
           null,
           null,
           null,
           null,
           null,
           null,
           null
          ],
          [
           -0.021945560557091844,
           -0.064004434744173,
           -0.026145244341421185,
           -0.017456681662901607,
           -0.015942406229290166,
           -0.00020695057724452737,
           -0.0009978430983326229,
           -0.0008576573976207299,
           -0.0015052110359388446,
           -0.0003543445142305624,
           -0.008456320102980955,
           -0.010311250278379001,
           -0.007423030006024349,
           0.01361197651938671,
           -0.011385362321574263,
           -0.030195919570542056,
           -0.030109835323255,
           -0.03011916891041167,
           -0.02211699060000594,
           -0.009385970566715331,
           -0.0003529962274648568,
           -0.022647706133970952,
           -0.03764528422474002,
           -0.000698341183670913,
           -0.004534377972672917,
           -0.003660253595870705,
           -0.0036490311684218135,
           -0.0002704644248995248,
           -0.008691638270200149,
           null,
           null,
           null,
           null,
           null,
           null,
           null,
           null,
           null,
           null,
           null,
           null,
           null,
           null,
           null,
           null,
           null,
           null,
           null,
           null,
           null,
           null,
           null,
           null,
           null,
           null,
           null,
           null,
           null,
           null,
           null,
           null,
           null,
           null,
           null,
           null,
           null,
           null,
           null,
           null,
           null,
           null,
           null,
           null,
           null,
           null,
           null,
           null,
           null,
           null,
           null,
           null,
           null,
           null,
           null,
           null,
           null,
           null,
           null,
           null,
           null,
           null,
           null,
           null,
           null
          ],
          [
           0.07988560938389579,
           0.0819625304660789,
           0.07995054830196913,
           0.026536903140566538,
           0.024099141261389907,
           0.0036778018072895044,
           0.005003775600667198,
           0.004378523806592576,
           0.001112250766002075,
           0.004202092561093893,
           -0.0038712095394653925,
           0.029756956791570272,
           -0.0027748722842944043,
           0.0042738907558661976,
           0.00995991676357741,
           0.06094711150448155,
           0.06081328940069202,
           0.06078127092702618,
           0.08011844705845257,
           -0.18743397396222414,
           -0.0019663627615158887,
           0.07644327068727644,
           0.1201239837559433,
           0.00584111095261222,
           0.326720360483484,
           0.22391910460655992,
           0.22310587511285002,
           0.03619777989360976,
           -0.03716397081480727,
           -0.0046534189415055795,
           null,
           null,
           null,
           null,
           null,
           null,
           null,
           null,
           null,
           null,
           null,
           null,
           null,
           null,
           null,
           null,
           null,
           null,
           null,
           null,
           null,
           null,
           null,
           null,
           null,
           null,
           null,
           null,
           null,
           null,
           null,
           null,
           null,
           null,
           null,
           null,
           null,
           null,
           null,
           null,
           null,
           null,
           null,
           null,
           null,
           null,
           null,
           null,
           null,
           null,
           null,
           null,
           null,
           null,
           null,
           null,
           null,
           null,
           null,
           null,
           null,
           null,
           null,
           null
          ],
          [
           0.29616096295954913,
           0.2636049455308127,
           0.2920231065542498,
           0.12262939683260067,
           0.11178389098247553,
           0.014953259660349555,
           0.017797804087520096,
           0.01668948104697471,
           -0.0006072326613132256,
           0.017396306127096167,
           -0.0031977677737710683,
           0.04239510470190946,
           0.3445883358646122,
           0.00020618922894393934,
           0.06515418293730181,
           0.09066219443230641,
           0.09038397862444403,
           0.09030585749690598,
           0.16520842740208894,
           0.650256576860579,
           0.0007217059381319318,
           0.2057474405181025,
           0.16813573232088974,
           -0.04979578013395348,
           -0.0008584396742787926,
           0.020631161422260336,
           0.01947365471681926,
           -0.0037503447127720402,
           0.06384043145458401,
           -0.01342043797510659,
           -0.03207480306742537,
           null,
           null,
           null,
           null,
           null,
           null,
           null,
           null,
           null,
           null,
           null,
           null,
           null,
           null,
           null,
           null,
           null,
           null,
           null,
           null,
           null,
           null,
           null,
           null,
           null,
           null,
           null,
           null,
           null,
           null,
           null,
           null,
           null,
           null,
           null,
           null,
           null,
           null,
           null,
           null,
           null,
           null,
           null,
           null,
           null,
           null,
           null,
           null,
           null,
           null,
           null,
           null,
           null,
           null,
           null,
           null,
           null,
           null,
           null,
           null,
           null,
           null,
           null
          ],
          [
           0.013193514504225737,
           0.014101944790954783,
           0.01297302379055274,
           0.024946914471249665,
           0.022968508622506264,
           0.0008328850473941026,
           0.00316456749455519,
           0.002684666510163621,
           0.004343229236470996,
           0.002887364327645631,
           -0.007464180567481949,
           -0.009101480636157922,
           0.0022549450090941035,
           -0.0018420617798603496,
           -0.000008655711925604814,
           0.01045543010402193,
           0.010439191781040141,
           0.010423203586079791,
           0.01128199215497032,
           0.0005786992984037103,
           -0.0003115806219508498,
           -0.001019717257344628,
           0.009679729637103531,
           -0.00028512741656615617,
           0.00008863589628241093,
           0.00020162936232019033,
           0.00018602488351997427,
           -0.000060058498042229094,
           0.006779483862716139,
           -0.0001663612533451244,
           -0.0007378509339435629,
           -0.0042679382562465906,
           null,
           null,
           null,
           null,
           null,
           null,
           null,
           null,
           null,
           null,
           null,
           null,
           null,
           null,
           null,
           null,
           null,
           null,
           null,
           null,
           null,
           null,
           null,
           null,
           null,
           null,
           null,
           null,
           null,
           null,
           null,
           null,
           null,
           null,
           null,
           null,
           null,
           null,
           null,
           null,
           null,
           null,
           null,
           null,
           null,
           null,
           null,
           null,
           null,
           null,
           null,
           null,
           null,
           null,
           null,
           null,
           null,
           null,
           null,
           null,
           null,
           null
          ],
          [
           -0.02636414347940742,
           -0.01843745640979891,
           -0.024261277456912443,
           0.001368371093605294,
           0.0014563102370404393,
           0.000323509603648586,
           -0.017376040261325013,
           -0.01536851939527669,
           -0.03578488516408832,
           -0.016856752070033176,
           0.017720170216865633,
           -0.025729613534334003,
           -0.012840394548357175,
           -0.005207453598236078,
           -0.024887431043308345,
           -0.002937284417197564,
           -0.0029024340509371444,
           -0.0020400523626313534,
           -0.0042674181950044555,
           -0.02514264505440685,
           -0.0008808297864258353,
           0.0007060358662416117,
           -0.006951271342651551,
           0.0032190077883436003,
           0.00040394722187527546,
           0.0007963886565564232,
           0.0007835161949451565,
           -0.00011973770771519992,
           -0.013457411433940102,
           -0.00047029827326760046,
           -0.0001367612424945678,
           -0.022359924485838387,
           -0.00041512043369700734,
           null,
           null,
           null,
           null,
           null,
           null,
           null,
           null,
           null,
           null,
           null,
           null,
           null,
           null,
           null,
           null,
           null,
           null,
           null,
           null,
           null,
           null,
           null,
           null,
           null,
           null,
           null,
           null,
           null,
           null,
           null,
           null,
           null,
           null,
           null,
           null,
           null,
           null,
           null,
           null,
           null,
           null,
           null,
           null,
           null,
           null,
           null,
           null,
           null,
           null,
           null,
           null,
           null,
           null,
           null,
           null,
           null,
           null,
           null,
           null,
           null
          ],
          [
           0.003994828900552931,
           0.0054342976529151675,
           0.005186827598969381,
           -0.002374840835862999,
           -0.002258691351009768,
           0.0011532459823691277,
           0.0016268433580833416,
           0.0016092250606274145,
           0.0004652399280542309,
           0.0014757110269775684,
           0.024267213367438353,
           -0.01349168943704508,
           0.00048285806517759695,
           -0.004341945252479405,
           0.034709145527408954,
           -0.00810615182262243,
           -0.008018341484529276,
           -0.007989032623531869,
           0.000018941552396348936,
           0.003567290032409663,
           -0.0007068881263107867,
           0.000018994544348213482,
           -0.0010955341641320847,
           -0.00025664551644366155,
           0.006088211783432356,
           0.006935649093546522,
           0.006871785743483309,
           0.001145277309053687,
           0.007329191871111549,
           -0.0006486345084851512,
           0.0016467263411335301,
           0.011943704398627958,
           -0.0003772502359270688,
           0.0031474002418125234,
           null,
           null,
           null,
           null,
           null,
           null,
           null,
           null,
           null,
           null,
           null,
           null,
           null,
           null,
           null,
           null,
           null,
           null,
           null,
           null,
           null,
           null,
           null,
           null,
           null,
           null,
           null,
           null,
           null,
           null,
           null,
           null,
           null,
           null,
           null,
           null,
           null,
           null,
           null,
           null,
           null,
           null,
           null,
           null,
           null,
           null,
           null,
           null,
           null,
           null,
           null,
           null,
           null,
           null,
           null,
           null,
           null,
           null,
           null,
           null
          ],
          [
           -0.022230095636772695,
           -0.010341325736418763,
           -0.02118447587334325,
           -0.022373545328453318,
           -0.020382192515344653,
           -0.0015060463147996458,
           -0.0019640833949733107,
           -0.0013785416073215932,
           -0.0002843092833723508,
           0.0000753096920966104,
           -0.016163853248277595,
           -0.01931286583531248,
           0.34966847634224935,
           -0.003989026842207474,
           -0.01050130258742167,
           0.008528195176346799,
           0.008528105188424381,
           0.008496429770775539,
           -0.011403858848111573,
           0.0037752433605368466,
           0.029591420459513868,
           -0.013892976345807419,
           -0.008534301427203754,
           -0.0005898781133161651,
           0.00005144994817986723,
           0.0005359496361124974,
           0.0005240357540070589,
           -0.00015363013467855483,
           -0.012474691577503616,
           -0.0003602590715826208,
           -0.0007950985052798693,
           0.01410499749383752,
           -0.0003179913477775156,
           -0.00089895273771736,
           -0.0007936565393781592,
           null,
           null,
           null,
           null,
           null,
           null,
           null,
           null,
           null,
           null,
           null,
           null,
           null,
           null,
           null,
           null,
           null,
           null,
           null,
           null,
           null,
           null,
           null,
           null,
           null,
           null,
           null,
           null,
           null,
           null,
           null,
           null,
           null,
           null,
           null,
           null,
           null,
           null,
           null,
           null,
           null,
           null,
           null,
           null,
           null,
           null,
           null,
           null,
           null,
           null,
           null,
           null,
           null,
           null,
           null,
           null,
           null,
           null,
           null
          ],
          [
           -0.26119840731309146,
           -0.25975720725116563,
           -0.26451081433079193,
           -0.24557751411779527,
           -0.22969197104695796,
           0.010399213066437568,
           -0.003903333656988651,
           -0.00617390512791977,
           -0.03321259855475061,
           -0.0011872206040927289,
           0.1446100805670474,
           -0.04519806105521675,
           -0.2849612952535909,
           -0.05988218097303376,
           -0.009335350096423327,
           -0.24889021357977772,
           -0.24966250042440588,
           -0.24918805386344467,
           -0.17713423336865308,
           -0.15804824604307155,
           -0.019678603225911136,
           -0.0778483247767964,
           -0.1586290715249917,
           0.011479250604203965,
           -0.018103510373713615,
           -0.030259226946040878,
           -0.03053141442977663,
           -0.025215858808046613,
           -0.04934872664818875,
           0.05653954981130076,
           -0.0010776516519189947,
           -0.13423233561927933,
           -0.015863295549966894,
           0.03343889608246319,
           0.023280244962889905,
           -0.05406491464358502,
           null,
           null,
           null,
           null,
           null,
           null,
           null,
           null,
           null,
           null,
           null,
           null,
           null,
           null,
           null,
           null,
           null,
           null,
           null,
           null,
           null,
           null,
           null,
           null,
           null,
           null,
           null,
           null,
           null,
           null,
           null,
           null,
           null,
           null,
           null,
           null,
           null,
           null,
           null,
           null,
           null,
           null,
           null,
           null,
           null,
           null,
           null,
           null,
           null,
           null,
           null,
           null,
           null,
           null,
           null,
           null,
           null,
           null
          ],
          [
           0.26119840731308974,
           0.25975720725116414,
           0.26451081433079,
           0.24557751411779558,
           0.22969197104695818,
           -0.010399213066437459,
           0.003903333656988733,
           0.006173905127919912,
           0.03321259855475047,
           0.0011872206040927846,
           -0.14461008056704758,
           0.045198061055214366,
           0.28496129525359026,
           0.059882180973032724,
           0.009335350096423892,
           0.24889021357977567,
           0.24966250042440385,
           0.24918805386344317,
           0.17713423336865064,
           0.15804824604307052,
           0.01967860322591097,
           0.07784832477679449,
           0.15862907152498942,
           -0.01147925060420385,
           0.018103510373713896,
           0.030259226946040805,
           0.03053141442977645,
           0.02521585880804669,
           0.049348726648189324,
           -0.05653954981130084,
           0.0010776516519189808,
           0.13423233561927936,
           0.015863295549967057,
           -0.03343889608246334,
           -0.023280244962889902,
           0.0540649146435851,
           -0.999999999999998,
           null,
           null,
           null,
           null,
           null,
           null,
           null,
           null,
           null,
           null,
           null,
           null,
           null,
           null,
           null,
           null,
           null,
           null,
           null,
           null,
           null,
           null,
           null,
           null,
           null,
           null,
           null,
           null,
           null,
           null,
           null,
           null,
           null,
           null,
           null,
           null,
           null,
           null,
           null,
           null,
           null,
           null,
           null,
           null,
           null,
           null,
           null,
           null,
           null,
           null,
           null,
           null,
           null,
           null,
           null,
           null,
           null
          ],
          [
           0.0028943692258251376,
           0.02064510493696715,
           0.0037931433688941506,
           0.0059792941390326,
           0.006238781253948933,
           -0.000830826670291045,
           -0.001905614093926585,
           -0.0012260525739082508,
           -0.001812511949350904,
           -0.0001861051346105063,
           0.009056927058721796,
           -0.0470991080804095,
           0.0382878698776127,
           0.0022228839740254976,
           -0.012957765676830768,
           0.05216850911843645,
           0.052159384164177015,
           0.052054109408309394,
           0.05210962865432493,
           -0.03098987867447059,
           0.12814678751357583,
           0.04322389079026567,
           0.04787324296706514,
           0.0012437344768650644,
           0.0016542019917414326,
           0.0032422597908045385,
           0.003392189865843001,
           0.0009631763930416949,
           -0.03394292228792774,
           -0.0019164163246223665,
           0.002231740227799092,
           -0.04747671135211282,
           0.0001158959399303852,
           0.0010076298236503952,
           -0.0072100424489429755,
           0.030252866966317356,
           -0.010474618262251153,
           0.010474618262250813,
           null,
           null,
           null,
           null,
           null,
           null,
           null,
           null,
           null,
           null,
           null,
           null,
           null,
           null,
           null,
           null,
           null,
           null,
           null,
           null,
           null,
           null,
           null,
           null,
           null,
           null,
           null,
           null,
           null,
           null,
           null,
           null,
           null,
           null,
           null,
           null,
           null,
           null,
           null,
           null,
           null,
           null,
           null,
           null,
           null,
           null,
           null,
           null,
           null,
           null,
           null,
           null,
           null,
           null,
           null,
           null
          ],
          [
           -0.16157497282346206,
           -0.16177798821214648,
           -0.15852091430737136,
           -0.08572166083509794,
           -0.07825093821817929,
           0.0010914887833759514,
           -0.00465263130315336,
           -0.004393487835743254,
           -0.012031668041050748,
           -0.0028849706714072607,
           0.024203147049941524,
           -0.04553566087616667,
           -0.07870698369134657,
           -0.0017085919750899257,
           -0.05304707313968849,
           -0.12388064395538359,
           -0.12520956996952243,
           -0.12507265081191293,
           -0.14402757912359648,
           -0.09915335486084806,
           0.0011844690376601739,
           -0.10705696654400298,
           -0.14203611770649832,
           -0.004893608559754761,
           0.002011077672020623,
           -0.01218984752459846,
           -0.01211053223563925,
           -0.007714944570778806,
           -0.019392386043829663,
           -0.07794439178806425,
           -0.00971076371453361,
           -0.18542686043542947,
           -0.0025403098715803727,
           0.016772672198173768,
           0.007874769062720489,
           -0.008076764023918727,
           0.32896679501063325,
           -0.32896679501063325,
           -0.0006654991598528162,
           null,
           null,
           null,
           null,
           null,
           null,
           null,
           null,
           null,
           null,
           null,
           null,
           null,
           null,
           null,
           null,
           null,
           null,
           null,
           null,
           null,
           null,
           null,
           null,
           null,
           null,
           null,
           null,
           null,
           null,
           null,
           null,
           null,
           null,
           null,
           null,
           null,
           null,
           null,
           null,
           null,
           null,
           null,
           null,
           null,
           null,
           null,
           null,
           null,
           null,
           null,
           null,
           null,
           null,
           null
          ],
          [
           -0.03573583326213982,
           -0.0361959407649897,
           -0.03418554768625757,
           -0.022265123667221196,
           -0.020332150707837466,
           0.00024593185389921654,
           0.0022210537298940304,
           0.0021168459241299605,
           0.0038737881211333967,
           0.002165368310777061,
           0.010624294804931489,
           -0.012424748534297137,
           -0.009774281706599473,
           -0.0027869961953494917,
           -0.012481135597334023,
           -0.028391255036960782,
           -0.028901888184134084,
           -0.02891043786699362,
           -0.053963995983341485,
           -0.009519662522489602,
           0.004573654364480245,
           -0.056621927020002356,
           -0.04723059596080084,
           -0.0014824516162521826,
           -0.002708524194684818,
           -0.004558552423048694,
           -0.004274021233130441,
           -0.0015802208015895198,
           -0.0011358606639901437,
           -0.001583284491447066,
           -0.004012551115488722,
           -0.006776428590452479,
           0.004485576853167309,
           -0.0012230258376768864,
           -0.00008006731328368325,
           -0.00126798269292026,
           0.058857608403389584,
           -0.05885760840338968,
           0.0013894029472649716,
           0.45175058640165255,
           null,
           null,
           null,
           null,
           null,
           null,
           null,
           null,
           null,
           null,
           null,
           null,
           null,
           null,
           null,
           null,
           null,
           null,
           null,
           null,
           null,
           null,
           null,
           null,
           null,
           null,
           null,
           null,
           null,
           null,
           null,
           null,
           null,
           null,
           null,
           null,
           null,
           null,
           null,
           null,
           null,
           null,
           null,
           null,
           null,
           null,
           null,
           null,
           null,
           null,
           null,
           null,
           null,
           null
          ],
          [
           0.6849855627065069,
           0.6515518571626253,
           0.6572345605606816,
           0.2672667516119637,
           0.24096072639986105,
           0.022167380899015234,
           0.026093191984798154,
           0.023944594986268924,
           -0.0014861643856468661,
           0.024296347538417154,
           0.07210261474555552,
           0.06704086500336072,
           0.1916040626555945,
           0.016136181702955527,
           0.1973339907156454,
           0.6029440515720786,
           0.6022860460261403,
           0.6021874658982234,
           0.8736540483701852,
           0.4650356631320025,
           -0.014780799123429337,
           0.9986958156593683,
           0.8582919928321385,
           -0.0025288308276723553,
           0.027679213516060616,
           0.06688301625766771,
           0.06656466568259645,
           0.012001031726757825,
           -0.0389294934152635,
           -0.02271367972142239,
           0.052065233641412634,
           0.2035574606922433,
           -0.000998642227772383,
           0.0008016412789108658,
           -0.000013397681148118224,
           -0.013848275414034574,
           -0.0770423409008092,
           0.07704234090080728,
           0.04324852257803857,
           -0.10464339192852344,
           -0.056833619103609394,
           null,
           null,
           null,
           null,
           null,
           null,
           null,
           null,
           null,
           null,
           null,
           null,
           null,
           null,
           null,
           null,
           null,
           null,
           null,
           null,
           null,
           null,
           null,
           null,
           null,
           null,
           null,
           null,
           null,
           null,
           null,
           null,
           null,
           null,
           null,
           null,
           null,
           null,
           null,
           null,
           null,
           null,
           null,
           null,
           null,
           null,
           null,
           null,
           null,
           null,
           null,
           null,
           null
          ],
          [
           0.7532459604131766,
           0.7581670976603957,
           0.7258990772380898,
           0.24794196587076311,
           0.22309957350998738,
           0.020025475075948443,
           0.03390436878000775,
           0.030573308858390744,
           0.01946758652907751,
           0.03033685253362307,
           0.0830057004092449,
           0.06944172874732799,
           0.18651874063656707,
           0.05490043831867538,
           0.20981664956607438,
           0.7065435202907602,
           0.7056928193935632,
           0.7055078621479255,
           0.9594508356911897,
           0.4457795389322895,
           -0.011479277136612955,
           0.8861461902998122,
           0.9627074950961718,
           -0.0026912931053969446,
           0.027995506465484817,
           0.08809608346854957,
           0.08827716756033739,
           0.02510536591598715,
           -0.028560768563290095,
           -0.03837643755563045,
           0.0620308983886187,
           0.1586508354137349,
           0.010721084058715186,
           -0.0068814133890819544,
           -0.0013304289429889018,
           -0.008591074633852199,
           -0.1638441514619124,
           0.16384415146191006,
           0.049769855070327725,
           -0.1348181326762507,
           -0.04941932950601965,
           0.8873598818513367,
           null,
           null,
           null,
           null,
           null,
           null,
           null,
           null,
           null,
           null,
           null,
           null,
           null,
           null,
           null,
           null,
           null,
           null,
           null,
           null,
           null,
           null,
           null,
           null,
           null,
           null,
           null,
           null,
           null,
           null,
           null,
           null,
           null,
           null,
           null,
           null,
           null,
           null,
           null,
           null,
           null,
           null,
           null,
           null,
           null,
           null,
           null,
           null,
           null,
           null,
           null,
           null
          ],
          [
           -0.10996650090487575,
           -0.07864891152217308,
           -0.10958609164601323,
           -0.08674063753934332,
           -0.083815720494025,
           0.011996388670353185,
           0.0090443557489902,
           0.00899539806305711,
           -0.011028976570851376,
           0.008245286344100145,
           0.07986752107780815,
           -0.04733409359236612,
           -0.12550141212201302,
           0.035468092053466495,
           0.02690322861890698,
           -0.08952043836640754,
           -0.09011644031682778,
           -0.08989251477271895,
           -0.03805703411059129,
           -0.125552456776761,
           -0.00971464554089077,
           0.02001136502888113,
           -0.031675299765927124,
           0.018129446905184282,
           0.005847098017424349,
           -0.00567190394995052,
           -0.005825674084710292,
           -0.0063703408152826786,
           -0.045254810632729014,
           -0.012111279824929717,
           0.0074663126772017765,
           -0.19591236438144696,
           -0.007977176736783012,
           0.03713803464340742,
           0.005543726476036758,
           -0.008899785891125361,
           0.41808725028201554,
           -0.4180872502820161,
           0.04833472753180447,
           0.7002124893981005,
           0.07721466485813622,
           0.020367827365302665,
           -0.03047383231746828,
           null,
           null,
           null,
           null,
           null,
           null,
           null,
           null,
           null,
           null,
           null,
           null,
           null,
           null,
           null,
           null,
           null,
           null,
           null,
           null,
           null,
           null,
           null,
           null,
           null,
           null,
           null,
           null,
           null,
           null,
           null,
           null,
           null,
           null,
           null,
           null,
           null,
           null,
           null,
           null,
           null,
           null,
           null,
           null,
           null,
           null,
           null,
           null,
           null,
           null,
           null
          ],
          [
           0.21049508697440558,
           0.22338210258191496,
           0.1946606517857576,
           -0.09975247628248683,
           -0.0924467654106188,
           0.029465448486490436,
           0.029671517113776368,
           0.02950905066831284,
           -0.012070301067086845,
           0.02771433549210804,
           0.19472715959915696,
           0.01370584648353674,
           -0.05818967395780145,
           0.008564514113041757,
           0.1929729712956166,
           0.08194954198438155,
           0.08258901074181899,
           0.08234591373551829,
           0.21464984310635826,
           0.05231718752655291,
           -0.03599446640753898,
           0.28253610006246976,
           0.23027475421055935,
           0.09689934604543173,
           0.04409913902623046,
           0.05974565344690548,
           0.060244615725432854,
           -0.00021948780140688978,
           -0.07244567316947603,
           -0.006534397161332258,
           0.04138311308446698,
           0.05569318038195171,
           -0.015347105425619328,
           -0.0377855182045271,
           -0.002644435170875995,
           -0.027857645192764593,
           0.2378849835170045,
           -0.2378849835170051,
           0.04590481710433685,
           -0.006344275770559059,
           0.02068106842710497,
           0.2813781515622165,
           0.22104565409907914,
           0.24304766093367458,
           null,
           null,
           null,
           null,
           null,
           null,
           null,
           null,
           null,
           null,
           null,
           null,
           null,
           null,
           null,
           null,
           null,
           null,
           null,
           null,
           null,
           null,
           null,
           null,
           null,
           null,
           null,
           null,
           null,
           null,
           null,
           null,
           null,
           null,
           null,
           null,
           null,
           null,
           null,
           null,
           null,
           null,
           null,
           null,
           null,
           null,
           null,
           null,
           null,
           null
          ],
          [
           -0.03398408732416478,
           -0.03129941932003616,
           -0.03380843582127378,
           0.08234773472182558,
           0.07585222964002664,
           -0.023169872188629686,
           0.08957687269906407,
           0.07992048185744768,
           0.23689621360477223,
           0.1006041162285979,
           -0.0283304184707395,
           -0.03454481758313134,
           0.0058966609423374994,
           -0.00699157546346182,
           -0.01997663276413903,
           -0.018690019757780858,
           -0.019718476184153275,
           -0.019766736213889344,
           -0.020033416987547268,
           -0.02062659251561543,
           0.2643446630466329,
           -0.019521677262490555,
           -0.02007533783954864,
           -0.0006315554221275846,
           -0.025684571389042236,
           -0.019193726250872234,
           -0.019102626432912696,
           -0.0029892742437189453,
           -0.030877620007302327,
           -0.0006314268164367665,
           -0.011293331518186095,
           -0.018597044508430256,
           -0.0005573445177734296,
           -0.0015755963207653998,
           -0.0013011498563976725,
           0.008626015702419053,
           0.029955860933053816,
           -0.029955860933053746,
           0.007160291099564834,
           0.03412109231994276,
           0.04869245683304666,
           -0.01937452268407974,
           -0.018022110237600367,
           0.0425471093527917,
           -0.06025395025695658,
           null,
           null,
           null,
           null,
           null,
           null,
           null,
           null,
           null,
           null,
           null,
           null,
           null,
           null,
           null,
           null,
           null,
           null,
           null,
           null,
           null,
           null,
           null,
           null,
           null,
           null,
           null,
           null,
           null,
           null,
           null,
           null,
           null,
           null,
           null,
           null,
           null,
           null,
           null,
           null,
           null,
           null,
           null,
           null,
           null,
           null,
           null,
           null,
           null
          ],
          [
           0.007000214652782318,
           0.009024692018293678,
           0.009903262156663524,
           0.022523668249020617,
           0.020897765351558382,
           0.0010018099548700446,
           0.002198725137631189,
           0.0020321680152613937,
           0.0019861377384155303,
           0.002168607176266801,
           -0.00792164341952548,
           -0.028501837249207976,
           0.006632095986567873,
           0.016489653912211796,
           -0.0004405317504606441,
           -0.0024794501715708246,
           -0.0024424415246266976,
           -0.0024856181472534622,
           0.007815522969535521,
           -0.01024644318372721,
           -0.0009862104138303226,
           0.0027777700785323665,
           0.004403929620158794,
           -0.0009384245824820794,
           -0.0013952119402546824,
           0.003642468703416716,
           -0.0026224043118923206,
           -0.000717089349932402,
           -0.035619858849282184,
           -0.0005265637772609645,
           -0.0014832108543749143,
           -0.012796909021150283,
           -0.0004647845775654208,
           0.01602455718598711,
           0.0016954725571312699,
           -0.0010065015879916943,
           0.006079280307199404,
           -0.006079280307199346,
           0.023766853425171045,
           0.0038031641019258323,
           -0.00037138988250207946,
           0.0031693284608051812,
           0.005405288400483133,
           0.010935297603616417,
           0.004845716713867184,
           -0.0017640973409073842,
           null,
           null,
           null,
           null,
           null,
           null,
           null,
           null,
           null,
           null,
           null,
           null,
           null,
           null,
           null,
           null,
           null,
           null,
           null,
           null,
           null,
           null,
           null,
           null,
           null,
           null,
           null,
           null,
           null,
           null,
           null,
           null,
           null,
           null,
           null,
           null,
           null,
           null,
           null,
           null,
           null,
           null,
           null,
           null,
           null,
           null,
           null,
           null
          ],
          [
           -0.06260113776643403,
           -0.05438989676044712,
           -0.0534796019295898,
           0.04754081413474663,
           0.04084319541157644,
           0.009580325662888913,
           0.005567235070034592,
           0.0059640956401962285,
           -0.012142157830399309,
           0.006211595714530335,
           -0.12853952694511445,
           0.0014246098478997275,
           -0.020180962989912836,
           0.007735359352933791,
           -0.05081809504279672,
           -0.0806523670246782,
           -0.08021256233960505,
           -0.08008593521942284,
           -0.07132543094420864,
           -0.037340255164625594,
           -0.011739147307439928,
           -0.04675545597038612,
           -0.0735564867851288,
           -0.007852049666224032,
           0.0021034056479211126,
           -0.013038036813421723,
           -0.013361886403493905,
           -0.012958826554145084,
           0.03085728453635091,
           -0.00901304285291299,
           0.013186650814507922,
           -0.021518944664097314,
           -0.007946576744040012,
           -0.019066810653391032,
           -0.010972243156403843,
           -0.013446817062779271,
           -0.043899889590138165,
           0.04389988959013926,
           -0.040284691780723476,
           0.010085602595839524,
           -0.014890617181695483,
           -0.04704983830084949,
           -0.07372105489756864,
           0.002097000721504119,
           -0.15209295852818716,
           -0.013203926537258786,
           0.007915929902141246,
           null,
           null,
           null,
           null,
           null,
           null,
           null,
           null,
           null,
           null,
           null,
           null,
           null,
           null,
           null,
           null,
           null,
           null,
           null,
           null,
           null,
           null,
           null,
           null,
           null,
           null,
           null,
           null,
           null,
           null,
           null,
           null,
           null,
           null,
           null,
           null,
           null,
           null,
           null,
           null,
           null,
           null,
           null,
           null,
           null,
           null,
           null
          ],
          [
           -0.06582176761603664,
           -0.1368957997215258,
           -0.06091876671525739,
           0.0014245375905836085,
           0.0033234885306174856,
           0.005238002633206975,
           0.003590340968574594,
           0.004249823312307672,
           -0.005537881574846365,
           0.0034481753265180456,
           -0.05476469388197052,
           0.016881430070362392,
           0.05308615095061195,
           -0.036238649829829314,
           -0.13497573882898772,
           -0.0810168128691251,
           -0.0818224607489585,
           -0.08178439547137029,
           -0.12936859767520012,
           0.013343612315003936,
           -0.01046793478429633,
           -0.11929671698585974,
           -0.13380631705261875,
           -0.00569758891840058,
           -0.007907132483383305,
           -0.00538177633104986,
           -0.004687730973124674,
           -0.0037286877230087896,
           0.009075659221889276,
           0.03601636441074068,
           -0.011267971499539307,
           0.015263276287074566,
           -0.004933363475845106,
           0.0017954065476099728,
           0.0260914599444471,
           0.016066168201608364,
           -0.010660942716741034,
           0.01066094271674196,
           -0.04865593075693966,
           0.025063023125031163,
           -0.006091207826372947,
           -0.11846014659515232,
           -0.13401132396748544,
           -0.12404052471197997,
           -0.29934272719272675,
           -0.0017129720015891033,
           -0.013753709878154417,
           0.025894008014542513,
           null,
           null,
           null,
           null,
           null,
           null,
           null,
           null,
           null,
           null,
           null,
           null,
           null,
           null,
           null,
           null,
           null,
           null,
           null,
           null,
           null,
           null,
           null,
           null,
           null,
           null,
           null,
           null,
           null,
           null,
           null,
           null,
           null,
           null,
           null,
           null,
           null,
           null,
           null,
           null,
           null,
           null,
           null,
           null,
           null,
           null
          ],
          [
           0.02278994285094282,
           0.03680441062241759,
           0.012637488052592861,
           -0.1362582993193724,
           -0.12641215139487733,
           0.01606501492279451,
           0.01551248007452192,
           0.015735001826057835,
           -0.007920141353243015,
           0.014557751175019118,
           0.1651591525555464,
           -0.02541318162453289,
           -0.09675276311697822,
           0.046764938651884545,
           0.11501011350109396,
           -0.03288953332177139,
           -0.0325048136760963,
           -0.03251347085728623,
           0.06596488729673737,
           0.08954919808328277,
           -0.02082824079136796,
           0.1423649922235301,
           0.08987485907064345,
           0.061697863663552475,
           0.033000047618179665,
           0.03512189609625159,
           0.03522513611164087,
           -0.0019188078550114779,
           -0.08507536672058179,
           0.06321083507981236,
           0.027418311183395522,
           0.10356600824811182,
           -0.009230099935687014,
           -0.020020734147278254,
           0.006701581047391912,
           -0.018409280890576113,
           0.4363565219416448,
           -0.4363565219416454,
           0.02383983198640829,
           0.17737038448432635,
           0.09274059907925625,
           0.14249008309943012,
           0.07831281050808991,
           0.45341881524712774,
           0.7574222063249593,
           -0.03207550631261368,
           0.005157722815346656,
           -0.11521266769463409,
           -0.18367208643114175,
           null,
           null,
           null,
           null,
           null,
           null,
           null,
           null,
           null,
           null,
           null,
           null,
           null,
           null,
           null,
           null,
           null,
           null,
           null,
           null,
           null,
           null,
           null,
           null,
           null,
           null,
           null,
           null,
           null,
           null,
           null,
           null,
           null,
           null,
           null,
           null,
           null,
           null,
           null,
           null,
           null,
           null,
           null,
           null,
           null
          ],
          [
           -0.014848721127494914,
           -0.01490280721785196,
           -0.014560755524171527,
           0.01902087516611456,
           0.01755801690166389,
           -0.027450010257103932,
           -0.1449559072966195,
           -0.14667069764430019,
           -0.22503216941650078,
           -0.06469262098246444,
           -0.01049229515536923,
           -0.012793825362981286,
           -0.00902166159433632,
           -0.0025893607639506447,
           -0.014126544551959906,
           -0.0178181110098541,
           -0.01776012995206291,
           -0.01777581394694658,
           -0.011426487862492715,
           -0.008274080666407106,
           0.2757415542105324,
           -0.009907247250517396,
           -0.014160318462688977,
           -0.0005397776103488271,
           -0.0008528618908584315,
           -0.12976561266125525,
           -0.12890507329143902,
           -0.007249235529507015,
           -0.017428849222512192,
           -0.00023385170512249407,
           -0.0034933218633301155,
           -0.0036002906607518897,
           -0.00020641500612601373,
           -0.0005835289958182583,
           -0.0031735743078809904,
           -0.00044699639040587155,
           0.03743574116282955,
           -0.03743574116282973,
           -0.002328034501387661,
           0.029952936780948885,
           -0.000840958917752741,
           -0.009869757723301568,
           -0.013201534572377263,
           0.005262609286023441,
           -0.023845488587672947,
           0.03239740037250003,
           -0.0006533412029388976,
           0.0001954437159721486,
           -0.006703745982877333,
           -0.01376493858674105,
           null,
           null,
           null,
           null,
           null,
           null,
           null,
           null,
           null,
           null,
           null,
           null,
           null,
           null,
           null,
           null,
           null,
           null,
           null,
           null,
           null,
           null,
           null,
           null,
           null,
           null,
           null,
           null,
           null,
           null,
           null,
           null,
           null,
           null,
           null,
           null,
           null,
           null,
           null,
           null,
           null,
           null,
           null,
           null
          ],
          [
           0.3019185420752258,
           0.3248919533043079,
           0.3044537479301728,
           0.22489263156033998,
           0.2048616131263776,
           0.018251885941219025,
           0.020272059075588468,
           0.01833531288898663,
           -0.003665043332963064,
           0.01858010030637377,
           0.12706027105103446,
           -0.04361088428474871,
           0.13123410220608323,
           -0.004625264095047326,
           0.06777888985432555,
           0.2612306486409993,
           0.26128020913005323,
           0.26136958267845206,
           0.35151456972828243,
           0.06212100356849069,
           -0.025980153593004134,
           0.3669475632379553,
           0.32569599292941925,
           0.0019553895545139054,
           0.01547836448943798,
           0.046264881323545184,
           0.04610557166041741,
           0.005899290540154613,
           0.0038401096079422057,
           -0.012501140721538042,
           0.02242818837693586,
           -0.014865290695452955,
           0.0388378519201079,
           0.07441760138792168,
           0.008893461558576071,
           -0.025400651037811608,
           0.007702659556281274,
           -0.007702659556282356,
           0.17869736983197412,
           -0.009330831170516696,
           -0.02412746261682399,
           0.36613884784091977,
           0.3335753259369105,
           0.11804441759001344,
           0.0612924893425928,
           -0.020494669806474415,
           0.0883733864467112,
           -0.06501699316716968,
           -0.08141236024952343,
           0.010981964787554144,
           -0.007849252155044272,
           null,
           null,
           null,
           null,
           null,
           null,
           null,
           null,
           null,
           null,
           null,
           null,
           null,
           null,
           null,
           null,
           null,
           null,
           null,
           null,
           null,
           null,
           null,
           null,
           null,
           null,
           null,
           null,
           null,
           null,
           null,
           null,
           null,
           null,
           null,
           null,
           null,
           null,
           null,
           null,
           null,
           null,
           null
          ],
          [
           -0.012568319513357887,
           -0.006057239065629668,
           -0.012797690513410122,
           -0.0069664213839691755,
           -0.006486214829652694,
           0.0007267391424785687,
           0.0006857222224159412,
           0.0007023268352269636,
           -0.00039057348078454083,
           0.0006522028671605818,
           -0.009218702496737863,
           -0.02810373027401528,
           -0.0015611785987384723,
           0.024247048491266323,
           0.00554828249795288,
           -0.009355727090969544,
           -0.009301718590771349,
           -0.009343332912918499,
           -0.009430181226888013,
           -0.01075605774121793,
           -0.0009833602887348303,
           -0.008037532608606904,
           -0.008806468825114488,
           -0.0010028471694034401,
           0.0003476428906576346,
           0.0005483926289172036,
           0.0005358664119595617,
           -0.00019944108920468833,
           -0.010756068359517222,
           -0.0005250420277672109,
           -0.0015731982338484667,
           -0.005390984503389846,
           -0.0004634413575219562,
           -0.001310134844847403,
           -0.0029451307540815284,
           -0.0010035928372288802,
           0.010340305614743469,
           -0.010340305614743157,
           0.34292284515573984,
           -0.004635749269188294,
           0.005207115327679369,
           -0.00804359817135253,
           -0.00860729810951073,
           0.014587757475041202,
           0.035102395362025085,
           -0.0017589991867180573,
           -0.0005406855931094961,
           -0.025253619117099804,
           -0.015569870916919762,
           0.023207689699425084,
           -0.0006514530781559342,
           0.0003628344230023873,
           null,
           null,
           null,
           null,
           null,
           null,
           null,
           null,
           null,
           null,
           null,
           null,
           null,
           null,
           null,
           null,
           null,
           null,
           null,
           null,
           null,
           null,
           null,
           null,
           null,
           null,
           null,
           null,
           null,
           null,
           null,
           null,
           null,
           null,
           null,
           null,
           null,
           null,
           null,
           null,
           null,
           null
          ],
          [
           0.25923674488387416,
           0.3031385994620518,
           0.25968410621072546,
           0.24632542344068722,
           0.22575307461465963,
           0.025624522838206095,
           0.03636697835287984,
           0.04042908727447883,
           0.010778049179168433,
           0.03516567716416845,
           -0.07706595685369129,
           0.01165568144453368,
           0.16145230699281157,
           0.04504276367105188,
           0.05551830536804486,
           0.19804292955433112,
           0.19900797525863148,
           0.19889340305236616,
           0.2527100413150697,
           0.07381756407259953,
           0.02028882098917052,
           0.26592824128270104,
           0.23801848182426427,
           0.012077028618949395,
           0.024155499794821556,
           0.03195265473062062,
           0.031788485196967725,
           0.0047928746634922775,
           -0.025955415564398388,
           -0.04470954107473028,
           0.026385621539256353,
           0.0568920786619418,
           -0.02013738494473501,
           -0.009267100560688368,
           -0.014415067924979643,
           0.0513925004167028,
           -0.528561413967444,
           0.5285614139674416,
           0.0778283961706379,
           -0.19238423597313126,
           -0.06586561028946922,
           0.2643675766474761,
           0.24540617891061495,
           -0.0022880092404522225,
           0.21093594628544982,
           -0.04103283708276621,
           -0.027533420658945727,
           0.06881129634225606,
           -0.2708532916226728,
           -0.01683853749359613,
           -0.030364211042113197,
           0.15957523815513222,
           0.013078460649844593,
           null,
           null,
           null,
           null,
           null,
           null,
           null,
           null,
           null,
           null,
           null,
           null,
           null,
           null,
           null,
           null,
           null,
           null,
           null,
           null,
           null,
           null,
           null,
           null,
           null,
           null,
           null,
           null,
           null,
           null,
           null,
           null,
           null,
           null,
           null,
           null,
           null,
           null,
           null,
           null,
           null
          ],
          [
           0.18157694673605335,
           0.20164735132053047,
           0.16586748685092048,
           0.1526419744367706,
           0.1411752284378921,
           0.02613118618099139,
           0.03084441282668001,
           0.0314802413867808,
           -0.0015799578476962842,
           0.028568775215483733,
           -0.004489984894935607,
           0.0643641967265675,
           0.030859333479100498,
           0.02510592719078996,
           0.11908073669923706,
           0.11487109937154466,
           0.11495083567410165,
           0.11468144597554138,
           0.2146374869604934,
           0.0979092754071452,
           -0.0141796714423043,
           0.2663385339107041,
           0.21887867994725027,
           0.015739387743679705,
           0.012458456255936997,
           0.02851094976002435,
           0.02899151217905327,
           -0.003357288229174329,
           -0.06851916013829784,
           -0.01921883287179133,
           0.024772371360129955,
           0.07183202380887259,
           -0.02401849565142829,
           -0.06313751974673396,
           -0.016539635203862417,
           -0.002884832688788631,
           -0.08394530738663022,
           0.08394530738662788,
           0.040714301183776176,
           -0.0954869734966112,
           -0.015795121893222647,
           0.2657926578262277,
           0.22224435511777427,
           0.1000963730487928,
           0.4690594104632351,
           0.009664726947936632,
           -0.05166283624925164,
           -0.09653291776973713,
           -0.32288040109221955,
           0.2997821506464307,
           -0.029750811117870157,
           0.0002516599826390032,
           0.035236059749599535,
           0.6483909745229494,
           null,
           null,
           null,
           null,
           null,
           null,
           null,
           null,
           null,
           null,
           null,
           null,
           null,
           null,
           null,
           null,
           null,
           null,
           null,
           null,
           null,
           null,
           null,
           null,
           null,
           null,
           null,
           null,
           null,
           null,
           null,
           null,
           null,
           null,
           null,
           null,
           null,
           null,
           null,
           null
          ],
          [
           0.0984818168742474,
           0.15674986036434943,
           0.0937286538972474,
           0.09472775588322839,
           0.08247266192827772,
           0.033850292962142974,
           0.037180829259205524,
           0.03786208011454091,
           -0.0076354504700625455,
           0.03488678519189558,
           0.025879307426714633,
           -0.023326810332966734,
           -0.04939364694498336,
           0.0134211798026361,
           0.08407720648830308,
           0.0466496004116789,
           0.04720781449410588,
           0.047389089434968064,
           0.17656434462644197,
           -0.03798261695790173,
           0.00024883489936419366,
           0.26029336470121567,
           0.17546315603652768,
           0.02813540528012495,
           0.01883419972930207,
           0.015107770796180977,
           0.014837610851443387,
           -0.007945516464633973,
           -0.07783744476889304,
           -0.025707417003672284,
           0.038853180448682904,
           -0.047582506207102346,
           -0.029025473579521274,
           0.027014118735004027,
           -0.009474368550150653,
           0.016883435699425773,
           0.11045040956467808,
           -0.1104504095646799,
           0.10445905237798184,
           -0.01762587298127551,
           -0.02808079186856564,
           0.25920376100344367,
           0.17807650216428203,
           0.3375075437749011,
           0.49749600695391244,
           -0.006937859653699655,
           -0.011541306422058334,
           0.023355338766737274,
           -0.38630225409316227,
           0.3585068236763882,
           -0.025273850599731494,
           0.2169969787072377,
           0.032189312082812054,
           0.7147296118728578,
           0.7553405181965379,
           null,
           null,
           null,
           null,
           null,
           null,
           null,
           null,
           null,
           null,
           null,
           null,
           null,
           null,
           null,
           null,
           null,
           null,
           null,
           null,
           null,
           null,
           null,
           null,
           null,
           null,
           null,
           null,
           null,
           null,
           null,
           null,
           null,
           null,
           null,
           null,
           null,
           null,
           null
          ],
          [
           0.2350473308533831,
           0.21767509545232228,
           0.22686354753902355,
           0.2418256111707965,
           0.22616298307920968,
           0.010484307647179064,
           0.017151517099497658,
           0.017134314431228332,
           0.008985642493451679,
           0.016457594863601287,
           -0.11031013783180404,
           0.013038613382098366,
           0.22799324791739484,
           0.01433011490181829,
           -0.011665450391403594,
           0.185117616718506,
           0.18512133656877447,
           0.18481521622123934,
           0.2406001487092963,
           0.25358863579299223,
           0.01810768554730196,
           0.23666914453627405,
           0.2226159087737038,
           -0.005631966882522319,
           0.008050540875105296,
           0.020840843186724186,
           0.02006088692755705,
           -0.0016230874757070144,
           -0.0642069855280789,
           -0.010498412315176711,
           0.013860902012477482,
           0.16777000435829337,
           -0.010637863182425484,
           -0.02983417969454794,
           -0.017352675585496826,
           0.01966562389175132,
           -0.3576287775735175,
           0.35762877757351585,
           0.052747596852017097,
           -0.1263731741581036,
           -0.019228426579408445,
           0.235548793503311,
           0.2280544781513774,
           -0.13583375957498312,
           0.10820597663171179,
           -0.017104175207787547,
           -0.01714780292202667,
           -0.012484799362448121,
           -0.11753317710600386,
           -0.011935879975287998,
           -0.01418336253750748,
           0.0486892995904634,
           0.0015137632317937415,
           0.5856964661009185,
           0.5906343658656512,
           0.4161047773924557,
           null,
           null,
           null,
           null,
           null,
           null,
           null,
           null,
           null,
           null,
           null,
           null,
           null,
           null,
           null,
           null,
           null,
           null,
           null,
           null,
           null,
           null,
           null,
           null,
           null,
           null,
           null,
           null,
           null,
           null,
           null,
           null,
           null,
           null,
           null,
           null,
           null,
           null
          ],
          [
           -0.01054492956759878,
           -0.009627264291811828,
           -0.010029852594914419,
           -0.0032133055392502092,
           -0.002826831431033085,
           0.0003652584835120343,
           0.00029588247363722734,
           0.00034286535296809917,
           -0.0002943438993797048,
           0.0003003389203905331,
           -0.012903803790519766,
           -0.01573430862889243,
           -0.008368125639976328,
           0.05513959090138265,
           -0.009858151131121923,
           -0.014848392247484332,
           -0.014794642975218285,
           -0.01481540714917979,
           -0.006759192711678915,
           -0.013818172767154028,
           -0.0005386496521145629,
           -0.007201256994365054,
           -0.0068862466851544735,
           -0.0004945275643250222,
           0.00014474852595899637,
           0.0004688852914012696,
           0.0004610880731184618,
           -0.00008147619897787945,
           -0.002530856136032957,
           0.07591441348341257,
           0.00035675556898428893,
           -0.028415832289171678,
           -0.00025385663296363144,
           -0.0007176450965144735,
           0.001860864586901341,
           -0.0005497322858266963,
           0.03948129627273052,
           -0.03948129627273054,
           -0.0017426554326957359,
           -0.06793061251874086,
           -0.0009409896079793913,
           -0.007156569918745542,
           -0.0073015345574203305,
           0.015246676765635457,
           -0.018396595101909826,
           -0.0009635169506103302,
           -0.000803502657808793,
           -0.01118500144088044,
           -0.0077012265517835046,
           0.10554481007906653,
           -0.00035684273870823646,
           0.034700644233678184,
           -0.0008011805624809282,
           -0.03370583764455331,
           -0.039177849698170966,
           0.008229508480747131,
           -0.01609804124042813,
           null,
           null,
           null,
           null,
           null,
           null,
           null,
           null,
           null,
           null,
           null,
           null,
           null,
           null,
           null,
           null,
           null,
           null,
           null,
           null,
           null,
           null,
           null,
           null,
           null,
           null,
           null,
           null,
           null,
           null,
           null,
           null,
           null,
           null,
           null,
           null,
           null
          ],
          [
           -0.04606564672643898,
           -0.03752154241840987,
           -0.04135529978724836,
           -0.030931523749011352,
           -0.02814078571093721,
           0.00030205518484096385,
           -0.0014030216820582436,
           -0.0008264888515313195,
           -0.003562031442029779,
           -0.0011112583498200028,
           0.024316907515333448,
           -0.042188124578382974,
           -0.023409282352236757,
           -0.011075736196590514,
           -0.0352805121503353,
           -0.033146662363876915,
           -0.032826375265107934,
           -0.03108029389498636,
           -0.034462231918068645,
           -0.02262127994117969,
           -0.001873437402572917,
           -0.024000111051531214,
           -0.03490960872018502,
           -0.0018010444738519307,
           -0.0024188697252288107,
           -0.005473230384207623,
           -0.005426860318985837,
           -0.0011463783267015976,
           0.006802127099054262,
           -0.0010002776797326586,
           -0.0024833115468744496,
           -0.01692628017301995,
           -0.0008829199021859461,
           0.15198482108350747,
           0.010641732915355648,
           -0.001911983140478842,
           0.08287118481270637,
           -0.08287118481270636,
           0.013853308513554144,
           0.04110588515040483,
           0.01108923942851752,
           -0.023895916449824393,
           -0.03536172997096992,
           0.05039251269579043,
           -0.04799315161172199,
           0.03690867793953571,
           0.018405839815494932,
           -0.021340842300802815,
           0.017977147817737744,
           -0.017295680913187922,
           -0.0012411082308229093,
           0.06194946012807847,
           0.0043109960755553225,
           -0.05630596747559477,
           -0.0746567633999738,
           0.0031488409844501446,
           -0.06400212436750066,
           -0.0015263597854079318,
           null,
           null,
           null,
           null,
           null,
           null,
           null,
           null,
           null,
           null,
           null,
           null,
           null,
           null,
           null,
           null,
           null,
           null,
           null,
           null,
           null,
           null,
           null,
           null,
           null,
           null,
           null,
           null,
           null,
           null,
           null,
           null,
           null,
           null,
           null,
           null
          ],
          [
           -0.21004555133370295,
           -0.19024060161592396,
           -0.21696303241853523,
           -0.1980518882442059,
           -0.18729476033383635,
           0.011347398153733557,
           0.0016441852338736085,
           -0.0027947349036086633,
           -0.024351011878526493,
           0.0001707067099948106,
           0.1358813195019206,
           -0.04639871019601581,
           -0.2782478354696289,
           -0.041409110274009786,
           0.03888127104743485,
           -0.19852404426593648,
           -0.1990508558322808,
           -0.1986587082806215,
           -0.09749093756941463,
           -0.14772150525186845,
           -0.026370041260975398,
           -0.0034036807085662027,
           -0.0796221320792233,
           0.021567509380229256,
           -0.006712853152539912,
           -0.02193605056515174,
           -0.022079704840423146,
           -0.016886992932731538,
           -0.06947978840292905,
           0.02461173045052438,
           0.01700697245563138,
           -0.13822853487979442,
           -0.012144680813876542,
           0.04816475322195529,
           0.006356231675057959,
           -0.04515584867106149,
           0.8426820657620728,
           -0.8426820657620737,
           0.03665774638705303,
           0.22972126475211296,
           0.04929434932560079,
           -0.0028005301991616267,
           -0.08586519475805575,
           0.45239457994382604,
           0.3847994049784755,
           0.0447641851648329,
           0.020868725866300376,
           -0.059462887041140625,
           -0.15789253955898747,
           0.49950403742291155,
           0.006309661302598072,
           0.07891540478196123,
           0.025647244377844245,
           -0.3644168328563563,
           0.1523951390578532,
           0.3908477268944832,
           -0.21677943189978086,
           0.0553163918505832,
           0.07829478782695365,
           null,
           null,
           null,
           null,
           null,
           null,
           null,
           null,
           null,
           null,
           null,
           null,
           null,
           null,
           null,
           null,
           null,
           null,
           null,
           null,
           null,
           null,
           null,
           null,
           null,
           null,
           null,
           null,
           null,
           null,
           null,
           null,
           null,
           null,
           null
          ],
          [
           0.38811237467625614,
           0.35107198716422733,
           0.38787215038784645,
           0.2467900985026733,
           0.2269309511075758,
           0.02031114698177018,
           0.022855456519139273,
           0.02087757498998221,
           -0.0034820790713664066,
           0.024520602295374356,
           -0.04253508267276981,
           0.035510279071910754,
           0.880545410884751,
           0.015692578548213838,
           0.05175069185900586,
           0.19585969888046642,
           0.19579470187266976,
           0.1955075186673165,
           0.2481466836875984,
           0.4150486500503236,
           0.12746399964534544,
           0.24559490930760836,
           0.22237212330387116,
           -0.023348740340520695,
           0.0036625802590285876,
           0.015932671226730064,
           0.01519092024278859,
           0.0034023326646892504,
           0.06423579608375463,
           -0.006969867312453702,
           -0.0033542520360480893,
           0.4126311526996206,
           0.0035451523283383285,
           -0.013933359717781587,
           -0.0017094646549642247,
           0.26585938418716326,
           -0.33338896861462536,
           0.33338896861462597,
           0.026093047226504695,
           -0.09318605772190934,
           -0.011001440921383417,
           0.2451923343955531,
           0.23309465188548556,
           -0.13080258841574785,
           -0.030862052077122174,
           -0.0050407368816899585,
           0.011144005615976406,
           -0.014194894679554865,
           0.024144595407930715,
           -0.09108917164710609,
           -0.006777525042074184,
           0.11800450971732919,
           -0.0004071109783638723,
           0.21086267480806165,
           0.09808874369091945,
           0.002845233527411974,
           0.3004459614808199,
           -0.009213061271963661,
           -0.024520838184505865,
           -0.27372012397735807,
           null,
           null,
           null,
           null,
           null,
           null,
           null,
           null,
           null,
           null,
           null,
           null,
           null,
           null,
           null,
           null,
           null,
           null,
           null,
           null,
           null,
           null,
           null,
           null,
           null,
           null,
           null,
           null,
           null,
           null,
           null,
           null,
           null,
           null
          ],
          [
           -0.004531558778453839,
           -0.00009412067916480377,
           -0.001705665259611284,
           -0.035061361404235866,
           -0.03239426128177847,
           -0.00102573737237957,
           0.01022980627391032,
           0.009499793089535098,
           0.02310393241636601,
           0.011907647402740414,
           -0.008056274845872825,
           -0.015514906469483752,
           -0.0068205267652292605,
           -0.002828602225210444,
           -0.008886681450765712,
           -0.0057505107005969515,
           -0.005658009177879429,
           -0.0056489428934676745,
           0.00020962709158225807,
           -0.009132780378268519,
           -0.0002801583458918373,
           -0.0037627057718285823,
           -0.0027033057623170047,
           -0.00012276503908619692,
           0.00007876962213763617,
           0.0019954839325273667,
           0.0017763106047644114,
           0.060757856929629414,
           0.010145910230603423,
           -0.0005525290689490769,
           0.0004855199558389107,
           -0.0054943835425891735,
           -0.0004869154026063142,
           0.008345496596864448,
           0.004148769635169424,
           -0.0005754415329582798,
           0.0021265737089028176,
           -0.0021265737089026936,
           0.0009279044266593167,
           0.003172782438477654,
           -0.001141569343059423,
           -0.0037670591171765416,
           -0.0026749814770962842,
           0.008683979492759734,
           -0.02148168111387969,
           0.23519503224805519,
           -0.009556144732519995,
           0.0007480376908987776,
           0.00550922852347646,
           -0.01774025602495088,
           -0.0011100214092995397,
           -0.013463320062572242,
           -0.0005268929819163716,
           -0.012536065884361623,
           -0.032279872762167774,
           -0.011113607847540733,
           -0.019144428239204918,
           0.001622742872093735,
           0.0024186296189534036,
           0.0017007384303558727,
           -0.008514551443226284,
           null,
           null,
           null,
           null,
           null,
           null,
           null,
           null,
           null,
           null,
           null,
           null,
           null,
           null,
           null,
           null,
           null,
           null,
           null,
           null,
           null,
           null,
           null,
           null,
           null,
           null,
           null,
           null,
           null,
           null,
           null,
           null,
           null
          ],
          [
           0.013281406944838045,
           0.004815874984676105,
           0.007250254152118794,
           0.035196676932739535,
           0.03297462651063187,
           -0.001746510125192721,
           -0.01748851553766976,
           -0.01576529998765059,
           -0.030965292194878296,
           -0.005397839838284051,
           -0.011407245389531775,
           -0.023755380754710387,
           0.019847163879076,
           0.011222970381715897,
           0.01768078934916762,
           -0.01562330371018171,
           -0.015622779451237514,
           -0.015728791389542675,
           0.031768925284365035,
           0.028540813036981194,
           0.03749170118435721,
           0.037506759961901164,
           0.03355365420157481,
           -0.0012928133055311317,
           0.0015634574310344725,
           -0.01931951959881312,
           -0.01927072127671352,
           -0.001519328429989171,
           -0.011176190410811828,
           -0.0013171660358685558,
           0.0018196196182748846,
           0.02075815406688546,
           -0.0011626292465363526,
           -0.003286718110780257,
           -0.0013069324270668287,
           -0.002517700144534335,
           0.026982976504140988,
           -0.026982976504141273,
           0.0003528477486724501,
           0.007715372222944168,
           -0.0007754613211179812,
           0.038182208756118524,
           0.03627299922470898,
           -0.012461777262567924,
           -0.0136383642332227,
           0.04882442172439424,
           -0.0036799342083399245,
           -0.05201026415004508,
           0.011193665741995363,
           -0.008379550541323007,
           0.08659345757687098,
           0.0058336135580262845,
           -0.0036692993379105715,
           -0.04544793473721583,
           0.0361466367146174,
           -0.02849138929767003,
           0.02662980517234237,
           -0.0020099111490522533,
           -0.006990522731130703,
           0.021876708577016967,
           0.02881530618487032,
           -0.003889220401606624,
           null,
           null,
           null,
           null,
           null,
           null,
           null,
           null,
           null,
           null,
           null,
           null,
           null,
           null,
           null,
           null,
           null,
           null,
           null,
           null,
           null,
           null,
           null,
           null,
           null,
           null,
           null,
           null,
           null,
           null,
           null,
           null
          ],
          [
           0.05277748678340076,
           0.08049904675893879,
           0.046710343738451766,
           0.06359031725482883,
           0.05627861106877261,
           0.020543964303075507,
           0.019033286252916577,
           0.01375410442422908,
           -0.011747570369407693,
           0.014623735856034341,
           -0.013531190761619868,
           -0.0076961765504864055,
           -0.0689460939543481,
           0.024915187145422034,
           0.0643986697246129,
           0.04431577452446567,
           0.04426173965379627,
           0.04421602587836123,
           0.10720364882084273,
           0.0061485512713303015,
           -0.02800914874836941,
           0.13586161830163732,
           0.10646462927323846,
           0.016512882340108833,
           0.011886706166979833,
           -0.0009096880807271244,
           -0.0009138373074126454,
           0.0033924644641763458,
           -0.044293511066119284,
           -0.01614633533299592,
           0.027096701397474925,
           -0.011331516870872044,
           0.004908876745539215,
           0.028002128196979552,
           -0.021935624390084875,
           -0.006802052992829024,
           -0.08219368446946464,
           0.08219368446946332,
           0.07437850525428855,
           -0.07556862528600779,
           -0.004655552937196369,
           0.1352521484075012,
           0.10235658584995262,
           0.1491274077514237,
           0.3221691588489206,
           0.01276962447610621,
           0.024438840522787598,
           -0.014673379269559871,
           -0.2856657978854607,
           0.1940688089154107,
           -0.02768291189232405,
           0.12506764274743615,
           0.023184029210996607,
           0.2513619152247716,
           0.4626329549336138,
           0.5655059184847144,
           0.24325388218432023,
           0.023998355171690196,
           0.008879865406584163,
           0.4221499078151095,
           0.0624579069169586,
           -0.010506015739322614,
           -0.0007196482326977212,
           null,
           null,
           null,
           null,
           null,
           null,
           null,
           null,
           null,
           null,
           null,
           null,
           null,
           null,
           null,
           null,
           null,
           null,
           null,
           null,
           null,
           null,
           null,
           null,
           null,
           null,
           null,
           null,
           null,
           null,
           null
          ],
          [
           0.10361283778222125,
           0.12021011081212794,
           0.1017478590153782,
           0.06792936513864059,
           0.06144397063895102,
           0.010604475831195241,
           0.014933907136448375,
           0.01678939671949843,
           0.004226290701755232,
           0.01482640371587073,
           0.00721393869409943,
           0.005792308070925192,
           0.022538994507332894,
           0.06823421375349123,
           0.04079984292712045,
           0.06985842886256993,
           0.07007318482979823,
           0.07012834616666568,
           0.12164196509960988,
           -0.009995007829836417,
           0.0017755716856870894,
           0.12640709104624426,
           0.11465671935512842,
           0.008673932895552695,
           -0.0034603346005641507,
           0.004413722942946885,
           0.004245794442385643,
           0.001325444660052602,
           -0.013881968043298176,
           0.06304803882942721,
           0.015297052629612024,
           0.036679075387513235,
           -0.005783086497251574,
           0.003575201784613707,
           -0.0028453502991696153,
           0.008073923180691629,
           -0.1047427396830026,
           0.10474273968300189,
           0.03162992737789201,
           -0.5356717069942126,
           -0.7678266621203468,
           0.1248564372557999,
           0.1154112203848486,
           0.040130527223294035,
           0.10070196076354866,
           -0.01502721746557662,
           -0.005391534108949958,
           0.01709569396469475,
           -0.09704159347766247,
           0.10578792659614204,
           -0.019626377680660057,
           0.0864871317098252,
           0.008657283053004316,
           0.3363295784356114,
           0.22276473897407864,
           0.2889801629066856,
           0.14404454155137,
           0.1283852953498709,
           -0.015222238845233112,
           -0.05786044731263849,
           0.033536959412549375,
           -0.0002516192346927061,
           -0.015561630611250123,
           0.07113016593575305,
           null,
           null,
           null,
           null,
           null,
           null,
           null,
           null,
           null,
           null,
           null,
           null,
           null,
           null,
           null,
           null,
           null,
           null,
           null,
           null,
           null,
           null,
           null,
           null,
           null,
           null,
           null,
           null,
           null,
           null
          ],
          [
           -0.14269740877959816,
           -0.1337758627621717,
           -0.14284650830279222,
           -0.08044736229247257,
           -0.07498465166428213,
           0.0018610940287406262,
           -0.002198853524774999,
           -0.0031935653219517146,
           -0.008965692251559857,
           -0.002686318158847502,
           0.036135449575400685,
           -0.037547255866572066,
           -0.08754510764223337,
           -0.01888419767958398,
           -0.015831972598218808,
           -0.10208611426491469,
           -0.10252568153609137,
           -0.10240903074265709,
           -0.09492871239032584,
           -0.04500202535171526,
           -0.0063609236067184915,
           -0.055438121616813475,
           -0.08913640004093962,
           0.0044563683752681296,
           0.005975182433782112,
           -0.007515613340688715,
           -0.007519559883878249,
           -0.006179458478034725,
           -0.036338660960000886,
           -0.05528115894229059,
           -0.0014017452955773636,
           -0.1675715603889904,
           -0.0035818906633727785,
           0.014776465272664872,
           0.004570947854599621,
           -0.009967417110167168,
           0.3436541976448453,
           -0.34365419764484556,
           0.013201024491593723,
           0.8927780804775503,
           0.622920761682256,
           -0.05314519050401016,
           -0.08378065146210163,
           0.6618358049891937,
           0.12438944491301415,
           0.033322362916882786,
           0.007743406796245746,
           -0.018502530347437585,
           -0.04367760835966401,
           0.2678468816613171,
           0.013609814113349267,
           0.010700112281841975,
           0.00643580408997475,
           -0.16153644976177994,
           0.02463182633365693,
           0.10539723454392161,
           -0.07996790556004853,
           -0.07731801512157731,
           0.03277599805001479,
           0.35292604224668184,
           -0.09165696983605481,
           0.003171455042372142,
           0.005081240097356941,
           0.08691783174399395,
           -0.6926972812465514,
           null,
           null,
           null,
           null,
           null,
           null,
           null,
           null,
           null,
           null,
           null,
           null,
           null,
           null,
           null,
           null,
           null,
           null,
           null,
           null,
           null,
           null,
           null,
           null,
           null,
           null,
           null,
           null,
           null
          ],
          [
           0.021463217057991243,
           0.02220056126447224,
           0.018253157782483143,
           0.0004914182763000278,
           0.0005952715523383261,
           0.001968486917286438,
           0.0020630702103414775,
           0.002062518326808793,
           -0.0006436299551242212,
           0.0018829368656916733,
           0.001780957955306756,
           0.008581355898211757,
           0.02443236423095271,
           0.006073088761919326,
           0.01602208918542304,
           0.011250152788058665,
           0.011549721073244758,
           0.011439142071010202,
           0.019440277510656974,
           0.031174913948433483,
           -0.002443606917355888,
           0.022262343037542667,
           0.04702801382662792,
           -0.001785654878829822,
           0.0015462665544894445,
           0.005115776253572234,
           0.004907032988580414,
           -0.0005076612896669381,
           0.01691308888264901,
           -0.0013047062379383403,
           0.0014059230685330357,
           0.023172323030484762,
           -0.0011516312987034025,
           -0.0032556272454114976,
           -0.006960213178110929,
           -0.0024938838590855073,
           -0.006903624380255089,
           0.006903624380255264,
           -0.004006364692012742,
           -0.007542281599178055,
           -0.001509064759599686,
           0.022757662431260473,
           0.022144859637105108,
           0.01786150863535826,
           0.018999646640502472,
           -0.0018646216129017683,
           -0.003645123695893384,
           0.009413942723592117,
           -0.026225956791028026,
           0.014775569071273875,
           -0.001618832166930087,
           0.017045023653357354,
           0.001749736663933168,
           0.004881493710406967,
           0.03196453933227752,
           0.029477549379873135,
           -0.0027573984148259825,
           0.004565185278296011,
           -0.0018364575540865894,
           0.032824317554395806,
           0.042340845215122644,
           -0.0007295395676299255,
           0.0010582168508747078,
           0.07245492795589566,
           0.0019402754142843139,
           0.00931551963730075,
           null,
           null,
           null,
           null,
           null,
           null,
           null,
           null,
           null,
           null,
           null,
           null,
           null,
           null,
           null,
           null,
           null,
           null,
           null,
           null,
           null,
           null,
           null,
           null,
           null,
           null,
           null,
           null
          ],
          [
           0.6500422004974845,
           0.7179028996957929,
           0.673587542294478,
           0.16450941549991985,
           0.14789502293318282,
           0.021294264296891265,
           0.03624535931801074,
           0.034583783810031035,
           0.021089342235223487,
           0.0347843134417512,
           0.08308208867854161,
           0.07927600368618735,
           0.22309357339348654,
           0.023843238488032794,
           0.21200985976656256,
           0.4911336722541837,
           0.4925107447608291,
           0.492480019988534,
           0.49184135896011366,
           0.22542470440955523,
           -0.004382640756658552,
           0.41509284288531517,
           0.47353089298501805,
           -0.00892306836915083,
           0.021447967265940462,
           0.06415668401386801,
           0.06445715472955545,
           0.01196690974800735,
           0.09926718800691953,
           -0.0474440151621205,
           0.02503072056502623,
           0.20588008915949782,
           0.015431598901480381,
           -0.011910054762469344,
           0.0000605578816662126,
           -0.009147414722590176,
           -0.2350006580855571,
           0.23500065808555604,
           0.010379231831369608,
           -0.11776479577741969,
           -0.0217346462419699,
           0.41373558885088524,
           0.48316983575473993,
           -0.06412370659530045,
           0.12407775337550174,
           -0.01671091285423991,
           0.010682576801874382,
           -0.04873136320063808,
           -0.1002893755470398,
           0.001392202347030589,
           -0.01606408353414361,
           0.23350092651355633,
           0.0015169791658219325,
           0.21666386300514812,
           0.09375783560028514,
           0.06522332419300504,
           0.0961266678488599,
           -0.015334746539828189,
           -0.02577665766683978,
           -0.1982998792066249,
           0.26425378519860887,
           -0.0017232382936407068,
           -0.01660940984638842,
           0.02689836874818623,
           0.07660725262894559,
           -0.10599515317284434,
           -0.001169097572268889,
           null,
           null,
           null,
           null,
           null,
           null,
           null,
           null,
           null,
           null,
           null,
           null,
           null,
           null,
           null,
           null,
           null,
           null,
           null,
           null,
           null,
           null,
           null,
           null,
           null,
           null,
           null
          ],
          [
           0.0234361806602111,
           0.028862423302796793,
           0.02442213426856955,
           0.04360706108518965,
           0.03999785884726884,
           0.0020473318823428285,
           0.003322390427092111,
           0.002985479664987604,
           0.0017005455549916548,
           0.003093871755117994,
           -0.0019513725327375661,
           -0.008316141701255511,
           0.02620068691037027,
           -0.00020653933566976235,
           -0.0009499080864579897,
           0.023125257792972143,
           0.02311772175056507,
           0.023099445003358064,
           0.022996372637250604,
           0.011120877923414273,
           -0.0005584806862924469,
           0.01564734096205587,
           0.022229091254906245,
           -0.00030829381309097846,
           0.0008057469766237121,
           0.0025998567683446524,
           0.002599666762164781,
           0.0006533199071615276,
           -0.020228680366793882,
           -0.0007099228822242154,
           0.0007923673912569449,
           0.0048493646394111075,
           0.00341083022480265,
           -0.0003153585134159934,
           -0.00042772035096579335,
           -0.0007256089309146986,
           -0.027991022334053147,
           0.027991022334053126,
           0.0525824108529326,
           -0.0070095789267692376,
           -0.00020141160431292303,
           0.015644477290698258,
           0.023739378501412556,
           -0.010421028970614017,
           -0.014182773868884517,
           -0.0006852898092462438,
           0.4591452203475255,
           -0.011170031742470618,
           -0.006676752973897306,
           -0.010979020895292017,
           -0.0009700501730337185,
           0.12476633535096997,
           -0.0008056252641371112,
           -0.013334772139515786,
           -0.023349377521620692,
           -0.029490190353400315,
           -0.006586832918421567,
           -0.0002744905540780823,
           -0.00162785915959675,
           -0.021716104838322228,
           0.036073070547397675,
           -0.0002512956561296581,
           -0.00127708770665425,
           0.013294370170801739,
           -0.0032443068062123228,
           -0.006978570897833413,
           -0.0009302524095761348,
           0.020504152525969203,
           null,
           null,
           null,
           null,
           null,
           null,
           null,
           null,
           null,
           null,
           null,
           null,
           null,
           null,
           null,
           null,
           null,
           null,
           null,
           null,
           null,
           null,
           null,
           null,
           null,
           null
          ],
          [
           -0.29599665873136877,
           -0.35717618868516493,
           -0.3222159063355356,
           0.2253431129730135,
           0.20884047146541973,
           0.005398473885151207,
           -0.004525192190491841,
           -0.0028026528242745454,
           -0.022274245694381255,
           -0.004471292553062322,
           -0.24926904703059372,
           -0.04956223992266041,
           -0.08159334899232235,
           -0.010308112920268961,
           -0.08154589201715227,
           -0.23544936383914342,
           -0.2347451843433013,
           -0.23495738046217665,
           -0.17791639855646338,
           -0.01395182356465415,
           -0.017884581540890662,
           -0.07075523093982894,
           -0.15689129420518677,
           0.05100445557063847,
           -0.004168458214620014,
           -0.031498384018606974,
           -0.03283792013401771,
           -0.013011535598832058,
           -0.0793836554404573,
           0.0426151905522457,
           -0.015386696812764441,
           -0.06074708277908927,
           -0.01176292978860423,
           -0.01829361705201897,
           -0.013480813363347955,
           -0.015684302888919685,
           0.037206104361684554,
           -0.03720610436168402,
           -0.018419867762742292,
           0.022554116417444797,
           -0.007410365913924763,
           -0.06950133914745683,
           -0.17476679834677022,
           0.03706279008951528,
           0.17146394296683815,
           -0.01829800616460895,
           0.04019863424302009,
           0.06477246471998908,
           -0.11768663096501224,
           0.11477457305860456,
           -0.012085679926420177,
           -0.1468913253512815,
           0.010883497104718715,
           0.10917388981652018,
           0.2431210044205968,
           0.1947051158927146,
           0.18522530299412704,
           -0.012820719290239542,
           -0.032999381521752885,
           0.11556564067618606,
           -0.0723276239901786,
           -0.01819025154745305,
           0.006724372290054066,
           0.19232054402687,
           0.00907352663791435,
           0.06328998514353228,
           0.004566130321699964,
           -0.5415689061319833,
           -0.022216564966992713,
           null,
           null,
           null,
           null,
           null,
           null,
           null,
           null,
           null,
           null,
           null,
           null,
           null,
           null,
           null,
           null,
           null,
           null,
           null,
           null,
           null,
           null,
           null,
           null,
           null
          ],
          [
           0.005761119428435666,
           -0.00097681022920592,
           -0.0026070983211911643,
           -0.12184434535071287,
           -0.10971289527876715,
           0.008100078898248745,
           0.008048415715278609,
           0.008157478345274895,
           -0.0035364300663336084,
           0.007503217425159105,
           0.1702124544036238,
           -0.04560927100972005,
           -0.008121390865568583,
           -0.009564677912335541,
           0.06366970292097933,
           -0.016349518963462494,
           -0.01585137086491435,
           -0.01601153808150355,
           -0.00014644313385115513,
           0.04265567112927053,
           -0.010877473904916495,
           0.008258291460047605,
           0.009691685672332893,
           0.01946009956857577,
           0.011507154787679715,
           0.0057854729282856765,
           0.005571870811432855,
           -0.0020736819159903595,
           0.001240220787705248,
           0.008913698196668427,
           -0.005090242769046876,
           0.036924433093561325,
           -0.0022275674581498923,
           -0.014492102159524374,
           0.030197000144067364,
           -0.01110127692672539,
           0.12506456697786844,
           -0.12506456697786797,
           0.015765591717513475,
           0.028897650384216805,
           0.0018773548077217692,
           0.008940560482633223,
           0.00846243433588815,
           0.041558979914847534,
           0.3540301549674902,
           -0.019457230655338376,
           0.02149162857468212,
           -0.17768430273996855,
           -0.04145746343856089,
           0.27155875223801107,
           -0.0072060709784484735,
           -0.006738973842767524,
           0.014035453661158062,
           -0.18417332494415128,
           -0.08176492578404365,
           -0.11027381748741846,
           -0.12451010797401928,
           -0.0036680003391463467,
           -0.0027893368365152584,
           0.09555661602368795,
           -0.022720982596726565,
           -0.008716087277913238,
           0.012287099489218417,
           -0.037336977909562655,
           -0.04876258657300954,
           0.039760527589062795,
           -0.014737529911669179,
           0.002274986190110187,
           -0.0004573110762627549,
           0.02595283126929912,
           null,
           null,
           null,
           null,
           null,
           null,
           null,
           null,
           null,
           null,
           null,
           null,
           null,
           null,
           null,
           null,
           null,
           null,
           null,
           null,
           null,
           null,
           null,
           null
          ],
          [
           -0.02714118106539095,
           -0.025084269713317148,
           -0.029793495062383085,
           -0.12979867666254977,
           -0.12837259685933242,
           0.012686846191087063,
           0.01219968596491716,
           0.012360663318060888,
           -0.006356879438345885,
           0.01143430425615562,
           0.15377041071024414,
           -0.03392501714424182,
           -0.057444198119659236,
           -0.02669488977359727,
           0.04679561955023947,
           -0.04247015757949934,
           -0.04237092544613065,
           -0.042602830166245775,
           -0.02900913433631169,
           -0.02830482497819043,
           -0.016464213519574934,
           -0.0009929189831782443,
           -0.0239995362656526,
           0.0037856478203698216,
           0.012413019499067465,
           0.014414678896765988,
           0.014142985904076906,
           -0.007178868730374219,
           0.032514781796893946,
           0.006147580027330194,
           -0.009234756778222003,
           -0.022470463575122782,
           -0.007285229362077387,
           0.00710793825367554,
           0.007738034641744522,
           -0.016802962997082695,
           0.20316813607925832,
           -0.20316813607925663,
           -0.0015331378967623674,
           0.06334157623870795,
           0.0008772088347836509,
           -0.00016501301031224337,
           -0.022856635262163704,
           0.11311080329757206,
           0.2528708652967866,
           -0.029450587431736407,
           0.0040091325925835026,
           -0.014922881501865142,
           -0.04425730757309355,
           0.20975038371730742,
           -0.010907154679952935,
           0.04771254100515703,
           0.015970440677175624,
           -0.20803879069484033,
           -0.2167745521184962,
           -0.08341656828929955,
           -0.2336620598809501,
           -0.001264389244015686,
           0.026621318822865617,
           0.16272486403431308,
           -0.07780869011703252,
           -0.001251594786612539,
           -0.0290775284789803,
           -0.038334543090967524,
           -0.04876803782353163,
           0.06741815597340772,
           0.0011351832981292193,
           -0.007513648246484436,
           -0.002153512486918198,
           -0.0038243363247331325,
           0.42309153279550754,
           null,
           null,
           null,
           null,
           null,
           null,
           null,
           null,
           null,
           null,
           null,
           null,
           null,
           null,
           null,
           null,
           null,
           null,
           null,
           null,
           null,
           null,
           null
          ],
          [
           0.00181803606977204,
           0.004486265689559682,
           0.0024814929503206083,
           0.020452495501033417,
           0.018856911094868697,
           -0.2295680811074267,
           0.09068894828683775,
           0.24491107810475596,
           0.7422904928889755,
           0.11070320989252676,
           -0.0033320918169592,
           -0.0029142045623204893,
           0.044480655005251925,
           0.0006054429228520695,
           -0.002918778892747838,
           0.006431612020293435,
           0.006419988930433181,
           0.006425049292979655,
           0.0021852675570248597,
           -0.00024205851999528887,
           0.18491579045462428,
           -0.00043996285080922924,
           0.0013815473404884962,
           0.000022562459767798437,
           -0.005974313860558931,
           0.00037135417465992016,
           0.00019795651829199832,
           -0.0003847644310474957,
           0.004511356976680652,
           -0.000366749499084208,
           -0.0016432206372743521,
           0.0030312802342824315,
           -0.00048674957980016635,
           0.002905020464339323,
           -0.0002398009999937415,
           0.015299603897443103,
           -0.031723228922878294,
           0.031723228922878266,
           0.0316358208984632,
           -0.004403908722416458,
           0.0011012535453483994,
           -0.0003370894342156338,
           0.001818455027973211,
           -0.0005952373841257479,
           -0.006445601800147839,
           0.07472707876335975,
           -0.0003925127737092914,
           -0.004527992711631908,
           -0.0009641441398642506,
           -0.004805858398191009,
           -0.03960668130916083,
           -0.006492192615386773,
           -0.0000033857211397594978,
           0.044807183096116525,
           0.01101331240909526,
           0.01757142995339031,
           0.014819352827048665,
           -0.0003100969727911156,
           -0.00007103606841306184,
           -0.03557311036546638,
           0.030672807527034808,
           0.00011477466956020776,
           -0.0038808580890416318,
           -0.026913352999162553,
           0.01658625631447157,
           -0.009280152368225781,
           -0.0002886356132100674,
           0.006339086911842101,
           -0.00003431416632457874,
           -0.0036540574937460337,
           -0.00377774043161925,
           -0.004597757541411091,
           null,
           null,
           null,
           null,
           null,
           null,
           null,
           null,
           null,
           null,
           null,
           null,
           null,
           null,
           null,
           null,
           null,
           null,
           null,
           null,
           null,
           null
          ],
          [
           -0.02965449276313645,
           -0.0259738480287042,
           -0.030600949112599796,
           -0.07181338801969124,
           -0.06239026834647381,
           0.01649770079704002,
           0.015591720773867036,
           0.015802756458633188,
           -0.008815338889487193,
           0.014604644766963031,
           0.04115972161948814,
           0.07001593490735096,
           -0.09398684664033041,
           -0.019331955709621495,
           0.0443918815065256,
           -0.055103586802558946,
           -0.05412711700165118,
           -0.054236209334166514,
           -0.03451892321604087,
           -0.05828583211792268,
           -0.02163676608829945,
           -0.012686972376163041,
           -0.030042722908082506,
           -0.009141746015139377,
           0.014007916208044245,
           0.014108689231218345,
           0.013473134960487474,
           -0.006511765795520614,
           0.06435918771992252,
           -0.002088639399692978,
           0.018428150994121716,
           -0.04143998591989348,
           -0.0036425821084167826,
           -0.022149302505214113,
           0.002073758329634944,
           -0.016579093159506994,
           0.1390514300937592,
           -0.13905143009375875,
           -0.014077121554809004,
           0.004624734518263631,
           -0.00034332149323766946,
           -0.012635972911916416,
           -0.0314257879064501,
           0.049360167811150615,
           0.0609184686182716,
           -0.02253839642271482,
           0.014959943024474155,
           0.01802596770273761,
           -0.03987084696603238,
           0.04169026452482487,
           -0.014333849185650413,
           0.011207180391568237,
           0.012559756128722833,
           -0.14132089606016837,
           -0.10727755619806302,
           -0.0448422717031753,
           -0.28819613894874185,
           0.0014917492079515938,
           -0.04419592109371177,
           0.12628071174919556,
           -0.1018600489068599,
           0.0025773459430271364,
           -0.01761347496426492,
           -0.006939680401362311,
           -0.0203301238361299,
           0.016641383563428425,
           -0.014522449736321302,
           0.007287178238509964,
           0.0017986857711242879,
           -0.008054047891759817,
           0.07340127283652688,
           0.15707853811517833,
           -0.004219742746725307,
           null,
           null,
           null,
           null,
           null,
           null,
           null,
           null,
           null,
           null,
           null,
           null,
           null,
           null,
           null,
           null,
           null,
           null,
           null,
           null,
           null
          ],
          [
           0.011765539765515863,
           0.012205642333344759,
           0.01198400979541178,
           -0.0415678637851575,
           -0.038176687090691726,
           -0.08474680595939238,
           0.23367528180228442,
           0.37995194183787595,
           0.6772300736334006,
           0.25488571156439377,
           0.0030826633215517603,
           0.0036803871324728814,
           0.016087776770764187,
           0.00017391659978622221,
           0.004229271778011514,
           0.009430332131059017,
           0.009404198549564856,
           0.00940885656968591,
           0.007260159283748418,
           0.004107875022483844,
           0.03716487383526417,
           0.005122296062457824,
           0.006432142766500672,
           -0.00018188688598377482,
           -0.0051753559828825605,
           0.0009161159478274976,
           0.0007557704360122592,
           -0.00017953798568740094,
           0.004525775384313305,
           0.00003937549605877974,
           -0.0006095309286960745,
           0.006673735497163514,
           -0.00010078129457217932,
           0.000024879645204738154,
           -0.000038008809550573095,
           0.004189297355246039,
           -0.018211736841968768,
           0.01821173684196873,
           0.008499433579000017,
           -0.00047632515641089307,
           0.0005407557894168079,
           0.005207994909986847,
           0.0068681993276866245,
           0.003459366429220269,
           0.007066699093105874,
           0.052667796281937164,
           0.00007300972384933212,
           -0.0001664093264954233,
           0.001644959964849923,
           0.004045706838353366,
           -0.019828625669977406,
           0.0007632251291678246,
           0.00016945389616034474,
           0.03630025161795026,
           0.014328168894075864,
           0.01734559565363623,
           0.01398850570335657,
           0.00010913067257846741,
           -0.000008822486351710107,
           -0.024678148844732718,
           0.013313653197991715,
           0.00008494683138094301,
           -0.0022740113451606846,
           -0.022199488311299902,
           0.014281402830627503,
           -0.005402743199268286,
           0.0005189121562475114,
           0.010147046384540611,
           0.0004661155455247454,
           0.00004356634768114049,
           0.0018341717495143138,
           0.002761488751253774,
           0.9481941756202011,
           0.003387453584019779,
           null,
           null,
           null,
           null,
           null,
           null,
           null,
           null,
           null,
           null,
           null,
           null,
           null,
           null,
           null,
           null,
           null,
           null,
           null,
           null
          ],
          [
           -0.00920184564298315,
           -0.005868912254325119,
           -0.008373922434539409,
           0.003503874084189935,
           0.00328691587178898,
           0.00010647530542243243,
           -0.000047316635286330485,
           -0.0000027844223150025522,
           -0.0003548607871803403,
           -0.00001607554402889115,
           -0.00746418057192537,
           -0.009101480564393215,
           -0.006935411846056807,
           -0.0018420618808751535,
           -0.01004957239362755,
           -0.003122244319696205,
           -0.003104739260065696,
           -0.003117891925882351,
           -0.006487172358056841,
           -0.02399012650571241,
           -0.00031158088323293747,
           -0.006738188140811507,
           -0.006489778588371842,
           -0.00030162254694081255,
           0.00004203220099058914,
           0.00038124394375013595,
           0.00037628077006560237,
           -0.00004272878971540248,
           0.006570450517984168,
           -0.00016636118874242925,
           -0.0002064291628975436,
           -0.034957550386652304,
           -0.00014684290372801677,
           -0.0004151204747688028,
           -0.0139019874563871,
           -0.0003179916444256736,
           0.023433493774472524,
           -0.023433493774472652,
           0.393706765199638,
           0.015590916993220478,
           -0.0005982550800617809,
           -0.006728673174845603,
           -0.006724574722095351,
           0.035280973728872185,
           -0.01606554522849985,
           -0.0005573445420968845,
           0.0060077731887009005,
           -0.00766149522288434,
           -0.004933362441134018,
           -0.008857252316252003,
           -0.0002064149325404148,
           -0.004649435020758811,
           0.14265263499220074,
           0.00139720751554872,
           -0.021756940776131436,
           0.025906001662750262,
           -0.010731544772850913,
           -0.00025385661520899264,
           0.04871713270883785,
           0.03265442392870854,
           -0.008372184952217636,
           0.001657530310997955,
           -0.0011626292548605531,
           0.013906328714521255,
           0.007190238765354841,
           0.0152582317162996,
           -0.0011516313351139188,
           -0.002035062876048409,
           -0.00042929230433674315,
           -0.011092782088614696,
           -0.005126372544084121,
           -0.0077593099115324075,
           0.0012179278426272411,
           -0.004838050637986328,
           -0.00004858482500336976,
           null,
           null,
           null,
           null,
           null,
           null,
           null,
           null,
           null,
           null,
           null,
           null,
           null,
           null,
           null,
           null,
           null,
           null,
           null
          ],
          [
           0.05277748678340076,
           0.08049904675893879,
           0.046710343738451766,
           0.06359031725482883,
           0.05627861106877261,
           0.020543964303075507,
           0.019033286252916577,
           0.01375410442422908,
           -0.011747570369407693,
           0.014623735856034341,
           -0.013531190761619868,
           -0.0076961765504864055,
           -0.0689460939543481,
           0.024915187145422034,
           0.0643986697246129,
           0.04431577452446567,
           0.04426173965379627,
           0.04421602587836123,
           0.10720364882084273,
           0.0061485512713303015,
           -0.02800914874836941,
           0.13586161830163732,
           0.10646462927323846,
           0.016512882340108833,
           0.011886706166979833,
           -0.0009096880807271244,
           -0.0009138373074126454,
           0.0033924644641763458,
           -0.044293511066119284,
           -0.01614633533299592,
           0.027096701397474925,
           -0.011331516870872044,
           0.004908876745539215,
           0.028002128196979552,
           -0.021935624390084875,
           -0.006802052992829024,
           -0.08219368446946464,
           0.08219368446946332,
           0.07437850525428855,
           -0.07556862528600779,
           -0.004655552937196369,
           0.1352521484075012,
           0.10235658584995262,
           0.1491274077514237,
           0.3221691588489206,
           0.01276962447610621,
           0.024438840522787598,
           -0.014673379269559871,
           -0.2856657978854607,
           0.1940688089154107,
           -0.02768291189232405,
           0.12506764274743615,
           0.023184029210996607,
           0.2513619152247716,
           0.4626329549336138,
           0.5655059184847144,
           0.24325388218432023,
           0.023998355171690196,
           0.008879865406584163,
           0.4221499078151095,
           0.0624579069169586,
           -0.010506015739322614,
           -0.0007196482326977212,
           1,
           0.0711301659357528,
           0.08691783174399399,
           0.07245492795589566,
           0.026898368748186262,
           0.013294370170801732,
           0.19232054402687,
           -0.03733697790956259,
           -0.038334543090967475,
           -0.026913352999162633,
           -0.0069396804013623315,
           -0.022199488311299698,
           0.013906328714521259,
           null,
           null,
           null,
           null,
           null,
           null,
           null,
           null,
           null,
           null,
           null,
           null,
           null,
           null,
           null,
           null,
           null,
           null
          ],
          [
           -0.14269740877959816,
           -0.1337758627621717,
           -0.14284650830279222,
           -0.08044736229247257,
           -0.07498465166428213,
           0.0018610940287406262,
           -0.002198853524774999,
           -0.0031935653219517146,
           -0.008965692251559857,
           -0.002686318158847502,
           0.036135449575400685,
           -0.037547255866572066,
           -0.08754510764223337,
           -0.01888419767958398,
           -0.015831972598218808,
           -0.10208611426491469,
           -0.10252568153609137,
           -0.10240903074265709,
           -0.09492871239032584,
           -0.04500202535171526,
           -0.0063609236067184915,
           -0.055438121616813475,
           -0.08913640004093962,
           0.0044563683752681296,
           0.005975182433782112,
           -0.007515613340688715,
           -0.007519559883878249,
           -0.006179458478034725,
           -0.036338660960000886,
           -0.05528115894229059,
           -0.0014017452955773636,
           -0.1675715603889904,
           -0.0035818906633727785,
           0.014776465272664872,
           0.004570947854599621,
           -0.009967417110167168,
           0.3436541976448453,
           -0.34365419764484556,
           0.013201024491593723,
           0.8927780804775503,
           0.622920761682256,
           -0.05314519050401016,
           -0.08378065146210163,
           0.6618358049891937,
           0.12438944491301415,
           0.033322362916882786,
           0.007743406796245746,
           -0.018502530347437585,
           -0.04367760835966401,
           0.2678468816613171,
           0.013609814113349267,
           0.010700112281841975,
           0.00643580408997475,
           -0.16153644976177994,
           0.02463182633365693,
           0.10539723454392161,
           -0.07996790556004853,
           -0.07731801512157731,
           0.03277599805001479,
           0.35292604224668184,
           -0.09165696983605481,
           0.003171455042372142,
           0.005081240097356941,
           0.08691783174399395,
           -0.6926972812465514,
           1,
           0.00931551963730075,
           -0.10599515317284437,
           -0.006978570897833411,
           0.06328998514353222,
           0.039760527589062795,
           0.06741815597340775,
           -0.009280152368225762,
           0.01664138356342842,
           -0.005402743199268338,
           0.015258231716299614,
           0.08691783174399395,
           null,
           null,
           null,
           null,
           null,
           null,
           null,
           null,
           null,
           null,
           null,
           null,
           null,
           null,
           null,
           null,
           null
          ],
          [
           -0.08654433368693189,
           -0.10304317606881852,
           -0.08320079724656779,
           -0.06886733898897676,
           -0.06250705047950698,
           -0.0006544715349131392,
           -0.007929701867145528,
           -0.006326074476892161,
           -0.014375629360035794,
           -0.00309300281988947,
           0.025025838805037122,
           -0.012500713250927394,
           -0.040168432215319363,
           0.03823746000515474,
           -0.054414782685587665,
           -0.08898127140218623,
           -0.09070512153457255,
           -0.09065085796254319,
           -0.11437718278288775,
           -0.037481314934154096,
           0.010574971367128835,
           -0.0942787343498336,
           -0.11046933009744443,
           -0.004256002895002812,
           -0.012554184162047616,
           -0.01849521897923897,
           -0.01851538812723254,
           -0.008501094952349967,
           -0.013833540225089142,
           -0.07140263738145121,
           -0.011808471010945417,
           -0.01892217673776738,
           -0.002433752667034353,
           -0.00328552408459415,
           0.008567875990911994,
           -0.006326460135221564,
           0.24492024437195453,
           -0.2449202443719549,
           -0.02171013965725899,
           0.8068919389687664,
           0.46286095793666693,
           -0.0944110971580286,
           -0.11196076703445618,
           0.48613490966571443,
           -0.020629401830586636,
           -0.00836184107917006,
           -0.007992750639803212,
           0.016300833323178273,
           0.05300519396050456,
           0.22326269665511742,
           0.031915469432531075,
           -0.051595056717235056,
           -0.008976086483090876,
           -0.1392386269159974,
           -0.11517311192590152,
           -0.10361976515366757,
           -0.09523352576904755,
           -0.005045891618012403,
           0.01299130833779267,
           0.04527945469393414,
           -0.05833519839383487,
           -0.001954520520266631,
           0.009931152899948106,
           -0.23449943826341527,
           -0.3531161101420193,
           0.5893326242777821,
           -0.022571432269952302,
           -0.07368990837891706,
           -0.005365496602753834,
           -0.0033849590341073254,
           0.03243553812981952,
           0.04155154337930069,
           -0.0012756016518683142,
           0.0006140380823331513,
           0.0008944687456584944,
           -0.0029214467394587155,
           -0.23449943826341527,
           0.5893326242777821,
           null,
           null,
           null,
           null,
           null,
           null,
           null,
           null,
           null,
           null,
           null,
           null,
           null,
           null,
           null,
           null
          ],
          [
           0.26244653027626563,
           0.26361460191628827,
           0.25843207918011324,
           0.09800210127428859,
           0.09037967807818982,
           0.020924849205340972,
           0.04185241762053015,
           0.0463222517756996,
           0.033282805829568496,
           0.04233525154219392,
           0.007935645280682642,
           0.008084539309250995,
           0.22477781616111886,
           -0.012649260738562903,
           0.030292545987260156,
           0.14278342193759322,
           0.1427901915948566,
           0.1428802775366386,
           0.22231471868555988,
           0.24676487071426373,
           0.015791978257821516,
           0.2184293589737819,
           0.22432540829205608,
           -0.00418641682791735,
           0.008681525471231957,
           0.027418135252707213,
           0.026891579511915602,
           -0.0002097520546875827,
           -0.1046667215209396,
           -0.008242069253235963,
           0.038564223132774994,
           0.24785755959884118,
           -0.006639394520503673,
           -0.00894785534079088,
           -0.011600314927451531,
           0.022278457098491737,
           -0.06657300165901282,
           0.06657300165901182,
           0.027393859105292993,
           -0.02646420929456052,
           -0.013524558987128524,
           0.21629636280910788,
           0.21860077300463332,
           -0.025519967924612596,
           0.09313273151149616,
           0.012471792053699665,
           -0.0024922554987734462,
           -0.015564029481357771,
           -0.052258121773467565,
           0.04469168985463276,
           -0.00493464881944867,
           0.07520951595628204,
           -0.002819740543806645,
           0.2339350289319781,
           0.25476052035974234,
           0.20273677311448338,
           0.48013470042300616,
           -0.0010266484843730302,
           -0.02024526209290619,
           -0.03793386777281128,
           0.27359772068970273,
           0.005102233725417343,
           0.0232053305789022,
           0.05459248729892996,
           0.0657021728907049,
           -0.0071049787527707065,
           -0.0027098884536975185,
           0.18965432029084323,
           0.001992613435307804,
           -0.12768894428386615,
           -0.05423078100942512,
           -0.09557997242698069,
           0.04972860192032265,
           -0.14428202726952805,
           0.06501579106000847,
           -0.0035390760449654996,
           0.05459248729892996,
           -0.0071049787527707065,
           -0.027947127801125817,
           null,
           null,
           null,
           null,
           null,
           null,
           null,
           null,
           null,
           null,
           null,
           null,
           null,
           null,
           null
          ],
          [
           0.15968707553270411,
           0.1570683503449291,
           0.15701603647285592,
           0.11410173475858021,
           0.10492988861946553,
           0.004672093674321638,
           0.011519011847177508,
           0.012246024845019323,
           0.011810388126865202,
           0.014061253427323497,
           -0.006606937927849707,
           -0.008885595698297834,
           0.36483557267483363,
           -0.011368310491746999,
           0.023888238382855188,
           0.07689409557594906,
           0.0768315939210216,
           0.07678783804868672,
           0.12335669252263705,
           0.12923140039196657,
           0.156964583142831,
           0.1187655392403329,
           0.1239364314974263,
           0.00238887073078148,
           0.003389586564304134,
           0.015738520593724582,
           0.015743504459807958,
           0.00011968625195133139,
           -0.06457108611903277,
           -0.0019390076696158235,
           0.019511036804039626,
           0.13667291702213813,
           -0.0053720846076139896,
           -0.0040947624000677975,
           -0.003999148443732423,
           0.1492840340924246,
           -0.07703790091641158,
           0.07703790091641091,
           0.05249611537185154,
           -0.02218973919128068,
           -0.004784358641262265,
           0.11737037241899209,
           0.12246620488526523,
           -0.02391411194072562,
           0.03750384501518325,
           0.022643016835612928,
           -0.0031118657397549983,
           -0.000843674856015591,
           -0.025651841062971126,
           0.0010187894934707484,
           -0.0019249542041122774,
           0.053592184948779514,
           0.00007673979746877301,
           0.17626638980027776,
           0.16137454858446867,
           0.1338772182376683,
           0.3532697452680208,
           -0.0013971317701517642,
           -0.0087175645532613,
           -0.05372321705797382,
           0.38210892872574403,
           -0.0011360843233994278,
           0.020900969309437863,
           0.04633263772383423,
           0.04248549777569935,
           -0.01682781303383481,
           0.004546866372859294,
           0.08689639438320504,
           0.0008137825734224748,
           -0.045917003694378025,
           -0.030154630789767822,
           -0.05508970515762055,
           0.051762763845012036,
           -0.10185608499204604,
           0.03719702953600896,
           -0.0013798227347529492,
           0.04633263772383423,
           -0.01682781303383481,
           -0.016950779813517152,
           0.7126432642074929,
           null,
           null,
           null,
           null,
           null,
           null,
           null,
           null,
           null,
           null,
           null,
           null,
           null,
           null
          ],
          [
           0.5042988082532572,
           0.44297403269472907,
           0.49704693579086323,
           0.2269111503560971,
           0.20685930660701382,
           0.026686836088008658,
           0.031814911120556046,
           0.029456653946650826,
           -0.0009798955969743573,
           0.030653986727384147,
           -0.005724052936893393,
           0.07376672871708993,
           0.6032300538068384,
           0.011469286796289821,
           0.1027905403167907,
           0.2307560827475433,
           0.23056355128065187,
           0.2302602154175255,
           0.3335685682054342,
           0.7149862476370153,
           -0.0022296979715000632,
           0.3380977741016948,
           0.3081163153182773,
           -0.04685718220207351,
           0.0027145928119714944,
           0.015000203357475653,
           0.01339969808778229,
           -0.001264389489286365,
           0.10108157071839209,
           -0.018426874525976078,
           -0.02300206121158875,
           0.7382672310148167,
           0.0011939365667774661,
           -0.02345616779215683,
           0.008822173700042854,
           0.02312623968262717,
           -0.2680651319643138,
           0.2680651319643124,
           -0.03178440699981328,
           -0.11755812961786558,
           -0.011938754475422066,
           0.3377624384401709,
           0.318915030044283,
           -0.16809584753049342,
           0.018264662074095255,
           -0.026670238037684514,
           0.004305423951750269,
           -0.03364500435085082,
           0.020846294789084063,
           -0.05806641485744852,
           -0.009934291484476169,
           0.09093758281486963,
           -0.008631690935225736,
           0.1315112276447858,
           0.08452485317403212,
           -0.05985549363243991,
           0.2819198508764909,
           -0.018531145020745838,
           -0.029908081860714152,
           -0.2527732044833464,
           0.7029102751473352,
           -0.010475681377359315,
           0.026104344640658073,
           -0.003246819684848841,
           0.01606331275007913,
           -0.10774324557490629,
           0.024810294543786526,
           0.37131402861112345,
           0.018122717643255588,
           -0.12047704587959522,
           0.03478092862770615,
           -0.04241539389001655,
           0.001732770102773024,
           -0.06939295952092008,
           0.008170723283340595,
           -0.021989822177643482,
           -0.003246819684848841,
           -0.10774324557490629,
           -0.04726163201017112,
           0.33253755428568005,
           0.21415996611625093,
           null,
           null,
           null,
           null,
           null,
           null,
           null,
           null,
           null,
           null,
           null,
           null,
           null
          ],
          [
           0.12898999671900943,
           0.11292634343525398,
           0.12361531426843105,
           0.03061795224307752,
           0.028354558119259098,
           0.014091115292300225,
           0.026247635498693373,
           0.03002516269027495,
           0.018513413288353202,
           0.027142262665475925,
           0.014878088046080823,
           0.008865175018592573,
           0.09774558365180422,
           -0.007020130448243783,
           0.021564433176791065,
           0.0729038445899507,
           0.07292320934383038,
           0.07300463679762043,
           0.12962723858705893,
           0.19965943879091536,
           0.0036558924301956985,
           0.12611847275596524,
           0.10554806766535034,
           -0.005543024349937366,
           -0.020306386706120734,
           -0.0069219405434758656,
           -0.007321532775378652,
           -0.0008345568699432508,
           -0.04839251020887219,
           0.01366699233659211,
           0.022964272296207594,
           0.08910019065755903,
           -0.002908737127793766,
           -0.005722626699748209,
           -0.011229428791551905,
           0.006948642975123619,
           -0.0031856596232431515,
           0.0031856596232427885,
           0.01156112549708893,
           -0.193558048561527,
           -0.29582816716778254,
           0.1323802119884307,
           0.13087740045169022,
           -0.15995975860539716,
           0.05202599669799722,
           0.005323681407686941,
           -0.0008413962566479003,
           -0.016892876811368262,
           -0.026707437669074727,
           0.0840699499319476,
           -0.004663426899828151,
           0.018516744899545103,
           -0.0008838468720974747,
           0.10108890404460792,
           0.1485833067981247,
           0.12025862885894928,
           0.2772808657280439,
           -0.006792051961832269,
           -0.014252991727680282,
           0.027082228545087916,
           0.11969458016541627,
           0.008399871552185008,
           0.01675074948286634,
           0.041082219133921426,
           0.25667159019948554,
           -0.20466179144198007,
           -0.0035852217797696143,
           0.10586338307584593,
           0.0009648965410399324,
           -0.09030728404604846,
           -0.03308533996281427,
           -0.05865502454466578,
           0.03314411657067982,
           -0.07414986650437212,
           0.04302226780037317,
           -0.0032297456307843926,
           0.041082219133921426,
           -0.20466179144198007,
           -0.21901508177067638,
           0.5899796598248581,
           0.320585941477334,
           0.1813229654217963,
           null,
           null,
           null,
           null,
           null,
           null,
           null,
           null,
           null,
           null,
           null,
           null
          ],
          [
           -0.16040483279856302,
           -0.19537439590273128,
           -0.1622378913956317,
           -0.1326216408556697,
           -0.12176213353279479,
           -0.07970739041289115,
           -0.1386222699256838,
           -0.1665013745408898,
           -0.08488376524634479,
           -0.14030156271917021,
           0.015911655784198578,
           -0.0651981943544071,
           -0.1263985701843113,
           0.00007722707230060684,
           -0.053091620518659816,
           -0.16405519791337153,
           -0.1647652950114227,
           -0.16468428894565157,
           -0.15436144928498785,
           -0.0526850840720481,
           -0.006216427350665146,
           -0.14554688440675717,
           -0.1484303953076747,
           -0.0028004901882482413,
           -0.021073243967892435,
           -0.03360825991226484,
           -0.033405382173077,
           -0.009174348682534634,
           -0.027778110054484925,
           0.11763160705961567,
           -0.00888977994703198,
           -0.05291104560842031,
           0.3477419276970597,
           0.006434386063777468,
           0.014325668241839423,
           -0.02596469785345157,
           0.42783023343716337,
           -0.4278302334371627,
           -0.021563862279630287,
           0.12470387953403261,
           0.08421941380486105,
           -0.14403651314535557,
           -0.15342669981898224,
           0.027249347317216305,
           -0.0870408606624091,
           0.021241869558914633,
           0.06823182340086265,
           -0.055200271480021414,
           0.14228088680648224,
           0.12652908279421243,
           0.02769319509512172,
           -0.05065801670082891,
           -0.007109471965559548,
           -0.6253397758936804,
           -0.3394625152933461,
           -0.35399367304386065,
           -0.28661596995706323,
           0.20295323439538002,
           0.04441871710158192,
           0.3516519960962739,
           -0.13962641402931306,
           0.0030031385990343163,
           0.12509787731978333,
           -0.039619894251853194,
           -0.17614848577364292,
           0.10849070886908349,
           -0.00703422870104399,
           -0.17439278895884694,
           0.11582067570682028,
           -0.013098932750362644,
           0.12765096608827603,
           0.12661406401246833,
           -0.19740237267937202,
           0.07351228743977838,
           -0.20257356130936424,
           0.001690522718132703,
           -0.039619894251853194,
           0.10849070886908349,
           0.1294111661161932,
           -0.11501989408572125,
           -0.07169440853694724,
           -0.09949086719650103,
           -0.06338415639581248,
           null,
           null,
           null,
           null,
           null,
           null,
           null,
           null,
           null,
           null,
           null
          ],
          [
           -0.10932988142987266,
           -0.156974026820248,
           -0.12074852184255798,
           -0.03294907883158095,
           -0.030035215958312534,
           -0.00029402913951124984,
           -0.0031627758745259886,
           -0.002745144345275884,
           -0.005653136933975485,
           -0.0012325544967556148,
           -0.0041043995667591985,
           -0.009983275009016836,
           -0.01350844506208405,
           0.033565177468123035,
           -0.028439102692101936,
           -0.09683469455654901,
           -0.09656646093720124,
           -0.0965853039038398,
           -0.10557643755873453,
           -0.037410983502240626,
           -0.0008817370391246004,
           -0.04640138091943744,
           -0.10503664530612354,
           0.002140542626165574,
           -0.04614623681608621,
           -0.05083807782813962,
           -0.05063840844304713,
           -0.0020595650242043,
           -0.027775737765613467,
           0.4003418266743415,
           -0.009824345252160159,
           0.11888124639284192,
           -0.0004155480180983393,
           -0.0011747417876207134,
           -0.0015260941458930554,
           -0.0008998786656400438,
           0.20326338974932986,
           -0.2032633897493299,
           -0.005838160167857852,
           -0.25971208886173947,
           -0.005566384494405206,
           -0.046467477415334836,
           -0.11002342425211237,
           -0.20451065219110615,
           0.012606771970620842,
           -0.001577219209134463,
           -0.001315285443274176,
           -0.011814451904617983,
           0.004787865204060118,
           0.17259963190578925,
           -0.0005841300760837637,
           -0.030250380177684326,
           -0.0013114843191738789,
           -0.14920046296908737,
           -0.0006989450935373737,
           -0.008951350355018437,
           -0.012260980742853382,
           0.18750907212589066,
           -0.002498559013591182,
           0.1844386393913067,
           -0.016723917541086045,
           -0.00243728253603932,
           0.023503059627464556,
           0.007136443748971774,
           0.1603109470806677,
           -0.2685675352738878,
           -0.0032589805834155154,
           -0.16086333336353012,
           -0.0016371966663940505,
           0.13612943784253045,
           0.005439773210575837,
           0.004696058694542628,
           -0.0012296855750867175,
           0.00648023446715151,
           -0.00006497075623408772,
           -0.0004155479605733713,
           0.007136443748971774,
           -0.2685675352738878,
           -0.05580513955966985,
           -0.02293694624797516,
           -0.005525834191594521,
           -0.03592507304984849,
           0.11739811731919486,
           0.2472465952339198,
           null,
           null,
           null,
           null,
           null,
           null,
           null,
           null,
           null,
           null
          ],
          [
           0.8875941090795264,
           0.9615209758085691,
           0.911970317254813,
           0.2999829410959426,
           0.27054774816956295,
           0.028498915708985956,
           0.04859858778522579,
           0.045402393692511644,
           0.028406065874123834,
           0.045608678078761476,
           0.07121341386883627,
           0.07932533551831034,
           0.28125478377843294,
           0.04867691629382915,
           0.23099761967836963,
           0.49359513909817504,
           0.4935974093891376,
           0.4936038327884923,
           0.6909803952184648,
           0.29218567056246647,
           -0.008332499477333381,
           0.5777908167341964,
           0.6716180064397346,
           0.0030469869671093702,
           0.04104811376149038,
           0.11964994876224122,
           0.11992417285537056,
           0.024264071294880507,
           0.08010516089687568,
           -0.07245031378065932,
           0.062155174579121134,
           0.25270280340414775,
           0.014946631893835183,
           -0.01780610050218661,
           0.0049498671573885026,
           -0.008073583741083528,
           -0.28118310056565166,
           0.2811831005656505,
           0.016500836822647056,
           -0.177687429683412,
           -0.037836792359625754,
           0.575776637028388,
           0.683516535084899,
           -0.0948436397203456,
           0.18858230972101706,
           -0.0250990563707803,
           0.01098664048924317,
           -0.05252154943407782,
           -0.1223993671725696,
           0.013638738481366965,
           -0.014325183608412707,
           0.30630644649605043,
           -0.0021749550278986067,
           0.2967826938859582,
           0.17568743971736955,
           0.1327746783681225,
           0.19539321270175003,
           -0.008169397511868152,
           -0.034444466167565135,
           -0.2137982270161801,
           0.34115108172051534,
           0.0008946488359332847,
           0.003589567595180156,
           0.0663862627665702,
           0.12361296074714977,
           -0.15027859775324556,
           0.023662089125139785,
           0.7941333699916482,
           0.02705401345934095,
           -0.47059932117528475,
           -0.005184999472268331,
           -0.02377944227603551,
           0.005675639627017711,
           -0.01640323846966266,
           0.011642163678474687,
           -0.00438811051381435,
           0.0663862627665702,
           -0.15027859775324556,
           -0.1202748242388852,
           0.2549437295468089,
           0.14257731543454208,
           0.44004909382510027,
           0.12024055073361575,
           -0.20242389656077484,
           -0.16920282575890105,
           null,
           null,
           null,
           null,
           null,
           null,
           null,
           null,
           null
          ],
          [
           -0.07177751272192893,
           -0.09896737605881228,
           -0.0891531169822619,
           0.022662109190415936,
           0.02109012772636313,
           -0.0033371763963544136,
           -0.004242319399899094,
           -0.003785329702269548,
           -0.0004088807957273041,
           -0.004622751653781371,
           -0.025519663860594937,
           -0.020200920582431888,
           -0.052779254004951315,
           -0.007527608753042587,
           -0.023653116849591423,
           -0.06002925662642594,
           -0.05984024563229298,
           -0.0598841223783556,
           -0.03355159695415142,
           -0.023601183660454734,
           -0.0012732791158762019,
           -0.03232452831551138,
           -0.028870744021721736,
           0.002690572805131675,
           0.00006297879754743129,
           0.0011860157640013152,
           0.0011672647873376728,
           -0.00030733750330686155,
           -0.038922937842636715,
           -0.0006798373383875105,
           0.006580391223385324,
           -0.04188846260236759,
           -0.0006000752641313672,
           -0.0016963948593073464,
           -0.0005803204183792057,
           -0.0012994767010037855,
           0.041092787735875,
           -0.04109278773587511,
           -0.0035962590379256614,
           0.011090254588606963,
           -0.00244477705477923,
           -0.032427934837171164,
           -0.02934179470112185,
           0.0270686885559472,
           0.0419662314200428,
           0.11372851868592376,
           -0.0018993480028927188,
           0.009183644848452893,
           -0.013485478781388446,
           0.059185226380129984,
           -0.0008435175121719571,
           -0.017816222280433374,
           -0.0018938589642827576,
           -0.008497871213530421,
           0.02820380843825785,
           0.03373382614549879,
           0.019688114392891854,
           -0.0010373883078438264,
           -0.0036080632490363236,
           0.056099532811352236,
           -0.06605140560204865,
           0.0004522856804186269,
           0.0026317018907937874,
           0.034211067333682434,
           -0.003136532192289667,
           0.02649393140591627,
           -0.004706155837542967,
           -0.17025864482814168,
           -0.0016887571005295711,
           0.10798522663213571,
           -0.005024737456571526,
           -0.0009752721745892331,
           0.000121379187605367,
           -0.008589687852031225,
           0.0001823142148025692,
           -0.0006000753235777274,
           0.034211067333682434,
           0.02649393140591627,
           0.006304642318771646,
           -0.016799057899050344,
           -0.01413186402708814,
           -0.07606533584645418,
           -0.024591206960979363,
           0.012874878834936166,
           0.03278585458316372,
           -0.1052775461649315,
           null,
           null,
           null,
           null,
           null,
           null,
           null,
           null
          ],
          [
           0.008068961575362719,
           0.011389405599755263,
           0.0074442454842672985,
           0.00419016881523298,
           0.0038713280458764652,
           0.00019902895389011573,
           -0.00007717025720070471,
           -0.001092962612250383,
           -0.0006404260972830495,
           -0.0005579660384096676,
           0.006359984801564348,
           -0.006835443944796896,
           0.013650978062923477,
           0.003171617878025012,
           0.011402510949244103,
           0.014262092086186203,
           0.014381814369926004,
           0.014292940651587288,
           0.0037147066044675796,
           0.002718945137902098,
           0.02725654295677614,
           0.0011382798253150507,
           0.008205326154136309,
           -0.0007665841260123309,
           -0.00018247095135636476,
           0.002105457681675844,
           0.002023340300012763,
           0.0021074722895144974,
           -0.013194851395898247,
           -0.010081036812263714,
           -0.00032088244852660543,
           0.008558686539069627,
           0.00817814074036111,
           -0.014930580293211948,
           -0.00011062923314039218,
           0.0025550544474874253,
           -0.05008540568807188,
           0.050085405688072106,
           0.003385489087898051,
           -0.00411901152259959,
           0.0015418224005804475,
           0.0009444004869484829,
           0.007874796905254984,
           -0.021718183302194626,
           0.0074983822798738225,
           0.004028839679941873,
           0.00420898667486674,
           -0.01012239368874946,
           -0.007014271698384443,
           -0.01917331822295207,
           0.033598620556341954,
           -0.009839708641932642,
           -0.0007027434899603014,
           0.03807483873353979,
           0.028887750210615622,
           -0.0025835679086130166,
           0.026412403442892064,
           -0.03953938638672042,
           -0.006209707401391861,
           -0.0535488326593959,
           0.010300346824431922,
           0.0010292015275285846,
           -0.002555041667124458,
           -0.01626568049837605,
           -0.009207141239213146,
           -0.003989359011678015,
           0.0012983448926713527,
           0.013422485792896196,
           0.01781517439653906,
           -0.004270985528574563,
           0.012540721422776525,
           -0.02406131531365437,
           0.005062251775486031,
           -0.023446970231836232,
           0.0033145482932459107,
           -0.006361927221394723,
           -0.01626568049837605,
           -0.003989359011678015,
           -0.0013956425110958615,
           0.011722761256023704,
           0.015031488428658072,
           0.007771709303440043,
           0.005896247890894669,
           -0.04920746702415195,
           -0.02392820539432221,
           0.011854106754551744,
           -0.0005853411808376123,
           null,
           null,
           null,
           null,
           null,
           null,
           null
          ],
          [
           0.33457847381815187,
           0.3268190220887145,
           0.33360309350062944,
           0.9999999924947323,
           0.9162235948097824,
           0.005749092386430159,
           0.03249874549655121,
           0.027181025923057902,
           0.05143954015744726,
           0.029434209370858225,
           -0.20615656966800364,
           -0.017123316517980828,
           0.3411413859300687,
           0.017153553886392746,
           0.06797651598508245,
           0.14452938405172663,
           0.14489305212031903,
           0.14488958143659206,
           0.25653536314523145,
           0.1631141500908223,
           0.1170641934803045,
           0.267801695272211,
           0.24762257291540338,
           0.014167310579311018,
           0.02286723078586715,
           0.054652731774307725,
           0.05344377772672358,
           0.009122703457643537,
           0.01626631247778745,
           -0.017458391876010768,
           0.026536285342198936,
           0.12262883572862175,
           0.024948518101196818,
           0.0013702899002574615,
           -0.002374399105753003,
           -0.02237676248763462,
           -0.24557847937651645,
           0.24557847937651656,
           0.005979706614139879,
           -0.08572113586241006,
           -0.022265511196460756,
           0.2672679550614147,
           0.24794315722734256,
           -0.08674001832000816,
           -0.09975296314221983,
           0.0823482687201047,
           0.022522230769217996,
           0.04754196666237475,
           0.0014254603844623365,
           -0.13625976135092427,
           0.01902046685597945,
           0.22489629671571063,
           -0.0069655198409573245,
           0.24632906557225717,
           0.15264160372972682,
           0.09473049275291968,
           0.2418237755867361,
           -0.0032126102955671717,
           -0.03093057420685742,
           -0.1980530374393415,
           0.24678880703815567,
           -0.03506053301145839,
           0.03519521196413156,
           0.063589503692036,
           0.06792973836484717,
           -0.08044765270848254,
           0.0004927135664245153,
           0.16451286838978843,
           0.04360868082782205,
           0.22534177109143844,
           -0.12184682934661858,
           -0.12979808539293378,
           0.020451611526046926,
           -0.07181307277045772,
           -0.04156878901658024,
           0.0035032324598607595,
           0.063589503692036,
           -0.08044765270848254,
           -0.06886659310578813,
           0.09800376087930313,
           0.11410307788034126,
           0.2269110853594996,
           0.0306178288191727,
           -0.13262334865633868,
           -0.032951185068553886,
           0.2999852086639451,
           0.022663018283961545,
           0.004188320024273496,
           null,
           null,
           null,
           null,
           null,
           null
          ],
          [
           0.2741943084616557,
           0.29165375398990445,
           0.2805242935492692,
           0.07523292785682628,
           0.06756026373695466,
           0.006216319210180651,
           0.01134001415626156,
           0.010645173348953759,
           0.0076855198958541,
           0.011187746026984989,
           0.029668611512967215,
           0.02154077456216046,
           0.05788848783263375,
           0.010934725041761129,
           0.0778437509888223,
           0.14862033731520854,
           0.14879262927197495,
           0.1488225829207606,
           0.22286627390347194,
           0.07420263743889131,
           -0.0011070759453648442,
           0.1835354040657436,
           0.21830128823189648,
           0.0019479169137395656,
           -0.007574781221743767,
           0.020201676678483924,
           0.02027161904142183,
           0.006636936319540352,
           0.03257849560507432,
           0.06805455232424698,
           0.019453253453938835,
           0.1624459954255255,
           0.002487779059380421,
           -0.0023777293330591656,
           0.003589669256879874,
           -0.0007031581412813876,
           -0.12392258184361309,
           0.12392258184361282,
           0.008664482747680505,
           -0.8064995755714963,
           -0.3526295580005461,
           0.18108349968570542,
           0.21560592752447683,
           -0.42226728771714184,
           0.04115916877119509,
           -0.006591998283289792,
           0.0040892976300016485,
           -0.026244827000244386,
           -0.01353764971680774,
           -0.03474588157611909,
           -0.006551271801492782,
           0.09619420219852634,
           0.0006754044297965036,
           0.10965787027696978,
           0.04791769702913794,
           0.0388192513086979,
           0.045010676551255555,
           0.021417215951773552,
           -0.008195769454325642,
           -0.09262969794413477,
           0.06916430399255188,
           0.00015228684493811864,
           0.003999275548392061,
           0.01721592416183091,
           0.5859766307446087,
           -0.7496342295882366,
           0.007519490699269325,
           0.24763595786547563,
           0.006208019106115049,
           -0.19070143134236603,
           -0.015627472877782836,
           -0.017529551389240335,
           0.0024040744954650817,
           0.009220833114592387,
           0.002661212857142158,
           -0.0007010688227743917,
           0.01721592416183091,
           -0.7496342295882366,
           -0.6159308922296735,
           0.05047587263865078,
           0.02665695800419802,
           0.10778473960598528,
           0.18066877609117646,
           -0.0702562762092207,
           0.19269062711883847,
           0.32842087348713644,
           -0.04022302819195544,
           0.000099661584967758,
           0.07523156607609702,
           null,
           null,
           null,
           null,
           null
          ],
          [
           -0.14358295388204997,
           -0.1410026055896048,
           -0.1427993391453303,
           -0.08547455708683448,
           -0.07915620390148913,
           0.0015411128466186917,
           -0.0040412166088394635,
           -0.004389048687851498,
           -0.011896328773563641,
           -0.0029946597843219414,
           0.03506961794361748,
           -0.03539779297293314,
           -0.08072766225579843,
           -0.0034136948827975595,
           -0.029847270736565592,
           -0.11078151497406605,
           -0.11172857041268973,
           -0.11160667114460102,
           -0.11405601742258553,
           -0.04725983141299608,
           -0.0021304654667675996,
           -0.07705436586040865,
           -0.10766644897077934,
           0.0016899475707833004,
           0.0005378533998808435,
           -0.011687131287198269,
           -0.011706565493311546,
           -0.007432909146268042,
           -0.03311194964073232,
           -0.06865195756765974,
           -0.005193747476004628,
           -0.13366022337441671,
           -0.003740547640798758,
           0.009647651478393814,
           0.006945766048191114,
           -0.010043533416286613,
           0.34913255709466057,
           -0.349132557094661,
           0.0018012099837763568,
           0.9558591306784748,
           0.6218292869191406,
           -0.0753262823917478,
           -0.10408543977073897,
           0.6704355137784048,
           0.08438205368028985,
           0.023757593567554604,
           0.0032236637067190096,
           -0.008419570232176042,
           -0.015277753521281634,
           0.2735879457892615,
           0.022626598302640775,
           -0.01137875688045727,
           0.0022884260394809577,
           -0.17751949601335362,
           -0.02442129937607856,
           0.0395808415069467,
           -0.09785220418762842,
           -0.06105328338085157,
           0.029941270462723976,
           0.28632774106043296,
           -0.09116406517956795,
           0.0018037574799836024,
           0.007643017340473312,
           -0.017879693584028963,
           -0.6504642501892438,
           0.9639158030998105,
           0.00006939170891321875,
           -0.10968964691237976,
           -0.0073791401233053375,
           0.05042137066342827,
           0.0438150867660663,
           0.0682254959775221,
           -0.00780665630864391,
           0.013432835526106968,
           -0.003770697961446323,
           0.01051043361776603,
           -0.017879693584028963,
           0.9639158030998105,
           0.7781351914922484,
           -0.01591579024468737,
           -0.019225572914261916,
           -0.09848497733567951,
           -0.2311301837666781,
           0.13219776326173294,
           -0.22956928983872943,
           -0.15966083943329695,
           0.02198657535884574,
           -0.0036741335651760804,
           -0.08547444889484813,
           -0.7918703417726223,
           null,
           null,
           null,
           null
          ],
          [
           -0.016575368484850802,
           -0.01152354799162048,
           -0.014669713263602797,
           -0.011837705826432851,
           -0.01014999951080274,
           0.0009334624502124134,
           0.0008537165603989654,
           0.0009258472284991504,
           -0.000556070912291953,
           0.0007727460626091547,
           0.013557643919393228,
           -0.013926313424120686,
           -0.006355632850584081,
           -0.007294442440164306,
           -0.014906854168313648,
           -0.021826288464806557,
           -0.02174780115918232,
           -0.021639445137671846,
           -0.01882954141596285,
           -0.006198722795164047,
           -0.0011386936658161412,
           -0.01593007418530599,
           -0.017879770922892446,
           -0.0006711704518106709,
           0.001246403157246581,
           0.0020286772012586504,
           0.0020124786063113755,
           0.000014103781773643916,
           0.00551057710226735,
           -0.0006965844924979947,
           -0.00030976295993453615,
           0.0037072438354291554,
           -0.0005734093362464975,
           -0.00008146052816876997,
           0.016791804492156132,
           -0.0012604068179370147,
           0.017965995269020384,
           -0.017965995269020003,
           -0.004313213811688116,
           0.007256015293117737,
           -0.0010668008376023338,
           -0.016045633137497517,
           -0.018351886974804745,
           -0.006628539769168859,
           -0.020761012553157217,
           -0.0021091745020021266,
           -0.0013407342434291938,
           0.001269996521079091,
           0.018620491716661816,
           -0.00923922232309525,
           -0.0010829729922954142,
           -0.0060876720351873605,
           -0.0018571502328782882,
           -0.03667717304325072,
           -0.030397822529899282,
           -0.03099056105538365,
           -0.02427195561152328,
           -0.0008754712999287669,
           0.0016388998575985595,
           0.007006248060567056,
           -0.00896715074861815,
           0.0022942487838611587,
           -0.0003396437987310006,
           -0.017871692690065808,
           -0.011111036672458715,
           0.0007424077864457577,
           -0.002155866657218824,
           -0.013747585799818484,
           -0.001155101443737021,
           -0.017638890527528702,
           -0.0035836540309144597,
           0.0011837014332233692,
           -0.0003418613070725912,
           0.0001297322411170301,
           0.000208000676092403,
           -0.0008248618926008401,
           -0.017871692690065808,
           0.0007424077864457577,
           0.002935000905060283,
           -0.0029634447051678447,
           -0.0023848286471437642,
           -0.003784447085312281,
           -0.0014572865499664926,
           0.0220073869165149,
           -0.001715836296966169,
           -0.010475070148607962,
           -0.0018785757036837124,
           -0.008821062424725684,
           -0.011837837335318607,
           -0.00009874796002342055,
           0.00210421310598421,
           null,
           null,
           null
          ],
          [
           0.010550920267465845,
           0.013337069460624268,
           0.011441679557813427,
           -0.0012077982119511688,
           -0.0011396465581754213,
           0.0003908948476521434,
           0.000981178424669176,
           0.0009547586834534807,
           0.0010233916573773926,
           0.0007956287418820257,
           0.006105039614541317,
           -0.012122489707246002,
           0.0012438989777558767,
           -0.0007700542345779807,
           0.03027114288929741,
           -0.002141901766971419,
           -0.0023263700495813355,
           -0.00229684257863467,
           0.008016155737867762,
           0.0013444087247287515,
           -0.00005151456254017099,
           0.006319884971793459,
           0.008127409076079364,
           -0.0003260756347813129,
           0.004574151314597282,
           0.0053697294187506055,
           0.005325963099324124,
           0.0010858100352050533,
           0.0017203664199520613,
           -0.0004450147741102112,
           0.0014964371215529404,
           0.005495800704635079,
           -0.00014951055002695548,
           0.0018688765720745804,
           -0.034381505534424726,
           -0.0004297756024272856,
           0.012628569386875333,
           -0.012628569386875566,
           -0.0003351534690968228,
           0.0018038271282568969,
           -0.000620581367141793,
           0.006247090714821165,
           0.008155688980318775,
           0.006776809517394967,
           0.019312964156709116,
           -0.0004944648574929197,
           0.0008945064479539592,
           -0.011338056772843687,
           0.0006956407624820799,
           0.017410055196659932,
           -0.0026656515363242977,
           0.003218462852743847,
           -0.000954770765045762,
           -0.008926509756850567,
           -0.0008581236466191993,
           0.007328978929790537,
           -0.007167158422520006,
           0.00021026234265504408,
           0.003426659175004327,
           0.021506210347702982,
           -0.0012868469105005562,
           0.023604650227997646,
           0.0052661202521149236,
           0.009514446975371715,
           -0.0020693288717813104,
           0.005058296879160257,
           0.0039144360890158115,
           0.009609177987229534,
           0.00008833600211150967,
           -0.0051567177035496585,
           0.025665640030859634,
           -0.00946985349691977,
           -0.000003942280113648911,
           -0.0037680812801500554,
           -0.00008267918025261047,
           -0.0021680631877717613,
           0.009514446975371715,
           0.005058296879160257,
           -0.007953809540138341,
           0.00021766006694869198,
           0.0018584792552546333,
           0.006012497585576137,
           0.00025909585007236237,
           0.00769849835967488,
           -0.0009723881413044557,
           0.012701640406467278,
           0.00024248226165474532,
           0.0009892652183934377,
           -0.0012099058611800264,
           0.005127828479695705,
           0.0015000726046410623,
           0.01648601369595006,
           null,
           null
          ],
          [
           0.05219830976470651,
           0.057680071240673376,
           0.05620725215108253,
           0.11997879972920393,
           0.11262065469753424,
           -0.0170678721639904,
           -0.014559874992299843,
           -0.010898952769454146,
           0.01228351695096342,
           -0.011300367900293233,
           -0.12092715125770126,
           -0.04538384395609829,
           0.33166904002337644,
           0.028892980534467823,
           -0.05321707664799841,
           0.09818210205469492,
           0.0984645886161501,
           0.09813741597145173,
           0.036477460697404006,
           0.0520502126691758,
           0.2332145029472093,
           -0.00947382040966707,
           0.027972490216544264,
           -0.002312373866132235,
           0.001723034375705753,
           0.0012590877345129191,
           0.0013881972363049067,
           0.014498587173359362,
           -0.01595760084790262,
           -0.010691048420109286,
           -0.0024697358532168243,
           0.04553321742981021,
           0.010224522861031081,
           -0.017098100068137258,
           -0.012638084008761168,
           0.33891901635833044,
           -0.6258846693260237,
           0.6258846693260239,
           0.10430842695324112,
           -0.14591818395297138,
           -0.01824935157014816,
           -0.009685380097438679,
           0.031081017197056863,
           -0.2052248638240796,
           -0.19859896887285103,
           0.010613214257017101,
           0.0027304677005610123,
           0.00683182354532336,
           0.04464277488331609,
           -0.2264707648518942,
           -0.011301776861240028,
           -0.03035732349159511,
           0.00006753273256352575,
           0.36902861871206266,
           0.0957333578436968,
           -0.015571153143198362,
           0.29958862519411494,
           -0.012458165926820359,
           -0.03803407257891609,
           -0.5063974007293494,
           0.3987269975454505,
           -0.005750249308811277,
           0.00441369107466183,
           0.09879074511317495,
           0.05837948483891214,
           -0.15640890547321049,
           0.014404304176250136,
           0.04265271867524489,
           0.03131604950458495,
           0.008061179176744785,
           -0.10104655193472827,
           -0.15679108974842268,
           0.07742638691943823,
           -0.14589386676596897,
           0.022480102107260935,
           -0.007763499945345348,
           0.09879074511317495,
           -0.15640890547321049,
           -0.11083919481581553,
           0.03397384332978288,
           0.10976143586897195,
           0.11356430705641447,
           0.0032933156497966364,
           -0.2620548287659694,
           -0.027587565294710854,
           0.07369990719021949,
           0.014854618412944727,
           0.05056704650137497,
           0.11997702716065504,
           0.02956775089336082,
           -0.15958448129252836,
           -0.016734019448703667,
           -0.008347837643964354,
           null
          ]
         ]
        }
       ],
       "layout": {
        "height": 1200,
        "template": {
         "data": {
          "bar": [
           {
            "error_x": {
             "color": "#f2f5fa"
            },
            "error_y": {
             "color": "#f2f5fa"
            },
            "marker": {
             "line": {
              "color": "rgb(17,17,17)",
              "width": 0.5
             },
             "pattern": {
              "fillmode": "overlay",
              "size": 10,
              "solidity": 0.2
             }
            },
            "type": "bar"
           }
          ],
          "barpolar": [
           {
            "marker": {
             "line": {
              "color": "rgb(17,17,17)",
              "width": 0.5
             },
             "pattern": {
              "fillmode": "overlay",
              "size": 10,
              "solidity": 0.2
             }
            },
            "type": "barpolar"
           }
          ],
          "carpet": [
           {
            "aaxis": {
             "endlinecolor": "#A2B1C6",
             "gridcolor": "#506784",
             "linecolor": "#506784",
             "minorgridcolor": "#506784",
             "startlinecolor": "#A2B1C6"
            },
            "baxis": {
             "endlinecolor": "#A2B1C6",
             "gridcolor": "#506784",
             "linecolor": "#506784",
             "minorgridcolor": "#506784",
             "startlinecolor": "#A2B1C6"
            },
            "type": "carpet"
           }
          ],
          "choropleth": [
           {
            "colorbar": {
             "outlinewidth": 0,
             "ticks": ""
            },
            "type": "choropleth"
           }
          ],
          "contour": [
           {
            "colorbar": {
             "outlinewidth": 0,
             "ticks": ""
            },
            "colorscale": [
             [
              0,
              "#0d0887"
             ],
             [
              0.1111111111111111,
              "#46039f"
             ],
             [
              0.2222222222222222,
              "#7201a8"
             ],
             [
              0.3333333333333333,
              "#9c179e"
             ],
             [
              0.4444444444444444,
              "#bd3786"
             ],
             [
              0.5555555555555556,
              "#d8576b"
             ],
             [
              0.6666666666666666,
              "#ed7953"
             ],
             [
              0.7777777777777778,
              "#fb9f3a"
             ],
             [
              0.8888888888888888,
              "#fdca26"
             ],
             [
              1,
              "#f0f921"
             ]
            ],
            "type": "contour"
           }
          ],
          "contourcarpet": [
           {
            "colorbar": {
             "outlinewidth": 0,
             "ticks": ""
            },
            "type": "contourcarpet"
           }
          ],
          "heatmap": [
           {
            "colorbar": {
             "outlinewidth": 0,
             "ticks": ""
            },
            "colorscale": [
             [
              0,
              "#0d0887"
             ],
             [
              0.1111111111111111,
              "#46039f"
             ],
             [
              0.2222222222222222,
              "#7201a8"
             ],
             [
              0.3333333333333333,
              "#9c179e"
             ],
             [
              0.4444444444444444,
              "#bd3786"
             ],
             [
              0.5555555555555556,
              "#d8576b"
             ],
             [
              0.6666666666666666,
              "#ed7953"
             ],
             [
              0.7777777777777778,
              "#fb9f3a"
             ],
             [
              0.8888888888888888,
              "#fdca26"
             ],
             [
              1,
              "#f0f921"
             ]
            ],
            "type": "heatmap"
           }
          ],
          "heatmapgl": [
           {
            "colorbar": {
             "outlinewidth": 0,
             "ticks": ""
            },
            "colorscale": [
             [
              0,
              "#0d0887"
             ],
             [
              0.1111111111111111,
              "#46039f"
             ],
             [
              0.2222222222222222,
              "#7201a8"
             ],
             [
              0.3333333333333333,
              "#9c179e"
             ],
             [
              0.4444444444444444,
              "#bd3786"
             ],
             [
              0.5555555555555556,
              "#d8576b"
             ],
             [
              0.6666666666666666,
              "#ed7953"
             ],
             [
              0.7777777777777778,
              "#fb9f3a"
             ],
             [
              0.8888888888888888,
              "#fdca26"
             ],
             [
              1,
              "#f0f921"
             ]
            ],
            "type": "heatmapgl"
           }
          ],
          "histogram": [
           {
            "marker": {
             "pattern": {
              "fillmode": "overlay",
              "size": 10,
              "solidity": 0.2
             }
            },
            "type": "histogram"
           }
          ],
          "histogram2d": [
           {
            "colorbar": {
             "outlinewidth": 0,
             "ticks": ""
            },
            "colorscale": [
             [
              0,
              "#0d0887"
             ],
             [
              0.1111111111111111,
              "#46039f"
             ],
             [
              0.2222222222222222,
              "#7201a8"
             ],
             [
              0.3333333333333333,
              "#9c179e"
             ],
             [
              0.4444444444444444,
              "#bd3786"
             ],
             [
              0.5555555555555556,
              "#d8576b"
             ],
             [
              0.6666666666666666,
              "#ed7953"
             ],
             [
              0.7777777777777778,
              "#fb9f3a"
             ],
             [
              0.8888888888888888,
              "#fdca26"
             ],
             [
              1,
              "#f0f921"
             ]
            ],
            "type": "histogram2d"
           }
          ],
          "histogram2dcontour": [
           {
            "colorbar": {
             "outlinewidth": 0,
             "ticks": ""
            },
            "colorscale": [
             [
              0,
              "#0d0887"
             ],
             [
              0.1111111111111111,
              "#46039f"
             ],
             [
              0.2222222222222222,
              "#7201a8"
             ],
             [
              0.3333333333333333,
              "#9c179e"
             ],
             [
              0.4444444444444444,
              "#bd3786"
             ],
             [
              0.5555555555555556,
              "#d8576b"
             ],
             [
              0.6666666666666666,
              "#ed7953"
             ],
             [
              0.7777777777777778,
              "#fb9f3a"
             ],
             [
              0.8888888888888888,
              "#fdca26"
             ],
             [
              1,
              "#f0f921"
             ]
            ],
            "type": "histogram2dcontour"
           }
          ],
          "mesh3d": [
           {
            "colorbar": {
             "outlinewidth": 0,
             "ticks": ""
            },
            "type": "mesh3d"
           }
          ],
          "parcoords": [
           {
            "line": {
             "colorbar": {
              "outlinewidth": 0,
              "ticks": ""
             }
            },
            "type": "parcoords"
           }
          ],
          "pie": [
           {
            "automargin": true,
            "type": "pie"
           }
          ],
          "scatter": [
           {
            "marker": {
             "line": {
              "color": "#283442"
             }
            },
            "type": "scatter"
           }
          ],
          "scatter3d": [
           {
            "line": {
             "colorbar": {
              "outlinewidth": 0,
              "ticks": ""
             }
            },
            "marker": {
             "colorbar": {
              "outlinewidth": 0,
              "ticks": ""
             }
            },
            "type": "scatter3d"
           }
          ],
          "scattercarpet": [
           {
            "marker": {
             "colorbar": {
              "outlinewidth": 0,
              "ticks": ""
             }
            },
            "type": "scattercarpet"
           }
          ],
          "scattergeo": [
           {
            "marker": {
             "colorbar": {
              "outlinewidth": 0,
              "ticks": ""
             }
            },
            "type": "scattergeo"
           }
          ],
          "scattergl": [
           {
            "marker": {
             "line": {
              "color": "#283442"
             }
            },
            "type": "scattergl"
           }
          ],
          "scattermapbox": [
           {
            "marker": {
             "colorbar": {
              "outlinewidth": 0,
              "ticks": ""
             }
            },
            "type": "scattermapbox"
           }
          ],
          "scatterpolar": [
           {
            "marker": {
             "colorbar": {
              "outlinewidth": 0,
              "ticks": ""
             }
            },
            "type": "scatterpolar"
           }
          ],
          "scatterpolargl": [
           {
            "marker": {
             "colorbar": {
              "outlinewidth": 0,
              "ticks": ""
             }
            },
            "type": "scatterpolargl"
           }
          ],
          "scatterternary": [
           {
            "marker": {
             "colorbar": {
              "outlinewidth": 0,
              "ticks": ""
             }
            },
            "type": "scatterternary"
           }
          ],
          "surface": [
           {
            "colorbar": {
             "outlinewidth": 0,
             "ticks": ""
            },
            "colorscale": [
             [
              0,
              "#0d0887"
             ],
             [
              0.1111111111111111,
              "#46039f"
             ],
             [
              0.2222222222222222,
              "#7201a8"
             ],
             [
              0.3333333333333333,
              "#9c179e"
             ],
             [
              0.4444444444444444,
              "#bd3786"
             ],
             [
              0.5555555555555556,
              "#d8576b"
             ],
             [
              0.6666666666666666,
              "#ed7953"
             ],
             [
              0.7777777777777778,
              "#fb9f3a"
             ],
             [
              0.8888888888888888,
              "#fdca26"
             ],
             [
              1,
              "#f0f921"
             ]
            ],
            "type": "surface"
           }
          ],
          "table": [
           {
            "cells": {
             "fill": {
              "color": "#506784"
             },
             "line": {
              "color": "rgb(17,17,17)"
             }
            },
            "header": {
             "fill": {
              "color": "#2a3f5f"
             },
             "line": {
              "color": "rgb(17,17,17)"
             }
            },
            "type": "table"
           }
          ]
         },
         "layout": {
          "annotationdefaults": {
           "arrowcolor": "#f2f5fa",
           "arrowhead": 0,
           "arrowwidth": 1
          },
          "autotypenumbers": "strict",
          "coloraxis": {
           "colorbar": {
            "outlinewidth": 0,
            "ticks": ""
           }
          },
          "colorscale": {
           "diverging": [
            [
             0,
             "#8e0152"
            ],
            [
             0.1,
             "#c51b7d"
            ],
            [
             0.2,
             "#de77ae"
            ],
            [
             0.3,
             "#f1b6da"
            ],
            [
             0.4,
             "#fde0ef"
            ],
            [
             0.5,
             "#f7f7f7"
            ],
            [
             0.6,
             "#e6f5d0"
            ],
            [
             0.7,
             "#b8e186"
            ],
            [
             0.8,
             "#7fbc41"
            ],
            [
             0.9,
             "#4d9221"
            ],
            [
             1,
             "#276419"
            ]
           ],
           "sequential": [
            [
             0,
             "#0d0887"
            ],
            [
             0.1111111111111111,
             "#46039f"
            ],
            [
             0.2222222222222222,
             "#7201a8"
            ],
            [
             0.3333333333333333,
             "#9c179e"
            ],
            [
             0.4444444444444444,
             "#bd3786"
            ],
            [
             0.5555555555555556,
             "#d8576b"
            ],
            [
             0.6666666666666666,
             "#ed7953"
            ],
            [
             0.7777777777777778,
             "#fb9f3a"
            ],
            [
             0.8888888888888888,
             "#fdca26"
            ],
            [
             1,
             "#f0f921"
            ]
           ],
           "sequentialminus": [
            [
             0,
             "#0d0887"
            ],
            [
             0.1111111111111111,
             "#46039f"
            ],
            [
             0.2222222222222222,
             "#7201a8"
            ],
            [
             0.3333333333333333,
             "#9c179e"
            ],
            [
             0.4444444444444444,
             "#bd3786"
            ],
            [
             0.5555555555555556,
             "#d8576b"
            ],
            [
             0.6666666666666666,
             "#ed7953"
            ],
            [
             0.7777777777777778,
             "#fb9f3a"
            ],
            [
             0.8888888888888888,
             "#fdca26"
            ],
            [
             1,
             "#f0f921"
            ]
           ]
          },
          "colorway": [
           "#636efa",
           "#EF553B",
           "#00cc96",
           "#ab63fa",
           "#FFA15A",
           "#19d3f3",
           "#FF6692",
           "#B6E880",
           "#FF97FF",
           "#FECB52"
          ],
          "font": {
           "color": "#f2f5fa"
          },
          "geo": {
           "bgcolor": "rgb(17,17,17)",
           "lakecolor": "rgb(17,17,17)",
           "landcolor": "rgb(17,17,17)",
           "showlakes": true,
           "showland": true,
           "subunitcolor": "#506784"
          },
          "hoverlabel": {
           "align": "left"
          },
          "hovermode": "closest",
          "mapbox": {
           "style": "dark"
          },
          "paper_bgcolor": "rgb(17,17,17)",
          "plot_bgcolor": "rgb(17,17,17)",
          "polar": {
           "angularaxis": {
            "gridcolor": "#506784",
            "linecolor": "#506784",
            "ticks": ""
           },
           "bgcolor": "rgb(17,17,17)",
           "radialaxis": {
            "gridcolor": "#506784",
            "linecolor": "#506784",
            "ticks": ""
           }
          },
          "scene": {
           "xaxis": {
            "backgroundcolor": "rgb(17,17,17)",
            "gridcolor": "#506784",
            "gridwidth": 2,
            "linecolor": "#506784",
            "showbackground": true,
            "ticks": "",
            "zerolinecolor": "#C8D4E3"
           },
           "yaxis": {
            "backgroundcolor": "rgb(17,17,17)",
            "gridcolor": "#506784",
            "gridwidth": 2,
            "linecolor": "#506784",
            "showbackground": true,
            "ticks": "",
            "zerolinecolor": "#C8D4E3"
           },
           "zaxis": {
            "backgroundcolor": "rgb(17,17,17)",
            "gridcolor": "#506784",
            "gridwidth": 2,
            "linecolor": "#506784",
            "showbackground": true,
            "ticks": "",
            "zerolinecolor": "#C8D4E3"
           }
          },
          "shapedefaults": {
           "line": {
            "color": "#f2f5fa"
           }
          },
          "sliderdefaults": {
           "bgcolor": "#C8D4E3",
           "bordercolor": "rgb(17,17,17)",
           "borderwidth": 1,
           "tickwidth": 0
          },
          "ternary": {
           "aaxis": {
            "gridcolor": "#506784",
            "linecolor": "#506784",
            "ticks": ""
           },
           "baxis": {
            "gridcolor": "#506784",
            "linecolor": "#506784",
            "ticks": ""
           },
           "bgcolor": "rgb(17,17,17)",
           "caxis": {
            "gridcolor": "#506784",
            "linecolor": "#506784",
            "ticks": ""
           }
          },
          "title": {
           "x": 0.05
          },
          "updatemenudefaults": {
           "bgcolor": "#506784",
           "borderwidth": 0
          },
          "xaxis": {
           "automargin": true,
           "gridcolor": "#283442",
           "linecolor": "#506784",
           "ticks": "",
           "title": {
            "standoff": 15
           },
           "zerolinecolor": "#283442",
           "zerolinewidth": 2
          },
          "yaxis": {
           "automargin": true,
           "gridcolor": "#283442",
           "linecolor": "#506784",
           "ticks": "",
           "title": {
            "standoff": 15
           },
           "zerolinecolor": "#283442",
           "zerolinewidth": 2
          }
         }
        },
        "width": 1200,
        "xaxis": {
         "tickangle": -90
        }
       }
      }
     },
     "metadata": {},
     "output_type": "display_data"
    }
   ],
   "source": [
    "corr = data_num.drop(target, axis=1).corr()\n",
    "corr_mask = np.triu(np.ones_like(corr, dtype=bool))\n",
    "corr = corr.mask(corr_mask)\n",
    "\n",
    "fig = go.Figure(data=go.Heatmap(x=corr.columns,y=corr.index,z=corr.values))\n",
    "fig.update_layout(width=1200, height=1200,xaxis_tickangle=-90)\n",
    "fig.show()"
   ]
  },
  {
   "cell_type": "code",
   "execution_count": 21,
   "metadata": {},
   "outputs": [],
   "source": [
    "high_corr = (corr.unstack()\n",
    ".reset_index()\n",
    ".dropna()\n",
    ".rename(columns={\"level_0\":\"feat1\",\"level_1\":\"feat2\",0:\"correlation\"})\n",
    ".assign(abs_correlation=lambda x: round(np.abs(x[\"correlation\"]),2)))\n",
    "high_corr = high_corr[high_corr[\"abs_correlation\"]>=0.9]"
   ]
  },
  {
   "cell_type": "code",
   "execution_count": 22,
   "metadata": {},
   "outputs": [
    {
     "data": {
      "application/vnd.plotly.v1+json": {
       "config": {
        "plotlyServerURL": "https://plot.ly"
       },
       "data": [
        {
         "type": "heatmap",
         "x": [
          "After-tax net Interest Rate",
          "Cash Flow to Sales",
          "Continuous interest rate (after tax)",
          "Current Liability to Equity",
          "Current Liability to Liability",
          "Gross Profit to Sales",
          "Liability to Equity",
          "Net Income to Total Assets",
          "Net Value Per Share (A)",
          "Net Value Per Share (C)",
          "Net profit before tax/Paid-in capital",
          "Net worth/Assets",
          "Operating profit/Paid-in capital",
          "Per Share Net profit before tax (Yuan ¬•)",
          "Pre-tax net Interest Rate",
          "ROA(A) before interest and % after tax",
          "ROA(B) before interest and depreciation after tax",
          "Realized Sales Gross Margin",
          "Regular Net Profit Growth Rate"
         ],
         "y": [
          "After-tax Net Profit Growth Rate",
          "After-tax net Interest Rate",
          "Borrowing dependency",
          "Current Liabilities/Equity",
          "Current Liabilities/Liability",
          "Current Liability to Equity",
          "Debt ratio %",
          "Net Value Per Share (A)",
          "Net Value Per Share (B)",
          "Operating Gross Margin",
          "Operating Profit Per Share (Yuan ¬•)",
          "Operating Profit Rate",
          "Per Share Net profit before tax (Yuan ¬•)",
          "Persistent EPS in the Last Four Seasons",
          "Pre-tax net Interest Rate",
          "ROA(A) before interest and % after tax",
          "ROA(B) before interest and depreciation after tax",
          "ROA(C) before interest and depreciation before interest",
          "Realized Sales Gross Margin",
          "Working capitcal Turnover Rate"
         ],
         "z": [
          [
           null,
           null,
           null,
           null,
           null,
           null,
           null,
           null,
           null,
           null,
           null,
           null,
           null,
           null,
           null,
           null,
           null,
           null,
           1
          ],
          [
           null,
           null,
           0.98,
           null,
           null,
           null,
           null,
           null,
           null,
           null,
           null,
           null,
           null,
           null,
           null,
           null,
           null,
           null,
           null
          ],
          [
           null,
           null,
           null,
           null,
           null,
           null,
           0.96,
           null,
           null,
           null,
           null,
           null,
           null,
           null,
           null,
           null,
           null,
           null,
           null
          ],
          [
           null,
           null,
           null,
           1,
           null,
           null,
           0.96,
           null,
           null,
           null,
           null,
           null,
           null,
           null,
           null,
           null,
           null,
           null,
           null
          ],
          [
           null,
           null,
           null,
           null,
           1,
           null,
           null,
           null,
           null,
           null,
           null,
           null,
           null,
           null,
           null,
           null,
           null,
           null,
           null
          ],
          [
           null,
           null,
           null,
           null,
           null,
           null,
           0.96,
           null,
           null,
           null,
           null,
           null,
           null,
           null,
           null,
           null,
           null,
           null,
           null
          ],
          [
           null,
           null,
           null,
           null,
           null,
           null,
           null,
           null,
           null,
           null,
           null,
           1,
           null,
           null,
           null,
           null,
           null,
           null,
           null
          ],
          [
           null,
           null,
           null,
           null,
           null,
           null,
           null,
           null,
           null,
           1,
           null,
           null,
           null,
           null,
           null,
           null,
           null,
           null,
           null
          ],
          [
           null,
           null,
           null,
           null,
           null,
           null,
           null,
           null,
           1,
           1,
           null,
           null,
           null,
           null,
           null,
           null,
           null,
           null,
           null
          ],
          [
           null,
           null,
           null,
           null,
           null,
           1,
           null,
           null,
           null,
           null,
           null,
           null,
           null,
           null,
           null,
           null,
           null,
           0.92,
           null
          ],
          [
           null,
           null,
           null,
           null,
           null,
           null,
           null,
           null,
           null,
           null,
           null,
           null,
           1,
           null,
           null,
           null,
           null,
           null,
           null
          ],
          [
           null,
           null,
           0.92,
           null,
           null,
           null,
           null,
           null,
           null,
           null,
           null,
           null,
           null,
           null,
           0.92,
           null,
           null,
           null,
           null
          ],
          [
           null,
           null,
           null,
           null,
           null,
           null,
           null,
           null,
           null,
           null,
           0.96,
           null,
           null,
           null,
           null,
           null,
           null,
           null,
           null
          ],
          [
           null,
           null,
           null,
           null,
           null,
           null,
           null,
           null,
           null,
           null,
           0.96,
           null,
           null,
           0.96,
           null,
           null,
           null,
           null,
           null
          ],
          [
           0.99,
           null,
           0.99,
           null,
           null,
           null,
           null,
           null,
           null,
           null,
           null,
           null,
           null,
           null,
           null,
           null,
           null,
           null,
           null
          ],
          [
           null,
           null,
           null,
           null,
           null,
           null,
           null,
           0.96,
           null,
           null,
           null,
           null,
           null,
           null,
           null,
           null,
           0.96,
           null,
           null
          ],
          [
           null,
           null,
           null,
           null,
           null,
           null,
           null,
           0.91,
           null,
           null,
           null,
           null,
           null,
           null,
           null,
           null,
           null,
           null,
           null
          ],
          [
           null,
           null,
           null,
           null,
           null,
           null,
           null,
           null,
           null,
           null,
           null,
           null,
           null,
           null,
           null,
           0.94,
           0.99,
           null,
           null
          ],
          [
           null,
           null,
           null,
           null,
           null,
           0.92,
           null,
           null,
           null,
           null,
           null,
           null,
           null,
           null,
           null,
           null,
           null,
           null,
           null
          ],
          [
           null,
           0.95,
           null,
           null,
           null,
           null,
           null,
           null,
           null,
           null,
           null,
           null,
           null,
           null,
           null,
           null,
           null,
           null,
           null
          ]
         ]
        }
       ],
       "layout": {
        "height": 1000,
        "template": {
         "data": {
          "bar": [
           {
            "error_x": {
             "color": "#f2f5fa"
            },
            "error_y": {
             "color": "#f2f5fa"
            },
            "marker": {
             "line": {
              "color": "rgb(17,17,17)",
              "width": 0.5
             },
             "pattern": {
              "fillmode": "overlay",
              "size": 10,
              "solidity": 0.2
             }
            },
            "type": "bar"
           }
          ],
          "barpolar": [
           {
            "marker": {
             "line": {
              "color": "rgb(17,17,17)",
              "width": 0.5
             },
             "pattern": {
              "fillmode": "overlay",
              "size": 10,
              "solidity": 0.2
             }
            },
            "type": "barpolar"
           }
          ],
          "carpet": [
           {
            "aaxis": {
             "endlinecolor": "#A2B1C6",
             "gridcolor": "#506784",
             "linecolor": "#506784",
             "minorgridcolor": "#506784",
             "startlinecolor": "#A2B1C6"
            },
            "baxis": {
             "endlinecolor": "#A2B1C6",
             "gridcolor": "#506784",
             "linecolor": "#506784",
             "minorgridcolor": "#506784",
             "startlinecolor": "#A2B1C6"
            },
            "type": "carpet"
           }
          ],
          "choropleth": [
           {
            "colorbar": {
             "outlinewidth": 0,
             "ticks": ""
            },
            "type": "choropleth"
           }
          ],
          "contour": [
           {
            "colorbar": {
             "outlinewidth": 0,
             "ticks": ""
            },
            "colorscale": [
             [
              0,
              "#0d0887"
             ],
             [
              0.1111111111111111,
              "#46039f"
             ],
             [
              0.2222222222222222,
              "#7201a8"
             ],
             [
              0.3333333333333333,
              "#9c179e"
             ],
             [
              0.4444444444444444,
              "#bd3786"
             ],
             [
              0.5555555555555556,
              "#d8576b"
             ],
             [
              0.6666666666666666,
              "#ed7953"
             ],
             [
              0.7777777777777778,
              "#fb9f3a"
             ],
             [
              0.8888888888888888,
              "#fdca26"
             ],
             [
              1,
              "#f0f921"
             ]
            ],
            "type": "contour"
           }
          ],
          "contourcarpet": [
           {
            "colorbar": {
             "outlinewidth": 0,
             "ticks": ""
            },
            "type": "contourcarpet"
           }
          ],
          "heatmap": [
           {
            "colorbar": {
             "outlinewidth": 0,
             "ticks": ""
            },
            "colorscale": [
             [
              0,
              "#0d0887"
             ],
             [
              0.1111111111111111,
              "#46039f"
             ],
             [
              0.2222222222222222,
              "#7201a8"
             ],
             [
              0.3333333333333333,
              "#9c179e"
             ],
             [
              0.4444444444444444,
              "#bd3786"
             ],
             [
              0.5555555555555556,
              "#d8576b"
             ],
             [
              0.6666666666666666,
              "#ed7953"
             ],
             [
              0.7777777777777778,
              "#fb9f3a"
             ],
             [
              0.8888888888888888,
              "#fdca26"
             ],
             [
              1,
              "#f0f921"
             ]
            ],
            "type": "heatmap"
           }
          ],
          "heatmapgl": [
           {
            "colorbar": {
             "outlinewidth": 0,
             "ticks": ""
            },
            "colorscale": [
             [
              0,
              "#0d0887"
             ],
             [
              0.1111111111111111,
              "#46039f"
             ],
             [
              0.2222222222222222,
              "#7201a8"
             ],
             [
              0.3333333333333333,
              "#9c179e"
             ],
             [
              0.4444444444444444,
              "#bd3786"
             ],
             [
              0.5555555555555556,
              "#d8576b"
             ],
             [
              0.6666666666666666,
              "#ed7953"
             ],
             [
              0.7777777777777778,
              "#fb9f3a"
             ],
             [
              0.8888888888888888,
              "#fdca26"
             ],
             [
              1,
              "#f0f921"
             ]
            ],
            "type": "heatmapgl"
           }
          ],
          "histogram": [
           {
            "marker": {
             "pattern": {
              "fillmode": "overlay",
              "size": 10,
              "solidity": 0.2
             }
            },
            "type": "histogram"
           }
          ],
          "histogram2d": [
           {
            "colorbar": {
             "outlinewidth": 0,
             "ticks": ""
            },
            "colorscale": [
             [
              0,
              "#0d0887"
             ],
             [
              0.1111111111111111,
              "#46039f"
             ],
             [
              0.2222222222222222,
              "#7201a8"
             ],
             [
              0.3333333333333333,
              "#9c179e"
             ],
             [
              0.4444444444444444,
              "#bd3786"
             ],
             [
              0.5555555555555556,
              "#d8576b"
             ],
             [
              0.6666666666666666,
              "#ed7953"
             ],
             [
              0.7777777777777778,
              "#fb9f3a"
             ],
             [
              0.8888888888888888,
              "#fdca26"
             ],
             [
              1,
              "#f0f921"
             ]
            ],
            "type": "histogram2d"
           }
          ],
          "histogram2dcontour": [
           {
            "colorbar": {
             "outlinewidth": 0,
             "ticks": ""
            },
            "colorscale": [
             [
              0,
              "#0d0887"
             ],
             [
              0.1111111111111111,
              "#46039f"
             ],
             [
              0.2222222222222222,
              "#7201a8"
             ],
             [
              0.3333333333333333,
              "#9c179e"
             ],
             [
              0.4444444444444444,
              "#bd3786"
             ],
             [
              0.5555555555555556,
              "#d8576b"
             ],
             [
              0.6666666666666666,
              "#ed7953"
             ],
             [
              0.7777777777777778,
              "#fb9f3a"
             ],
             [
              0.8888888888888888,
              "#fdca26"
             ],
             [
              1,
              "#f0f921"
             ]
            ],
            "type": "histogram2dcontour"
           }
          ],
          "mesh3d": [
           {
            "colorbar": {
             "outlinewidth": 0,
             "ticks": ""
            },
            "type": "mesh3d"
           }
          ],
          "parcoords": [
           {
            "line": {
             "colorbar": {
              "outlinewidth": 0,
              "ticks": ""
             }
            },
            "type": "parcoords"
           }
          ],
          "pie": [
           {
            "automargin": true,
            "type": "pie"
           }
          ],
          "scatter": [
           {
            "marker": {
             "line": {
              "color": "#283442"
             }
            },
            "type": "scatter"
           }
          ],
          "scatter3d": [
           {
            "line": {
             "colorbar": {
              "outlinewidth": 0,
              "ticks": ""
             }
            },
            "marker": {
             "colorbar": {
              "outlinewidth": 0,
              "ticks": ""
             }
            },
            "type": "scatter3d"
           }
          ],
          "scattercarpet": [
           {
            "marker": {
             "colorbar": {
              "outlinewidth": 0,
              "ticks": ""
             }
            },
            "type": "scattercarpet"
           }
          ],
          "scattergeo": [
           {
            "marker": {
             "colorbar": {
              "outlinewidth": 0,
              "ticks": ""
             }
            },
            "type": "scattergeo"
           }
          ],
          "scattergl": [
           {
            "marker": {
             "line": {
              "color": "#283442"
             }
            },
            "type": "scattergl"
           }
          ],
          "scattermapbox": [
           {
            "marker": {
             "colorbar": {
              "outlinewidth": 0,
              "ticks": ""
             }
            },
            "type": "scattermapbox"
           }
          ],
          "scatterpolar": [
           {
            "marker": {
             "colorbar": {
              "outlinewidth": 0,
              "ticks": ""
             }
            },
            "type": "scatterpolar"
           }
          ],
          "scatterpolargl": [
           {
            "marker": {
             "colorbar": {
              "outlinewidth": 0,
              "ticks": ""
             }
            },
            "type": "scatterpolargl"
           }
          ],
          "scatterternary": [
           {
            "marker": {
             "colorbar": {
              "outlinewidth": 0,
              "ticks": ""
             }
            },
            "type": "scatterternary"
           }
          ],
          "surface": [
           {
            "colorbar": {
             "outlinewidth": 0,
             "ticks": ""
            },
            "colorscale": [
             [
              0,
              "#0d0887"
             ],
             [
              0.1111111111111111,
              "#46039f"
             ],
             [
              0.2222222222222222,
              "#7201a8"
             ],
             [
              0.3333333333333333,
              "#9c179e"
             ],
             [
              0.4444444444444444,
              "#bd3786"
             ],
             [
              0.5555555555555556,
              "#d8576b"
             ],
             [
              0.6666666666666666,
              "#ed7953"
             ],
             [
              0.7777777777777778,
              "#fb9f3a"
             ],
             [
              0.8888888888888888,
              "#fdca26"
             ],
             [
              1,
              "#f0f921"
             ]
            ],
            "type": "surface"
           }
          ],
          "table": [
           {
            "cells": {
             "fill": {
              "color": "#506784"
             },
             "line": {
              "color": "rgb(17,17,17)"
             }
            },
            "header": {
             "fill": {
              "color": "#2a3f5f"
             },
             "line": {
              "color": "rgb(17,17,17)"
             }
            },
            "type": "table"
           }
          ]
         },
         "layout": {
          "annotationdefaults": {
           "arrowcolor": "#f2f5fa",
           "arrowhead": 0,
           "arrowwidth": 1
          },
          "autotypenumbers": "strict",
          "coloraxis": {
           "colorbar": {
            "outlinewidth": 0,
            "ticks": ""
           }
          },
          "colorscale": {
           "diverging": [
            [
             0,
             "#8e0152"
            ],
            [
             0.1,
             "#c51b7d"
            ],
            [
             0.2,
             "#de77ae"
            ],
            [
             0.3,
             "#f1b6da"
            ],
            [
             0.4,
             "#fde0ef"
            ],
            [
             0.5,
             "#f7f7f7"
            ],
            [
             0.6,
             "#e6f5d0"
            ],
            [
             0.7,
             "#b8e186"
            ],
            [
             0.8,
             "#7fbc41"
            ],
            [
             0.9,
             "#4d9221"
            ],
            [
             1,
             "#276419"
            ]
           ],
           "sequential": [
            [
             0,
             "#0d0887"
            ],
            [
             0.1111111111111111,
             "#46039f"
            ],
            [
             0.2222222222222222,
             "#7201a8"
            ],
            [
             0.3333333333333333,
             "#9c179e"
            ],
            [
             0.4444444444444444,
             "#bd3786"
            ],
            [
             0.5555555555555556,
             "#d8576b"
            ],
            [
             0.6666666666666666,
             "#ed7953"
            ],
            [
             0.7777777777777778,
             "#fb9f3a"
            ],
            [
             0.8888888888888888,
             "#fdca26"
            ],
            [
             1,
             "#f0f921"
            ]
           ],
           "sequentialminus": [
            [
             0,
             "#0d0887"
            ],
            [
             0.1111111111111111,
             "#46039f"
            ],
            [
             0.2222222222222222,
             "#7201a8"
            ],
            [
             0.3333333333333333,
             "#9c179e"
            ],
            [
             0.4444444444444444,
             "#bd3786"
            ],
            [
             0.5555555555555556,
             "#d8576b"
            ],
            [
             0.6666666666666666,
             "#ed7953"
            ],
            [
             0.7777777777777778,
             "#fb9f3a"
            ],
            [
             0.8888888888888888,
             "#fdca26"
            ],
            [
             1,
             "#f0f921"
            ]
           ]
          },
          "colorway": [
           "#636efa",
           "#EF553B",
           "#00cc96",
           "#ab63fa",
           "#FFA15A",
           "#19d3f3",
           "#FF6692",
           "#B6E880",
           "#FF97FF",
           "#FECB52"
          ],
          "font": {
           "color": "#f2f5fa"
          },
          "geo": {
           "bgcolor": "rgb(17,17,17)",
           "lakecolor": "rgb(17,17,17)",
           "landcolor": "rgb(17,17,17)",
           "showlakes": true,
           "showland": true,
           "subunitcolor": "#506784"
          },
          "hoverlabel": {
           "align": "left"
          },
          "hovermode": "closest",
          "mapbox": {
           "style": "dark"
          },
          "paper_bgcolor": "rgb(17,17,17)",
          "plot_bgcolor": "rgb(17,17,17)",
          "polar": {
           "angularaxis": {
            "gridcolor": "#506784",
            "linecolor": "#506784",
            "ticks": ""
           },
           "bgcolor": "rgb(17,17,17)",
           "radialaxis": {
            "gridcolor": "#506784",
            "linecolor": "#506784",
            "ticks": ""
           }
          },
          "scene": {
           "xaxis": {
            "backgroundcolor": "rgb(17,17,17)",
            "gridcolor": "#506784",
            "gridwidth": 2,
            "linecolor": "#506784",
            "showbackground": true,
            "ticks": "",
            "zerolinecolor": "#C8D4E3"
           },
           "yaxis": {
            "backgroundcolor": "rgb(17,17,17)",
            "gridcolor": "#506784",
            "gridwidth": 2,
            "linecolor": "#506784",
            "showbackground": true,
            "ticks": "",
            "zerolinecolor": "#C8D4E3"
           },
           "zaxis": {
            "backgroundcolor": "rgb(17,17,17)",
            "gridcolor": "#506784",
            "gridwidth": 2,
            "linecolor": "#506784",
            "showbackground": true,
            "ticks": "",
            "zerolinecolor": "#C8D4E3"
           }
          },
          "shapedefaults": {
           "line": {
            "color": "#f2f5fa"
           }
          },
          "sliderdefaults": {
           "bgcolor": "#C8D4E3",
           "bordercolor": "rgb(17,17,17)",
           "borderwidth": 1,
           "tickwidth": 0
          },
          "ternary": {
           "aaxis": {
            "gridcolor": "#506784",
            "linecolor": "#506784",
            "ticks": ""
           },
           "baxis": {
            "gridcolor": "#506784",
            "linecolor": "#506784",
            "ticks": ""
           },
           "bgcolor": "rgb(17,17,17)",
           "caxis": {
            "gridcolor": "#506784",
            "linecolor": "#506784",
            "ticks": ""
           }
          },
          "title": {
           "x": 0.05
          },
          "updatemenudefaults": {
           "bgcolor": "#506784",
           "borderwidth": 0
          },
          "xaxis": {
           "automargin": true,
           "gridcolor": "#283442",
           "linecolor": "#506784",
           "ticks": "",
           "title": {
            "standoff": 15
           },
           "zerolinecolor": "#283442",
           "zerolinewidth": 2
          },
          "yaxis": {
           "automargin": true,
           "gridcolor": "#283442",
           "linecolor": "#506784",
           "ticks": "",
           "title": {
            "standoff": 15
           },
           "zerolinecolor": "#283442",
           "zerolinewidth": 2
          }
         }
        },
        "width": 1000,
        "xaxis": {
         "tickangle": -90
        }
       }
      }
     },
     "metadata": {},
     "output_type": "display_data"
    }
   ],
   "source": [
    "high_corr_pvt=high_corr.pivot(index=\"feat1\",columns=\"feat2\",values=\"abs_correlation\")\n",
    "fig = go.Figure(data=go.Heatmap(x=high_corr_pvt.columns,y=high_corr_pvt.index,z=high_corr_pvt.values))\n",
    "fig.update_layout(width=1000, height=1000,xaxis_tickangle=-90)\n",
    "fig.show()"
   ]
  },
  {
   "cell_type": "code",
   "execution_count": 23,
   "metadata": {},
   "outputs": [],
   "source": [
    "from sklearn.model_selection import train_test_split\n",
    "X, y = (data_variance.drop(target,axis=1),data_variance[target])\n",
    "X_train,X_test,y_train,y_test = train_test_split(X,y,test_size=0.2, stratify=data_variance[target])\n",
    "\n",
    "# train_dt = pd.concat([X_train,y_train],axis=1)\n",
    "# test_dt = pd.concat([X_test,y_test],axis=1)"
   ]
  },
  {
   "cell_type": "markdown",
   "metadata": {},
   "source": [
    "## LightGBM Baseline"
   ]
  },
  {
   "cell_type": "code",
   "execution_count": 24,
   "metadata": {},
   "outputs": [],
   "source": [
    "train_dt = lgb.Dataset(data=X_train,label=y_train)\n",
    "test_dt = lgb.Dataset(data = X_test, label=y_test, reference=train_dt)\n"
   ]
  },
  {
   "cell_type": "code",
   "execution_count": 46,
   "metadata": {},
   "outputs": [
    {
     "name": "stdout",
     "output_type": "stream",
     "text": [
      "[LightGBM] [Warning] Found whitespace in feature_names, replace with underlines\n",
      "[LightGBM] [Info] Number of positive: 175, number of negative: 5273\n",
      "[LightGBM] [Warning] Auto-choosing row-wise multi-threading, the overhead of testing was 0.021944 seconds.\n",
      "You can set `force_row_wise=true` to remove the overhead.\n",
      "And if memory is not enough, you can set `force_col_wise=true`.\n",
      "[LightGBM] [Info] Total Bins 23716\n",
      "[LightGBM] [Info] Number of data points in the train set: 5448, number of used features: 94\n",
      "[LightGBM] [Info] [binary:BoostFromScore]: pavg=0.032122 -> initscore=-3.405569\n",
      "[LightGBM] [Info] Start training from score -3.405569\n"
     ]
    }
   ],
   "source": [
    "params = {\n",
    "        'objective': 'binary',\n",
    "        'metric':'binary_logloss',\n",
    "        'num_leaves': 10,\n",
    "        'learning_rate':0.01,\n",
    "        'is_unbalance':True,\n",
    "}\n",
    "evals={}\n",
    "\n",
    "mod = lgb.train(params=params, \n",
    "                num_boost_round=60,\n",
    "                train_set = train_dt, \n",
    "                valid_sets=[train_dt, test_dt],\n",
    "                callbacks = [lgb.record_evaluation(evals)])"
   ]
  },
  {
   "cell_type": "code",
   "execution_count": 47,
   "metadata": {},
   "outputs": [
    {
     "data": {
      "text/plain": [
       "<AxesSubplot:title={'center':'Metric during training'}, xlabel='Iterations', ylabel='binary_logloss'>"
      ]
     },
     "execution_count": 47,
     "metadata": {},
     "output_type": "execute_result"
    },
    {
     "data": {
      "image/png": "[encoded data removed]",
      "text/plain": [
       "<Figure size 432x288 with 1 Axes>"
      ]
     },
     "metadata": {
      "needs_background": "light"
     },
     "output_type": "display_data"
    }
   ],
   "source": [
    "lgb.plot_metric(evals)"
   ]
  },
  {
   "cell_type": "code",
   "execution_count": 48,
   "metadata": {},
   "outputs": [],
   "source": [
    "# fig, ax = plt.subplots(figsize=(10,15))\n",
    "# lgb.plot_importance(mod, ax = ax)"
   ]
  },
  {
   "cell_type": "code",
   "execution_count": 49,
   "metadata": {},
   "outputs": [],
   "source": [
    "pred_train = mod.predict(X_train)\n",
    "pred_test = mod.predict(X_test)"
   ]
  },
  {
   "cell_type": "code",
   "execution_count": 50,
   "metadata": {},
   "outputs": [
    {
     "data": {
      "image/png": "[encoded data removed]",
      "text/plain": [
       "<Figure size 432x288 with 1 Axes>"
      ]
     },
     "metadata": {
      "needs_background": "light"
     },
     "output_type": "display_data"
    },
    {
     "data": {
      "image/png": "[encoded data removed]",
      "text/plain": [
       "<Figure size 432x288 with 1 Axes>"
      ]
     },
     "metadata": {
      "needs_background": "light"
     },
     "output_type": "display_data"
    }
   ],
   "source": [
    "display1 = PrecisionRecallDisplay.from_predictions(y_train, pred_train, name=\"LightGBM:TRAIN\")\n",
    "display2 = PrecisionRecallDisplay.from_predictions(y_test, pred_test, name=\"LightGBM:TEST\")"
   ]
  },
  {
   "cell_type": "code",
   "execution_count": 78,
   "metadata": {},
   "outputs": [
    {
     "data": {
      "text/plain": [
       "array([[5273,    0],\n",
       "       [ 175,    0]])"
      ]
     },
     "execution_count": 78,
     "metadata": {},
     "output_type": "execute_result"
    }
   ],
   "source": [
    "# prec, recall, threshold = precision_recall_curve(y_test, pred_test)\n",
    "confusion_matrix(y_train,pred_train>0.5)"
   ]
  },
  {
   "cell_type": "code",
   "execution_count": 52,
   "metadata": {},
   "outputs": [
    {
     "name": "stderr",
     "output_type": "stream",
     "text": [
      "/Users/convergeml/engineering/casestudy/bankruptcy_prediction/.venv/lib/python3.8/site-packages/shap/explainers/_tree.py:353: UserWarning:\n",
      "\n",
      "LightGBM binary classifier with TreeExplainer shap values output has changed to a list of ndarray\n",
      "\n"
     ]
    }
   ],
   "source": [
    "explainer = shap.TreeExplainer(mod)\n",
    "shap_values = explainer.shap_values(X_train)"
   ]
  },
  {
   "cell_type": "code",
   "execution_count": 53,
   "metadata": {},
   "outputs": [
    {
     "data": {
      "image/png": "[encoded data removed]",
      "text/plain": [
       "<Figure size 576x684 with 1 Axes>"
      ]
     },
     "metadata": {
      "needs_background": "light"
     },
     "output_type": "display_data"
    }
   ],
   "source": [
    "shap.summary_plot(shap_values, X_train)"
   ]
  },
  {
   "cell_type": "code",
   "execution_count": 54,
   "metadata": {},
   "outputs": [],
   "source": [
    "# for name in X_train.columns:\n",
    "#     shap.dependence_plot(name, shap_values[1], X_train,interaction_index=\"Borrowing dependency\")"
   ]
  },
  {
   "cell_type": "markdown",
   "metadata": {},
   "source": [
    "## Catboost Baseline"
   ]
  },
  {
   "cell_type": "code",
   "execution_count": 66,
   "metadata": {},
   "outputs": [],
   "source": [
    "from catboost import CatBoostClassifier\n",
    "mod2 = CatBoostClassifier(iterations=10,\n",
    "                           learning_rate=0.01,\n",
    "                           depth=4,\n",
    "                           scale_pos_weight=5273/175)"
   ]
  },
  {
   "cell_type": "code",
   "execution_count": 67,
   "metadata": {},
   "outputs": [
    {
     "name": "stdout",
     "output_type": "stream",
     "text": [
      "0:\tlearn: 0.6841995\ttotal: 33.9ms\tremaining: 305ms\n",
      "1:\tlearn: 0.6766701\ttotal: 51.4ms\tremaining: 206ms\n",
      "2:\tlearn: 0.6687380\ttotal: 68ms\tremaining: 159ms\n",
      "3:\tlearn: 0.6613925\ttotal: 107ms\tremaining: 161ms\n",
      "4:\tlearn: 0.6534481\ttotal: 119ms\tremaining: 119ms\n",
      "5:\tlearn: 0.6456950\ttotal: 148ms\tremaining: 98.8ms\n",
      "6:\tlearn: 0.6392380\ttotal: 175ms\tremaining: 75.2ms\n",
      "7:\tlearn: 0.6311672\ttotal: 187ms\tremaining: 46.8ms\n",
      "8:\tlearn: 0.6237489\ttotal: 198ms\tremaining: 22ms\n",
      "9:\tlearn: 0.6140982\ttotal: 219ms\tremaining: 0us\n"
     ]
    },
    {
     "data": {
      "text/plain": [
       "<catboost.core.CatBoostClassifier at 0x1333d8f10>"
      ]
     },
     "execution_count": 67,
     "metadata": {},
     "output_type": "execute_result"
    }
   ],
   "source": [
    "mod2.fit(X_train,y_train,cat_features=['Company type'])"
   ]
  },
  {
   "cell_type": "code",
   "execution_count": 69,
   "metadata": {},
   "outputs": [],
   "source": [
    "# Get predicted probabilities for each class\n",
    "pred_train_cat = mod2.predict_proba(X_train)\n",
    "pred_test_cat = mod2.predict_proba(X_test)"
   ]
  },
  {
   "cell_type": "code",
   "execution_count": 74,
   "metadata": {},
   "outputs": [
    {
     "data": {
      "image/png": "[encoded data removed]",
      "text/plain": [
       "<Figure size 432x288 with 1 Axes>"
      ]
     },
     "metadata": {
      "needs_background": "light"
     },
     "output_type": "display_data"
    },
    {
     "data": {
      "image/png": "[encoded data removed]",
      "text/plain": [
       "<Figure size 432x288 with 1 Axes>"
      ]
     },
     "metadata": {
      "needs_background": "light"
     },
     "output_type": "display_data"
    }
   ],
   "source": [
    "display3 = PrecisionRecallDisplay.from_predictions(y_train, pred_train_cat[:,1], name=\"Catboost:TRAIN\")\n",
    "display4 = PrecisionRecallDisplay.from_predictions(y_test, pred_test_cat[:,1], name=\"Catboost:TEST\")"
   ]
  },
  {
   "cell_type": "code",
   "execution_count": 76,
   "metadata": {},
   "outputs": [
    {
     "data": {
      "image/png": "[encoded data removed]",
      "text/plain": [
       "<Figure size 576x684 with 2 Axes>"
      ]
     },
     "metadata": {
      "needs_background": "light"
     },
     "output_type": "display_data"
    }
   ],
   "source": [
    "explainer2 = shap.TreeExplainer(mod2)\n",
    "shap_values2 = explainer2.shap_values(X_train)\n",
    "shap.summary_plot(shap_values2, X_train)"
   ]
  },
  {
   "cell_type": "code",
   "execution_count": 136,
   "metadata": {},
   "outputs": [
    {
     "data": {
      "image/png": "[encoded data removed]",
      "text/plain": [
       "<Figure size 540x360 with 2 Axes>"
      ]
     },
     "metadata": {
      "needs_background": "light"
     },
     "output_type": "display_data"
    }
   ],
   "source": [
    "shap.dependence_plot(\"Company type\", shap_values[1], X_train)"
   ]
  },
  {
   "cell_type": "code",
   "execution_count": 80,
   "metadata": {},
   "outputs": [
    {
     "data": {
      "text/plain": [
       "array([[4420,  853],\n",
       "       [  18,  157]])"
      ]
     },
     "execution_count": 80,
     "metadata": {},
     "output_type": "execute_result"
    }
   ],
   "source": [
    "confusion_matrix(y_train,pred_train_cat[:,1]>0.5)"
   ]
  },
  {
   "cell_type": "code",
   "execution_count": 140,
   "metadata": {},
   "outputs": [
    {
     "name": "stdout",
     "output_type": "stream",
     "text": [
      "0.15544554455445544\n",
      "0.8971428571428571\n"
     ]
    }
   ],
   "source": [
    "print(precision_score(y_pred=pred_train_cat[:,1]>0.5,y_true=y_train))\n",
    "print(recall_score(y_pred=pred_train_cat[:,1]>0.5,y_true=y_train))"
   ]
  },
  {
   "cell_type": "code",
   "execution_count": 141,
   "metadata": {},
   "outputs": [
    {
     "data": {
      "text/plain": [
       "0.8971428571428571"
      ]
     },
     "execution_count": 141,
     "metadata": {},
     "output_type": "execute_result"
    }
   ],
   "source": [
    "157/(157+18)"
   ]
  },
  {
   "cell_type": "code",
   "execution_count": null,
   "metadata": {},
   "outputs": [],
   "source": []
  }
 ],
 "metadata": {
  "kernelspec": {
   "display_name": "Python 3.8.13 ('.venv': poetry)",
   "language": "python",
   "name": "python3"
  },
  "language_info": {
   "codemirror_mode": {
    "name": "ipython",
    "version": 3
   },
   "file_extension": ".py",
   "mimetype": "text/x-python",
   "name": "python",
   "nbconvert_exporter": "python",
   "pygments_lexer": "ipython3",
   "version": "3.8.13"
  },
  "orig_nbformat": 4,
  "vscode": {
   "interpreter": {
    "hash": "05847f6b86325b7c07c4893522e3792f000a04dad028bba3837ffd16cde0f48c"
   }
  }
 },
 "nbformat": 4,
 "nbformat_minor": 2
}
